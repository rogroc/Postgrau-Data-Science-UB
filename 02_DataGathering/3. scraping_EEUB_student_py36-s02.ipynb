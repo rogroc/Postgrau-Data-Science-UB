{
 "cells": [
  {
   "cell_type": "markdown",
   "metadata": {},
   "source": [
    "<small><i>August 2014 - This notebook was created by [Oriol Pujol Vila](http://www.maia.ub.es/~oriol). Source and license info are in the folder.</i></small>"
   ]
  },
  {
   "cell_type": "markdown",
   "metadata": {},
   "source": [
    "# Data hunting and gathering (part 2 - student)\n",
    "\n",
    "<img style = \"border-radius:20px;\" src = \"http://unadocenade.com/wp-content/uploads/2012/09/cavalls-de-valltorta.jpg\">"
   ]
  },
  {
   "cell_type": "markdown",
   "metadata": {},
   "source": [
    "# Contents and Requirements   \n",
    "\n",
    "**SESSION 2: When every other thing fails: Create our own web API - Scraping**\n",
    "\n",
    "    + Understanding HTML and CSS\n",
    "    + XPath selectors\n",
    "    + Scraping dynamic content with Selenium   \n",
    "\n",
    "SOFTWARE REQUIREMENTS FOR SESSION 2\n",
    "    \n",
    "    + Mozilla Firefox Quantum\n",
    "    + Firefox Add-on: Xpath Try\n",
    "    + Download Geckodriver from `https://github.com/mozilla/geckodriver/releases`\n",
    "    \n",
    "ADDITIONAL PYTHON LIBRARIES\n",
    "\n",
    "    + lxml #pip install lxml\n",
    "    + selenium #pip install selenium\n",
    "    \n",
    "NOT REQUIRED BUT USED FOR SOME EXAMPLES: \n",
    "\n",
    "    + I will use VLC to automatically reproduce scrapped audio.\n"
   ]
  },
  {
   "cell_type": "markdown",
   "metadata": {},
   "source": [
    "<div class = \"alert alert-danger\" style = \"border-radius:10px;border-width:3px;border-color:darkred;font-family:Verdana,sans-serif;font-size:16px;\">\n",
    "**DISCLAIMER AND USER AGREEMENT:** Ensure you are allowed to use these tools for retrieving data and be respectful with web pages and apps. Ethical use of these tools is mandatory. The content provided by this notebook is for educational purposes only. \n",
    "<p>\n",
    "\n",
    "THE NOTEBOOK/SOFTWARE IS PROVIDED \"AS IS\", WITHOUT WARRANTY OF ANY KIND, EXPRESS OR IMPLIED, INCLUDING BUT NOT LIMITED TO THE WARRANTIES OF MERCHANTABILITY, FITNESS FOR A PARTICULAR PURPOSE AND NONINFRINGEMENT. IN NO EVENT SHALL THE AUTHORS OR COPYRIGHT HOLDERS BE LIABLE FOR ANY CLAIM, DAMAGES OR OTHER LIABILITY, WHETHER IN AN ACTION OF CONTRACT, TORT OR OTHERWISE, ARISING FROM, OUT OF OR IN CONNECTION WITH THE NOTEBOOK CONTENTS OR SOFTWARE OR THE USE OR OTHER DEALINGS IN THE SOFTWARE.\n",
    "</div>"
   ]
  },
  {
   "cell_type": "markdown",
   "metadata": {},
   "source": [
    "<div class = \"alert alert-danger\" style = \"border-radius:10px;border-width:3px;border-color:darkred;font-family:Verdana,sans-serif;font-size:16px;\">\n",
    "**REQUIREMENTS:** From this point on you will need:\n",
    "<ul>\n",
    "<li> Firefox</li>\n",
    "<li> Firefox Add-on: XPath Try</li>\n",
    "<li> Selenium</li>\n",
    "<li> Geckodriver</li>\n",
    "<li>lxml</li>\n",
    "</ul>\n",
    "</div>"
   ]
  },
  {
   "cell_type": "markdown",
   "metadata": {},
   "source": [
    "<img style=\"border-radius:20px;\" src=\"./files/big_picture.jpg\">"
   ]
  },
  {
   "cell_type": "markdown",
   "metadata": {},
   "source": [
    "## 3. \"Making your own API\": Web scraping\n",
    "\n",
    "Sometimes data is on the web but there is no API to grant access to it, the API is lacking functionalities or the terms of service are not adequate. In those cases because as humans we have visual access to the data we might wonder how to extract that data automatically. The discipline for doing so is **Web Scraping**. \n",
    "\n",
    "Before we start, it is useful to understand a little how web pages are created and data stored. In this section a brief introduction to web front-end development is presented. We will focus on two basic aspects:\n",
    "\n",
    "+ Basic HTML + CSS static pages.\n",
    "+ Dynamic HTML (a basic JavaScript example using JQuery).\n"
   ]
  },
  {
   "cell_type": "markdown",
   "metadata": {},
   "source": [
    "<div class = \"alert alert-success\" style = \"border-radius:10px;border-width:3px;border-color:darkgreen;font-family:Verdana,sans-serif;font-size:16px;\">\n",
    "**Firebug example on a page.**\n",
    "\n",
    "Go to a page and check its contents using Inspect Element\n",
    "</div>"
   ]
  },
  {
   "cell_type": "markdown",
   "metadata": {},
   "source": [
    "### 3.1 Basic HTML + CSS 101\n",
    "\n",
    "The most basic web pages are built upon HTML + CSS technology. This division stnds for content and design, respectively. **HTML (Hypertext markup language)** is used to give websites structure and stores the contents. This is our target for scraping. On the other hand **CSS (Cascading Style Sheets)** gives format to the content, sigles out content for visualization purposes, i.e. defines the style (e.g. font, color, family, borders, image style, relative positioning of the content, etc). HTML files include tags and references to style, thus it is worthwhile to understand a little bit of both technologies which can help us to scrap data more efficiently.\n"
   ]
  },
  {
   "cell_type": "markdown",
   "metadata": {},
   "source": [
    "HTML is a tagged language usually rendered by a browser. Tags are specified in the following format:\n",
    "\n",
    "<p style=\"text-align: center\">&lt;tag_name *attributes*&gt; content &lt;/tag_name&gt;<p>\n",
    "\n",
    "<p>\n",
    "<div class = \"alert alert-info\" style = \"border-radius:10px;border-width:3px;border-color:darkblue;font-family:Verdana,sans-serif;font-size:16px;\">STRUCTURE of an HTML file:\n",
    "\n",
    "<ul>\n",
    "    <li> HTML files start with the <!DOCTYPE html>. This tells the browser that we will use HTML5. In former versions of HTML standard there were different versions. </li>\n",
    "    <li> The first tag in a web page is &lt;html&gt; and its corresponding &lt;/html&gt; closing tag. All the web page is found inside these tags. </li>\n",
    "    <li> HTML files have a &lt;head&gt; and a &lt;body&gt; </li>\n",
    "    <li> In the head, we have the &lt;title&gt; tags, and we use this to specify the webpage's name. We can also find references to CSS stylesheets (&lt;link&gt;) used for formating the page and links to javascript files (&lt;script&gt;)that give the web page dynamic behavior.</li>\n",
    "    <li> In the body we find the content of the page. </li> \n",
    "        <ul>\n",
    "            <li> Headings and text paragraphs can be created using &lt;h#&gt; (# is a natural number) and &lt;p&gt; ,respectively. </li>\n",
    "            <li> Hyperlinks (links) are given in the <strong>href</strong> attribute of the &lt;a&gt; (anchor) tag. </li>\n",
    "            <li> Images can be embedded using the &lt;img&gt; tag and setting the <strong>src</strong> attribute to the resource. Caution: img is an special tag and it does not have a closing tag, e.g. &lt;img src = \"my_pic.jpg\" /&gt; </li>\n",
    "        </ul>\n",
    "</ul>\n",
    "</div>\n",
    "</p>"
   ]
  },
  {
   "cell_type": "markdown",
   "metadata": {},
   "source": [
    "<div class = \"alert alert-success\" style = \"border-radius:10px;border-width:3px;border-color:darkgreen;font-family:Verdana,sans-serif;font-size:16px;\">**EXERCISE**\n",
    "\n",
    "Let us build a basic HTML web page, adding the following tags. Remember that nearly all tags require to be closed using &lt;/tag&gt;\n",
    "\n",
    "+ DOCTYPE\n",
    "+ html\n",
    "+ head\n",
    "+ title\n",
    "+ body\n",
    "\n",
    "<ol>\n",
    "<li>Create a file 'example.html' in your favorite editor.</li>\n",
    "<li>Create a basic html web page containing a *title*, *h1*, *p*, *img* and *a* tags.</li>\n",
    "</ol>\n",
    "</div>"
   ]
  },
  {
   "cell_type": "markdown",
   "metadata": {},
   "source": [
    "If you are lazy go to the files folder and double-click on \"example.html\". You can check the html code executing the following line."
   ]
  },
  {
   "cell_type": "code",
   "execution_count": null,
   "metadata": {},
   "outputs": [],
   "source": [
    "%load ./files/example.html\n"
   ]
  },
  {
   "cell_type": "markdown",
   "metadata": {
    "collapsed": true
   },
   "source": [
    "\n",
    "<html>\n",
    "\t<head>\n",
    "\t\t<title>\n",
    "\t\t\tBasic knowledge for web scraping.\n",
    "\t\t</title>\t\n",
    "\t</head>\n",
    "\t<body>\n",
    "\t\t<h1>About HTML\n",
    "\t\t</h1>\n",
    "\t\t<p>Html (Hypertext markdown language) is the basic language to provide contents in the web. It is a tagged language. You can check more about it in <a href=\"http://www.w3.org/community/webed/wiki/HTML\">World Wide Web Consortium.</a></p>\n",
    "        \n",
    "        <p> One of the following rubberduckies is clickable\n",
    "\t</p>\n",
    "\t<p>\n",
    "            <img src = \"files/rubberduck.jpg\"/>\n",
    "        \n",
    "            <a href=\"http://www.pinterest.com/misscannabliss/rubber-duck-mania/\"><img src = \"files/rubberduck.jpg\"/></a>\n",
    "        </p>\n",
    "\t</body>\n",
    "</html>\n"
   ]
  },
  {
   "cell_type": "markdown",
   "metadata": {},
   "source": [
    "Because Ipython notebook cells directly interpret markdown and HTML we can use the cell as an interactive editor for our HTML understanding.\n",
    "<div class  = \"alert alert-success\">** EXERCISE ** <p>\n",
    "Change the type of cell of the former cell to *Markdown* and Execute (SHIFT+ENTER). In order for the files to show you must add the relative path to the image, e.g. ./files/rubberduck.jpg\n",
    "</div>"
   ]
  },
  {
   "cell_type": "markdown",
   "metadata": {},
   "source": [
    "<div class = \"alert alert-info\" style = \"border-radius:10px;border-width:3px;border-color:darkblue;font-family:Verdana,sans-serif;font-size:16px;\">\n",
    "**Old style HTML** static pages rely heavily on tables and lists: \n",
    "\n",
    "<ul>\n",
    "<li> Making ordered and unordered lists is simple: *ol* (ordered list), *ul* (unordered list) are the main tags. Each item is inserted as *li* (list item) </li>\n",
    "<li> *table* is the containing tag for building tables, each table row is given as *tr* and columns depend on the table data elements *td*. Tables may have a head (*thead*) and a body (*tbody*). *th* is the same as *td* but for the header. If you want a multi column cell then use colspan=number of cells to cover.\n",
    "</li>\n",
    "</ul>\n",
    "</div>"
   ]
  },
  {
   "cell_type": "markdown",
   "metadata": {},
   "source": [
    "The next example shows a simple table build. Check the markdown code."
   ]
  },
  {
   "cell_type": "markdown",
   "metadata": {},
   "source": [
    "<table>\n",
    "<thead>\n",
    "<tr><th colspan = 2>A table</th><tr>\n",
    "</thead>\n",
    "<tbody>\n",
    "<tr>\n",
    "<td>Hello I am element 1.1</td><td>Hello I am element 1.2</td>\n",
    "</tr>\n",
    "<tr>\n",
    "<td colspan=2>Hello I am element 2.1 and 2.2</td>\n",
    "</tr>\n",
    "</tbody>\n",
    "</table>"
   ]
  },
  {
   "cell_type": "markdown",
   "metadata": {},
   "source": [
    "<div class = \"alert alert-info\" style = \"border-radius:10px;border-width:3px;border-color:darkblue;font-family:Verdana,sans-serif;font-size:16px;\">\n",
    "**Current HTML** static pages rely heavily on containers and style: \n",
    "\n",
    "<ul>\n",
    "<li> *div* stands for division and mark a block of content.\n",
    "</li>\n",
    "<li> *span* is used to single out an element of a block content.\n",
    "</li>\n",
    "</ul>\n",
    "\n",
    "</div>\n",
    "\n",
    "By themselves they are not much but when combined with the *style* attribute they become interesting.\n",
    "\n",
    "For example, consider the following example of code:"
   ]
  },
  {
   "cell_type": "markdown",
   "metadata": {},
   "source": [
    "<div style = \"width:100px;height:100px;background-color:red;padding:10px;font-family:Verdana;font-size:24;color:pink;display:inline-block\">  Box 1\n",
    "</div>\n",
    "<div style = \"width:100px;height:100px;background-color:blue;padding:10px;font-family:Futura;font-size:24;color:lightblue;display:inline-block\">  Box 2\n",
    "</div>\n",
    "<div style = \"width:100px;height:100px;background-color:yellow;padding:10px;font-family:Garamond;font-size:24;color:orange;display:inline-block\">  Box 3\n",
    "</div>\n",
    "<div style = \"width:100px;height:100px;background-color:green;padding:10px;font-family:ArialNarrow;font-size:24;color:lightgreen;display:inline-block\">  Box 4\n",
    "</div>"
   ]
  },
  {
   "cell_type": "markdown",
   "metadata": {},
   "source": [
    "The attribute *style* is also referred as *inline CSS* and let us give the skeleton some skin and makeup."
   ]
  },
  {
   "cell_type": "markdown",
   "metadata": {},
   "source": [
    "<div class = \"alert alert-success\" style = \"border-radius:10px;border-width:3px;border-color:darkgreen;font-family:Verdana,sans-serif;font-size:16px;\">**EXERCISE**\n",
    "\n",
    "Let us build a basic HTML web page and check the magic of CSS in action before going in detail into CSS.\n",
    "<ol>\n",
    "<li>Create a file 'example2.html' using your favorite editor.</li>\n",
    "<li>Fill the header and body basic HTML structure</li>\n",
    "<li>Let us add three containers *div* in the body.</li> \n",
    "<li>Select one of them. This will be used as a navigation bar and will contain an unordered list with three elememnts: Home, Brief Bio, Hobbies</li>\n",
    "<li>Select another division and create a table inside. Each row will contain information about your profile, e.g. the first row may contain Name: Your Name, the second row Position: Your current position, etc</li>\n",
    "<li>The last one will contain an image of youself and a paragraph with your contact info (email)</li>\n",
    "</ol>\n",
    "<p>\n",
    "Check the result. Nearly professional, doesn't it?\n",
    "</p>\n",
    "</div>"
   ]
  },
  {
   "cell_type": "markdown",
   "metadata": {},
   "source": [
    "<div class = \"alert alert-success\" style = \"border-radius:10px;border-width:3px;border-color:darkgreen;font-family:Verdana,sans-serif;font-size:16px;\">**EXERCISE FOLLOW UP**\n",
    "\n",
    "Let us add some style.\n",
    "<ol>\n",
    "<li>Add the class \"navbar\" as an attribute to the *div* containing the list. (eg. class = \"navbar\")</li>\n",
    "<li>Add the class \"head\" to the *div* containing the image and the email.</li>\n",
    "<li>Add the class \"right\" to the *div* containing the table.</li>\n",
    "<li>Add the identifier \"email\" to the paragraph containing the email. (eg. id = \"email\")</li>\n",
    "<li>Finally, let us link the class and ids definitions we have just writen by adding to the head tag the following line:\n",
    "<p>< link type=\"text/css\" rel=\"stylesheet\" href=\"stylesheet.css\"/ ></p>\n",
    "</li>\n",
    "</ol>\n",
    "<p>\n",
    "Check the result now. Do not forget to hover over your navigation bar.\n",
    "</p>\n",
    "</div>"
   ]
  },
  {
   "cell_type": "markdown",
   "metadata": {},
   "source": [
    "The former exercise is an extremely simple exercise showing the separation between the content and the styling. Observe that the html file you have created does not have any explicit styling. However, we have added two new elements to the mix, classes and identifiers as attributes of the tags. As you can imagine styling rules are given for each class and ID and are compactly found on the stylesheet.css we have just linked."
   ]
  },
  {
   "cell_type": "markdown",
   "metadata": {},
   "source": [
    "<div class = \"alert alert-warning\" style = \"border-radius:10px;border-width:3px;border-color:orange;font-family:Verdana,sans-serif;font-size:16px;\">**COMMENT:**\n",
    "Very simple formating can be also given using html markers. For example *strong* and *em* tags refers to bold and italics fonts.\n",
    "</div>"
   ]
  },
  {
   "cell_type": "markdown",
   "metadata": {},
   "source": [
    "**CSS (which stands for Cascading Style Sheets)** is a language used to describe the appearance and formatting of your HTML. A style sheet is a file that describes how an HTML file should look. The word cascading refers to the fact that a specific style rules override more generic ones. We will see that in a minute. \n"
   ]
  },
  {
   "cell_type": "markdown",
   "metadata": {},
   "source": [
    "<div class = \"alert alert-info\" style = \"border-radius:10px;border-width:3px;border-color:darkblue;font-family:Verdana,sans-serif;font-size:16px;\">FORMAT of a CSS file:\n",
    "\n",
    "<ul>\n",
    "    <li> CSS files contains a set of style rules applied to a certain selection of the content of the html file. The format is as follows:\n",
    "    \n",
    "    <p style = \"font-family:Courier;margin-left:200px;\"> css_selector { \n",
    "                property: value;\n",
    "        }\n",
    "    </p>\n",
    "    and may contain many properties.\n",
    "    \n",
    "    <li> <span style = \"font-family:Courier\"> css_selector </span> identifies a certain context of the Document Object Model (DOM), i.e. it allows to traverse the DOM and select specific blocks. For example, \n",
    "    <p style = \"font-family:Courier;margin-left:200px;\">\n",
    "        div { color:red; }\n",
    "    </p>\n",
    "    selects all *div* tags and apply a red font color to their content.\n",
    "    </li>\n",
    "    <li> We can use any html tag as element for selection.\n",
    "    </li>\n",
    "    </ul>\n",
    "</div>"
   ]
  },
  {
   "cell_type": "markdown",
   "metadata": {},
   "source": [
    "<div class = \"alert alert-info\" style = \"border-radius:10px;border-width:3px;border-color:darkblue;font-family:Verdana,sans-serif;font-size:16px;\">\n",
    "    **CLASSES:**\n",
    "        <ul>\n",
    "        <li> We may link/format a certain set of tags of the html file with a unique CSS style by means of a **class**. </li>\n",
    "        <li> In html the class is defined as an attribute and can be shared among tags, e.g. < div class = \"my_class\" > and < p class = \"my_class\">\n",
    "        </li>\n",
    "        <li> In the css file, the class is identified with a point preceeding the name, e.g.\n",
    "         <p style = \"font-family:Courier;margin-left:200px;\">\n",
    "            .my_class { font-family:Verdana; }\n",
    "        </p>\n",
    "        </li>\n",
    "        </ul>\n",
    "    </div>\n"
   ]
  },
  {
   "cell_type": "markdown",
   "metadata": {},
   "source": [
    "<div class = \"alert alert-info\" style = \"border-radius:10px;border-width:3px;border-color:darkblue;font-family:Verdana,sans-serif;font-size:16px;\">\n",
    "    **IDENTIFIERS:**\n",
    "        <ul>\n",
    "        <li> If we want to single out an element to apply a certain style we can use an **identifier**. </li>\n",
    "        <li> In html the identifier is defined as the attribute **ID**, e.g. < div id = \"my_ID\" >\n",
    "        </li>\n",
    "        <li> In the css file, the identifier name is preceeded by a hash sign (#), e.g.\n",
    "         <p style = \"font-family:Courier;margin-left:200px;\">\n",
    "            #my_ID { font-size:24px; }\n",
    "        </p>\n",
    "        </li>\n",
    "        </ul>\n",
    "</div>"
   ]
  },
  {
   "cell_type": "markdown",
   "metadata": {},
   "source": [
    "<div class = \"alert alert-success\" style = \"border-radius:10px;border-width:3px;border-color:darkgreen;font-family:Verdana,sans-serif;font-size:16px;\">**EXERCISE**\n",
    "\n",
    "Check stylesheet.css and inspect the formating of the identifiers and the classes.\n",
    "<ol>\n",
    "<li>\n",
    "Create an identifier name_props that changes the font-family to Courier.\n",
    "</li>\n",
    "<li>\n",
    "Add this identifier to the *td* tag with your name in the profile.\n",
    "</li>\n",
    "</ol>\n",
    "</div>"
   ]
  },
  {
   "cell_type": "markdown",
   "metadata": {},
   "source": [
    "<div class = \"alert alert-success\" style = \"border-radius:10px;border-width:3px;border-color:darkgreen;font-family:Verdana,sans-serif;font-size:16px;\">**EXERCISE**\n",
    "\n",
    "Let us make our own css style sheet and explore a little of the more advanced CSS selectors.\n",
    "<ol>\n",
    "<li>Create a file 'mystylesheet.css' using your favorite editor and open example3.html in your browser.</li>\n",
    "<li>What happens if we add the following style command? \n",
    "<p style=\"font-family:Courier\">div {font-family:Verdana;font-size:16px;}</p></li>\n",
    "<li>Add the following line in the style sheet:\n",
    "<p style=\"font-family:Courier\">div div{color:red;}</p></li>\n",
    "<li>Add the following line in the style sheet:\n",
    "<p style=\"font-family:Courier\">div>div{color:green;}</p></li>\n",
    "<li>Add the style to make the font of the container regarding Bruce Lee comments on Choy Li Fut have *font-size:14px*, *font-family:Courier*, *background-color:#FFCC66;*, and *color:yellow*.\n",
    "<li>Add a style to the *img* tag with *height* of *230px* and *width* of *200px*. Set the width of the table to 700 pixels width.</li>\n",
    "</ol>\n",
    "</div>"
   ]
  },
  {
   "cell_type": "markdown",
   "metadata": {},
   "source": [
    "In this last exercise we have seen another type of css selection. The html document can be seen as a tree structure. The root of the tree is the *html* tag. This has two children *head* and *body*. Head may have different children such as *title*, *link*, or *script*. Body may have any combination of tags, *divs*, *p*, *a*, etc. These tags can be nested, e.g. we can find a *div* inside a *div* inside a *div*. In the example we have seen how to refer to nested elements. The elements can be html tags or classes or identifiers.\n",
    "    + \"elem1 elem2\" refers to any elem2 inside any other elem1 disregarding the degree of nesting (it may have any arbitrary set of elementes in between both).\n",
    "    + \"elem1>elem2\" specifically refers to any elem2 children of a direct parent with tag elem1."
   ]
  },
  {
   "cell_type": "markdown",
   "metadata": {},
   "source": [
    "<div class = \"alert alert-success\" style = \"border-radius:10px;border-width:3px;border-color:darkgreen;font-family:Verdana,sans-serif;font-size:16px;\">**EXERCISE:**\n",
    "What does \"div table>img\" select?\n",
    "\n",
    "</div>"
   ]
  },
  {
   "cell_type": "markdown",
   "metadata": {},
   "source": [
    "<div class = \"alert alert-danger\" style = \"border-radius:10px;border-width:3px;border-color:darkred;font-family:Verdana,sans-serif;font-size:16px;\">We can use CSS Selection for accessing elements in the document. However I prefer to introduce XPATH for that issue.\n",
    "\n",
    "</div>"
   ]
  },
  {
   "cell_type": "markdown",
   "metadata": {},
   "source": [
    "## 3.3 Selecting elements with XPATH\n",
    "\n",
    "XPath is an alternative way of navigating through XML-like documents. It follows a similar structure to file directory navigations. In this sense, we can define an absolute path using `/`. This means that we have to give the complete path to the element we want to select. For example `xpath('/html/body/p')` will select all the paragraphs in the body of the html root.\n",
    "\n",
    "If the path starts with `//` we are not starting at the root but will select an element starting anywhere in the hierarchy. For example  `xpath('//a/div')` will look for an 'a' followed with a 'div' anywhere in the document. \n",
    "\n",
    "We may also use wildcards suchs as `*`. For example `xpath(//a/div/*)` will return all the elements preceeding a/div anywhere in the document. And `xpath(/*/*/div)` will look for divs at the second level of the hierarchy with respect to the root.\n",
    "\n",
    "If the selection returns more than one element we can choose one using brakets. For example `xpath('//a/div[1]')` will return the first div element of that set and `xpath('//a/div[last()]')` the last one.\n",
    "\n",
    "We can toy with attributes using `@`. In this sense `xpath('//@name')` returns all attributes called 'name' anywhere in the document, and `xpath('//div[@name]')` selects from all the divs in the document only those that have an attribute 'name'. Note that it selects the divs, not the attributes. `xpath('//div[not(@*)]')` will return all the divs without attributes. We can even look for specific values of attributes `xpath('//div[@name='chachiname']')`\n",
    "\n",
    "There are built-in functions that may help in localizing elements, such as `count()`,\n",
    "`name()`, `starts-with()`, `contains()`. For example, `xpath('//*[contains(name(),'iv')]')` will selet all elements anywhere in the document with an name descriptor containing the substring 'iv'; or `xpath('//*[count('div')==2])` will return all elements with two div elements as children.\n",
    "\n",
    "We can select elements coming from several paths using `|` (OR), e.g. `xpath('/div/p|/div/a')` elements either div/p or div/a.\n",
    "\n",
    "We can refer to the parent, ancestors, child, or descendants in a path, e.g. `xpath('//div/div/parent::*')` returns the parent nodes that have as children the path div/div.\n",
    "\n"
   ]
  },
  {
   "cell_type": "markdown",
   "metadata": {},
   "source": [
    "\n",
    "|Expression|Description|\n",
    "|----------|-----------|\n",
    "|nodename|Selects all nodes with the name \"nodename\"|\n",
    "|/\t|Selects from the root node|\n",
    "|//\t|Selects nodes in the document from the current node that match the selection no matter where they are|\n",
    "|.\t|Selects the current node|\n",
    "|..\t|Selects the parent of the current node|\n",
    "|@\t|Selects attributes|"
   ]
  },
  {
   "cell_type": "markdown",
   "metadata": {},
   "source": [
    "Want more? Check https://www.guru99.com/xpath-selenium.html\n"
   ]
  },
  {
   "cell_type": "markdown",
   "metadata": {},
   "source": [
    "<div class = \"alert alert-success\" style = \"border-radius:10px;border-width:3px;border-color:darkgreen;font-family:Verdana,sans-serif;font-size:16px;\">\n",
    "**XPATH Exercises**:\n",
    "<ol>\n",
    "<li>Text that are on the lists of the page?</li>\n",
    "<li>All the attributes on the page</li>\n",
    "<li>Is there any link on the page?</li>\n",
    "<li>Can you get the style sheet information?</li>\n",
    "<li>divs that have the class \"container\"</li>\n",
    "<li>what if you remove brackets in the last one?</li>\n",
    "</ol>\n",
    "</div>"
   ]
  },
  {
   "cell_type": "code",
   "execution_count": null,
   "metadata": {},
   "outputs": [],
   "source": [
    "from lxml import etree\n",
    "import urllib.request\n",
    "\n",
    "url = \"https://www.google.com\"\n",
    "html = urllib.request.urlopen(url).read()\n",
    "tree = etree.HTML(html)\n"
   ]
  },
  {
   "cell_type": "code",
   "execution_count": null,
   "metadata": {},
   "outputs": [],
   "source": [
    "# Your solutions"
   ]
  },
  {
   "cell_type": "markdown",
   "metadata": {},
   "source": [
    "## Practice XPATH with your browser \n",
    "\n",
    "We need Firefox and XPathTry Add-on\n"
   ]
  },
  {
   "cell_type": "markdown",
   "metadata": {},
   "source": [
    "Let us supose we want to scrap licitaciones from `https://contrataciondelestado.es`. Our use case is a simple one this time. We want to automatically \n",
    "\n",
    "1. Go to Licitaciones\n",
    "2. We want to get `organo de contratacion`, `categoria`, `importe` from all elements in the first page.\n"
   ]
  },
  {
   "cell_type": "markdown",
   "metadata": {},
   "source": [
    "<div class = \"alert alert-success\" style = \"border-radius:10px;border-width:3px;border-color:darkgreen;font-family:Verdana,sans-serif;font-size:16px;\">\n",
    "**EXERCISE IN PAIRS:** Take the inspector and write down what you need to look for completing points 1 and 2.\n",
    "</div>"
   ]
  },
  {
   "cell_type": "markdown",
   "metadata": {},
   "source": [
    "<div class = \"alert alert-warning\" style = \"border-radius:10px;border-width:3px;border-color:orange;font-family:Verdana,sans-serif;font-size:16px;\">\n",
    "**SOLUTION:**\n",
    "<ul>\n",
    "<li> **Point 1:** Observe that it directly points to `/wps/portal/licRecientes`. So we do not really need to use any automation here. We can directly feed `https://contrataciondelestado.es/wps/portal/licRecientes`.\n",
    "</li>\n",
    "    \n",
    "<li> **Point 2:** This is a messed-up tabular result. But we find that `categoria` in the first element is governed by  `id = ab_hcategoria1`, `organo` by `id = ab_hocontratacion1`, and `importe` by `id=ab_hprecio1`. So we can get all results from the page iterating on the last number\n",
    "</li>    \n",
    "</ul>\n",
    "\n",
    "</div>"
   ]
  },
  {
   "cell_type": "markdown",
   "metadata": {},
   "source": [
    "<div class = \"alert alert-success\" style = \"border-radius:10px;border-width:3px;border-color:darkgreen;font-family:Verdana,sans-serif;font-size:16px;\">\n",
    "**EXERCISE IN PAIRS:** Install in Firefox the Add-On `XPath Try`. \n",
    "Check how to find the value of the quantity `price`. Write down the XPath.\n",
    "</div>"
   ]
  },
  {
   "cell_type": "markdown",
   "metadata": {},
   "source": [
    "<div class = \"alert alert-success\" style = \"border-radius:10px;border-width:3px;border-color:darkgreen;font-family:Verdana,sans-serif;font-size:16px;\">\n",
    "**EXERCISE IN PAIRS:** Write down the code that scraps that value.\n",
    "</div>"
   ]
  },
  {
   "cell_type": "code",
   "execution_count": null,
   "metadata": {},
   "outputs": [],
   "source": [
    "#Your code"
   ]
  },
  {
   "cell_type": "markdown",
   "metadata": {},
   "source": [
    "Let us iterate on all values of the web page."
   ]
  },
  {
   "cell_type": "code",
   "execution_count": null,
   "metadata": {},
   "outputs": [],
   "source": [
    "from lxml import etree\n",
    "import urllib.request\n",
    "\n",
    "url = \"https://contrataciondelestado.es/wps/portal/licRecientes\"\n",
    "html = urllib.request.urlopen(url).read()\n",
    "tree = etree.HTML(html)\n",
    "\n",
    "fin=False\n",
    "i=1\n",
    "while not(fin):\n",
    "    try:\n",
    "        query='//*[@id=\"ab_hprecio'+str(i)+'\"]//parent::tr/td[2]/span/text()'\n",
    "        value = tree.xpath(query)\n",
    "        print(value[0])\n",
    "        i=i+1\n",
    "    except IndexError:\n",
    "        fin=True\n",
    "    "
   ]
  },
  {
   "cell_type": "markdown",
   "metadata": {},
   "source": [
    "What about the rest of the elements from the other pages?"
   ]
  },
  {
   "cell_type": "markdown",
   "metadata": {},
   "source": [
    "We are **stuck** at this point. But before proceeding let us wrap up the former scrapping:"
   ]
  },
  {
   "cell_type": "code",
   "execution_count": null,
   "metadata": {},
   "outputs": [],
   "source": [
    "from lxml import etree\n",
    "import urllib.request\n",
    "\n",
    "url = \"https://contrataciondelestado.es/wps/portal/licRecientes\"\n",
    "html = urllib.request.urlopen(url).read()\n",
    "tree = etree.HTML(html)\n",
    "\n",
    "fin=False\n",
    "i=1\n",
    "col = []\n",
    "while not(fin):\n",
    "    doc={}\n",
    "    try:\n",
    "        doc['id']=i\n",
    "        query='//*[@id=\"ab_hprecio'+str(i)+'\"]//parent::tr/td[2]/span/text()'\n",
    "        value = tree.xpath(query)\n",
    "        doc['importe']=value[0]\n",
    "        query='//*[@id=\"ab_hcategoria'+str(i)+'\"]//parent::tr/td[2]/span/text()'\n",
    "        value = tree.xpath(query)\n",
    "        doc['categoria']=value[0]\n",
    "        query='//*[@id=\"ab_hocontratacion'+str(i)+'\"]//parent::tr/td[2]/span/text()'\n",
    "        value = tree.xpath(query)\n",
    "        doc['organo']=value[0]\n",
    "        i=i+1\n",
    "        col.append(doc)\n",
    "    except IndexError:\n",
    "        fin=True\n",
    "\n",
    "col"
   ]
  },
  {
   "cell_type": "markdown",
   "metadata": {},
   "source": [
    "## 3.4 The inexistent data scraping case\n",
    "\n",
    "As a simple exercise try to scrap the numerical value in the text box of the hidden.html file."
   ]
  },
  {
   "cell_type": "code",
   "execution_count": null,
   "metadata": {},
   "outputs": [],
   "source": [
    "from IPython.display import HTML\n",
    "HTML('<iframe src=./files/hidden.html width=700 height=300></iframe>')"
   ]
  },
  {
   "cell_type": "code",
   "execution_count": null,
   "metadata": {},
   "outputs": [],
   "source": [
    "#Write your code here.\n"
   ]
  },
  {
   "cell_type": "code",
   "execution_count": null,
   "metadata": {},
   "outputs": [],
   "source": [
    "#Solution\n",
    "from urllib.request import urlopen\n",
    "socket = urlopen(\"file:./files/hidden.html\")\n",
    "print (socket.read().decode('latin-1'))"
   ]
  },
  {
   "cell_type": "markdown",
   "metadata": {},
   "source": [
    "... and the value?"
   ]
  },
  {
   "cell_type": "markdown",
   "metadata": {},
   "source": [
    "Problems and limitations of LXML and basic scraping techniques,\n",
    "\n",
    "     + DOM loaded content. The page finishes loading and it is being acquired when the response is closed. Any further data will be not loaded.\n",
    "     + Really broken HTML/XML\n",
    "     + Proprietary and login required can be difficult depending on the log and flow of the page.\n",
    "     + JS form interaction"
   ]
  },
  {
   "cell_type": "markdown",
   "metadata": {},
   "source": [
    "# 4 Advanced scraping using automation tools\n",
    "\n",
    "We see the data in our web browser but the data is not directly found in the html. However \"Data is out there\". This is due to the fact that it has been dinamically generated with a function call. Thus, we see that we have two versions of the web page. The first contains static data and function calls, the second contains static data after the interpretation of the function calls. The question now is how we can access this post interpretation data. There are many different ways. One way could be opting for running our own interpreter such as node.js. Another way is to take advantage of the browser interpretation capabilities and run it as an interpreter.\n",
    "\n",
    "Automation tools such as mechanize or selenium are suites with the goal of testing web interfaces automatically from scripts. They allow to start a browser and interact with the web page in the same way a human user would do. We can use these tools for our scraping purposes.\n"
   ]
  },
  {
   "cell_type": "markdown",
   "metadata": {},
   "source": [
    "## The Cepstral demo and our new goal.\n",
    "<small>An updated version of the case study of Asheesh Laroia (PaulProtheus at Github)</small>\n",
    "\n",
    "Our new goal is to deal with dynamically generated data. Our goal is to be able to perform a web scraping as the following case. Cepstral is a text-to-speech provider. Let us check the web page.\n",
    "\n",
    "We will need to download geckodriver for Firefox to work \n",
    "https://github.com/mozilla/geckodriver/releases"
   ]
  },
  {
   "cell_type": "code",
   "execution_count": null,
   "metadata": {},
   "outputs": [],
   "source": [
    "!ls\n"
   ]
  },
  {
   "cell_type": "code",
   "execution_count": null,
   "metadata": {
    "scrolled": false
   },
   "outputs": [],
   "source": [
    "from IPython.display import HTML\n",
    "HTML('<iframe src=\"http://cepstral.com\" width=700 height=350></iframe>')"
   ]
  },
  {
   "cell_type": "markdown",
   "metadata": {},
   "source": [
    "Our goal is to retrieve the audio file that has been played using web scraping techniques. Let us check how can we do it."
   ]
  },
  {
   "cell_type": "code",
   "execution_count": null,
   "metadata": {},
   "outputs": [],
   "source": [
    "from selenium import webdriver\n",
    "\n",
    "browser = webdriver.Firefox(executable_path=r'./geckodriver')\n",
    "browser.get('http://seleniumhq.org/')"
   ]
  },
  {
   "cell_type": "code",
   "execution_count": null,
   "metadata": {},
   "outputs": [],
   "source": [
    "from selenium import webdriver\n",
    "from selenium.webdriver.firefox.options import Options\n",
    "\n",
    "options = Options()\n",
    "options.headless = True\n",
    "driver = webdriver.Firefox(options=options, executable_path=r'./geckodriver')\n",
    "driver.get(\"http://google.com/\")\n",
    "print (\"Headless Firefox Initialized\")\n",
    "driver.quit()"
   ]
  },
  {
   "cell_type": "markdown",
   "metadata": {},
   "source": [
    "Let us run the demo first with a normal browser to check what it does and then we move to a headless browser."
   ]
  },
  {
   "cell_type": "code",
   "execution_count": null,
   "metadata": {
    "scrolled": true
   },
   "outputs": [],
   "source": [
    "#CEPSTRAL DEMO\n",
    "%reset -f\n",
    "#!/usr/bin/python\n",
    "# -*- coding: utf-8 -*-\n",
    "\n",
    "from selenium import webdriver\n",
    "import time\n",
    "from selenium.webdriver.firefox.options import Options\n",
    "\n",
    "options = Options()\n",
    "options.headless = False\n",
    "\n",
    "url = 'http://www.cepstral.com/en/demos' #Poseu el nom de la pàgina web\n",
    "browser = webdriver.Firefox(options=options, executable_path=r'./geckodriver') #Obrir un navegador Chrome\n",
    "browser.get(url)\n",
    "element = browser.find_element_by_css_selector(\"#demo_text\")\n",
    "element.clear()\n",
    "s=' Ouch this hurts!'\n",
    "element.send_keys(s)\n",
    "browser.find_element_by_css_selector('#demo_submit').click()\n",
    "\n",
    "browser.implicitly_wait(30)\n",
    "browser.find_element_by_css_selector('audio')\n",
    "html=browser.page_source\n",
    "browser.quit()\n",
    "print('DONE')"
   ]
  },
  {
   "cell_type": "code",
   "execution_count": null,
   "metadata": {},
   "outputs": [],
   "source": [
    "print (html)\n"
   ]
  },
  {
   "cell_type": "code",
   "execution_count": null,
   "metadata": {},
   "outputs": [],
   "source": [
    "#Check the data is in\n",
    "'.mp3' in html\n"
   ]
  },
  {
   "cell_type": "code",
   "execution_count": null,
   "metadata": {},
   "outputs": [],
   "source": [
    "#locate it\n",
    "html.find('.mp3')"
   ]
  },
  {
   "cell_type": "code",
   "execution_count": null,
   "metadata": {},
   "outputs": [],
   "source": [
    "chunks=html.split('\"')\n",
    "for chunk in chunks:\n",
    "    if '.mp3' in chunk:\n",
    "        break\n"
   ]
  },
  {
   "cell_type": "code",
   "execution_count": null,
   "metadata": {},
   "outputs": [],
   "source": [
    "print (chunk)"
   ]
  },
  {
   "cell_type": "code",
   "execution_count": null,
   "metadata": {},
   "outputs": [],
   "source": [
    "import urllib\n",
    "furl=urllib.parse.urljoin(url,chunk)\n",
    "print (furl)"
   ]
  },
  {
   "cell_type": "code",
   "execution_count": null,
   "metadata": {},
   "outputs": [],
   "source": [
    "import os\n",
    "\n",
    "player = \"/Applications/VLC.app/Contents/MacOS/VLC \" \n",
    "\n",
    "##Replace with media player with your own player \n",
    "os.system(player+furl)\n"
   ]
  },
  {
   "cell_type": "markdown",
   "metadata": {},
   "source": [
    "## 4.1 Starting with Selenium \n",
    "\n",
    "+ Requirements\n",
    "        ''pip install selenium''\n",
    "        \n",
    "If you use Firefox you do not need anything else. Check the following code and it should work fine.\n",
    "\n",
    "We will need to download geckodriver for Firefox to work \n",
    "https://github.com/mozilla/geckodriver/releases\n"
   ]
  },
  {
   "cell_type": "code",
   "execution_count": null,
   "metadata": {},
   "outputs": [],
   "source": [
    "from selenium import webdriver\n",
    "browser = webdriver.Firefox()"
   ]
  },
  {
   "cell_type": "markdown",
   "metadata": {},
   "source": [
    "<div class = \"alert alert-info\" style = \"border-radius:10px;border-width:3px;border-color:darkblue;font-family:Verdana,sans-serif;font-size:16px;\">**Basic manipulation in Selenium:**\n",
    "<p>\n",
    "A webdriver instance allows to manipulate the web session, control cookies, retrieve the html code or find elements in the source code.\n",
    "</p>\n",
    "Given a webdriver instance (e.g.<span style = \"font-family:Courier;\">\n",
    "            browser = webdriver.Firefox()</span>) the most relevant methods\n",
    "\n",
    "<ul>\n",
    "<li>**Open URL:**  .get(url) (e.g.\n",
    "<span style = \"font-family:Courier;\"> browser.get(url)</span>)</li>\n",
    "<li>**Selection: ** .find_element(s)... [element will return the first, elements the complete list]\n",
    "<ul>\n",
    "<li>..._by_link_text('foo') - find the link with text foo</li>\n",
    "<li>..._by_partial_link_text() - similar to contains ...</li>\n",
    "<li>..._by_css_selector()</li>\n",
    "<li>..._by_tag_name()</li>\n",
    "<li>..._by_xpath()</li>\n",
    "<li>..._by_class_name()</li>\n",
    "</ul>\n",
    "</li>\n",
    "<li>**Retrieve source: ** .page_source</li>\n",
    "  \n",
    "</ul>\n",
    "</div>"
   ]
  },
  {
   "cell_type": "markdown",
   "metadata": {},
   "source": [
    "<div class = \"alert alert-info\" style = \"background-color:lightyellow;border-radius:10px;border-width:3px;border-color:darkorange;font-family:Verdana,sans-serif;font-size:16px;color:brown\">**Other web driver utilities:**\n",
    "<ul>\n",
    "<li>browser.execute_script('window.close()') - execute any javascript on a load page</li>\n",
    "<li>brosers.save_screenshot('foo.png')</li>\n",
    "<li>browser.switch_to_alert(): handle pop-ups automatically</li>\n",
    "<li>browser.forward() / browser.back(): navigation</li>\n",
    "</ul>\n",
    "</div>"
   ]
  },
  {
   "cell_type": "markdown",
   "metadata": {},
   "source": [
    "<div class = \"alert alert-info\" style = \"border-radius:10px;border-width:3px;border-color:darkblue;font-family:Verdana,sans-serif;font-size:16px;\">**Element manipulation in Selenium:**\n",
    "<p>\n",
    "Consider the result of a selection, e.g. \n",
    "\n",
    "<span style = \"font-family:Courier;\">element = browser.find_element_by_css_selector('div')</span>\n",
    "\n",
    "We can do several things on it.\n",
    "<ul>\n",
    "<li>element**.click()** - click on a selected element</li>\n",
    "<li>Element properties:\n",
    "<ul>\n",
    "<li>element**.location**: x, y location</li>\n",
    "<li>element**.parent**: parent element</li>\n",
    "<li>element**.tag_name**: The tag of the element</li>\n",
    "<li>element**.text**: text of the element and childs</li>\n",
    "</ul>\n",
    "</li>\n",
    "   \n",
    "</ul>\n",
    "\n",
    "\n"
   ]
  },
  {
   "cell_type": "markdown",
   "metadata": {},
   "source": [
    "<div class = \"alert alert-success\" style = \"border-radius:10px;border-width:3px;border-color:darkgreen;font-family:Verdana,sans-serif;font-size:16px;\">**Exercise: Back to business.**\n",
    "Now we can interact with the web page, programatically.\n",
    "</div>"
   ]
  },
  {
   "cell_type": "code",
   "execution_count": null,
   "metadata": {},
   "outputs": [],
   "source": [
    "from selenium import webdriver\n",
    "url = 'https://contrataciondelestado.es/wps/portal/licRecientes' #Poseu el nom de la pàgina web\n",
    "browser = webdriver.Firefox() #Obrir un navegador Firefox\n",
    "browser.get(url)\n",
    "\n",
    "browser.implicitly_wait(5)\n",
    "\n",
    "try:\n",
    "    element = browser.find_element_by_xpath('//*[@value=\"Next >>\"]').click()\n",
    "except:\n",
    "    print('NOT FOUND')\n",
    "    pass"
   ]
  },
  {
   "cell_type": "markdown",
   "metadata": {},
   "source": [
    "With this we are now able to scrap all contracts. Let us minimize the amount of burden and use what we know so far (even if it is not the optimal way of doing it)."
   ]
  },
  {
   "cell_type": "code",
   "execution_count": null,
   "metadata": {},
   "outputs": [],
   "source": [
    "from lxml import etree\n",
    "import urllib.request\n",
    "from selenium import webdriver\n",
    "\n",
    "\n",
    "url = 'https://contrataciondelestado.es/wps/portal/licRecientes' #Poseu el nom de la pàgina web\n",
    "browser = webdriver.Firefox() #Obrir un navegador Firefox\n",
    "browser.get(url)\n",
    "\n",
    "browser.implicitly_wait(5)\n",
    "\n",
    "i=1\n",
    "col = []\n",
    "for page in range(5):\n",
    "    fin=False\n",
    "    html_source = browser.page_source\n",
    "    tree = etree.HTML(html_source)\n",
    "    itemN=1\n",
    "    while not(fin):\n",
    "        doc={}\n",
    "        try:\n",
    "            doc['id']=i\n",
    "            print(itemN)\n",
    "            query='//*[@id=\"ab_hprecio'+str(itemN)+'\"]//parent::tr/td[2]/span/text()'\n",
    "            value = tree.xpath(query)\n",
    "            doc['importe']=value[0]\n",
    "            query='//*[@id=\"ab_hcategoria'+str(itemN)+'\"]//parent::tr/td[2]/span/text()'\n",
    "            value = tree.xpath(query)\n",
    "            doc['categoria']=value[0]\n",
    "            query='//*[@id=\"ab_hocontratacion'+str(itemN)+'\"]//parent::tr/td[2]/span/text()'\n",
    "            value = tree.xpath(query)\n",
    "            doc['organo']=value[0]\n",
    "            i=i+1\n",
    "            itemN=itemN+1\n",
    "            col.append(doc)\n",
    "        except IndexError:\n",
    "            fin=True\n",
    "    try:\n",
    "        element = browser.find_element_by_xpath('//*[@value=\"Next >>\"]').click()\n",
    "    except:\n",
    "        print('NOT FOUND')\n",
    "        pass\n",
    "\n",
    "col"
   ]
  },
  {
   "cell_type": "code",
   "execution_count": null,
   "metadata": {},
   "outputs": [],
   "source": [
    "col"
   ]
  },
  {
   "cell_type": "markdown",
   "metadata": {},
   "source": [
    "<div class = \"alert alert-success\" style = \"border-radius:10px;border-width:3px;border-color:darkgreen;font-family:Verdana,sans-serif;font-size:16px;\">\n",
    "**A more elaborate exercise:** We will end this section using a web application. As expected the answer to a web application is a dynamic source that depends on the inputs. Thus, we change a little our little problem and go for the search engine in the same portal.\n",
    "</div>"
   ]
  },
  {
   "cell_type": "markdown",
   "metadata": {},
   "source": [
    "<div class = \"alert alert-info\" style = \"border-radius:10px;border-width:3px;border-color:darkblue;font-family:Verdana,sans-serif;font-size:16px;\">**Form input with Selenium:**\n",
    "<ul>\n",
    "<li> element**.send_keys()** - Keys, commands, arrows, etc </li>\n",
    "<li> element**.clear()** - clear the element</li>\n",
    "</ul>\n",
    "<p>\n",
    "\n",
    "**Example.**\n",
    "\n",
    "<p style=\"font-family:Courier;\">\n",
    "from selenium.webdriver.common.keys import Keys\n",
    "<br>input.send_keys('Ip Man',Keys.RETURN)\n",
    "</p>\n",
    "</div>"
   ]
  },
  {
   "cell_type": "markdown",
   "metadata": {},
   "source": [
    "<div class = \"alert alert-info\" style = \"border-radius:10px;border-width:3px;border-color:darkblue;font-family:Verdana,sans-serif;font-size:16px;\">**Scrolling and moving:**\n",
    "Moving around the page is tricky, be prepared for displaying a little patience.\n",
    "\n",
    "ActionChains provide a way of stringing together one or more actions and then implementing them.\n",
    "<ul>\n",
    "<li>move_by_offset(x,y)</li>\n",
    "<li>move_to_element() - for highlighting, hovering, rollover, etc.</li>\n",
    "<li>move_to_elemnte_by_offset(elem, x, y)</li>\n",
    "</ul>\n",
    "</div>"
   ]
  },
  {
   "cell_type": "code",
   "execution_count": null,
   "metadata": {},
   "outputs": [],
   "source": [
    "%reset -f\n",
    "from lxml import etree\n",
    "import urllib.request\n",
    "from selenium import webdriver\n",
    "from selenium.webdriver.common.keys import Keys\n",
    "\n",
    "from selenium.webdriver.support.ui import WebDriverWait\n",
    "from selenium.webdriver.support import expected_conditions as EC\n",
    "\n",
    "\n",
    "#url = 'https://contrataciondelestado.es/wps/portal/!ut/p/b1/04_Sj9Q1tLQ0NrQ0tDAx0o_Qj8pLLMtMTyzJzM9LzAHxo8ziTVz9nZ3dPIwMLIKNXQyMfFxCQ808gFx3U6CCSHwKjIjTb2rsbBLmFRZgFuzpbmDg6eHm4hNqaArUbkacfgMcwNGAkP5w_Sj8SoygCvA5EawAjxv8PPJzU_Vzo3Lc3Cw9s0wcFRUB1iXZhA!!/dl4/d5/L2dBISEvZ0FBIS9nQSEh/pw/Z7_AVEQAI930OBRD02JPMTPG21004/act/id=0/p=javax.servlet.include.path_info=QCPjspQCPbusquedaQCPMainBusqueda.jsp/417201276536/-/'\n",
    "url = 'https://contrataciondelestado.es/wps/portal/licitaciones' #Poseu el nom de la pàgina web\n",
    "browser = webdriver.Firefox() #Obrir un navegador Firefox\n",
    "browser.get(url)\n",
    "\n",
    "browser.implicitly_wait(10)\n",
    "\n",
    "#1) We have to get the web app going\n",
    "\n",
    "element = browser.find_element_by_xpath(\"//*[contains(@id, 'logoFormularioBusqueda')]\").click()\n",
    "\n",
    "#Too slow access, made us time out but we can recover with check results\n",
    "\n",
    "\n",
    "#2) Fill in some search\n",
    "\n",
    "element = browser.find_element_by_xpath('//*[@title=\"Tipo de Contrato\"]/option[text()=\"Servicios\"]').click()\n",
    "\n",
    "#Alternativas:\n",
    "## select by visible text\n",
    "#element.select_by_visible_text('Banana')\n",
    "\n",
    "## select by value \n",
    "#element.select_by_value('1')\n",
    "\n",
    "element = browser.find_element_by_xpath('//*[@alt=\"Organización contratante\"]')\n",
    "\n",
    "element.clear()\n",
    "element.send_keys('Universidad Juan Carlos I',Keys.RETURN) #We press RETURN here\n",
    "\n",
    "\n",
    "#3) Retrieve results\n",
    "try:\n",
    "    browser.find_element_by_xpath(\"//span[contains(@id,'etNoHayRtdos')]\")\n",
    "    print(\"No hay resultados!\")\n",
    "except:\n",
    "    print(\"Hay resultados!\")\n",
    "\n",
    "\n",
    "#4) Now retrieve some stuff\n",
    "\n",
    "#Clear all by pressing the button\n",
    "element = browser.find_element_by_xpath('//*[@alt=\"Organización contratante\"]').clear()\n",
    "\n",
    "element = browser.find_element_by_xpath('//*[@title=\"Tipo de Contrato\"]/option[text()=\"Servicios\"]').click()\n",
    "element = browser.find_element_by_xpath(\"//input[contains(@id,'texoorgano')]\")\n",
    "element.clear()\n",
    "element.send_keys('Rector de la Universidad Carlos III de Madrid',Keys.RETURN) #We press RETURN here\n",
    "\n",
    "try:\n",
    "    browser.find_element_by_xpath(\"//table[contains(@id,'myTablaBusquedaCustom')]\")\n",
    "    print(\"Lo tenemos!!!!\")\n",
    "except:\n",
    "    print(\"Fallamos de nuevo .....\")\n",
    "    \n",
    "#Get an element\n",
    "element = browser.find_elements_by_xpath(\"//table[contains(@id,'myTablaBusquedaCustom')]/tbody/tr[1]/td[1]/div[2]\")\n",
    "print('Let us see what the Rector buys...\\n'+element[0].text)"
   ]
  },
  {
   "cell_type": "code",
   "execution_count": null,
   "metadata": {},
   "outputs": [],
   "source": [
    "browser.close()"
   ]
  },
  {
   "cell_type": "markdown",
   "metadata": {},
   "source": [
    "<div class = \"alert alert-info\" style = \"border-radius:10px;border-width:3px;border-color:darkblue;font-family:Verdana,sans-serif;font-size:16px;\"> **Wrap-up**\n",
    "<ul>\n",
    "<li>We understood how data is usually stored in the web site and how to access it using different kinds of accessors, namely API and direct selectors.</li>\n",
    "<li>We have seen how to capture different kinds of data types(text, audio and pictures).</li>\n",
    "<li>We are now familiar with JSON data and basic No-SQL databases.</li>\n",
    "</ul>\n",
    "</div>"
   ]
  }
 ],
 "metadata": {
  "kernelspec": {
   "display_name": "Python 3",
   "language": "python",
   "name": "python3"
  },
  "language_info": {
   "codemirror_mode": {
    "name": "ipython",
    "version": 3
   },
   "file_extension": ".py",
   "mimetype": "text/x-python",
   "name": "python",
   "nbconvert_exporter": "python",
   "pygments_lexer": "ipython3",
   "version": "3.6.5"
  }
 },
 "nbformat": 4,
 "nbformat_minor": 1
}
