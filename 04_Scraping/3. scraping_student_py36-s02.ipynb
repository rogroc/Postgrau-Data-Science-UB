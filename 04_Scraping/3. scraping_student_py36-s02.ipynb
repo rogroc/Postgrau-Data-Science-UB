{
 "cells": [
  {
   "cell_type": "markdown",
   "metadata": {},
   "source": [
    "<small><i>August 2014 - This notebook was created by [Oriol Pujol Vila](http://www.maia.ub.es/~oriol). Source and license info are in the folder.</i></small>"
   ]
  },
  {
   "cell_type": "markdown",
   "metadata": {},
   "source": [
    "# Data hunting and gathering (part 2)\n",
    "\n",
    "<img style = \"border-radius:20px;\" src = \"http://unadocenade.com/wp-content/uploads/2012/09/cavalls-de-valltorta.jpg\">"
   ]
  },
  {
   "cell_type": "markdown",
   "metadata": {},
   "source": [
    "# Contents and Requirements   \n",
    "\n",
    "**SESSION 2: When every other thing fails: Create our own web API - Scraping**\n",
    "\n",
    "    + Understanding HTML and CSS\n",
    "    + XPath selectors\n",
    "    + Scraping dynamic content with Selenium   \n",
    "\n",
    "SOFTWARE REQUIREMENTS FOR SESSION 2\n",
    "    \n",
    "    + Mozilla Firefox Quantum\n",
    "    + Firefox Add-on: Xpath Try\n",
    "    + Download Geckodriver from `https://github.com/mozilla/geckodriver/releases`\n",
    "    \n",
    "ADDITIONAL PYTHON LIBRARIES\n",
    "\n",
    "    + lxml #pip install lxml\n",
    "    + selenium #pip install selenium\n",
    "    \n",
    "NOT REQUIRED BUT USED FOR SOME EXAMPLES: \n",
    "\n",
    "    + I will use VLC to automatically reproduce scrapped audio.\n"
   ]
  },
  {
   "cell_type": "markdown",
   "metadata": {},
   "source": [
    "<div class = \"alert alert-danger\" style = \"border-radius:10px;border-width:3px;border-color:darkred;font-family:Verdana,sans-serif;font-size:16px;\">\n",
    "**DISCLAIMER AND USER AGREEMENT:** Ensure you are allowed to use these tools for retrieving data and be respectful with web pages and apps. Ethical use of these tools is mandatory. The content provided by this notebook is for educational purposes only. \n",
    "<p>\n",
    "\n",
    "THE NOTEBOOK/SOFTWARE IS PROVIDED \"AS IS\", WITHOUT WARRANTY OF ANY KIND, EXPRESS OR IMPLIED, INCLUDING BUT NOT LIMITED TO THE WARRANTIES OF MERCHANTABILITY, FITNESS FOR A PARTICULAR PURPOSE AND NONINFRINGEMENT. IN NO EVENT SHALL THE AUTHORS OR COPYRIGHT HOLDERS BE LIABLE FOR ANY CLAIM, DAMAGES OR OTHER LIABILITY, WHETHER IN AN ACTION OF CONTRACT, TORT OR OTHERWISE, ARISING FROM, OUT OF OR IN CONNECTION WITH THE NOTEBOOK CONTENTS OR SOFTWARE OR THE USE OR OTHER DEALINGS IN THE SOFTWARE.\n",
    "</div>"
   ]
  },
  {
   "cell_type": "markdown",
   "metadata": {},
   "source": [
    "<div class = \"alert alert-danger\" style = \"border-radius:10px;border-width:3px;border-color:darkred;font-family:Verdana,sans-serif;font-size:16px;\">\n",
    "**REQUIREMENTS:** From this point on you will need:\n",
    "<ul>\n",
    "<li> Firefox</li>\n",
    "<li> Firefox Add-on: XPath Try</li>\n",
    "<li> Selenium</li>\n",
    "<li> Geckodriver</li>\n",
    "<li>lxml</li>\n",
    "</ul>\n",
    "</div>"
   ]
  },
  {
   "cell_type": "markdown",
   "metadata": {},
   "source": [
    "<img style=\"border-radius:20px;\" src=\"./files/big_picture.jpg\">"
   ]
  },
  {
   "cell_type": "markdown",
   "metadata": {},
   "source": [
    "## 3. \"Making your own API\": Web scraping\n",
    "\n",
    "Sometimes data is on the web but there is no API to grant access to it, the API is lacking functionalities or the terms of service are not adequate. In those cases because as humans we have visual access to the data we might wonder how to extract that data automatically. The discipline for doing so is **Web Scraping**. \n",
    "\n",
    "Before we start, it is useful to understand a little how web pages are created and data stored. In this section a brief introduction to web front-end development is presented. We will focus on two basic aspects:\n",
    "\n",
    "+ Basic HTML + CSS static pages.\n",
    "+ Dynamic HTML (a basic JavaScript example using JQuery).\n"
   ]
  },
  {
   "cell_type": "markdown",
   "metadata": {},
   "source": [
    "<div class = \"alert alert-success\" style = \"border-radius:10px;border-width:3px;border-color:darkgreen;font-family:Verdana,sans-serif;font-size:16px;\">\n",
    "**Firebug example on a page.**\n",
    "\n",
    "Go to a page and check its contents using Inspect Element\n",
    "</div>"
   ]
  },
  {
   "cell_type": "markdown",
   "metadata": {},
   "source": [
    "### 3.1 Basic HTML + CSS 101\n",
    "\n",
    "The most basic web pages are built upon HTML + CSS technology. This division stnds for content and design, respectively. **HTML (Hypertext markup language)** is used to give websites structure and stores the contents. This is our target for scraping. On the other hand **CSS (Cascading Style Sheets)** gives format to the content, sigles out content for visualization purposes, i.e. defines the style (e.g. font, color, family, borders, image style, relative positioning of the content, etc). HTML files include tags and references to style, thus it is worthwhile to understand a little bit of both technologies which can help us to scrap data more efficiently.\n"
   ]
  },
  {
   "cell_type": "markdown",
   "metadata": {},
   "source": [
    "HTML is a tagged language usually rendered by a browser. Tags are specified in the following format:\n",
    "\n",
    "<p style=\"text-align: center\">&lt;tag_name *attributes*&gt; content &lt;/tag_name&gt;<p>\n",
    "\n",
    "<p>\n",
    "<div class = \"alert alert-info\" style = \"border-radius:10px;border-width:3px;border-color:darkblue;font-family:Verdana,sans-serif;font-size:16px;\">STRUCTURE of an HTML file:\n",
    "\n",
    "<ul>\n",
    "    <li> HTML files start with the <!DOCTYPE html>. This tells the browser that we will use HTML5. In former versions of HTML standard there were different versions. </li>\n",
    "    <li> The first tag in a web page is &lt;html&gt; and its corresponding &lt;/html&gt; closing tag. All the web page is found inside these tags. </li>\n",
    "    <li> HTML files have a &lt;head&gt; and a &lt;body&gt; </li>\n",
    "    <li> In the head, we have the &lt;title&gt; tags, and we use this to specify the webpage's name. We can also find references to CSS stylesheets (&lt;link&gt;) used for formating the page and links to javascript files (&lt;script&gt;)that give the web page dynamic behavior.</li>\n",
    "    <li> In the body we find the content of the page. </li> \n",
    "        <ul>\n",
    "            <li> Headings and text paragraphs can be created using &lt;h#&gt; (# is a natural number) and &lt;p&gt; ,respectively. </li>\n",
    "            <li> Hyperlinks (links) are given in the <strong>href</strong> attribute of the &lt;a&gt; (anchor) tag. </li>\n",
    "            <li> Images can be embedded using the &lt;img&gt; tag and setting the <strong>src</strong> attribute to the resource. Caution: img is an special tag and it does not have a closing tag, e.g. &lt;img src = \"my_pic.jpg\" /&gt; </li>\n",
    "        </ul>\n",
    "</ul>\n",
    "</div>\n",
    "</p>"
   ]
  },
  {
   "cell_type": "markdown",
   "metadata": {},
   "source": [
    "<div class = \"alert alert-success\" style = \"border-radius:10px;border-width:3px;border-color:darkgreen;font-family:Verdana,sans-serif;font-size:16px;\">**EXERCISE**\n",
    "\n",
    "Let us build a basic HTML web page, adding the following tags. Remember that nearly all tags require to be closed using &lt;/tag&gt;\n",
    "\n",
    "+ DOCTYPE\n",
    "+ html\n",
    "+ head\n",
    "+ title\n",
    "+ body\n",
    "\n",
    "<ol>\n",
    "<li>Create a file 'example.html' in your favorite editor.</li>\n",
    "<li>Create a basic html web page containing a *title*, *h1*, *p*, *img* and *a* tags.</li>\n",
    "</ol>\n",
    "</div>"
   ]
  },
  {
   "cell_type": "markdown",
   "metadata": {},
   "source": [
    "If you are lazy go to the files folder and double-click on \"example.html\". You can check the html code executing the following line."
   ]
  },
  {
   "cell_type": "code",
   "execution_count": 47,
   "metadata": {},
   "outputs": [
    {
     "data": {
      "text/html": [
       "\n",
       "\t<head>\n",
       "\t\t<title>\n",
       "\t\t\tBasic knowledge for web scraping.\n",
       "\t\t</title>\t\n",
       "\t</head>\n",
       "\t<body>\n",
       "\t\t<h1>About HTML\n",
       "\t\t</h1>\n",
       "\t\t<p>Html (Hypertext markdown language) is the basic language to provide contents in the web. It is a tagged language. You can check more about it in <a href=\"http://www.w3.org/community/webed/wiki/HTML\">World Wide Web Consortium.</a></p>\n",
       "        \n",
       "        <p> One of the following rubberduckies is clickable\n",
       "\t</p>\n",
       "\t<p>\n",
       "            <img src = \"files/rubberduck.jpg\"/>\n",
       "        \n",
       "            <a href=\"http://www.pinterest.com/misscannabliss/rubber-duck-mania/\"><img src = \"files/rubberduck.jpg\"/></a>\n",
       "        </p>\n",
       "\t</body>\n",
       "\n"
      ],
      "text/plain": [
       "<IPython.core.display.HTML object>"
      ]
     },
     "metadata": {},
     "output_type": "display_data"
    }
   ],
   "source": [
    "%%html\n",
    "\n",
    "\t<head>\n",
    "\t\t<title>\n",
    "\t\t\tBasic knowledge for web scraping.\n",
    "\t\t</title>\t\n",
    "\t</head>\n",
    "\t<body>\n",
    "\t\t<h1>About HTML\n",
    "\t\t</h1>\n",
    "\t\t<p>Html (Hypertext markdown language) is the basic language to provide contents in the web. It is a tagged language. You can check more about it in <a href=\"http://www.w3.org/community/webed/wiki/HTML\">World Wide Web Consortium.</a></p>\n",
    "        \n",
    "        <p> One of the following rubberduckies is clickable\n",
    "\t</p>\n",
    "\t<p>\n",
    "            <img src = \"files/rubberduck.jpg\"/>\n",
    "        \n",
    "            <a href=\"http://www.pinterest.com/misscannabliss/rubber-duck-mania/\"><img src = \"files/rubberduck.jpg\"/></a>\n",
    "        </p>\n",
    "\t</body>\n",
    "\n"
   ]
  },
  {
   "cell_type": "markdown",
   "metadata": {},
   "source": [
    "<div class  = \"alert alert-success\">** EXERCISE ** <p>\n",
    "Change the type of cell of the former cell to *Markdown* and Execute (SHIFT+ENTER). In order for the files to show you must add the relative path to the image, e.g. ./files/rubberduck.jpg\n",
    "</div>"
   ]
  },
  {
   "cell_type": "markdown",
   "metadata": {},
   "source": [
    "<div class = \"alert alert-info\" style = \"border-radius:10px;border-width:3px;border-color:darkblue;font-family:Verdana,sans-serif;font-size:16px;\">\n",
    "**Old style HTML** static pages rely heavily on tables and lists: \n",
    "\n",
    "<ul>\n",
    "<li> Making ordered and unordered lists is simple: *ol* (ordered list), *ul* (unordered list) are the main tags. Each item is inserted as *li* (list item) </li>\n",
    "<li> *table* is the containing tag for building tables, each table row is given as *tr* and columns depend on the table data elements *td*. Tables may have a head (*thead*) and a body (*tbody*). *th* is the same as *td* but for the header. If you want a multi column cell then use colspan=number of cells to cover.\n",
    "</li>\n",
    "</ul>\n",
    "</div>"
   ]
  },
  {
   "cell_type": "markdown",
   "metadata": {},
   "source": [
    "The next example shows a simple table build. Check the markdown code."
   ]
  },
  {
   "cell_type": "markdown",
   "metadata": {},
   "source": [
    "<table>\n",
    "<thead>\n",
    "<tr><th colspan = 2>A table</th><tr>\n",
    "</thead>\n",
    "<tbody>\n",
    "<tr>\n",
    "<td>Hello I am element 1.1</td><td>Hello I am element 1.2</td>\n",
    "</tr>\n",
    "<tr>\n",
    "<td colspan=2>Hello I am element 2.1 and 2.2</td>\n",
    "</tr>\n",
    "</tbody>\n",
    "</table>"
   ]
  },
  {
   "cell_type": "markdown",
   "metadata": {},
   "source": [
    "<div class = \"alert alert-info\" style = \"border-radius:10px;border-width:3px;border-color:darkblue;font-family:Verdana,sans-serif;font-size:16px;\">\n",
    "**Current HTML** static pages rely heavily on containers and style: \n",
    "\n",
    "<ul>\n",
    "<li> *div* stands for division and mark a block of content.\n",
    "</li>\n",
    "<li> *span* is used to single out an element of a block content.\n",
    "</li>\n",
    "</ul>\n",
    "\n",
    "</div>\n",
    "\n",
    "By themselves they are not much but when combined with the *style* attribute they become interesting.\n",
    "\n",
    "For example, consider the following example of code:"
   ]
  },
  {
   "cell_type": "markdown",
   "metadata": {},
   "source": [
    "<div style = \"width:100px;height:100px;background-color:red;padding:10px;font-family:Verdana;font-size:24;color:pink;display:inline-block\">  Box 1\n",
    "</div>\n",
    "<div style = \"width:100px;height:100px;background-color:blue;padding:10px;font-family:Futura;font-size:24;color:lightblue;display:inline-block\">  Box 2\n",
    "</div>\n",
    "<div style = \"width:100px;height:100px;background-color:yellow;padding:10px;font-family:Garamond;font-size:24;color:orange;display:inline-block\">  Box 3\n",
    "</div>\n",
    "<div style = \"width:100px;height:100px;background-color:green;padding:10px;font-family:ArialNarrow;font-size:24;color:lightgreen;display:inline-block\">  Box 4\n",
    "</div>"
   ]
  },
  {
   "cell_type": "markdown",
   "metadata": {},
   "source": [
    "The attribute *style* is also referred as *inline CSS* and let us give the skeleton some skin and makeup."
   ]
  },
  {
   "cell_type": "markdown",
   "metadata": {},
   "source": [
    "<div class = \"alert alert-success\" style = \"border-radius:10px;border-width:3px;border-color:darkgreen;font-family:Verdana,sans-serif;font-size:16px;\">**EXERCISE**\n",
    "\n",
    "Let us build a basic HTML web page and check the magic of CSS in action before going in detail into CSS.\n",
    "<ol>\n",
    "<li>Create a file 'example2.html' using your favorite editor.</li>\n",
    "<li>Fill the header and body basic HTML structure</li>\n",
    "<li>Let us add three containers *div* in the body.</li> \n",
    "<li>Select one of them. This will be used as a navigation bar and will contain an unordered list with three elememnts: Home, Brief Bio, Hobbies</li>\n",
    "<li>Select another division and create a table inside. Each row will contain information about your profile, e.g. the first row may contain Name: Your Name, the second row Position: Your current position, etc</li>\n",
    "<li>The last one will contain an image of youself and a paragraph with your contact info (email)</li>\n",
    "</ol>\n",
    "<p>\n",
    "Check the result. Nearly professional, doesn't it?\n",
    "</p>\n",
    "</div>"
   ]
  },
  {
   "cell_type": "markdown",
   "metadata": {},
   "source": [
    "<div class = \"alert alert-success\" style = \"border-radius:10px;border-width:3px;border-color:darkgreen;font-family:Verdana,sans-serif;font-size:16px;\">**EXERCISE FOLLOW UP**\n",
    "\n",
    "Let us add some style.\n",
    "<ol>\n",
    "<li>Add the class \"navbar\" as an attribute to the *div* containing the list. (eg. class = \"navbar\")</li>\n",
    "<li>Add the class \"head\" to the *div* containing the image and the email.</li>\n",
    "<li>Add the class \"right\" to the *div* containing the table.</li>\n",
    "<li>Add the identifier \"email\" to the paragraph containing the email. (eg. id = \"email\")</li>\n",
    "<li>Finally, let us link the class and ids definitions we have just writen by adding to the head tag the following line:\n",
    "<p>< link type=\"text/css\" rel=\"stylesheet\" href=\"stylesheet.css\"/ ></p>\n",
    "</li>\n",
    "</ol>\n",
    "<p>\n",
    "Check the result now. Do not forget to hover over your navigation bar.\n",
    "</p>\n",
    "</div>"
   ]
  },
  {
   "cell_type": "markdown",
   "metadata": {},
   "source": [
    "The former exercise is an extremely simple exercise showing the separation between the content and the styling. Observe that the html file you have created does not have any explicit styling. However, we have added two new elements to the mix, classes and identifiers as attributes of the tags. As you can imagine styling rules are given for each class and ID and are compactly found on the stylesheet.css we have just linked."
   ]
  },
  {
   "cell_type": "markdown",
   "metadata": {},
   "source": [
    "<div class = \"alert alert-warning\" style = \"border-radius:10px;border-width:3px;border-color:orange;font-family:Verdana,sans-serif;font-size:16px;\">**COMMENT:**\n",
    "Very simple formating can be also given using html markers. For example *strong* and *em* tags refers to bold and italics fonts.\n",
    "</div>"
   ]
  },
  {
   "cell_type": "markdown",
   "metadata": {},
   "source": [
    "**CSS (which stands for Cascading Style Sheets)** is a language used to describe the appearance and formatting of your HTML. A style sheet is a file that describes how an HTML file should look. The word cascading refers to the fact that a specific style rules override more generic ones. We will see that in a minute. \n"
   ]
  },
  {
   "cell_type": "markdown",
   "metadata": {},
   "source": [
    "<div class = \"alert alert-info\" style = \"border-radius:10px;border-width:3px;border-color:darkblue;font-family:Verdana,sans-serif;font-size:16px;\">FORMAT of a CSS file:\n",
    "\n",
    "<ol>\n",
    "    <li> CSS files contains a set of style rules applied to a certain selection of the content of the html file. The format is as follows:  <span style = \"font-family:Courier;color:gray\">css_selector { \n",
    "                property: value;\n",
    "        }</span>\n",
    "    and may contain many properties.\n",
    "    </li>\n",
    "    <li> <span style = \"font-family:Courier;color:gray\"> css_selector </span> identifies a certain context of the Document Object Model (DOM), i.e. it allows to traverse the DOM and select specific blocks. For example, \n",
    "      <span style = \"font-family:Courier;color:gray\">div { color:red; }</span>\n",
    "    selects all *div* tags and apply a red font color to their content.\n",
    "    </li>\n",
    "    <li> We can use any html tag as element for selection.</li>\n",
    "</ol>\n",
    "</div>"
   ]
  },
  {
   "cell_type": "markdown",
   "metadata": {},
   "source": [
    "<div class = \"alert alert-info\" style = \"border-radius:10px;border-width:3px;border-color:darkblue;font-family:Verdana,sans-serif;font-size:16px;\">\n",
    "    **CLASSES:**\n",
    "        <ul>\n",
    "        <li> We may link/format a certain set of tags of the html file with a unique CSS style by means of a **class**. </li>\n",
    "        <li> In html the class is defined as an attribute and can be shared among tags, e.g. < div class = \"my_class\" > and < p class = \"my_class\">\n",
    "        </li>\n",
    "        <li> In the css file, the class is identified with a point preceeding the name, e.g.\n",
    "         <p style = \"font-family:Courier;margin-left:100px;\">\n",
    "            .my_class { font-family:Verdana; }\n",
    "        </p>\n",
    "        </li>\n",
    "        </ul>\n",
    "    </div>\n"
   ]
  },
  {
   "cell_type": "markdown",
   "metadata": {},
   "source": [
    "<div class = \"alert alert-info\" style = \"border-radius:10px;border-width:3px;border-color:darkblue;font-family:Verdana,sans-serif;font-size:16px;\">\n",
    "    **IDENTIFIERS:**\n",
    "        <ul>\n",
    "        <li> If we want to single out an element to apply a certain style we can use an **identifier**. </li>\n",
    "        <li> In html the identifier is defined as the attribute **ID**, e.g. < div id = \"my_ID\" >\n",
    "        </li>\n",
    "        <li> In the css file, the identifier name is preceeded by a hash sign (#), e.g.\n",
    "         <p style = \"font-family:Courier;margin-left:100px;\">\n",
    "            #my_ID { font-size:24px; }\n",
    "        </p>\n",
    "        </li>\n",
    "        </ul>\n",
    "</div>"
   ]
  },
  {
   "cell_type": "markdown",
   "metadata": {},
   "source": [
    "<div class = \"alert alert-success\" style = \"border-radius:10px;border-width:3px;border-color:darkgreen;font-family:Verdana,sans-serif;font-size:16px;\">**EXERCISE**\n",
    "\n",
    "Check stylesheet.css and inspect the formating of the identifiers and the classes.\n",
    "<ol>\n",
    "<li>\n",
    "Create an identifier name_props that changes the font-family to Courier.\n",
    "</li>\n",
    "<li>\n",
    "Add this identifier to the *td* tag with your name in the profile.\n",
    "</li>\n",
    "</ol>\n",
    "</div>"
   ]
  },
  {
   "cell_type": "markdown",
   "metadata": {},
   "source": [
    "<div class = \"alert alert-success\" style = \"border-radius:10px;border-width:3px;border-color:darkgreen;font-family:Verdana,sans-serif;font-size:16px;\">**EXERCISE**\n",
    "\n",
    "Let us make our own css style sheet and explore a little of the more advanced CSS selectors.\n",
    "<ol>\n",
    "<li>Create a file 'mystylesheet.css' using your favorite editor and open example3.html in your browser.</li>\n",
    "<li>What happens if we add the following style command? \n",
    "<p style=\"font-family:Courier\">div {font-family:Verdana;font-size:16px;}</p></li>\n",
    "<li>Add the following line in the style sheet:\n",
    "<p style=\"font-family:Courier\">div div{color:red;}</p></li>\n",
    "<li>Add the following line in the style sheet:\n",
    "<p style=\"font-family:Courier\">div>div{color:green;}</p></li>\n",
    "<li>Add the style to make the font of the container regarding Bruce Lee comments on Choy Li Fut have *font-size:14px*, *font-family:Courier*, *background-color:#FFCC66;*, and *color:yellow*.\n",
    "<li>Add a style to the *img* tag with *height* of *230px* and *width* of *200px*. Set the width of the table to 700 pixels width.</li>\n",
    "</ol>\n",
    "</div>"
   ]
  },
  {
   "cell_type": "markdown",
   "metadata": {},
   "source": [
    "In this last exercise we have seen another type of css selection. The html document can be seen as a tree structure. The root of the tree is the *html* tag. This has two children *head* and *body*. Head may have different children such as *title*, *link*, or *script*. Body may have any combination of tags, *divs*, *p*, *a*, etc. These tags can be nested, e.g. we can find a *div* inside a *div* inside a *div*. In the example we have seen how to refer to nested elements. The elements can be html tags or classes or identifiers.\n",
    "    + \"elem1 elem2\" refers to any elem2 inside any other elem1 disregarding the degree of nesting (it may have any arbitrary set of elementes in between both).\n",
    "    + \"elem1>elem2\" specifically refers to any elem2 children of a direct parent with tag elem1."
   ]
  },
  {
   "cell_type": "markdown",
   "metadata": {},
   "source": [
    "<div class = \"alert alert-success\" style = \"border-radius:10px;border-width:3px;border-color:darkgreen;font-family:Verdana,sans-serif;font-size:16px;\">**EXERCISE:**\n",
    "What does \"div table>img\" select?\n",
    "\n",
    "</div>"
   ]
  },
  {
   "cell_type": "markdown",
   "metadata": {},
   "source": [
    "<div class = \"alert alert-danger\" style = \"border-radius:10px;border-width:3px;border-color:darkred;font-family:Verdana,sans-serif;font-size:16px;\">We can use CSS Selection for accessing elements in the document. However I prefer to introduce XPATH for that issue.\n",
    "\n",
    "</div>"
   ]
  },
  {
   "cell_type": "markdown",
   "metadata": {},
   "source": [
    "## 3.3 Selecting elements with XPATH\n",
    "\n",
    "XPath is an alternative way of navigating through XML-like documents. It follows a similar structure to file directory navigations. In this sense, we can define an absolute path using `/`. This means that we have to give the complete path to the element we want to select. For example `xpath('/html/body/p')` will select all the paragraphs in the body of the html root.\n",
    "\n",
    "If the path starts with `//` we are not starting at the root but will select an element starting anywhere in the hierarchy. For example  `xpath('//a/div')` will look for an 'a' followed with a 'div' anywhere in the document. \n",
    "\n",
    "We may also use wildcards suchs as `*`. For example `xpath(//a/div/*)` will return all the elements preceeding a/div anywhere in the document. And `xpath(/*/*/div)` will look for divs at the second level of the hierarchy with respect to the root.\n",
    "\n",
    "If the selection returns more than one element we can choose one using brakets. For example `xpath('//a/div[1]')` will return the first div element of that set and `xpath('//a/div[last()]')` the last one.\n",
    "\n",
    "We can toy with attributes using `@`. In this sense `xpath('//@name')` returns all attributes called 'name' anywhere in the document, and `xpath('//div[@name]')` selects from all the divs in the document only those that have an attribute 'name'. Note that it selects the divs, not the attributes. `xpath('//div[not(@*)]')` will return all the divs without attributes. We can even look for specific values of attributes `xpath('//div[@name='chachiname']')`\n",
    "\n",
    "There are built-in functions that may help in localizing elements, such as `count()`,\n",
    "`name()`, `starts-with()`, `contains()`. For example, `xpath('//*[contains(name(),'iv')]')` will selet all elements anywhere in the document with an name descriptor containing the substring 'iv'; or `xpath('//*[count('div')==2])` will return all elements with two div elements as children.\n",
    "\n",
    "We can select elements coming from several paths using `|` (OR), e.g. `xpath('/div/p|/div/a')` elements either div/p or div/a.\n",
    "\n",
    "We can refer to the parent, ancestors, child, or descendants in a path, e.g. `xpath('//div/div/parent::*')` returns the parent nodes that have as children the path div/div.\n",
    "\n"
   ]
  },
  {
   "cell_type": "markdown",
   "metadata": {},
   "source": [
    "\n",
    "|Expression|Description|\n",
    "|----------|-----------|\n",
    "|nodename|Selects all nodes with the name \"nodename\"|\n",
    "|/\t|Selects from the root node|\n",
    "|//\t|Selects nodes in the document from the current node that match the selection no matter where they are|\n",
    "|.\t|Selects the current node|\n",
    "|..\t|Selects the parent of the current node|\n",
    "|@\t|Selects attributes|"
   ]
  },
  {
   "cell_type": "markdown",
   "metadata": {},
   "source": [
    "Want more? Check https://www.guru99.com/xpath-selenium.html\n"
   ]
  },
  {
   "cell_type": "markdown",
   "metadata": {},
   "source": [
    "<div class = \"alert alert-success\" style = \"border-radius:10px;border-width:3px;border-color:darkgreen;font-family:Verdana,sans-serif;font-size:16px;\">\n",
    "**XPATH Exercises**:\n",
    "<ol>\n",
    "<li>Text that are on the lists of the page?</li>\n",
    "<li>All the attributes on the page</li>\n",
    "<li>Is there any link on the page?</li>\n",
    "<li>Can you get the style sheet information?</li>\n",
    "<li>divs that have the class \"container\"</li>\n",
    "<li>what if you remove brackets in the last one?</li>\n",
    "</ol>\n",
    "</div>"
   ]
  },
  {
   "cell_type": "code",
   "execution_count": 1,
   "metadata": {},
   "outputs": [],
   "source": [
    "from lxml import etree\n",
    "import urllib.request\n",
    "\n",
    "url = \"https://www.google.com\"\n",
    "html = urllib.request.urlopen(url).read()\n",
    "tree = etree.HTML(html)\n"
   ]
  },
  {
   "cell_type": "code",
   "execution_count": 2,
   "metadata": {},
   "outputs": [
    {
     "data": {
      "text/plain": [
       "['Ofrecido por Google en:  ', '    ', '    ', '  ']"
      ]
     },
     "execution_count": 2,
     "metadata": {},
     "output_type": "execute_result"
    }
   ],
   "source": [
    "tree.xpath('//div/text()')\n",
    "#tree.xpath('//li/a/text()')"
   ]
  },
  {
   "cell_type": "code",
   "execution_count": 3,
   "metadata": {},
   "outputs": [
    {
     "data": {
      "text/plain": [
       "['',\n",
       " 'http://schema.org/WebPage',\n",
       " 'es',\n",
       " 'Google.es permite acceder a la información mundial en castellano, catalán, gallego, euskara e inglés.',\n",
       " 'description',\n",
       " 'noodp',\n",
       " 'robots',\n",
       " 'text/html; charset=UTF-8',\n",
       " 'Content-Type',\n",
       " '/images/branding/googleg/1x/googleg_standard_color_128dp.png',\n",
       " 'image',\n",
       " 'VKhMWXnZ8LFXDyyVI3yiXg==',\n",
       " 'VKhMWXnZ8LFXDyyVI3yiXg==',\n",
       " '#fff',\n",
       " 'VKhMWXnZ8LFXDyyVI3yiXg==',\n",
       " 'mngb',\n",
       " 'gbar',\n",
       " 'gb1',\n",
       " 'gb1',\n",
       " 'https://www.google.es/imghp?hl=es&tab=wi',\n",
       " 'gb1',\n",
       " 'https://maps.google.es/maps?hl=es&tab=wl',\n",
       " 'gb1',\n",
       " 'https://play.google.com/?hl=es&tab=w8',\n",
       " 'gb1',\n",
       " 'https://www.youtube.com/?gl=ES&tab=w1',\n",
       " 'gb1',\n",
       " 'https://news.google.com/?tab=wn',\n",
       " 'gb1',\n",
       " 'https://mail.google.com/mail/?tab=wm',\n",
       " 'gb1',\n",
       " 'https://drive.google.com/?tab=wo',\n",
       " 'gb1',\n",
       " 'text-decoration:none',\n",
       " 'https://www.google.es/intl/es/about/products?tab=wh',\n",
       " 'guser',\n",
       " '100%',\n",
       " 'gbn',\n",
       " 'gbi',\n",
       " 'gbf',\n",
       " 'gbf',\n",
       " 'gbe',\n",
       " 'http://www.google.es/history/optout?hl=es',\n",
       " 'gb4',\n",
       " '/preferences?hl=es',\n",
       " 'gb4',\n",
       " '_top',\n",
       " 'gb_70',\n",
       " 'https://accounts.google.com/ServiceLogin?hl=es&passive=true&continue=https://www.google.com/&ec=GAZAAQ',\n",
       " 'gb4',\n",
       " 'gbh',\n",
       " 'left:0',\n",
       " 'gbh',\n",
       " 'right:0',\n",
       " 'all',\n",
       " 'lgpd',\n",
       " 'lga',\n",
       " 'Google',\n",
       " '92',\n",
       " '/images/branding/googlelogo/1x/googlelogo_white_background_color_272x92dp.png',\n",
       " 'padding:28px 0 14px',\n",
       " '272',\n",
       " 'hplogo',\n",
       " '/search',\n",
       " 'f',\n",
       " '0',\n",
       " '0',\n",
       " 'top',\n",
       " '25%',\n",
       " 'center',\n",
       " '',\n",
       " 'ie',\n",
       " 'ISO-8859-1',\n",
       " 'hidden',\n",
       " 'es',\n",
       " 'hl',\n",
       " 'hidden',\n",
       " 'source',\n",
       " 'hidden',\n",
       " 'hp',\n",
       " 'biw',\n",
       " 'hidden',\n",
       " 'bih',\n",
       " 'hidden',\n",
       " 'ds',\n",
       " 'height:32px;margin:4px 0',\n",
       " 'lst',\n",
       " 'margin:0;padding:5px 8px 0 6px;vertical-align:top;color:#000',\n",
       " 'off',\n",
       " '',\n",
       " 'Buscar con Google',\n",
       " '2048',\n",
       " 'q',\n",
       " '57',\n",
       " 'line-height:0',\n",
       " 'ds',\n",
       " 'lsbb',\n",
       " 'lsb',\n",
       " 'Buscar con Google',\n",
       " 'btnG',\n",
       " 'submit',\n",
       " 'ds',\n",
       " 'lsbb',\n",
       " 'lsb',\n",
       " 'tsuid1',\n",
       " 'Voy a tener suerte',\n",
       " 'btnI',\n",
       " 'submit',\n",
       " 'VKhMWXnZ8LFXDyyVI3yiXg==',\n",
       " 'AINFCbYAAAAAX5FtgvHoqtrAmd440PQvROyq1R0rtYrk',\n",
       " 'iflsig',\n",
       " 'hidden',\n",
       " 'fl sblc',\n",
       " 'left',\n",
       " '',\n",
       " '25%',\n",
       " '/advanced_search?hl=es&authuser=0',\n",
       " 'gbv',\n",
       " 'gbv',\n",
       " 'hidden',\n",
       " '1',\n",
       " 'VKhMWXnZ8LFXDyyVI3yiXg==',\n",
       " 'gac_scont',\n",
       " 'font-size:83%;min-height:3.5em',\n",
       " 'gws-output-pages-elements-homepage_additional_languages__als',\n",
       " 'SIvCob',\n",
       " 'https://www.google.com/setprefs?sig=0_RJSBwLz86swv8bSyl4drz993Gpw%3D&hl=ca&source=homepage&sa=X&ved=0ahUKEwjukKu1_8fsAhVp8OAKHQSrAtAQ2ZgBCAU',\n",
       " 'https://www.google.com/setprefs?sig=0_RJSBwLz86swv8bSyl4drz993Gpw%3D&hl=gl&source=homepage&sa=X&ved=0ahUKEwjukKu1_8fsAhVp8OAKHQSrAtAQ2ZgBCAY',\n",
       " 'https://www.google.com/setprefs?sig=0_RJSBwLz86swv8bSyl4drz993Gpw%3D&hl=eu&source=homepage&sa=X&ved=0ahUKEwjukKu1_8fsAhVp8OAKHQSrAtAQ2ZgBCAc',\n",
       " 'footer',\n",
       " 'font-size:10pt',\n",
       " 'margin:19px auto;text-align:center',\n",
       " 'WqQANb',\n",
       " '/intl/es/ads/',\n",
       " 'http://www.google.es/intl/es/services/',\n",
       " '/intl/es/about.html',\n",
       " 'https://www.google.com/setprefdomain?prefdom=ES&prev=https://www.google.es/&sig=K_rAM515VOWlgw0Ol9wx2gGjdFGa8%3D',\n",
       " 'font-size:8pt;color:#767676',\n",
       " '/intl/es/policies/privacy/',\n",
       " '/intl/es/policies/terms/',\n",
       " 'VKhMWXnZ8LFXDyyVI3yiXg==']"
      ]
     },
     "execution_count": 3,
     "metadata": {},
     "output_type": "execute_result"
    }
   ],
   "source": [
    "tree.xpath('//@*')"
   ]
  },
  {
   "cell_type": "code",
   "execution_count": 5,
   "metadata": {},
   "outputs": [
    {
     "data": {
      "text/plain": [
       "['https://www.google.es/imghp?hl=es&tab=wi',\n",
       " 'https://maps.google.es/maps?hl=es&tab=wl',\n",
       " 'https://play.google.com/?hl=es&tab=w8',\n",
       " 'https://www.youtube.com/?gl=ES&tab=w1',\n",
       " 'https://news.google.com/?tab=wn',\n",
       " 'https://mail.google.com/mail/?tab=wm',\n",
       " 'https://drive.google.com/?tab=wo',\n",
       " 'https://www.google.es/intl/es/about/products?tab=wh',\n",
       " 'http://www.google.es/history/optout?hl=es',\n",
       " '/preferences?hl=es',\n",
       " 'https://accounts.google.com/ServiceLogin?hl=es&passive=true&continue=https://www.google.com/&ec=GAZAAQ',\n",
       " '/advanced_search?hl=es&authuser=0',\n",
       " 'https://www.google.com/setprefs?sig=0_RJSBwLz86swv8bSyl4drz993Gpw%3D&hl=ca&source=homepage&sa=X&ved=0ahUKEwjukKu1_8fsAhVp8OAKHQSrAtAQ2ZgBCAU',\n",
       " 'https://www.google.com/setprefs?sig=0_RJSBwLz86swv8bSyl4drz993Gpw%3D&hl=gl&source=homepage&sa=X&ved=0ahUKEwjukKu1_8fsAhVp8OAKHQSrAtAQ2ZgBCAY',\n",
       " 'https://www.google.com/setprefs?sig=0_RJSBwLz86swv8bSyl4drz993Gpw%3D&hl=eu&source=homepage&sa=X&ved=0ahUKEwjukKu1_8fsAhVp8OAKHQSrAtAQ2ZgBCAc',\n",
       " '/intl/es/ads/',\n",
       " 'http://www.google.es/intl/es/services/',\n",
       " '/intl/es/about.html',\n",
       " 'https://www.google.com/setprefdomain?prefdom=ES&prev=https://www.google.es/&sig=K_rAM515VOWlgw0Ol9wx2gGjdFGa8%3D',\n",
       " '/intl/es/policies/privacy/',\n",
       " '/intl/es/policies/terms/']"
      ]
     },
     "execution_count": 5,
     "metadata": {},
     "output_type": "execute_result"
    }
   ],
   "source": [
    "tree.xpath('//@href')"
   ]
  },
  {
   "cell_type": "code",
   "execution_count": 6,
   "metadata": {},
   "outputs": [
    {
     "data": {
      "text/plain": [
       "[<Element style at 0x7faa5edaff00>,\n",
       " <Element style at 0x7faa5edaffa0>,\n",
       " <Element style at 0x7faa5edb6050>]"
      ]
     },
     "execution_count": 6,
     "metadata": {},
     "output_type": "execute_result"
    }
   ],
   "source": [
    "tree.xpath('//style')"
   ]
  },
  {
   "cell_type": "code",
   "execution_count": 7,
   "metadata": {},
   "outputs": [
    {
     "name": "stdout",
     "output_type": "stream",
     "text": [
      "['gb1', 'https://www.google.es/imghp?hl=es&tab=wi']\n",
      "['gb1', 'https://maps.google.es/maps?hl=es&tab=wl']\n",
      "['gb1', 'https://play.google.com/?hl=es&tab=w8']\n",
      "['gb1', 'https://www.youtube.com/?gl=ES&tab=w1']\n",
      "['gb1', 'https://news.google.com/?tab=wn']\n",
      "['gb1', 'https://mail.google.com/mail/?tab=wm']\n",
      "['gb1', 'https://drive.google.com/?tab=wo']\n",
      "['gb1', 'text-decoration:none', 'https://www.google.es/intl/es/about/products?tab=wh']\n",
      "['http://www.google.es/history/optout?hl=es', 'gb4']\n",
      "['/preferences?hl=es', 'gb4']\n",
      "['_top', 'gb_70', 'https://accounts.google.com/ServiceLogin?hl=es&passive=true&continue=https://www.google.com/&ec=GAZAAQ', 'gb4']\n",
      "['/advanced_search?hl=es&authuser=0']\n",
      "['https://www.google.com/setprefs?sig=0_RJSBwLz86swv8bSyl4drz993Gpw%3D&hl=ca&source=homepage&sa=X&ved=0ahUKEwjukKu1_8fsAhVp8OAKHQSrAtAQ2ZgBCAU']\n",
      "['https://www.google.com/setprefs?sig=0_RJSBwLz86swv8bSyl4drz993Gpw%3D&hl=gl&source=homepage&sa=X&ved=0ahUKEwjukKu1_8fsAhVp8OAKHQSrAtAQ2ZgBCAY']\n",
      "['https://www.google.com/setprefs?sig=0_RJSBwLz86swv8bSyl4drz993Gpw%3D&hl=eu&source=homepage&sa=X&ved=0ahUKEwjukKu1_8fsAhVp8OAKHQSrAtAQ2ZgBCAc']\n",
      "['/intl/es/ads/']\n",
      "['http://www.google.es/intl/es/services/']\n",
      "['/intl/es/about.html']\n",
      "['https://www.google.com/setprefdomain?prefdom=ES&prev=https://www.google.es/&sig=K_rAM515VOWlgw0Ol9wx2gGjdFGa8%3D']\n",
      "['/intl/es/policies/privacy/']\n",
      "['/intl/es/policies/terms/']\n"
     ]
    }
   ],
   "source": [
    "for item in tree.xpath('//a'):\n",
    "    print(item.values())"
   ]
  },
  {
   "cell_type": "code",
   "execution_count": 8,
   "metadata": {},
   "outputs": [],
   "source": [
    "for item in tree.xpath('//link[contains(@href,\"css\")]'):\n",
    "    print (item.values())"
   ]
  },
  {
   "cell_type": "code",
   "execution_count": 9,
   "metadata": {},
   "outputs": [
    {
     "data": {
      "text/plain": [
       "['Ofrecido por Google en:  ', '    ', '    ', '  ']"
      ]
     },
     "execution_count": 9,
     "metadata": {},
     "output_type": "execute_result"
    }
   ],
   "source": [
    "tree.xpath('//div[@id=\"SIvCob\"]/text()') #exact match\n",
    "#tree.xpath('//div[contains(@class,\"container\")]')"
   ]
  },
  {
   "cell_type": "code",
   "execution_count": 10,
   "metadata": {},
   "outputs": [
    {
     "data": {
      "text/plain": [
       "False"
      ]
     },
     "execution_count": 10,
     "metadata": {},
     "output_type": "execute_result"
    }
   ],
   "source": [
    "tree.xpath('//div/@class=\"container\"') #exact match\n"
   ]
  },
  {
   "cell_type": "markdown",
   "metadata": {},
   "source": [
    "## Practice XPATH with your browser \n",
    "\n",
    "We need Firefox and XPathTry Add-on\n"
   ]
  },
  {
   "cell_type": "markdown",
   "metadata": {},
   "source": [
    "Let us supose we want to scrap licitaciones from `https://contrataciondelestado.es`. Our use case is a simple one this time. We want to automatically \n",
    "\n",
    "1. Go to Licitaciones\n",
    "2. We want to get `organo de contratacion`, `categoria`, `importe` from all elements in the first page.\n"
   ]
  },
  {
   "cell_type": "markdown",
   "metadata": {},
   "source": [
    "<div class = \"alert alert-success\" style = \"border-radius:10px;border-width:3px;border-color:darkgreen;font-family:Verdana,sans-serif;font-size:16px;\">\n",
    "**EXERCISE IN PAIRS:** Take the inspector and write down what you need to look for completing points 1 and 2.\n",
    "</div>"
   ]
  },
  {
   "cell_type": "markdown",
   "metadata": {},
   "source": [
    "<div class = \"alert alert-warning\" style = \"border-radius:10px;border-width:3px;border-color:orange;font-family:Verdana,sans-serif;font-size:16px;\">\n",
    "**SOLUTION:**\n",
    "<ul>\n",
    "<li> **Point 1:** Observe that it directly points to `/wps/portal/licRecientes`. So we do not really need to use any automation here. We can directly feed `https://contrataciondelestado.es/wps/portal/licRecientes`.\n",
    "</li>\n",
    "    \n",
    "<li> **Point 2:** This is a messed-up tabular result. But we find that `categoria` in the first element is governed by  `id = ab_hcategoria1`, `organo` by `id = ab_hocontratacion1`, and `importe` by `id=ab_hprecio1`. So we can get all results from the page iterating on the last number\n",
    "</li>    \n",
    "</ul>\n",
    "\n",
    "</div>"
   ]
  },
  {
   "cell_type": "markdown",
   "metadata": {},
   "source": [
    "<div class = \"alert alert-success\" style = \"border-radius:10px;border-width:3px;border-color:darkgreen;font-family:Verdana,sans-serif;font-size:16px;\">\n",
    "**EXERCISE IN PAIRS:** Install in Firefox the Add-On `XPath Try`. \n",
    "Check how to find the value of the quantity `price`. Write down the XPath.\n",
    "</div>"
   ]
  },
  {
   "cell_type": "markdown",
   "metadata": {},
   "source": [
    "<div class = \"alert alert-success\" style = \"border-radius:10px;border-width:3px;border-color:darkgreen;font-family:Verdana,sans-serif;font-size:16px;\">\n",
    "**EXERCISE IN PAIRS:** Write down the code that scraps that value.\n",
    "</div>"
   ]
  },
  {
   "cell_type": "code",
   "execution_count": 11,
   "metadata": {},
   "outputs": [
    {
     "data": {
      "text/plain": [
       "['56.402,14']"
      ]
     },
     "execution_count": 11,
     "metadata": {},
     "output_type": "execute_result"
    }
   ],
   "source": [
    "#My code\n",
    "\n",
    "from lxml import etree\n",
    "import urllib.request\n",
    "\n",
    "url = \"https://contrataciondelestado.es/wps/portal/licRecientes\"\n",
    "html = urllib.request.urlopen(url).read()\n",
    "tree = etree.HTML(html)\n",
    "\n",
    "tree.xpath('//*[@id=\"ab_hprecio1\"]//parent::tr/td[2]/span/text()')\n",
    "\n",
    "\n"
   ]
  },
  {
   "cell_type": "markdown",
   "metadata": {},
   "source": [
    "Let us iterate on all values of the web page."
   ]
  },
  {
   "cell_type": "code",
   "execution_count": 12,
   "metadata": {},
   "outputs": [
    {
     "name": "stdout",
     "output_type": "stream",
     "text": [
      "ab_hprecio1\n",
      "['5.004,04']\n",
      "ab_hprecio2\n",
      "['34.500,00']\n",
      "ab_hprecio3\n",
      "['56.402,14']\n",
      "ab_hprecio4\n",
      "['14.784,00']\n",
      "ab_hprecio5\n",
      "['1.033.136,48']\n",
      "ab_hprecio6\n",
      "['34.710,74']\n",
      "ab_hprecio7\n",
      "[]\n",
      "ab_hprecio8\n",
      "[]\n",
      "ab_hprecio9\n",
      "[]\n"
     ]
    }
   ],
   "source": [
    "from lxml import etree\n",
    "import urllib.request\n",
    "\n",
    "url = \"https://contrataciondelestado.es/wps/portal/licRecientes\"\n",
    "html = urllib.request.urlopen(url).read()\n",
    "tree = etree.HTML(html)\n",
    "\n",
    "for i in range(1,10):\n",
    "    print('ab_hprecio'+str(i))\n",
    "    query = '//*[@id=\"ab_hprecio'+str(i)+'\"]//parent::tr/td[2]/span/text()'\n",
    "    value = tree.xpath(query)\n",
    "    print(value)\n",
    "    "
   ]
  },
  {
   "cell_type": "code",
   "execution_count": 13,
   "metadata": {},
   "outputs": [
    {
     "name": "stdout",
     "output_type": "stream",
     "text": [
      "5.004,04\n",
      "34.500,00\n",
      "56.402,14\n",
      "14.784,00\n",
      "1.033.136,48\n",
      "34.710,74\n"
     ]
    }
   ],
   "source": [
    "from lxml import etree\n",
    "import urllib.request\n",
    "\n",
    "url = \"https://contrataciondelestado.es/wps/portal/licRecientes\"\n",
    "html = urllib.request.urlopen(url).read()\n",
    "tree = etree.HTML(html)\n",
    "\n",
    "fin=False\n",
    "i=1\n",
    "while not(fin):\n",
    "    try:\n",
    "        query='//*[@id=\"ab_hprecio'+str(i)+'\"]//parent::tr/td[2]/span/text()'\n",
    "        value = tree.xpath(query)\n",
    "        print(value[0])\n",
    "        i=i+1\n",
    "    except IndexError:\n",
    "        fin=True\n",
    "    "
   ]
  },
  {
   "cell_type": "markdown",
   "metadata": {},
   "source": [
    "What about the rest of the elements from the other pages?"
   ]
  },
  {
   "cell_type": "markdown",
   "metadata": {},
   "source": [
    "We are **stuck** at this point. But before proceeding let us wrap up the former scrapping:"
   ]
  },
  {
   "cell_type": "code",
   "execution_count": 14,
   "metadata": {},
   "outputs": [
    {
     "data": {
      "text/plain": [
       "[{'id': 1,\n",
       "  'importe': '50.000,00',\n",
       "  'categoria': 'Servicios de exposiciÃ³n en museos.',\n",
       "  'organo': 'Presidencia de la DiputaciÃ³n Provincial de Valencia'},\n",
       " {'id': 2,\n",
       "  'importe': '5.004,04',\n",
       "  'categoria': 'Servicios de arquitectura, construcciÃ³n, ingenierÃ\\xada e inspecciÃ³n.',\n",
       "  'organo': 'Servicio de Salud de las Illes Balears'},\n",
       " {'id': 3,\n",
       "  'importe': '30.000,00',\n",
       "  'categoria': 'Barreras de seguridad.',\n",
       "  'organo': 'Junta de Gobierno Local de Ayuntamiento de Priego de CÃ³rdoba'},\n",
       " {'id': 4,\n",
       "  'importe': '34.500,00',\n",
       "  'categoria': 'Luces para iluminaciÃ³n exterior.',\n",
       "  'organo': 'Junta de Gobierno del Ayuntamiento de MaÃ³-MahÃ³n'},\n",
       " {'id': 5,\n",
       "  'importe': '56.402,14',\n",
       "  'categoria': 'Servicios de salud.',\n",
       "  'organo': 'Director Gerente de Mutua Intercomarcal MATEPSS NÂº 39'},\n",
       " {'id': 6,\n",
       "  'importe': '14.784,00',\n",
       "  'categoria': 'Material mÃ©dico fungible.',\n",
       "  'organo': 'Servicio CÃ¡ntabro de Salud'}]"
      ]
     },
     "execution_count": 14,
     "metadata": {},
     "output_type": "execute_result"
    }
   ],
   "source": [
    "from lxml import etree\n",
    "import urllib.request\n",
    "\n",
    "url = \"https://contrataciondelestado.es/wps/portal/licRecientes\"\n",
    "html = urllib.request.urlopen(url).read()\n",
    "tree = etree.HTML(html)\n",
    "\n",
    "fin=False\n",
    "i=1\n",
    "col = []\n",
    "while not(fin):\n",
    "    doc={}\n",
    "    try:\n",
    "        doc['id']=i\n",
    "        query='//*[@id=\"ab_hprecio'+str(i)+'\"]//parent::tr/td[2]/span/text()'\n",
    "        value = tree.xpath(query)\n",
    "        doc['importe']=value[0]\n",
    "        query='//*[@id=\"ab_hcategoria'+str(i)+'\"]//parent::tr/td[2]/span/text()'\n",
    "        value = tree.xpath(query)\n",
    "        doc['categoria']=value[0]\n",
    "        query='//*[@id=\"ab_hocontratacion'+str(i)+'\"]//parent::tr/td[2]/span/text()'\n",
    "        value = tree.xpath(query)\n",
    "        doc['organo']=value[0]\n",
    "        i=i+1\n",
    "        col.append(doc)\n",
    "    except IndexError:\n",
    "        fin=True\n",
    "\n",
    "col"
   ]
  },
  {
   "cell_type": "markdown",
   "metadata": {},
   "source": [
    "## 3.4 The inexistent data scraping case\n",
    "\n",
    "As a simple exercise try to scrap the numerical value in the text box of the hidden.html file."
   ]
  },
  {
   "cell_type": "code",
   "execution_count": 24,
   "metadata": {},
   "outputs": [
    {
     "data": {
      "text/html": [
       "\n",
       "        <iframe\n",
       "            width=\"700\"\n",
       "            height=\"350\"\n",
       "            src=\"file:./files/hidden.html\"\n",
       "            frameborder=\"0\"\n",
       "            allowfullscreen\n",
       "        ></iframe>\n",
       "        "
      ],
      "text/plain": [
       "<IPython.lib.display.IFrame at 0x7faa5ee48150>"
      ]
     },
     "execution_count": 24,
     "metadata": {},
     "output_type": "execute_result"
    }
   ],
   "source": [
    "from IPython.display import IFrame\n",
    "IFrame(\"file:./files/hidden.html\", width=700, height=350)"
   ]
  },
  {
   "cell_type": "code",
   "execution_count": 18,
   "metadata": {},
   "outputs": [
    {
     "ename": "SyntaxError",
     "evalue": "invalid syntax (<ipython-input-18-290d09de4567>, line 2)",
     "output_type": "error",
     "traceback": [
      "\u001b[0;36m  File \u001b[0;32m\"<ipython-input-18-290d09de4567>\"\u001b[0;36m, line \u001b[0;32m2\u001b[0m\n\u001b[0;31m    <!DOCTYPE html>\u001b[0m\n\u001b[0m    ^\u001b[0m\n\u001b[0;31mSyntaxError\u001b[0m\u001b[0;31m:\u001b[0m invalid syntax\n"
     ]
    }
   ],
   "source": [
    "# %load files/hidden.html\n",
    "<!DOCTYPE html>\n",
    "<html>\n",
    "<head>\n",
    "<title>The hidden scraper</title>\n",
    "<link rel='stylesheet' type='text/css' href='hiddenstylesheet.css'/>\n",
    "        <script type='text/javascript' src=\"http://ajax.googleapis.com/ajax/libs/jquery/2.0.0/jquery.min.js\">\n",
    "</script>\n",
    "        <script type='text/javascript' src='hiddenscript.js'></script>\n",
    "</head>\n",
    "<body>\n",
    "<div></div>\n",
    "</body>\n",
    "</html>\n"
   ]
  },
  {
   "cell_type": "code",
   "execution_count": 22,
   "metadata": {},
   "outputs": [
    {
     "name": "stdout",
     "output_type": "stream",
     "text": [
      "<!DOCTYPE html>\n",
      "<html>\n",
      "<head>\n",
      "<title>The hidden scraper</title>\n",
      "<link rel='stylesheet' type='text/css' href='hiddenstylesheet.css'/>\n",
      "        <script type='text/javascript' src=\"http://ajax.googleapis.com/ajax/libs/jquery/2.0.0/jquery.min.js\">\n",
      "</script>\n",
      "        <script type='text/javascript' src='hiddenscript.js'></script>\n",
      "</head>\n",
      "<body>\n",
      "<div></div>\n",
      "</body>\n",
      "</html>\n",
      "\n"
     ]
    }
   ],
   "source": [
    "#Solution\n",
    "from urllib.request import urlopen\n",
    "socket = urlopen(\"file:./files/hidden.html\")\n",
    "print (socket.read().decode('latin-1'))"
   ]
  },
  {
   "cell_type": "markdown",
   "metadata": {},
   "source": [
    "... and the value?"
   ]
  },
  {
   "cell_type": "markdown",
   "metadata": {},
   "source": [
    "Problems and limitations of LXML and basic scraping techniques,\n",
    "\n",
    "     + DOM loaded content. The page finishes loading and it is being acquired when the response is closed. Any further data will be not loaded.\n",
    "     + Really broken HTML/XML\n",
    "     + Proprietary and login required can be difficult depending on the log and flow of the page.\n",
    "     + JS form interaction"
   ]
  },
  {
   "cell_type": "markdown",
   "metadata": {},
   "source": [
    "# 4 Advanced scraping using automation tools\n",
    "\n",
    "We see the data in our web browser but the data is not directly found in the html. However \"Data is out there\". This is due to the fact that it has been dinamically generated with a function call. Thus, we see that we have two versions of the web page. The first contains static data and function calls, the second contains static data after the interpretation of the function calls. The question now is how we can access this post interpretation data. There are many different ways. One way could be opting for running our own interpreter such as node.js. Another way is to take advantage of the browser interpretation capabilities and run it as an interpreter.\n",
    "\n",
    "Automation tools such as mechanize or selenium are suites with the goal of testing web interfaces automatically from scripts. They allow to start a browser and interact with the web page in the same way a human user would do. We can use these tools for our scraping purposes.\n"
   ]
  },
  {
   "cell_type": "markdown",
   "metadata": {},
   "source": [
    "## The Cepstral demo and our new goal.\n",
    "<small>An updated version of the case study of Asheesh Laroia (PaulProtheus at Github)</small>\n",
    "\n",
    "Our new goal is to deal with dynamically generated data. Our goal is to be able to perform a web scraping as the following case. Cepstral is a text-to-speech provider. Let us check the web page.\n",
    "\n",
    "We will need to download geckodriver for Firefox to work \n",
    "https://github.com/mozilla/geckodriver/releases"
   ]
  },
  {
   "cell_type": "code",
   "execution_count": 25,
   "metadata": {},
   "outputs": [
    {
     "name": "stdout",
     "output_type": "stream",
     "text": [
      "3. scraping_EEUB_student_py36-s02.ipynb geckodriver-v0.26.0-macos.tar.gz\r\n",
      "\u001b[31m3. scraping_EEUB_student_py36_s01.ipynb\u001b[m\u001b[m geckodriver.log\r\n",
      "3. scraping_solutions_py36-s02.ipynb    \u001b[31mgeckodriver_old\u001b[m\u001b[m\r\n",
      "\u001b[31m3. scraping_solutions_py36_s01.ipynb\u001b[m\u001b[m    \u001b[31mgeckodriver_old_new\u001b[m\u001b[m\r\n",
      "3. scraping_student_py36_s01.ipynb      \u001b[34mine\u001b[m\u001b[m\r\n",
      "RPA_example_UIVISION.rtf                micoleccion\r\n",
      "dict.txt                                micoleccion.pkl\r\n",
      "\u001b[34mfiles\u001b[m\u001b[m                                   \u001b[31mscraped_image.bmp\u001b[m\u001b[m\r\n",
      "\u001b[31mgeckodriver\u001b[m\u001b[m                             \u001b[34mstyles\u001b[m\u001b[m\r\n"
     ]
    }
   ],
   "source": [
    "!ls\n"
   ]
  },
  {
   "cell_type": "code",
   "execution_count": 26,
   "metadata": {
    "scrolled": false
   },
   "outputs": [
    {
     "data": {
      "text/html": [
       "<iframe src=\"http://cepstral.com\" width=700 height=350></iframe>"
      ],
      "text/plain": [
       "<IPython.core.display.HTML object>"
      ]
     },
     "execution_count": 26,
     "metadata": {},
     "output_type": "execute_result"
    }
   ],
   "source": [
    "from IPython.display import HTML\n",
    "HTML('<iframe src=\"http://cepstral.com\" width=700 height=350></iframe>')"
   ]
  },
  {
   "cell_type": "markdown",
   "metadata": {},
   "source": [
    "Our goal is to retrieve the audio file that has been played using web scraping techniques. Let us check how can we do it."
   ]
  },
  {
   "cell_type": "code",
   "execution_count": 30,
   "metadata": {},
   "outputs": [],
   "source": [
    "from selenium import webdriver\n",
    "\n",
    "browser = webdriver.Firefox(executable_path=r'./geckodriver')\n",
    "browser.get('http://seleniumhq.org/')"
   ]
  },
  {
   "cell_type": "code",
   "execution_count": 32,
   "metadata": {},
   "outputs": [
    {
     "name": "stdout",
     "output_type": "stream",
     "text": [
      "Headless Firefox Initialized\n"
     ]
    }
   ],
   "source": [
    "from selenium import webdriver\n",
    "from selenium.webdriver.firefox.options import Options\n",
    "\n",
    "options = Options()\n",
    "options.headless = True\n",
    "driver = webdriver.Firefox(options=options, executable_path=r'./geckodriver')\n",
    "driver.get(\"http://google.com/\")\n",
    "print (\"Headless Firefox Initialized\")\n",
    "driver.quit()"
   ]
  },
  {
   "cell_type": "markdown",
   "metadata": {},
   "source": [
    "Let us run the demo first with a normal browser to check what it does and then we move to a headless browser."
   ]
  },
  {
   "cell_type": "code",
   "execution_count": 34,
   "metadata": {
    "scrolled": true
   },
   "outputs": [
    {
     "name": "stdout",
     "output_type": "stream",
     "text": [
      "DONE\n"
     ]
    }
   ],
   "source": [
    "#CEPSTRAL DEMO\n",
    "%reset -f\n",
    "#!/usr/bin/python\n",
    "# -*- coding: utf-8 -*-\n",
    "\n",
    "from selenium import webdriver\n",
    "import time\n",
    "from selenium.webdriver.firefox.options import Options\n",
    "\n",
    "options = Options()\n",
    "options.headless = False\n",
    "\n",
    "url = 'http://www.cepstral.com/en/demos' #Poseu el nom de la pàgina web\n",
    "browser = webdriver.Firefox(options=options, executable_path=r'./geckodriver') #Obrir un navegador Chrome\n",
    "browser.get(url)\n",
    "element = browser.find_element_by_css_selector(\"#demo_text\")\n",
    "element.clear()\n",
    "s=' My word is Milan. But I also enjoy Roma. But this summer I will travel to Moscow'\n",
    "element.send_keys(s)\n",
    "browser.find_element_by_css_selector('#demo_submit').click()\n",
    "\n",
    "browser.implicitly_wait(30)\n",
    "browser.find_element_by_css_selector('audio')\n",
    "html=browser.page_source\n",
    "browser.quit()\n",
    "print('DONE')"
   ]
  },
  {
   "cell_type": "code",
   "execution_count": 4,
   "metadata": {},
   "outputs": [
    {
     "name": "stdout",
     "output_type": "stream",
     "text": [
      "<html class=\" js audio\"><head>\n",
      "\t\t\t\t<title>Cepstral - Demo High Quality Text to Speech Voices Full of Personality for Free</title>\n",
      "\t\t<!-- meta -->\n",
      "\t\t<meta charset=\"utf-8\"> \n",
      "\t\t<meta name=\"description\" content=\"Demo Cepstral text to speech voices for free. Discover the only text to speech provider that offers natural voices that have personality and style.\">\n",
      "\t\t<link href=\"http://www.cepstral.com/favicon.ico\" rel=\"SHORTCUT ICON\">\n",
      "\t\t<!-- stylesheets -->\n",
      "\t\t<!-- CSS -->\n",
      "\t\t\t\t\t            <link rel=\"stylesheet\" type=\"text/css\" href=\"/media/css/main.css?v=2.1.6\">\n",
      "\t    \t\t\t            <link rel=\"stylesheet\" type=\"text/css\" href=\"/media/css/std_page.css?v=2.1.6\">\n",
      "\t    \t\t\t            <link rel=\"stylesheet\" type=\"text/css\" href=\"/media/css/demos.css?v=2.1.6\">\n",
      "\t    \t\t\t            <link rel=\"stylesheet\" type=\"text/css\" href=\"/media/css/plugins/jquery-ui-1.10.0.custom.min.css?v=2.1.6\">\n",
      "\t    \t\t<!--[if lt IE 9]>\n",
      "\t\t\t<script src=\"/media/js/html5shiv.js\"></script>\n",
      "\t\t<![endif]-->\n",
      "\t</head>\n",
      "\t<body>\n",
      "\t\t<input type=\"hidden\" id=\"lang_pref\" value=\"en\">\n",
      "\t\t<div id=\"container\">\n",
      "\t\t\t<div id=\"main_wrapper\">\n",
      "\t\t\t\t<header id=\"main_header\" role=\"banner\">\n",
      "\t\t\t\t\t<div id=\"header_left\">\t\n",
      "\t\t\t\t\t\t<div id=\"main_logo\">\n",
      "\t\t\t\t\t\t\t<a href=\"/en\"><img src=\"/media/images/main/cepstral_top_logo.png\" alt=\"Cepstral - We Build Voices\" title=\"Cepstral - We Build Voices\"></a>\n",
      "\t\t\t\t\t\t</div>\n",
      "\t\t\t\t\t\t<div style=\"clear:both;\"></div>\n",
      "\t\t\t\t\t</div>\n",
      "\t\t\t\t\t<div id=\"header_right\">\n",
      "\t\t\t\t\t\t<div id=\"top_row\">\n",
      "\t\t\t\t\t\t\t<div id=\"lang_select\">\n",
      "\t\t\t\t\t\t\t\t<span class=\"lang_option\">\n",
      "\t\t\t\t\t\t\t\t\t\t\t\t\t\t\t\t\t\t\tEN\n",
      "\t\t\t\t\t\t\t\t\t\t\t\t\t\t\t\t\t</span>\n",
      "\t\t\t\t\t\t\t\t<span class=\"lang_option_separator\">\n",
      "\t\t\t\t\t\t\t\t\t|\n",
      "\t\t\t\t\t\t\t\t</span>\n",
      "\t\t\t\t\t\t\t\t<span class=\"lang_option\">\n",
      "\t\t\t\t\t\t\t\t\t\t\t\t\t\t\t\t\t\t\t<a href=\"/es/demos\">ES</a>\n",
      "\t\t\t\t\t\t\t\t\t\t\t\t\t\t\t\t\t</span>\n",
      "\t\t\t\t\t\t\t</div>\n",
      "\t\t\t\t\t\t\t<div id=\"social\">\n",
      "\t\t\t\t\t\t\t\t<a href=\"https://www.facebook.com/cepstral\"><img id=\"facebook_icon\" class=\"social_icon rollover\" src=\"/media/images/main/fb_off.png\" alt=\"Follow us on Facebook\"></a>\n",
      "\t\t\t\t\t\t\t\t<a href=\"https://www.twitter.com/cepstral_llc\"><img id=\"twitter_icon\" class=\"social_icon rollover\" src=\"/media/images/main/twitter_off.png\" alt=\"Follow us on Twitter\"></a>\n",
      "\t\t\t\t\t\t\t</div>\n",
      "\t\t\t\t\t\t</div>\n",
      "\t\t\t\t\t\t<div id=\"bottom_row\">\n",
      "\t\t\t\t\t\t\t<div id=\"address_wrapper\">\n",
      "\t\t\t\t\t\t\t\t<!--<ul>\n",
      "\t\t\t\t\t\t\t\t\t<li style=\"display:inline; margin-left:0;\">\n",
      "\t\t\t\t\t\t\t\t\t\t1801 East Carson Street\n",
      "\t\t\t\t\t\t\t\t\t</li>\n",
      "\t\t\t\t\t\t\t\t\t<li>\n",
      "\t\t\t\t\t\t\t\t\t\t2nd Floor\n",
      "\t\t\t\t\t\t\t\t\t</li>\n",
      "\t\t\t\t\t\t\t\t\t<li>\n",
      "\t\t\t\t\t\t\t\t\t\tPittsburgh, PA\n",
      "\t\t\t\t\t\t\t\t\t</li>\n",
      "\t\t\t\t\t\t\t\t\t<li>\n",
      "\t\t\t\t\t\t\t\t\t\t15203\n",
      "\t\t\t\t\t\t\t\t\t</li>\n",
      "\t\t\t\t\t\t\t\t\t<li>\n",
      "\t\t\t\t\t\t\t\t\t\t412-432-0400\n",
      "\t\t\t\t\t\t\t\t\t</li>\n",
      "\t\t\t\t\t\t\t\t</ul>-->\n",
      "\t\t\t\t\t\t\t</div>\n",
      "\t\t\t\t\t\t</div>\n",
      "\t\t\t\t\t\t<div style=\"clear:both;\"></div>\n",
      "\t\t\t\t\t</div>\n",
      "\t\t\t\t\t<div style=\"clear:both;\"></div>\n",
      "\t\t\t\t\t<div id=\"page_main_image\" class=\"image_replace\">\n",
      "\t\t\t\t\t\t<img src=\"/media/images/demos/demos_main.png\" alt=\"Choose a voice and say anything you want.\">\n",
      "\t\t\t\t\t</div>\n",
      "\t\t\t\t\t<nav id=\"main_nav\" role=\"navigation\"><!--\n",
      "\t\t\t\t\t\t--><div class=\"main_nav_item\"><a href=\"/en/demos\"><img id=\"main_nav_demo\" class=\"rollover\" src=\"/media/images/en/main/demo_off.png\" alt=\"Demos\"></a></div><!--\n",
      "\t\t\t\t\t\t--><div class=\"main_nav_item\"><a href=\"/en/personal\"><img id=\"main_nav_personal\" class=\"rollover\" src=\"/media/images/en/main/personal_off.png\" alt=\"Personal\"></a></div><!--\n",
      "\t\t\t\t\t\t--><div class=\"main_nav_item\"><a href=\"/en/telephony\"><img id=\"main_nav_telephony\" class=\"rollover\" src=\"/media/images/en/main/telephony_off.png\" alt=\"Telephony\"></a></div><!--\n",
      "\t\t\t\t\t\t--><div class=\"main_nav_item\"><a href=\"/en/products\"><img id=\"main_nav_products\" class=\"rollover\" src=\"/media/images/en/main/products_off.png\" alt=\"All Products\"></a></div><!--\n",
      "\t\t\t\t\t\t--><div class=\"main_nav_item\"><a href=\"/en/aboutus\"><img id=\"main_nav_about\" class=\"rollover\" src=\"/media/images/en/main/about_off.png\" alt=\"About Us\"></a></div><!--\n",
      "\t\t\t\t\t\t--><div class=\"main_nav_item\"><a href=\"/en/support\"><img id=\"main_nav_support\" class=\"rollover\" src=\"/media/images/en/main/support_off.png\" alt=\"Support\"></a></div><!--\n",
      "\t\t\t\t\t\t--><div class=\"main_nav_item\"><a href=\"/blog\"><img id=\"main_nav_blog\" class=\"rollover\" src=\"/media/images/en/main/blog_off.png\" alt=\"Blog\"></a></div><!--\n",
      "\t\t\t\t\t\t--><div class=\"main_nav_item\"><a href=\"https://www.cepstral.com/store\"><img id=\"main_nav_store\" class=\"rollover\" src=\"/media/images/en/main/store_off.png\" alt=\"Store\"></a></div>\n",
      "\t\t\t\t\t</nav>\n",
      "\t\t\t\t</header>\n",
      "\t\t\t\t<div id=\"content\" role=\"main\">\n",
      "\t\t\t\t\t\n",
      "\t\t\t\t\t<div id=\"page_content\">\t\n",
      "\t\t<section id=\"page_main\">\n",
      "\t\t\t<div id=\"page_icon\">\n",
      "\t\t\t\t<h1><img src=\"/media/images/demos/demos_header.png\" alt=\"Text-to-Speech Software for Medical, Alert, Educational, and Mobile Applications\"></h1>\n",
      "\t\t\t</div>\n",
      "\t\t\t\t\t\t<nav class=\"header_subnav\">\n",
      "\t\t\t\t<div class=\"subnav_item_wrapper\">\n",
      "\t\t\t\t\t<a href=\"/\">Home</a>&nbsp;→&nbsp;\n",
      "\t\t\t\t</div>\n",
      "\t\t\t\t\t\t\t\t\t\t\t\t\t\t\t\t\t\t\t\t\t\t\t\t\t\t\t\t\t\t\t\t\t<div class=\"subnav_item_wrapper\">\t\n",
      "\t\t\t\t\t\t\t\tDemos\t\t\t\t\t\t\t</div>\n",
      "\t\t\t\t\t\t\t\t\t\t</nav>\t\t\t<article class=\"std_page_content\">\n",
      "\t\t\t\t<p>\n",
      "\t\t\t\t\tCepstral Voices can speak any text they are given with whatever voice you choose. Try out a sample of some of the voices that we currently have available. We are building new synthetic voices for Text-to-Speech (TTS) every day, and we can find or build the right one for any application.\n",
      "\t\t\t\t</p>\n",
      "\t\t\t\t<p>\n",
      "\t\t\t\t\tThis demo is made available for non-commercial demonstration purposes only.\n",
      "\t\t\t\t</p>\n",
      "                <p>\n",
      "                    Please note that mobile users may need to start the audio with the media player that will appear below the demo form.\n",
      "                </p>\n",
      "\t\t\t\t<div id=\"demo\">\n",
      "\t\t\t\t\t<div id=\"left_col\" class=\"demo_col\">\n",
      "\t\t\t\t\t\t<div class=\"header\">\n",
      "\t\t\t\t\t\t\tDemo Text\n",
      "\t\t\t\t\t\t</div>\n",
      "\t\t\t\t\t\t<div class=\"demo_content\">\n",
      "\t\t\t\t\t\t\t<textarea id=\"demo_text\" style=\"\">My name is Allison, and my voice is excellent for use over the phone.</textarea>\n",
      "\t\t\t\t\t\t</div>\n",
      "\t\t\t\t\t</div>\n",
      "\t\t\t\t\t<div id=\"right_col\" class=\"demo_col\">\n",
      "\t\t\t\t\t\t<div class=\"header\">\n",
      "\t\t\t\t\t\t\tOptions\n",
      "\t\t\t\t\t\t</div>\n",
      "\t\t\t\t\t\t<div class=\"demo_option\">\n",
      "\t\t\t\t\t\t\t<label>\n",
      "\t\t\t\t\t\t\t\t<input type=\"radio\" name=\"voice_type\" value=\"personal\">Personal\n",
      "\t\t\t\t\t\t\t</label>\n",
      "\t\t\t\t\t\t\t<label>\n",
      "\t\t\t\t\t\t\t\t<input type=\"radio\" name=\"voice_type\" value=\"telephony\" checked=\"checked\">Telephony (8-kHz)\n",
      "\t\t\t\t\t\t\t</label>\n",
      "\t\t\t\t\t\t</div>\n",
      "\t\t\t\t\t\t<div class=\"demo_option\" id=\"voice_select\"><label>Voice:<select id=\"voice_select\"><option value=\"divider\" class=\"center\">----(US English)----</option><option selected=\"selected\" value=\"Allison\">Allison</option><option value=\"Amy\">Amy</option><option value=\"Belle\">Belle</option><option value=\"Callie\">Callie</option><option value=\"Charlie\">Charlie</option><option value=\"Dallas\">Dallas</option><option value=\"Damien\">Damien</option><option value=\"David\">David</option><option value=\"Diane\">Diane</option><option value=\"Duchess\">Duchess</option><option value=\"Duncan\">Duncan</option><option value=\"Emily\">Emily</option><option value=\"Linda\">Linda</option><option value=\"Robin\">Robin</option><option value=\"Shouty\">Shouty</option><option value=\"Walter\">Walter</option><option value=\"William\">William</option><option value=\"Whispery\">Whispery</option><option value=\"divider\" class=\"center\">----(UK English)----</option><option value=\"Lawrence\">Lawrence</option><option value=\"Millie\">Millie</option><option value=\"divider\" class=\"center\">----(Italian)----</option><option value=\"Vittoria\">Vittoria</option><option value=\"divider\" class=\"center\">----(German)----</option><option value=\"Katrin\">Katrin</option><option value=\"Matthias\">Matthias</option><option value=\"divider\" class=\"center\">--(Canadian French)--</option><option value=\"Isabelle\">Isabelle</option><option value=\"Jean-Pierre\">Jean-Pierre</option><option value=\"divider\" class=\"center\">--(Americas Spanish)--</option><option value=\"Alejandra\">Alejandra</option><option value=\"Miguel\">Miguel</option></select></label></div>\n",
      "\t\t\t\t\t\t<div class=\"demo_option\">\n",
      "\t\t\t\t\t\t\t<label>\n",
      "\t\t\t\t\t\t\t\tRate:\n",
      "\t\t\t\t\t\t\t\t<select id=\"rate\">\n",
      "\t\t\t\t\t\t\t\t\t<option value=\"320\">Fastest</option>\n",
      "\t\t\t\t\t\t\t\t\t<option value=\"260\">Faster</option>\n",
      "\t\t\t\t\t\t\t\t\t<option value=\"200\">Fast</option>\n",
      "\t\t\t\t\t\t\t\t\t<option selected=\"selected\" value=\"170\">Default</option>\n",
      "\t\t\t\t\t\t\t\t\t<option value=\"130\">Slow</option>\n",
      "\t\t\t\t\t\t\t\t\t<option value=\"110\">Slower</option>\n",
      "\t\t\t\t\t\t\t\t\t<option value=\"80\">Slowest</option>\n",
      "\t\t\t\t\t\t\t\t</select>\n",
      "\t\t\t\t\t\t\t</label>\n",
      "\t\t\t\t\t\t</div>\n",
      "\t\t\t\t\t\t<div class=\"demo_option\">\n",
      "\t\t\t\t\t\t\t<label>\n",
      "\t\t\t\t\t\t\t\tPitch: \n",
      "\t\t\t\t\t\t\t\t<select id=\"pitch\">\n",
      "\t\t\t\t\t\t\t\t\t<option value=\"4.2\">Highest</option>\n",
      "\t\t\t\t\t\t\t\t\t<option value=\"3\">Higher</option>\n",
      "\t\t\t\t\t\t\t\t\t<option value=\"2\">High</option>\n",
      "\t\t\t\t\t\t\t\t\t<option selected=\"\" value=\"1\">Default</option>\n",
      "\t\t\t\t\t\t\t\t\t<option value=\"0.8\">Low</option>\n",
      "\t\t\t\t\t\t\t\t\t<option value=\"0.6\">Lower</option>\n",
      "\t\t\t\t\t\t\t\t\t<option value=\"0.4\">Lowest</option>\n",
      "\t\t\t\t\t\t\t\t</select>\n",
      "\t\t\t\t\t\t\t</label>\n",
      "\t\t\t\t\t\t</div>\n",
      "\t\t\t\t\t\t<div class=\"demo_option\">\n",
      "\t\t\t\t\t\t\t<label>\n",
      "\t\t\t\t\t\t\t\tEffect: \n",
      "\t\t\t\t\t\t\t\t<select id=\"effect\">\n",
      "\t\t\t\t\t\t\t\t\t<option value=\"none\">None</option>\n",
      "\t\t\t\t\t\t\t\t\t<option value=\"dizzy_droid.sfx\">Dizzy Droid</option>\n",
      "\t\t\t\t\t\t\t\t\t<option value=\"liquid_love.sfx\">Liquid Love</option>\n",
      "\t\t\t\t\t\t\t\t\t<option value=\"old_robot.sfx\">Old Robot</option>\n",
      "\t\t\t\t\t\t\t\t\t<option value=\"pvc_pipe.sfx\">PVC Pipe</option>\n",
      "\t\t\t\t\t\t\t\t\t<option value=\"spacetime_echo.sfx\">Spacetime Echo</option>\n",
      "\t\t\t\t\t\t\t\t\t<option value=\"split_personality.sfx\">Split Personality</option>\n",
      "\t\t\t\t\t\t\t\t</select>\n",
      "\t\t\t\t\t\t\t</label>\n",
      "\t\t\t\t\t\t</div>\n",
      "\t\t\t\t\t\t<div id=\"demo_buttons\">\n",
      "\t\t\t\t\t\t\t<button id=\"demo_submit\" style=\"\" disabled=\"disabled\"><img src=\"/media/images/ajax_loader.gif\"></button>\n",
      "\t\t\t\t\t\t</div>\n",
      "\t\t\t\t\t</div>\n",
      "\t\t\t\t\t<div style=\"clear:both;\"></div>\n",
      "\t\t\t\t</div>\n",
      "\t\t\t\t<div id=\"demo_output\"><audio id=\"demo_audio\" controls=\"controls\" onloadeddata=\"/*Hack for Safari on Mountain Lion*/setTimeout(audioDone, 1000);\"><source src=\"/demos/audio/keu80uvi8nohqaeiu9dsil5kd1.1572197136879.mp3\" type=\"audio/mpeg\"></audio></div>\n",
      "\t\t\t\t<p>\n",
      "\t\t\t\t\t<strong>This service provided for demonstration and evaluation purposes only. No additional rights to use or distribute audio are provided. All submissions are logged.</strong>\n",
      "\t\t\t\t</p>\n",
      "\t\t\t\t<p>\n",
      "\t\t\t\t\tInterested in hearing some character voices, or using Cepstral TTS as a web service? Check us out on <a href=\"http://www.voiceforge.com/\">VoiceForge</a> to learn more.\n",
      "\t\t\t\t</p>\n",
      "\t\t\t</article>\n",
      "\t\t</section>\n",
      "\t</div>\n",
      "\t<script type=\"text/javascript\" async=\"\" src=\"https://ssl.google-analytics.com/ga.js\"></script><script type=\"text/javascript\" src=\"/media/sound_manager/script/soundmanager2-nodebug-jsmin.js\"></script>\n",
      "\t\t\t\t<!-- Begin Footer -->\n",
      "\t\t\t\t<script src=\"https://googleads.g.doubleclick.net/pagead/viewthroughconversion/1033862995/?random=1572197136418&amp;cv=9&amp;fst=1572197136418&amp;num=1&amp;guid=ON&amp;resp=GooglemKTybQhCsO&amp;u_h=900&amp;u_w=1440&amp;u_ah=812&amp;u_aw=1440&amp;u_cd=24&amp;u_his=1&amp;u_tz=60&amp;u_java=false&amp;u_nplug=0&amp;u_nmime=0&amp;sendb=1&amp;ig=1&amp;frm=0&amp;url=https%3A%2F%2Fwww.cepstral.com%2Fen%2Fdemos&amp;tiba=Cepstral%20-%20Demo%20High%20Quality%20Text%20to%20Speech%20Voices%20Full%20of%20Personality%20for%20Free&amp;rfmt=3&amp;fmt=4\"></script></div>\n",
      "\t\t\t\t<footer id=\"main_footer\" role=\"contentinfo\">\n",
      "\t\t\t\t\t<div>\n",
      "\t\t\t\t\t\t<div class=\"footer_div\">\n",
      "\t\t\t\t\t\t\t<a class=\"footer_link\" href=\"/\">Home</a>\n",
      "\t\t\t\t\t\t</div>\n",
      "\t\t\t\t\t\t<div class=\"footer_div\">\n",
      "\t\t\t\t\t\t\t<a class=\"footer_link\" href=\"/en/personal\">Personal</a>\n",
      "\t\t\t\t\t\t</div>\n",
      "\t\t\t\t\t\t<div class=\"footer_div\">\n",
      "\t\t\t\t\t\t\t<a class=\"footer_link\" href=\"/en/telephony\">Telephony</a>\n",
      "\t\t\t\t\t\t</div>\n",
      "\t\t\t\t\t\t<div class=\"footer_div\">\n",
      "\t\t\t\t\t\t\t<a class=\"footer_link\" href=\"/en/products\">All Products</a>\n",
      "\t\t\t\t\t\t</div>\n",
      "\t\t\t\t\t\t<div class=\"footer_div\">\n",
      "\t\t\t\t\t\t\t<a class=\"footer_link\" href=\"/en/aboutus\">About Us</a>\n",
      "\t\t\t\t\t\t</div>\n",
      "\t\t\t\t\t\t<div class=\"footer_div\">\n",
      "\t\t\t\t\t\t\t<a class=\"footer_link\" href=\"/en/jobs\">Jobs</a>\n",
      "\t\t\t\t\t\t</div>\n",
      "\t\t\t\t\t\t<div class=\"footer_div\">\n",
      "\t\t\t\t\t\t\t<a class=\"footer_link\" href=\"/en/support\">Support</a>\n",
      "\t\t\t\t\t\t</div>\n",
      "\t\t\t\t\t\t<div class=\"footer_div\">\n",
      "\t\t\t\t\t\t\t<a class=\"footer_link\" href=\"https://www.cepstral.com/store/\">Store</a>\n",
      "\t\t\t\t\t\t</div>\n",
      "\t\t\t\t\t\t<div class=\"footer_div\">\n",
      "\t\t\t\t\t\t\t<a class=\"footer_link\" href=\"/en/aboutus/contacts\">Contact</a>\n",
      "\t\t\t\t\t\t</div>\n",
      "\t\t\t\t\t\t<div class=\"footer_div\">\n",
      "\t\t\t\t\t\t\t<span id=\"footer_copyright\">© 2015 Cepstral LLC All Rights Reserved</span>\n",
      "\t\t\t\t\t\t</div>\n",
      "\t\t\t\t\t\t<div class=\"footer_div\">\n",
      "\t\t\t\t\t\t\t<a class=\"footer_link\" href=\"/privacy\">Privacy Policy</a>\n",
      "\t\t\t\t\t\t</div>\n",
      "\t\t\t\t\t</div>\n",
      "\t\t\t\t\t<!--\n",
      "\t\t\t\t\t<div id=\"trademark_text\">\n",
      "\t\t\t\t\t\tCepstral, We Build Voices, VoiceForge, We Make the Internet Talk, and the “blue square” logo are Registered Trademarks of Cepstral, LLC.\n",
      "\t\t\t\t\t</div>\n",
      "\t\t\t\t\t-->\n",
      "\t\t\t\t</footer>\n",
      "\t\t\t\t<div id=\"popup\">\n",
      "\t\t\t\t\t<div id=\"content_wrapper\">\n",
      "\t\t\t\t\t\t\n",
      "\t\t\t\t\t</div>\n",
      "\t\t\t\t\t<div style=\"clear:both;\"></div>\n",
      "\t\t\t\t</div>\n",
      "\t\t\t</div>\n",
      "\t\t</div>\n",
      "\t\t<!-- scripts -->\n",
      "\t\t<script type=\"text/javascript\" src=\"//ajax.googleapis.com/ajax/libs/jquery/1.9.1/jquery.min.js\"></script>\n",
      "\t\t<!-- JQuery UI -->\n",
      "\t\t<script type=\"text/javascript\" src=\"//ajax.googleapis.com/ajax/libs/jqueryui/1.9.2/jquery-ui.min.js\"></script>\n",
      "\t\t<!-- Google Analytics-->\n",
      "\t\t<script type=\"text/javascript\">\n",
      "\n",
      "\t\t\tvar _gaq = _gaq || [];\n",
      "\t\t\t_gaq.push(['_setAccount', 'UA-2269415-1']);\n",
      "\t\t\t_gaq.push(['_trackPageview']);\n",
      "\n",
      "\t\t\t(function() {\n",
      "\t\t\tvar ga = document.createElement('script'); ga.type = 'text/javascript'; ga.async = true;\n",
      "\t\t\tga.src = ('https:' == document.location.protocol ? 'https://ssl' : 'http://www') + '.google-analytics.com/ga.js';\n",
      "\t\t\tvar s = document.getElementsByTagName('script')[0]; s.parentNode.insertBefore(ga, s);\n",
      "\t\t\t})();\n",
      "\n",
      "\t\t</script>\n",
      "\t\t<!-- Modernizr -->\n",
      "\t\t<script type=\"text/javascript\" src=\"/media/js/modernizr.js\"></script>\n",
      "\t\t\t\t\t\t\t<script type=\"text/javascript\" src=\"/media/js/main.js?v=2.1.6\"></script>\n",
      "\t\t\t\t\t<script type=\"text/javascript\" src=\"/media/js/demos.js?v=2.1.6\"></script>\n",
      "\t\t\n",
      "\n",
      "\n",
      "  <script type=\"text/javascript\">\n",
      "\n",
      "    /* <![CDATA[ */\n",
      "\n",
      "    var google_conversion_id = 1033862995;\n",
      "\n",
      "    var google_custom_params = window.google_tag_params;\n",
      "\n",
      "    var google_remarketing_only = true;\n",
      "\n",
      "    /* ]]> */\n",
      "\n",
      "    </script>\n",
      "\n",
      "    <script type=\"text/javascript\" src=\"//www.googleadservices.com/pagead/conversion.js\">\n",
      "\n",
      "    </script>\n",
      "\n",
      "    <noscript>\n",
      "\n",
      "    <div style=\"display:inline;\">\n",
      "\n",
      "    <img height=\"1\" width=\"1\" style=\"border-style:none;\" alt=\"\" src=\"//googleads.g.doubleclick.net/pagead/viewthroughconversion/1033862995/?value=0&amp;guid=ON&amp;script=0\"/>\n",
      "\n",
      "    </div>\n",
      "\n",
      "  </noscript>\n",
      "\n",
      "\n",
      "\t\n",
      "\n",
      "</body></html>\n"
     ]
    }
   ],
   "source": [
    "print (html)\n"
   ]
  },
  {
   "cell_type": "code",
   "execution_count": 35,
   "metadata": {},
   "outputs": [
    {
     "data": {
      "text/plain": [
       "True"
      ]
     },
     "execution_count": 35,
     "metadata": {},
     "output_type": "execute_result"
    }
   ],
   "source": [
    "#Check the data is in\n",
    "'.mp3' in html\n"
   ]
  },
  {
   "cell_type": "code",
   "execution_count": 36,
   "metadata": {},
   "outputs": [
    {
     "data": {
      "text/plain": [
       "9630"
      ]
     },
     "execution_count": 36,
     "metadata": {},
     "output_type": "execute_result"
    }
   ],
   "source": [
    "#locate it\n",
    "html.find('.mp3')"
   ]
  },
  {
   "cell_type": "code",
   "execution_count": 37,
   "metadata": {},
   "outputs": [],
   "source": [
    "chunks=html.split('\"')\n",
    "for chunk in chunks:\n",
    "    if '.mp3' in chunk:\n",
    "        break\n"
   ]
  },
  {
   "cell_type": "code",
   "execution_count": 38,
   "metadata": {},
   "outputs": [
    {
     "name": "stdout",
     "output_type": "stream",
     "text": [
      "/demos/audio/4ccrj0lopjvjakvcupqvfuceh3.1603364463177.mp3\n"
     ]
    }
   ],
   "source": [
    "print (chunk)"
   ]
  },
  {
   "cell_type": "code",
   "execution_count": 39,
   "metadata": {},
   "outputs": [
    {
     "name": "stdout",
     "output_type": "stream",
     "text": [
      "http://www.cepstral.com/demos/audio/4ccrj0lopjvjakvcupqvfuceh3.1603364463177.mp3\n"
     ]
    }
   ],
   "source": [
    "import urllib\n",
    "furl=urllib.parse.urljoin(url,chunk)\n",
    "print (furl)"
   ]
  },
  {
   "cell_type": "code",
   "execution_count": 40,
   "metadata": {},
   "outputs": [
    {
     "data": {
      "text/plain": [
       "0"
      ]
     },
     "execution_count": 40,
     "metadata": {},
     "output_type": "execute_result"
    }
   ],
   "source": [
    "import os\n",
    "\n",
    "player = \"/Applications/VLC.app/Contents/MacOS/VLC \" \n",
    "\n",
    "##Replace with media player with your own player \n",
    "os.system(player+furl)\n"
   ]
  },
  {
   "cell_type": "markdown",
   "metadata": {},
   "source": [
    "## 4.1 Starting with Selenium \n",
    "\n",
    "+ Requirements\n",
    "        ''pip install selenium''\n",
    "        \n",
    "If you use Firefox you do not need anything else. Check the following code and it should work fine.\n",
    "\n",
    "We will need to download geckodriver for Firefox to work \n",
    "https://github.com/mozilla/geckodriver/releases\n"
   ]
  },
  {
   "cell_type": "code",
   "execution_count": 41,
   "metadata": {},
   "outputs": [],
   "source": [
    "from selenium import webdriver\n",
    "browser = webdriver.Firefox()"
   ]
  },
  {
   "cell_type": "markdown",
   "metadata": {},
   "source": [
    "<div class = \"alert alert-info\" style = \"border-radius:10px;border-width:3px;border-color:darkblue;font-family:Verdana,sans-serif;font-size:16px;\">**Basic manipulation in Selenium:**\n",
    "<p>\n",
    "A webdriver instance allows to manipulate the web session, control cookies, retrieve the html code or find elements in the source code.\n",
    "</p>\n",
    "Given a webdriver instance (e.g.<span style = \"font-family:Courier;\">\n",
    "            browser = webdriver.Firefox()</span>) the most relevant methods\n",
    "\n",
    "<ul>\n",
    "<li>**Open URL:**  .get(url) (e.g.\n",
    "<span style = \"font-family:Courier;\"> browser.get(url)</span>)</li>\n",
    "<li>**Selection: ** .find_element(s)... [element will return the first, elements the complete list]\n",
    "<ul>\n",
    "<li>..._by_link_text('foo') - find the link with text foo</li>\n",
    "<li>..._by_partial_link_text() - similar to contains ...</li>\n",
    "<li>..._by_css_selector()</li>\n",
    "<li>..._by_tag_name()</li>\n",
    "<li>..._by_xpath()</li>\n",
    "<li>..._by_class_name()</li>\n",
    "</ul>\n",
    "</li>\n",
    "<li>**Retrieve source: ** .page_source</li>\n",
    "  \n",
    "</ul>\n",
    "</div>"
   ]
  },
  {
   "cell_type": "markdown",
   "metadata": {},
   "source": [
    "<div class = \"alert alert-info\" style = \"background-color:lightyellow;border-radius:10px;border-width:3px;border-color:darkorange;font-family:Verdana,sans-serif;font-size:16px;color:brown\">**Other web driver utilities:**\n",
    "<ul>\n",
    "<li>browser.execute_script('window.close()') - execute any javascript on a load page</li>\n",
    "<li>brosers.save_screenshot('foo.png')</li>\n",
    "<li>browser.switch_to_alert(): handle pop-ups automatically</li>\n",
    "<li>browser.forward() / browser.back(): navigation</li>\n",
    "</ul>\n",
    "</div>"
   ]
  },
  {
   "cell_type": "markdown",
   "metadata": {},
   "source": [
    "<div class = \"alert alert-info\" style = \"border-radius:10px;border-width:3px;border-color:darkblue;font-family:Verdana,sans-serif;font-size:16px;\">**Element manipulation in Selenium:**\n",
    "<p>\n",
    "Consider the result of a selection, e.g. \n",
    "\n",
    "<span style = \"font-family:Courier;\">element = browser.find_element_by_css_selector('div')</span>\n",
    "\n",
    "We can do several things on it.\n",
    "<ul>\n",
    "<li>element**.click()** - click on a selected element</li>\n",
    "<li>Element properties:\n",
    "<ul>\n",
    "<li>element**.location**: x, y location</li>\n",
    "<li>element**.parent**: parent element</li>\n",
    "<li>element**.tag_name**: The tag of the element</li>\n",
    "<li>element**.text**: text of the element and childs</li>\n",
    "</ul>\n",
    "</li>\n",
    "   \n",
    "</ul>\n",
    "\n",
    "\n"
   ]
  },
  {
   "cell_type": "markdown",
   "metadata": {},
   "source": [
    "<div class = \"alert alert-success\" style = \"border-radius:10px;border-width:3px;border-color:darkgreen;font-family:Verdana,sans-serif;font-size:16px;\">**Exercise: Back to business.**\n",
    "Now we can interact with the web page, programatically.\n",
    "</div>"
   ]
  },
  {
   "cell_type": "code",
   "execution_count": 42,
   "metadata": {},
   "outputs": [],
   "source": [
    "from selenium import webdriver\n",
    "url = 'https://contrataciondelestado.es/wps/portal/licRecientes' #Poseu el nom de la pàgina web\n",
    "browser = webdriver.Firefox() #Obrir un navegador Firefox\n",
    "browser.get(url)\n",
    "\n",
    "browser.implicitly_wait(5)\n",
    "\n",
    "try:\n",
    "    element = browser.find_element_by_xpath('//*[@value=\"Next >>\"]').click()\n",
    "except:\n",
    "    print('NOT FOUND')\n",
    "    pass"
   ]
  },
  {
   "cell_type": "markdown",
   "metadata": {},
   "source": [
    "With this we are now able to scrap all contracts. Let us minimize the amount of burden and use what we know so far (even if it is not the optimal way of doing it)."
   ]
  },
  {
   "cell_type": "code",
   "execution_count": 43,
   "metadata": {},
   "outputs": [
    {
     "name": "stdout",
     "output_type": "stream",
     "text": [
      "1\n",
      "2\n",
      "3\n",
      "4\n",
      "5\n",
      "6\n",
      "7\n",
      "1\n",
      "2\n",
      "3\n",
      "4\n",
      "5\n",
      "6\n",
      "7\n",
      "1\n",
      "2\n",
      "3\n",
      "4\n",
      "5\n",
      "6\n",
      "7\n",
      "1\n",
      "2\n",
      "3\n",
      "4\n",
      "5\n",
      "6\n",
      "7\n",
      "1\n",
      "2\n",
      "3\n",
      "4\n",
      "5\n",
      "6\n",
      "7\n"
     ]
    },
    {
     "data": {
      "text/plain": [
       "[{'id': 1,\n",
       "  'importe': '262,000.00',\n",
       "  'categoria': 'Servicios de impresión y servicios conexos.',\n",
       "  'organo': 'Rectorado de la Universidad de Granada'},\n",
       " {'id': 2,\n",
       "  'importe': '15,798.00',\n",
       "  'categoria': 'Servicios relacionados con la contaminación del agua.',\n",
       "  'organo': 'Aena. Dirección del Aeropuerto de Fuerteventura'},\n",
       " {'id': 3,\n",
       "  'importe': '20,560.43',\n",
       "  'categoria': 'Servicios de consultoría en ingeniería civil.',\n",
       "  'organo': 'Consejería para la Transición Ecológica y Sostenibilidad'},\n",
       " {'id': 4,\n",
       "  'importe': '92,948.66',\n",
       "  'categoria': 'Equipo de salvamento y emergencia.',\n",
       "  'organo': 'Junta de Gobierno del Ayuntamiento de Ourense'},\n",
       " {'id': 5,\n",
       "  'importe': '14,507.63',\n",
       "  'categoria': 'Otros servicios.',\n",
       "  'organo': 'Aena. Dirección del Aeropuerto de Fuerteventura'},\n",
       " {'id': 6,\n",
       "  'importe': '60,000.00',\n",
       "  'categoria': 'Equipo de laboratorio, óptico y de precisión (excepto gafas).',\n",
       "  'organo': 'Rector de la Universidad Carlos III de Madrid'},\n",
       " {'id': 7,\n",
       "  'importe': '60,000.00',\n",
       "  'categoria': 'Equipo de laboratorio, óptico y de precisión (excepto gafas).',\n",
       "  'organo': 'Rector de la Universidad Carlos III de Madrid'},\n",
       " {'id': 8,\n",
       "  'importe': '10,468.49',\n",
       "  'categoria': 'Ropa de protección y de seguridad.',\n",
       "  'organo': 'Sección de Asuntos Económicos del Parque y Centro de Mantenimiento de Sistemas Acorazados 2'},\n",
       " {'id': 9,\n",
       "  'importe': '40,563.18',\n",
       "  'categoria': 'Servicios de enseñanza y formación.',\n",
       "  'organo': 'Junta de Gobierno del Ayuntamiento de Colindres'},\n",
       " {'id': 10,\n",
       "  'importe': '47,022.32',\n",
       "  'categoria': 'Transporte de correspondencia por carretera.',\n",
       "  'organo': 'TGSS-Dirección provincial de Asturias'},\n",
       " {'id': 11,\n",
       "  'importe': '52,500.00',\n",
       "  'categoria': 'Servicios de venta de terrenos desocupados.',\n",
       "  'organo': 'Junta de Gobierno del Ayuntamiento de Talamanca de Jarama'},\n",
       " {'id': 12,\n",
       "  'importe': '1,000.00',\n",
       "  'categoria': 'Servicios de remolque de vehículos.',\n",
       "  'organo': 'Aena. Dirección del Aeropuerto de Fuerteventura'},\n",
       " {'id': 13,\n",
       "  'importe': '21,296.18',\n",
       "  'categoria': 'Servicios de limpieza de edificios.',\n",
       "  'organo': 'Diputació de Barcelona'},\n",
       " {'id': 14,\n",
       "  'importe': '321,155.05',\n",
       "  'categoria': 'Máquinas, aparatos, equipo y productos consumibles eléctricos; iluminación.',\n",
       "  'organo': 'Ajuntament de Sant Pere de Ribes'},\n",
       " {'id': 15,\n",
       "  'importe': '1,545.00',\n",
       "  'categoria': 'Obras de saneamiento.',\n",
       "  'organo': 'Mancomunitat Intermunicipal del Penedès i Garraf'},\n",
       " {'id': 16,\n",
       "  'importe': '620.00',\n",
       "  'categoria': 'Servicios de tala de árboles.',\n",
       "  'organo': 'Mancomunitat Intermunicipal del Penedès i Garraf'},\n",
       " {'id': 17,\n",
       "  'importe': '47,000.00',\n",
       "  'categoria': 'Servicios de seguros de daños.',\n",
       "  'organo': 'Fundació del Gran Teatre del Liceu'},\n",
       " {'id': 18,\n",
       "  'importe': '99,000.00',\n",
       "  'categoria': 'Servicios de análisis médicos.',\n",
       "  'organo': 'Directora General de EITB'},\n",
       " {'id': 19,\n",
       "  'importe': '24,000.00',\n",
       "  'categoria': 'Servicios informáticos.',\n",
       "  'organo': 'Consejo de Administración'},\n",
       " {'id': 20,\n",
       "  'importe': '500.00',\n",
       "  'categoria': 'Banderas.',\n",
       "  'organo': 'Aena. Dirección del Aeropuerto de Fuerteventura'},\n",
       " {'id': 21,\n",
       "  'importe': '6,750.00',\n",
       "  'categoria': 'Servicios de salud.',\n",
       "  'organo': 'Director Gerente de Mutua Intercomarcal MATEPSS Nº 39'},\n",
       " {'id': 22,\n",
       "  'importe': '468,133.64',\n",
       "  'categoria': 'Trabajos de construcción especializados diversos.',\n",
       "  'organo': 'Dirección de la Empresa Municipal de Cementerios y Servicios Funerarios de Granada SA (EMUCESA)'},\n",
       " {'id': 23,\n",
       "  'importe': '97,395.09',\n",
       "  'categoria': 'Material de iluminación y lámparas eléctricas.',\n",
       "  'organo': 'Pleno del Ayuntamiento de Amieva'},\n",
       " {'id': 24,\n",
       "  'importe': '34,247.92',\n",
       "  'categoria': 'Servicios de seguros médicos.',\n",
       "  'organo': 'Presidencia del Consorcio para el Abastecimiento de Aguas y Saneamientos de la Marina Baja'},\n",
       " {'id': 25,\n",
       "  'importe': '50,000.00',\n",
       "  'categoria': 'Servicios de Internet.',\n",
       "  'organo': 'Aena. Dirección de Contratación'},\n",
       " {'id': 26,\n",
       "  'importe': '349,435.18',\n",
       "  'categoria': 'Servicios de guardias de seguridad.',\n",
       "  'organo': 'Delegación del Gobierno en Cataluña'},\n",
       " {'id': 27,\n",
       "  'importe': '192,673.45',\n",
       "  'categoria': 'Trabajos de pavimentación de carreteras.',\n",
       "  'organo': 'Junta de Gobierno del Ayuntamiento de Navacerrada'},\n",
       " {'id': 28,\n",
       "  'importe': '154,000.00',\n",
       "  'categoria': 'Equipo individual y de apoyo.',\n",
       "  'organo': 'Gerencia de Fraternidad Muprespa - Mútua Colaboradora con la Seguridad Social nº 275'},\n",
       " {'id': 29,\n",
       "  'importe': '1,636,702.41',\n",
       "  'categoria': 'Trabajos de construcción de zonas de estacionamiento de aeronaves.',\n",
       "  'organo': 'Aena. Dirección de Contratación'},\n",
       " {'id': 30,\n",
       "  'importe': '89,256.20',\n",
       "  'categoria': 'Maquinaria agrícola.',\n",
       "  'organo': 'Presidencia de la Diputación Provincial de Huelva'}]"
      ]
     },
     "execution_count": 43,
     "metadata": {},
     "output_type": "execute_result"
    }
   ],
   "source": [
    "from lxml import etree\n",
    "import urllib.request\n",
    "from selenium import webdriver\n",
    "\n",
    "\n",
    "url = 'https://contrataciondelestado.es/wps/portal/licRecientes' #Poseu el nom de la pàgina web\n",
    "browser = webdriver.Firefox() #Obrir un navegador Firefox\n",
    "browser.get(url)\n",
    "\n",
    "browser.implicitly_wait(5)\n",
    "\n",
    "i=1\n",
    "col = []\n",
    "for page in range(5):\n",
    "    fin=False\n",
    "    html_source = browser.page_source\n",
    "    tree = etree.HTML(html_source)\n",
    "    itemN=1\n",
    "    while not(fin):\n",
    "        doc={}\n",
    "        try:\n",
    "            doc['id']=i\n",
    "            print(itemN)\n",
    "            query='//*[@id=\"ab_hprecio'+str(itemN)+'\"]//parent::tr/td[2]/span/text()'\n",
    "            value = tree.xpath(query)\n",
    "            doc['importe']=value[0]\n",
    "            query='//*[@id=\"ab_hcategoria'+str(itemN)+'\"]//parent::tr/td[2]/span/text()'\n",
    "            value = tree.xpath(query)\n",
    "            doc['categoria']=value[0]\n",
    "            query='//*[@id=\"ab_hocontratacion'+str(itemN)+'\"]//parent::tr/td[2]/span/text()'\n",
    "            value = tree.xpath(query)\n",
    "            doc['organo']=value[0]\n",
    "            i=i+1\n",
    "            itemN=itemN+1\n",
    "            col.append(doc)\n",
    "        except IndexError:\n",
    "            fin=True\n",
    "    try:\n",
    "        element = browser.find_element_by_xpath('//*[@value=\"Next >>\"]').click()\n",
    "    except:\n",
    "        print('NOT FOUND')\n",
    "        pass\n",
    "\n",
    "col"
   ]
  },
  {
   "cell_type": "code",
   "execution_count": 44,
   "metadata": {},
   "outputs": [
    {
     "data": {
      "text/plain": [
       "[{'id': 1,\n",
       "  'importe': '262,000.00',\n",
       "  'categoria': 'Servicios de impresión y servicios conexos.',\n",
       "  'organo': 'Rectorado de la Universidad de Granada'},\n",
       " {'id': 2,\n",
       "  'importe': '15,798.00',\n",
       "  'categoria': 'Servicios relacionados con la contaminación del agua.',\n",
       "  'organo': 'Aena. Dirección del Aeropuerto de Fuerteventura'},\n",
       " {'id': 3,\n",
       "  'importe': '20,560.43',\n",
       "  'categoria': 'Servicios de consultoría en ingeniería civil.',\n",
       "  'organo': 'Consejería para la Transición Ecológica y Sostenibilidad'},\n",
       " {'id': 4,\n",
       "  'importe': '92,948.66',\n",
       "  'categoria': 'Equipo de salvamento y emergencia.',\n",
       "  'organo': 'Junta de Gobierno del Ayuntamiento de Ourense'},\n",
       " {'id': 5,\n",
       "  'importe': '14,507.63',\n",
       "  'categoria': 'Otros servicios.',\n",
       "  'organo': 'Aena. Dirección del Aeropuerto de Fuerteventura'},\n",
       " {'id': 6,\n",
       "  'importe': '60,000.00',\n",
       "  'categoria': 'Equipo de laboratorio, óptico y de precisión (excepto gafas).',\n",
       "  'organo': 'Rector de la Universidad Carlos III de Madrid'},\n",
       " {'id': 7,\n",
       "  'importe': '60,000.00',\n",
       "  'categoria': 'Equipo de laboratorio, óptico y de precisión (excepto gafas).',\n",
       "  'organo': 'Rector de la Universidad Carlos III de Madrid'},\n",
       " {'id': 8,\n",
       "  'importe': '10,468.49',\n",
       "  'categoria': 'Ropa de protección y de seguridad.',\n",
       "  'organo': 'Sección de Asuntos Económicos del Parque y Centro de Mantenimiento de Sistemas Acorazados 2'},\n",
       " {'id': 9,\n",
       "  'importe': '40,563.18',\n",
       "  'categoria': 'Servicios de enseñanza y formación.',\n",
       "  'organo': 'Junta de Gobierno del Ayuntamiento de Colindres'},\n",
       " {'id': 10,\n",
       "  'importe': '47,022.32',\n",
       "  'categoria': 'Transporte de correspondencia por carretera.',\n",
       "  'organo': 'TGSS-Dirección provincial de Asturias'},\n",
       " {'id': 11,\n",
       "  'importe': '52,500.00',\n",
       "  'categoria': 'Servicios de venta de terrenos desocupados.',\n",
       "  'organo': 'Junta de Gobierno del Ayuntamiento de Talamanca de Jarama'},\n",
       " {'id': 12,\n",
       "  'importe': '1,000.00',\n",
       "  'categoria': 'Servicios de remolque de vehículos.',\n",
       "  'organo': 'Aena. Dirección del Aeropuerto de Fuerteventura'},\n",
       " {'id': 13,\n",
       "  'importe': '21,296.18',\n",
       "  'categoria': 'Servicios de limpieza de edificios.',\n",
       "  'organo': 'Diputació de Barcelona'},\n",
       " {'id': 14,\n",
       "  'importe': '321,155.05',\n",
       "  'categoria': 'Máquinas, aparatos, equipo y productos consumibles eléctricos; iluminación.',\n",
       "  'organo': 'Ajuntament de Sant Pere de Ribes'},\n",
       " {'id': 15,\n",
       "  'importe': '1,545.00',\n",
       "  'categoria': 'Obras de saneamiento.',\n",
       "  'organo': 'Mancomunitat Intermunicipal del Penedès i Garraf'},\n",
       " {'id': 16,\n",
       "  'importe': '620.00',\n",
       "  'categoria': 'Servicios de tala de árboles.',\n",
       "  'organo': 'Mancomunitat Intermunicipal del Penedès i Garraf'},\n",
       " {'id': 17,\n",
       "  'importe': '47,000.00',\n",
       "  'categoria': 'Servicios de seguros de daños.',\n",
       "  'organo': 'Fundació del Gran Teatre del Liceu'},\n",
       " {'id': 18,\n",
       "  'importe': '99,000.00',\n",
       "  'categoria': 'Servicios de análisis médicos.',\n",
       "  'organo': 'Directora General de EITB'},\n",
       " {'id': 19,\n",
       "  'importe': '24,000.00',\n",
       "  'categoria': 'Servicios informáticos.',\n",
       "  'organo': 'Consejo de Administración'},\n",
       " {'id': 20,\n",
       "  'importe': '500.00',\n",
       "  'categoria': 'Banderas.',\n",
       "  'organo': 'Aena. Dirección del Aeropuerto de Fuerteventura'},\n",
       " {'id': 21,\n",
       "  'importe': '6,750.00',\n",
       "  'categoria': 'Servicios de salud.',\n",
       "  'organo': 'Director Gerente de Mutua Intercomarcal MATEPSS Nº 39'},\n",
       " {'id': 22,\n",
       "  'importe': '468,133.64',\n",
       "  'categoria': 'Trabajos de construcción especializados diversos.',\n",
       "  'organo': 'Dirección de la Empresa Municipal de Cementerios y Servicios Funerarios de Granada SA (EMUCESA)'},\n",
       " {'id': 23,\n",
       "  'importe': '97,395.09',\n",
       "  'categoria': 'Material de iluminación y lámparas eléctricas.',\n",
       "  'organo': 'Pleno del Ayuntamiento de Amieva'},\n",
       " {'id': 24,\n",
       "  'importe': '34,247.92',\n",
       "  'categoria': 'Servicios de seguros médicos.',\n",
       "  'organo': 'Presidencia del Consorcio para el Abastecimiento de Aguas y Saneamientos de la Marina Baja'},\n",
       " {'id': 25,\n",
       "  'importe': '50,000.00',\n",
       "  'categoria': 'Servicios de Internet.',\n",
       "  'organo': 'Aena. Dirección de Contratación'},\n",
       " {'id': 26,\n",
       "  'importe': '349,435.18',\n",
       "  'categoria': 'Servicios de guardias de seguridad.',\n",
       "  'organo': 'Delegación del Gobierno en Cataluña'},\n",
       " {'id': 27,\n",
       "  'importe': '192,673.45',\n",
       "  'categoria': 'Trabajos de pavimentación de carreteras.',\n",
       "  'organo': 'Junta de Gobierno del Ayuntamiento de Navacerrada'},\n",
       " {'id': 28,\n",
       "  'importe': '154,000.00',\n",
       "  'categoria': 'Equipo individual y de apoyo.',\n",
       "  'organo': 'Gerencia de Fraternidad Muprespa - Mútua Colaboradora con la Seguridad Social nº 275'},\n",
       " {'id': 29,\n",
       "  'importe': '1,636,702.41',\n",
       "  'categoria': 'Trabajos de construcción de zonas de estacionamiento de aeronaves.',\n",
       "  'organo': 'Aena. Dirección de Contratación'},\n",
       " {'id': 30,\n",
       "  'importe': '89,256.20',\n",
       "  'categoria': 'Maquinaria agrícola.',\n",
       "  'organo': 'Presidencia de la Diputación Provincial de Huelva'}]"
      ]
     },
     "execution_count": 44,
     "metadata": {},
     "output_type": "execute_result"
    }
   ],
   "source": [
    "col"
   ]
  },
  {
   "cell_type": "markdown",
   "metadata": {},
   "source": [
    "<div class = \"alert alert-success\" style = \"border-radius:10px;border-width:3px;border-color:darkgreen;font-family:Verdana,sans-serif;font-size:16px;\">\n",
    "**A more elaborate exercise:** We will end this section using a web application. As expected the answer to a web application is a dynamic source that depends on the inputs. Thus, we change a little our little problem and go for the search engine in the same portal.\n",
    "</div>"
   ]
  },
  {
   "cell_type": "markdown",
   "metadata": {},
   "source": [
    "<div class = \"alert alert-info\" style = \"border-radius:10px;border-width:3px;border-color:darkblue;font-family:Verdana,sans-serif;font-size:16px;\">**Form input with Selenium:**\n",
    "<ul>\n",
    "<li> element**.send_keys()** - Keys, commands, arrows, etc </li>\n",
    "<li> element**.clear()** - clear the element</li>\n",
    "</ul>\n",
    "<p>\n",
    "\n",
    "**Example.**\n",
    "\n",
    "<p style=\"font-family:Courier;\">\n",
    "from selenium.webdriver.common.keys import Keys\n",
    "<br>input.send_keys('Ip Man',Keys.RETURN)\n",
    "</p>\n",
    "</div>"
   ]
  },
  {
   "cell_type": "markdown",
   "metadata": {},
   "source": [
    "<div class = \"alert alert-info\" style = \"border-radius:10px;border-width:3px;border-color:darkblue;font-family:Verdana,sans-serif;font-size:16px;\">**Scrolling and moving:**\n",
    "Moving around the page is tricky, be prepared for displaying a little patience.\n",
    "\n",
    "ActionChains provide a way of stringing together one or more actions and then implementing them.\n",
    "<ul>\n",
    "<li>move_by_offset(x,y)</li>\n",
    "<li>move_to_element() - for highlighting, hovering, rollover, etc.</li>\n",
    "<li>move_to_elemnte_by_offset(elem, x, y)</li>\n",
    "</ul>\n",
    "</div>"
   ]
  },
  {
   "cell_type": "code",
   "execution_count": 45,
   "metadata": {},
   "outputs": [
    {
     "name": "stdout",
     "output_type": "stream",
     "text": [
      "No hay resultados!\n",
      "Lo tenemos!!!!\n",
      "Let us see what the Rector buys...\n",
      "Servicio de encuestas para un estudio de la relación entre clase social y preferencias políticas dentro del proyecto Classpol\n"
     ]
    }
   ],
   "source": [
    "%reset -f\n",
    "from lxml import etree\n",
    "import urllib.request\n",
    "from selenium import webdriver\n",
    "from selenium.webdriver.common.keys import Keys\n",
    "\n",
    "from selenium.webdriver.support.ui import WebDriverWait\n",
    "from selenium.webdriver.support import expected_conditions as EC\n",
    "\n",
    "\n",
    "#url = 'https://contrataciondelestado.es/wps/portal/!ut/p/b1/04_Sj9Q1tLQ0NrQ0tDAx0o_Qj8pLLMtMTyzJzM9LzAHxo8ziTVz9nZ3dPIwMLIKNXQyMfFxCQ808gFx3U6CCSHwKjIjTb2rsbBLmFRZgFuzpbmDg6eHm4hNqaArUbkacfgMcwNGAkP5w_Sj8SoygCvA5EawAjxv8PPJzU_Vzo3Lc3Cw9s0wcFRUB1iXZhA!!/dl4/d5/L2dBISEvZ0FBIS9nQSEh/pw/Z7_AVEQAI930OBRD02JPMTPG21004/act/id=0/p=javax.servlet.include.path_info=QCPjspQCPbusquedaQCPMainBusqueda.jsp/417201276536/-/'\n",
    "url = 'https://contrataciondelestado.es/wps/portal/licitaciones' #Poseu el nom de la pàgina web\n",
    "browser = webdriver.Firefox() #Obrir un navegador Firefox\n",
    "browser.get(url)\n",
    "\n",
    "browser.implicitly_wait(10)\n",
    "\n",
    "#1) We have to get the web app going\n",
    "\n",
    "element = browser.find_element_by_xpath(\"//*[contains(@id, 'logoFormularioBusqueda')]\").click()\n",
    "\n",
    "#Too slow access, made us time out but we can recover with check results\n",
    "\n",
    "\n",
    "#2) Fill in some search\n",
    "\n",
    "element = browser.find_element_by_xpath('//*[@title=\"Tipo de Contrato\"]/option[text()=\"Servicios\"]').click()\n",
    "\n",
    "#Alternativas:\n",
    "## select by visible text\n",
    "#element.select_by_visible_text('Banana')\n",
    "\n",
    "## select by value \n",
    "#element.select_by_value('1')\n",
    "\n",
    "element = browser.find_element_by_xpath('//*[@alt=\"Organización contratante\"]')\n",
    "\n",
    "element.clear()\n",
    "element.send_keys('Universidad Juan Carlos I',Keys.RETURN) #We press RETURN here\n",
    "\n",
    "\n",
    "#3) Retrieve results\n",
    "try:\n",
    "    browser.find_element_by_xpath(\"//span[contains(@id,'etNoHayRtdos')]\")\n",
    "    print(\"No hay resultados!\")\n",
    "except:\n",
    "    print(\"Hay resultados!\")\n",
    "\n",
    "\n",
    "#4) Now retrieve some stuff\n",
    "\n",
    "#Clear all by pressing the button\n",
    "element = browser.find_element_by_xpath('//*[@alt=\"Organización contratante\"]').clear()\n",
    "\n",
    "element = browser.find_element_by_xpath('//*[@title=\"Tipo de Contrato\"]/option[text()=\"Servicios\"]').click()\n",
    "element = browser.find_element_by_xpath(\"//input[contains(@id,'texoorgano')]\")\n",
    "element.clear()\n",
    "element.send_keys('Rector de la Universidad Carlos III de Madrid',Keys.RETURN) #We press RETURN here\n",
    "\n",
    "try:\n",
    "    browser.find_element_by_xpath(\"//table[contains(@id,'myTablaBusquedaCustom')]\")\n",
    "    print(\"Lo tenemos!!!!\")\n",
    "except:\n",
    "    print(\"Fallamos de nuevo .....\")\n",
    "    \n",
    "#Get an element\n",
    "element = browser.find_elements_by_xpath(\"//table[contains(@id,'myTablaBusquedaCustom')]/tbody/tr[1]/td[1]/div[2]\")\n",
    "print('Let us see what the Rector buys...\\n'+element[0].text)"
   ]
  },
  {
   "cell_type": "markdown",
   "metadata": {},
   "source": [
    "# Robot Process Automation (RPA)"
   ]
  },
  {
   "cell_type": "markdown",
   "metadata": {},
   "source": [
    "Robot process automation is way beyond the goal of this course but it might be interesting to get a little and brief intro of RPA for web scrapping. In this case we will use UI.Vision as an approximation to a suite for RPA. "
   ]
  },
  {
   "cell_type": "markdown",
   "metadata": {},
   "source": [
    "<div class = \"alert alert-success\" style = \"border-radius:10px;border-width:3px;border-color:darkgreen;font-family:Verdana,sans-serif;font-size:16px;\">\n",
    "**INSTALL:** Install UI.vision extension on your Chrome or Firefox browser from `https://ui.vision/`\n",
    "</div>"
   ]
  },
  {
   "cell_type": "code",
   "execution_count": null,
   "metadata": {},
   "outputs": [],
   "source": [
    "# %load RPA_example_UIVISION.rtf\n",
    "{\\rtf1\\ansi\\ansicpg1252\\cocoartf1671\\cocoasubrtf600\n",
    "{\\fonttbl\\f0\\fswiss\\fcharset0 Helvetica;}\n",
    "{\\colortbl;\\red255\\green255\\blue255;}\n",
    "{\\*\\expandedcolortbl;;}\n",
    "\\paperw11900\\paperh16840\\margl1440\\margr1440\\vieww18580\\viewh10640\\viewkind0\n",
    "\\pard\\tx566\\tx1133\\tx1700\\tx2267\\tx2834\\tx3401\\tx3968\\tx4535\\tx5102\\tx5669\\tx6236\\tx6803\\pardirnatural\\partightenfactor0\n",
    "\n",
    "\\f0\\fs24 \\cf0 \\{\\\n",
    "  \"Name\": \"Prova\",\\\n",
    "  \"CreationDate\": \"2019-10-27\",\\\n",
    "  \"Commands\": [\\\n",
    "    \\{\\\n",
    "      \"Command\": \"open\",\\\n",
    "      \"Target\": \"https://contrataciondelestado.es/wps/portal/licRecientes\",\\\n",
    "      \"Value\": \"\"\\\n",
    "    \\},\\\n",
    "    \\{\\\n",
    "      \"Command\": \"store\",\\\n",
    "      \"Target\": \"0\",\\\n",
    "      \"Value\": \"i\"\\\n",
    "    \\},\\\n",
    "    \\{\\\n",
    "      \"Command\": \"while_v2\",\\\n",
    "      \"Target\": \"($\\{i\\}<3)\",\\\n",
    "      \"Value\": \"\"\\\n",
    "    \\},\\\n",
    "    \\{\\\n",
    "      \"Command\": \"executeScript\",\\\n",
    "      \"Target\": \"return Number $\\{i\\}*10\",\\\n",
    "      \"Value\": \"j\"\\\n",
    "    \\},\\\n",
    "    \\{\\\n",
    "      \"Command\": \"executeScript\",\\\n",
    "      \"Target\": \"return Number $\\{j\\}+4\",\\\n",
    "      \"Value\": \"j\"\\\n",
    "    \\},\\\n",
    "    \\{\\\n",
    "      \"Command\": \"echo\",\\\n",
    "      \"Target\": \"$\\{j\\}\",\\\n",
    "      \"Value\": \"\"\\\n",
    "    \\},\\\n",
    "    \\{\\\n",
    "      \"Command\": \"storeText\",\\\n",
    "      \"Target\": \"xpath=//*[@id=\\\\\"tabla_liciRecientes\\\\\"]/tbody/tr[$\\{j\\}]/td[2]/span\",\\\n",
    "      \"Value\": \"!csvLine\"\\\n",
    "    \\},\\\n",
    "    \\{\\\n",
    "      \"Command\": \"echo\",\\\n",
    "      \"Target\": \"$\\{!csvLine\\}\",\\\n",
    "      \"Value\": \"\"\\\n",
    "    \\},\\\n",
    "    \\{\\\n",
    "      \"Command\": \"executeScript\",\\\n",
    "      \"Target\": \"return Number $\\{i\\}+1\",\\\n",
    "      \"Value\": \"i\"\\\n",
    "    \\},\\\n",
    "    \\{\\\n",
    "      \"Command\": \"echo\",\\\n",
    "      \"Target\": \"$\\{i\\}\",\\\n",
    "      \"Value\": \"\"\\\n",
    "    \\},\\\n",
    "    \\{\\\n",
    "      \"Command\": \"end\",\\\n",
    "      \"Target\": \"\",\\\n",
    "      \"Value\": \"\"\\\n",
    "    \\},\\\n",
    "    \\{\\\n",
    "      \"Command\": \"csvSave\",\\\n",
    "      \"Target\": \"Licitaciones\",\\\n",
    "      \"Value\": \"\"\\\n",
    "    \\},\\\n",
    "    \\{\\\n",
    "      \"Command\": \"localStorageExport\",\\\n",
    "      \"Target\": \"licitaciones.csv\",\\\n",
    "      \"Value\": \"\"\\\n",
    "    \\}\\\n",
    "  ]\\\n",
    "\\}}"
   ]
  },
  {
   "cell_type": "code",
   "execution_count": null,
   "metadata": {},
   "outputs": [],
   "source": []
  }
 ],
 "metadata": {
  "kernelspec": {
   "display_name": "Python 3",
   "language": "python",
   "name": "python3"
  },
  "language_info": {
   "codemirror_mode": {
    "name": "ipython",
    "version": 3
   },
   "file_extension": ".py",
   "mimetype": "text/x-python",
   "name": "python",
   "nbconvert_exporter": "python",
   "pygments_lexer": "ipython3",
   "version": "3.7.6"
  }
 },
 "nbformat": 4,
 "nbformat_minor": 1
}
