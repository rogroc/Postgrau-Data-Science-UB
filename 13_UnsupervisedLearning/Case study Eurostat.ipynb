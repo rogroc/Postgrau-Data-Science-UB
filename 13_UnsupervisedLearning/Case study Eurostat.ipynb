{
 "cells": [
  {
   "cell_type": "code",
   "execution_count": 60,
   "metadata": {},
   "outputs": [],
   "source": [
    "from IPython.core.display import HTML\n",
    "def css_styling():\n",
    "    styles = open(\"styles/custom.css\", \"r\").read()\n",
    "    return HTML(styles)\n",
    "css_styling()\n",
    "\n",
    "import numpy as np\n",
    "np.set_printoptions(linewidth=105)"
   ]
  },
  {
   "cell_type": "markdown",
   "metadata": {},
   "source": [
    "<font color='red'>\n",
    "<center>\n",
    "# Machine Learning: Unsupervised learning (Part 2)\n"
   ]
  },
  {
   "cell_type": "markdown",
   "metadata": {},
   "source": [
    "<font color='blue'> \n",
    "\n",
    "# 5. CASE STUDY: EUROSTAT data analysis\n",
    "\n",
    "## Applying K-means to cluster countries according to their education resourses"
   ]
  },
  {
   "cell_type": "markdown",
   "metadata": {},
   "source": [
    "Eurostat is the home of the [European Commission data](http://ec.europa.eu/eurostat). Eurostat’s main role is to process and publish comparable statistical information at European level. Data in Eurostat is provided by each member state. Eurostat's re-use policy is free re-use of its data, both for non-commercial and commercial purposes (with some minor exceptions)."
   ]
  },
  {
   "cell_type": "markdown",
   "metadata": {},
   "source": []
  },
  {
   "cell_type": "markdown",
   "metadata": {},
   "source": [
    "In this case study, we are going to retrieve Eurostat data and test clustering algorithms on it. The amount of data in the database is huge, thus we are going to use a small subset for illustration purposes. In our first study, we are going to focus on **indicators on education finance data** among the member states. The data is already downloaded and provided as is in the file `educ_figdp_1_Data.csv`. You can download it directly following this link: \n",
    "\n",
    "-`Database by terms>Population and social conditions>Education and training>Indicators on education finance`. "
   ]
  },
  {
   "cell_type": "markdown",
   "metadata": {},
   "source": [
    "## 5.1 Formatting data"
   ]
  },
  {
   "cell_type": "markdown",
   "metadata": {},
   "source": [
    "Let us start having a look at the data."
   ]
  },
  {
   "cell_type": "code",
   "execution_count": 61,
   "metadata": {},
   "outputs": [
    {
     "data": {
      "text/html": [
       "<div>\n",
       "<style scoped>\n",
       "    .dataframe tbody tr th:only-of-type {\n",
       "        vertical-align: middle;\n",
       "    }\n",
       "\n",
       "    .dataframe tbody tr th {\n",
       "        vertical-align: top;\n",
       "    }\n",
       "\n",
       "    .dataframe thead th {\n",
       "        text-align: right;\n",
       "    }\n",
       "</style>\n",
       "<table border=\"1\" class=\"dataframe\">\n",
       "  <thead>\n",
       "    <tr style=\"text-align: right;\">\n",
       "      <th></th>\n",
       "      <th>TIME</th>\n",
       "      <th>GEO</th>\n",
       "      <th>INDIC_ED</th>\n",
       "      <th>Value</th>\n",
       "    </tr>\n",
       "  </thead>\n",
       "  <tbody>\n",
       "    <tr>\n",
       "      <th>0</th>\n",
       "      <td>2002</td>\n",
       "      <td>European Union (27 countries)</td>\n",
       "      <td>Total public expenditure on education as % of ...</td>\n",
       "      <td>5.10</td>\n",
       "    </tr>\n",
       "    <tr>\n",
       "      <th>1</th>\n",
       "      <td>2002</td>\n",
       "      <td>European Union (27 countries)</td>\n",
       "      <td>Total public expenditure on education as % of ...</td>\n",
       "      <td>1.14</td>\n",
       "    </tr>\n",
       "    <tr>\n",
       "      <th>2</th>\n",
       "      <td>2002</td>\n",
       "      <td>European Union (27 countries)</td>\n",
       "      <td>Total public expenditure on education as % of ...</td>\n",
       "      <td>2.32</td>\n",
       "    </tr>\n",
       "    <tr>\n",
       "      <th>3</th>\n",
       "      <td>2002</td>\n",
       "      <td>European Union (27 countries)</td>\n",
       "      <td>Total public expenditure on education as % of ...</td>\n",
       "      <td>1.15</td>\n",
       "    </tr>\n",
       "    <tr>\n",
       "      <th>4</th>\n",
       "      <td>2002</td>\n",
       "      <td>European Union (27 countries)</td>\n",
       "      <td>Total public expenditure on education as % of ...</td>\n",
       "      <td>0.50</td>\n",
       "    </tr>\n",
       "  </tbody>\n",
       "</table>\n",
       "</div>"
      ],
      "text/plain": [
       "   TIME                            GEO  \\\n",
       "0  2002  European Union (27 countries)   \n",
       "1  2002  European Union (27 countries)   \n",
       "2  2002  European Union (27 countries)   \n",
       "3  2002  European Union (27 countries)   \n",
       "4  2002  European Union (27 countries)   \n",
       "\n",
       "                                            INDIC_ED  Value  \n",
       "0  Total public expenditure on education as % of ...   5.10  \n",
       "1  Total public expenditure on education as % of ...   1.14  \n",
       "2  Total public expenditure on education as % of ...   2.32  \n",
       "3  Total public expenditure on education as % of ...   1.15  \n",
       "4  Total public expenditure on education as % of ...   0.50  "
      ]
     },
     "execution_count": 61,
     "metadata": {},
     "output_type": "execute_result"
    }
   ],
   "source": [
    "%reset -f\n",
    "#Read and check the dataset downloaded from the EuroStat\n",
    "\n",
    "import pandas as pd\n",
    "import numpy as np\n",
    "import matplotlib.pyplot as plt\n",
    "edu=pd.read_csv('./files/education_GDP/educ_figdp_1_Data.csv',na_values=':')\n",
    "edu.head()"
   ]
  },
  {
   "cell_type": "code",
   "execution_count": 62,
   "metadata": {},
   "outputs": [
    {
     "data": {
      "text/html": [
       "<div>\n",
       "<style scoped>\n",
       "    .dataframe tbody tr th:only-of-type {\n",
       "        vertical-align: middle;\n",
       "    }\n",
       "\n",
       "    .dataframe tbody tr th {\n",
       "        vertical-align: top;\n",
       "    }\n",
       "\n",
       "    .dataframe thead th {\n",
       "        text-align: right;\n",
       "    }\n",
       "</style>\n",
       "<table border=\"1\" class=\"dataframe\">\n",
       "  <thead>\n",
       "    <tr style=\"text-align: right;\">\n",
       "      <th></th>\n",
       "      <th>TIME</th>\n",
       "      <th>GEO</th>\n",
       "      <th>INDIC_ED</th>\n",
       "      <th>Value</th>\n",
       "    </tr>\n",
       "  </thead>\n",
       "  <tbody>\n",
       "    <tr>\n",
       "      <th>4915</th>\n",
       "      <td>2011</td>\n",
       "      <td>Japan</td>\n",
       "      <td>Total public expenditure on education as % of ...</td>\n",
       "      <td>NaN</td>\n",
       "    </tr>\n",
       "    <tr>\n",
       "      <th>4916</th>\n",
       "      <td>2011</td>\n",
       "      <td>Japan</td>\n",
       "      <td>Expenditure on educational institutions from p...</td>\n",
       "      <td>NaN</td>\n",
       "    </tr>\n",
       "    <tr>\n",
       "      <th>4917</th>\n",
       "      <td>2011</td>\n",
       "      <td>Japan</td>\n",
       "      <td>Public subsidies to the private sector as % of...</td>\n",
       "      <td>NaN</td>\n",
       "    </tr>\n",
       "    <tr>\n",
       "      <th>4918</th>\n",
       "      <td>2011</td>\n",
       "      <td>Japan</td>\n",
       "      <td>Expenditure on educational institutions from p...</td>\n",
       "      <td>1.56</td>\n",
       "    </tr>\n",
       "    <tr>\n",
       "      <th>4919</th>\n",
       "      <td>2011</td>\n",
       "      <td>Japan</td>\n",
       "      <td>Total public expenditure on education as % of ...</td>\n",
       "      <td>3.67</td>\n",
       "    </tr>\n",
       "  </tbody>\n",
       "</table>\n",
       "</div>"
      ],
      "text/plain": [
       "      TIME    GEO                                           INDIC_ED  Value\n",
       "4915  2011  Japan  Total public expenditure on education as % of ...    NaN\n",
       "4916  2011  Japan  Expenditure on educational institutions from p...    NaN\n",
       "4917  2011  Japan  Public subsidies to the private sector as % of...    NaN\n",
       "4918  2011  Japan  Expenditure on educational institutions from p...   1.56\n",
       "4919  2011  Japan  Total public expenditure on education as % of ...   3.67"
      ]
     },
     "execution_count": 62,
     "metadata": {},
     "output_type": "execute_result"
    }
   ],
   "source": [
    "edu.tail()"
   ]
  },
  {
   "cell_type": "markdown",
   "metadata": {},
   "source": [
    "Data in CSV and databases are often organized in what is called **stacked** or **record** formats. In our case for each year (`TIME`) and country (`GEO`) of the EU as well as some reference countries such as Japan and United States, we have twelve indicators (`INDIC_ED`) on education finance with their values (`Value`). Let us reshape the table into a feature vector style data set. \n",
    "\n",
    "To the process of reshaping stacked data into a table is sometimes called **pivoting**."
   ]
  },
  {
   "cell_type": "code",
   "execution_count": 63,
   "metadata": {},
   "outputs": [
    {
     "data": {
      "text/html": [
       "<div>\n",
       "<style scoped>\n",
       "    .dataframe tbody tr th:only-of-type {\n",
       "        vertical-align: middle;\n",
       "    }\n",
       "\n",
       "    .dataframe tbody tr th {\n",
       "        vertical-align: top;\n",
       "    }\n",
       "\n",
       "    .dataframe thead th {\n",
       "        text-align: right;\n",
       "    }\n",
       "</style>\n",
       "<table border=\"1\" class=\"dataframe\">\n",
       "  <thead>\n",
       "    <tr style=\"text-align: right;\">\n",
       "      <th></th>\n",
       "      <th>INDIC_ED</th>\n",
       "      <th>Expenditure on educational institutions from private sources as % of GDP, for all levels of education combined</th>\n",
       "      <th>Expenditure on educational institutions from public sources as % of GDP, for all levels of government combined</th>\n",
       "      <th>Expenditure on educational institutions from public sources as % of total public expenditure, for all levels of education combined</th>\n",
       "      <th>Public subsidies to the private sector as % of GDP, for all levels of education combined</th>\n",
       "      <th>Public subsidies to the private sector as % of total public expenditure, for all levels of education combined</th>\n",
       "      <th>Total public expenditure on education as % of GDP, at pre-primary level of education (ISCED 0) and not allocated by level</th>\n",
       "      <th>Total public expenditure on education as % of GDP, at primary level of education (ISCED 1)</th>\n",
       "      <th>Total public expenditure on education as % of GDP, at secondary level of education (ISCED 2-4)</th>\n",
       "      <th>Total public expenditure on education as % of GDP, at tertiary level of education (ISCED 5-6)</th>\n",
       "      <th>Total public expenditure on education as % of GDP, for all levels of education combined</th>\n",
       "      <th>Total public expenditure on education as % of gross national income, for all levels of education combined</th>\n",
       "      <th>Total public expenditure on education as % of total public expenditure, for all levels of education combined</th>\n",
       "    </tr>\n",
       "    <tr>\n",
       "      <th>TIME</th>\n",
       "      <th>GEO</th>\n",
       "      <th></th>\n",
       "      <th></th>\n",
       "      <th></th>\n",
       "      <th></th>\n",
       "      <th></th>\n",
       "      <th></th>\n",
       "      <th></th>\n",
       "      <th></th>\n",
       "      <th></th>\n",
       "      <th></th>\n",
       "      <th></th>\n",
       "      <th></th>\n",
       "    </tr>\n",
       "  </thead>\n",
       "  <tbody>\n",
       "    <tr>\n",
       "      <th rowspan=\"5\" valign=\"top\">2002</th>\n",
       "      <th>Austria</th>\n",
       "      <td>0.38</td>\n",
       "      <td>5.30</td>\n",
       "      <td>10.46</td>\n",
       "      <td>0.37</td>\n",
       "      <td>0.74</td>\n",
       "      <td>0.63</td>\n",
       "      <td>1.12</td>\n",
       "      <td>2.64</td>\n",
       "      <td>1.28</td>\n",
       "      <td>5.68</td>\n",
       "      <td>5.75</td>\n",
       "      <td>11.20</td>\n",
       "    </tr>\n",
       "    <tr>\n",
       "      <th>Belgium</th>\n",
       "      <td>0.36</td>\n",
       "      <td>5.80</td>\n",
       "      <td>11.65</td>\n",
       "      <td>0.29</td>\n",
       "      <td>0.58</td>\n",
       "      <td>0.70</td>\n",
       "      <td>1.36</td>\n",
       "      <td>2.71</td>\n",
       "      <td>1.32</td>\n",
       "      <td>6.09</td>\n",
       "      <td>6.01</td>\n",
       "      <td>12.23</td>\n",
       "    </tr>\n",
       "    <tr>\n",
       "      <th>Bulgaria</th>\n",
       "      <td>0.67</td>\n",
       "      <td>3.75</td>\n",
       "      <td>9.49</td>\n",
       "      <td>0.18</td>\n",
       "      <td>0.46</td>\n",
       "      <td>0.67</td>\n",
       "      <td>0.73</td>\n",
       "      <td>1.72</td>\n",
       "      <td>0.81</td>\n",
       "      <td>3.94</td>\n",
       "      <td>3.85</td>\n",
       "      <td>9.95</td>\n",
       "    </tr>\n",
       "    <tr>\n",
       "      <th>Croatia</th>\n",
       "      <td>0.13</td>\n",
       "      <td>3.71</td>\n",
       "      <td>NaN</td>\n",
       "      <td>NaN</td>\n",
       "      <td>NaN</td>\n",
       "      <td>0.44</td>\n",
       "      <td>1.81</td>\n",
       "      <td>0.88</td>\n",
       "      <td>0.59</td>\n",
       "      <td>3.71</td>\n",
       "      <td>3.77</td>\n",
       "      <td>NaN</td>\n",
       "    </tr>\n",
       "    <tr>\n",
       "      <th>Cyprus</th>\n",
       "      <td>1.41</td>\n",
       "      <td>5.87</td>\n",
       "      <td>14.67</td>\n",
       "      <td>0.73</td>\n",
       "      <td>1.83</td>\n",
       "      <td>0.35</td>\n",
       "      <td>1.81</td>\n",
       "      <td>3.05</td>\n",
       "      <td>1.39</td>\n",
       "      <td>6.60</td>\n",
       "      <td>6.83</td>\n",
       "      <td>16.50</td>\n",
       "    </tr>\n",
       "  </tbody>\n",
       "</table>\n",
       "</div>"
      ],
      "text/plain": [
       "INDIC_ED       Expenditure on educational institutions from private sources as % of GDP, for all levels of education combined  \\\n",
       "TIME GEO                                                                                                                        \n",
       "2002 Austria                                                0.38                                                                \n",
       "     Belgium                                                0.36                                                                \n",
       "     Bulgaria                                               0.67                                                                \n",
       "     Croatia                                                0.13                                                                \n",
       "     Cyprus                                                 1.41                                                                \n",
       "\n",
       "INDIC_ED       Expenditure on educational institutions from public sources as % of GDP, for all levels of government combined  \\\n",
       "TIME GEO                                                                                                                        \n",
       "2002 Austria                                                5.30                                                                \n",
       "     Belgium                                                5.80                                                                \n",
       "     Bulgaria                                               3.75                                                                \n",
       "     Croatia                                                3.71                                                                \n",
       "     Cyprus                                                 5.87                                                                \n",
       "\n",
       "INDIC_ED       Expenditure on educational institutions from public sources as % of total public expenditure, for all levels of education combined  \\\n",
       "TIME GEO                                                                                                                                            \n",
       "2002 Austria                                               10.46                                                                                    \n",
       "     Belgium                                               11.65                                                                                    \n",
       "     Bulgaria                                               9.49                                                                                    \n",
       "     Croatia                                                 NaN                                                                                    \n",
       "     Cyprus                                                14.67                                                                                    \n",
       "\n",
       "INDIC_ED       Public subsidies to the private sector as % of GDP, for all levels of education combined  \\\n",
       "TIME GEO                                                                                                  \n",
       "2002 Austria                                                0.37                                          \n",
       "     Belgium                                                0.29                                          \n",
       "     Bulgaria                                               0.18                                          \n",
       "     Croatia                                                 NaN                                          \n",
       "     Cyprus                                                 0.73                                          \n",
       "\n",
       "INDIC_ED       Public subsidies to the private sector as % of total public expenditure, for all levels of education combined  \\\n",
       "TIME GEO                                                                                                                       \n",
       "2002 Austria                                                0.74                                                               \n",
       "     Belgium                                                0.58                                                               \n",
       "     Bulgaria                                               0.46                                                               \n",
       "     Croatia                                                 NaN                                                               \n",
       "     Cyprus                                                 1.83                                                               \n",
       "\n",
       "INDIC_ED       Total public expenditure on education as % of GDP, at pre-primary level of education (ISCED 0) and not allocated by level  \\\n",
       "TIME GEO                                                                                                                                   \n",
       "2002 Austria                                                0.63                                                                           \n",
       "     Belgium                                                0.70                                                                           \n",
       "     Bulgaria                                               0.67                                                                           \n",
       "     Croatia                                                0.44                                                                           \n",
       "     Cyprus                                                 0.35                                                                           \n",
       "\n",
       "INDIC_ED       Total public expenditure on education as % of GDP, at primary level of education (ISCED 1)  \\\n",
       "TIME GEO                                                                                                    \n",
       "2002 Austria                                                1.12                                            \n",
       "     Belgium                                                1.36                                            \n",
       "     Bulgaria                                               0.73                                            \n",
       "     Croatia                                                1.81                                            \n",
       "     Cyprus                                                 1.81                                            \n",
       "\n",
       "INDIC_ED       Total public expenditure on education as % of GDP, at secondary level of education (ISCED 2-4)  \\\n",
       "TIME GEO                                                                                                        \n",
       "2002 Austria                                                2.64                                                \n",
       "     Belgium                                                2.71                                                \n",
       "     Bulgaria                                               1.72                                                \n",
       "     Croatia                                                0.88                                                \n",
       "     Cyprus                                                 3.05                                                \n",
       "\n",
       "INDIC_ED       Total public expenditure on education as % of GDP, at tertiary level of education (ISCED 5-6)  \\\n",
       "TIME GEO                                                                                                       \n",
       "2002 Austria                                                1.28                                               \n",
       "     Belgium                                                1.32                                               \n",
       "     Bulgaria                                               0.81                                               \n",
       "     Croatia                                                0.59                                               \n",
       "     Cyprus                                                 1.39                                               \n",
       "\n",
       "INDIC_ED       Total public expenditure on education as % of GDP, for all levels of education combined  \\\n",
       "TIME GEO                                                                                                 \n",
       "2002 Austria                                                5.68                                         \n",
       "     Belgium                                                6.09                                         \n",
       "     Bulgaria                                               3.94                                         \n",
       "     Croatia                                                3.71                                         \n",
       "     Cyprus                                                 6.60                                         \n",
       "\n",
       "INDIC_ED       Total public expenditure on education as % of gross national income, for all levels of education combined  \\\n",
       "TIME GEO                                                                                                                   \n",
       "2002 Austria                                                5.75                                                           \n",
       "     Belgium                                                6.01                                                           \n",
       "     Bulgaria                                               3.85                                                           \n",
       "     Croatia                                                3.77                                                           \n",
       "     Cyprus                                                 6.83                                                           \n",
       "\n",
       "INDIC_ED       Total public expenditure on education as % of total public expenditure, for all levels of education combined  \n",
       "TIME GEO                                                                                                                     \n",
       "2002 Austria                                               11.20                                                             \n",
       "     Belgium                                               12.23                                                             \n",
       "     Bulgaria                                               9.95                                                             \n",
       "     Croatia                                                 NaN                                                             \n",
       "     Cyprus                                                16.50                                                             "
      ]
     },
     "execution_count": 63,
     "metadata": {},
     "output_type": "execute_result"
    }
   ],
   "source": [
    "#Pivot table in order to get a nice feature vector representation with dual indexing by TIME and GEO \n",
    "pivedu=pd.pivot_table(edu, values='Value', index=['TIME', 'GEO'], columns=['INDIC_ED'])\n",
    "\n",
    "pivedu.head()\n"
   ]
  },
  {
   "cell_type": "code",
   "execution_count": 64,
   "metadata": {},
   "outputs": [
    {
     "name": "stdout",
     "output_type": "stream",
     "text": [
      "Let us check the two indices:\n",
      "\n",
      "\n",
      "Primary index (TIME): \n",
      "[2002, 2003, 2004, 2005, 2006, 2007, 2008, 2009, 2010, 2011]\n",
      "\n",
      "Secondary index (GEO): \n",
      "['Austria', 'Belgium', 'Bulgaria', 'Croatia', 'Cyprus', 'Czech Republic', 'Denmark', 'Estonia', 'Euro area (13 countries)', 'Euro area (15 countries)', 'European Union (25 countries)', 'European Union (27 countries)', 'Finland', 'Former Yugoslav Republic of Macedonia, the', 'France', 'Germany (until 1990 former territory of the FRG)', 'Greece', 'Hungary', 'Iceland', 'Ireland', 'Italy', 'Japan', 'Latvia', 'Liechtenstein', 'Lithuania', 'Luxembourg', 'Malta', 'Netherlands', 'Norway', 'Poland', 'Portugal', 'Romania', 'Slovakia', 'Slovenia', 'Spain', 'Sweden', 'Switzerland', 'Turkey', 'United Kingdom', 'United States']\n"
     ]
    }
   ],
   "source": [
    "print('Let us check the two indices:\\n')\n",
    "print('\\nPrimary index (TIME): \\n' + str(pivedu.index.levels[0].tolist()))\n",
    "print('\\nSecondary index (GEO): \\n' + str(pivedu.index.levels[1].tolist()))"
   ]
  },
  {
   "cell_type": "markdown",
   "metadata": {},
   "source": [
    "Observe that we have ten years information on these indicators, and as expected we have all members of the European Union with some aggregates and control/reference countries. For the sake of simplicity, let us focus on values on year 2010."
   ]
  },
  {
   "cell_type": "code",
   "execution_count": 65,
   "metadata": {},
   "outputs": [
    {
     "data": {
      "text/html": [
       "<div>\n",
       "<style scoped>\n",
       "    .dataframe tbody tr th:only-of-type {\n",
       "        vertical-align: middle;\n",
       "    }\n",
       "\n",
       "    .dataframe tbody tr th {\n",
       "        vertical-align: top;\n",
       "    }\n",
       "\n",
       "    .dataframe thead th {\n",
       "        text-align: right;\n",
       "    }\n",
       "</style>\n",
       "<table border=\"1\" class=\"dataframe\">\n",
       "  <thead>\n",
       "    <tr style=\"text-align: right;\">\n",
       "      <th>INDIC_ED</th>\n",
       "      <th>Expenditure on educational institutions from private sources as % of GDP, for all levels of education combined</th>\n",
       "      <th>Expenditure on educational institutions from public sources as % of GDP, for all levels of government combined</th>\n",
       "      <th>Expenditure on educational institutions from public sources as % of total public expenditure, for all levels of education combined</th>\n",
       "      <th>Public subsidies to the private sector as % of GDP, for all levels of education combined</th>\n",
       "      <th>Public subsidies to the private sector as % of total public expenditure, for all levels of education combined</th>\n",
       "      <th>Total public expenditure on education as % of GDP, at pre-primary level of education (ISCED 0) and not allocated by level</th>\n",
       "      <th>Total public expenditure on education as % of GDP, at primary level of education (ISCED 1)</th>\n",
       "      <th>Total public expenditure on education as % of GDP, at secondary level of education (ISCED 2-4)</th>\n",
       "      <th>Total public expenditure on education as % of GDP, at tertiary level of education (ISCED 5-6)</th>\n",
       "      <th>Total public expenditure on education as % of GDP, for all levels of education combined</th>\n",
       "      <th>Total public expenditure on education as % of gross national income, for all levels of education combined</th>\n",
       "      <th>Total public expenditure on education as % of total public expenditure, for all levels of education combined</th>\n",
       "    </tr>\n",
       "    <tr>\n",
       "      <th>GEO</th>\n",
       "      <th></th>\n",
       "      <th></th>\n",
       "      <th></th>\n",
       "      <th></th>\n",
       "      <th></th>\n",
       "      <th></th>\n",
       "      <th></th>\n",
       "      <th></th>\n",
       "      <th></th>\n",
       "      <th></th>\n",
       "      <th></th>\n",
       "      <th></th>\n",
       "    </tr>\n",
       "  </thead>\n",
       "  <tbody>\n",
       "    <tr>\n",
       "      <th>Austria</th>\n",
       "      <td>0.52</td>\n",
       "      <td>5.25</td>\n",
       "      <td>9.98</td>\n",
       "      <td>0.64</td>\n",
       "      <td>1.22</td>\n",
       "      <td>0.61</td>\n",
       "      <td>1.01</td>\n",
       "      <td>2.64</td>\n",
       "      <td>1.63</td>\n",
       "      <td>5.89</td>\n",
       "      <td>5.90</td>\n",
       "      <td>11.20</td>\n",
       "    </tr>\n",
       "    <tr>\n",
       "      <th>Belgium</th>\n",
       "      <td>0.34</td>\n",
       "      <td>6.25</td>\n",
       "      <td>11.90</td>\n",
       "      <td>0.32</td>\n",
       "      <td>0.61</td>\n",
       "      <td>0.78</td>\n",
       "      <td>1.54</td>\n",
       "      <td>2.79</td>\n",
       "      <td>1.46</td>\n",
       "      <td>6.57</td>\n",
       "      <td>6.44</td>\n",
       "      <td>12.51</td>\n",
       "    </tr>\n",
       "    <tr>\n",
       "      <th>Bulgaria</th>\n",
       "      <td>0.63</td>\n",
       "      <td>3.35</td>\n",
       "      <td>8.96</td>\n",
       "      <td>0.74</td>\n",
       "      <td>1.99</td>\n",
       "      <td>0.92</td>\n",
       "      <td>0.80</td>\n",
       "      <td>1.76</td>\n",
       "      <td>0.61</td>\n",
       "      <td>4.10</td>\n",
       "      <td>4.18</td>\n",
       "      <td>10.95</td>\n",
       "    </tr>\n",
       "    <tr>\n",
       "      <th>Croatia</th>\n",
       "      <td>0.26</td>\n",
       "      <td>4.24</td>\n",
       "      <td>NaN</td>\n",
       "      <td>0.03</td>\n",
       "      <td>NaN</td>\n",
       "      <td>0.65</td>\n",
       "      <td>1.87</td>\n",
       "      <td>0.97</td>\n",
       "      <td>0.78</td>\n",
       "      <td>4.27</td>\n",
       "      <td>4.42</td>\n",
       "      <td>NaN</td>\n",
       "    </tr>\n",
       "    <tr>\n",
       "      <th>Cyprus</th>\n",
       "      <td>1.61</td>\n",
       "      <td>6.73</td>\n",
       "      <td>14.59</td>\n",
       "      <td>1.19</td>\n",
       "      <td>2.57</td>\n",
       "      <td>0.40</td>\n",
       "      <td>2.26</td>\n",
       "      <td>3.14</td>\n",
       "      <td>2.12</td>\n",
       "      <td>7.92</td>\n",
       "      <td>8.18</td>\n",
       "      <td>17.16</td>\n",
       "    </tr>\n",
       "  </tbody>\n",
       "</table>\n",
       "</div>"
      ],
      "text/plain": [
       "INDIC_ED  Expenditure on educational institutions from private sources as % of GDP, for all levels of education combined  \\\n",
       "GEO                                                                                                                        \n",
       "Austria                                                0.52                                                                \n",
       "Belgium                                                0.34                                                                \n",
       "Bulgaria                                               0.63                                                                \n",
       "Croatia                                                0.26                                                                \n",
       "Cyprus                                                 1.61                                                                \n",
       "\n",
       "INDIC_ED  Expenditure on educational institutions from public sources as % of GDP, for all levels of government combined  \\\n",
       "GEO                                                                                                                        \n",
       "Austria                                                5.25                                                                \n",
       "Belgium                                                6.25                                                                \n",
       "Bulgaria                                               3.35                                                                \n",
       "Croatia                                                4.24                                                                \n",
       "Cyprus                                                 6.73                                                                \n",
       "\n",
       "INDIC_ED  Expenditure on educational institutions from public sources as % of total public expenditure, for all levels of education combined  \\\n",
       "GEO                                                                                                                                            \n",
       "Austria                                                9.98                                                                                    \n",
       "Belgium                                               11.90                                                                                    \n",
       "Bulgaria                                               8.96                                                                                    \n",
       "Croatia                                                 NaN                                                                                    \n",
       "Cyprus                                                14.59                                                                                    \n",
       "\n",
       "INDIC_ED  Public subsidies to the private sector as % of GDP, for all levels of education combined  \\\n",
       "GEO                                                                                                  \n",
       "Austria                                                0.64                                          \n",
       "Belgium                                                0.32                                          \n",
       "Bulgaria                                               0.74                                          \n",
       "Croatia                                                0.03                                          \n",
       "Cyprus                                                 1.19                                          \n",
       "\n",
       "INDIC_ED  Public subsidies to the private sector as % of total public expenditure, for all levels of education combined  \\\n",
       "GEO                                                                                                                       \n",
       "Austria                                                1.22                                                               \n",
       "Belgium                                                0.61                                                               \n",
       "Bulgaria                                               1.99                                                               \n",
       "Croatia                                                 NaN                                                               \n",
       "Cyprus                                                 2.57                                                               \n",
       "\n",
       "INDIC_ED  Total public expenditure on education as % of GDP, at pre-primary level of education (ISCED 0) and not allocated by level  \\\n",
       "GEO                                                                                                                                   \n",
       "Austria                                                0.61                                                                           \n",
       "Belgium                                                0.78                                                                           \n",
       "Bulgaria                                               0.92                                                                           \n",
       "Croatia                                                0.65                                                                           \n",
       "Cyprus                                                 0.40                                                                           \n",
       "\n",
       "INDIC_ED  Total public expenditure on education as % of GDP, at primary level of education (ISCED 1)  \\\n",
       "GEO                                                                                                    \n",
       "Austria                                                1.01                                            \n",
       "Belgium                                                1.54                                            \n",
       "Bulgaria                                               0.80                                            \n",
       "Croatia                                                1.87                                            \n",
       "Cyprus                                                 2.26                                            \n",
       "\n",
       "INDIC_ED  Total public expenditure on education as % of GDP, at secondary level of education (ISCED 2-4)  \\\n",
       "GEO                                                                                                        \n",
       "Austria                                                2.64                                                \n",
       "Belgium                                                2.79                                                \n",
       "Bulgaria                                               1.76                                                \n",
       "Croatia                                                0.97                                                \n",
       "Cyprus                                                 3.14                                                \n",
       "\n",
       "INDIC_ED  Total public expenditure on education as % of GDP, at tertiary level of education (ISCED 5-6)  \\\n",
       "GEO                                                                                                       \n",
       "Austria                                                1.63                                               \n",
       "Belgium                                                1.46                                               \n",
       "Bulgaria                                               0.61                                               \n",
       "Croatia                                                0.78                                               \n",
       "Cyprus                                                 2.12                                               \n",
       "\n",
       "INDIC_ED  Total public expenditure on education as % of GDP, for all levels of education combined  \\\n",
       "GEO                                                                                                 \n",
       "Austria                                                5.89                                         \n",
       "Belgium                                                6.57                                         \n",
       "Bulgaria                                               4.10                                         \n",
       "Croatia                                                4.27                                         \n",
       "Cyprus                                                 7.92                                         \n",
       "\n",
       "INDIC_ED  Total public expenditure on education as % of gross national income, for all levels of education combined  \\\n",
       "GEO                                                                                                                   \n",
       "Austria                                                5.90                                                           \n",
       "Belgium                                                6.44                                                           \n",
       "Bulgaria                                               4.18                                                           \n",
       "Croatia                                                4.42                                                           \n",
       "Cyprus                                                 8.18                                                           \n",
       "\n",
       "INDIC_ED  Total public expenditure on education as % of total public expenditure, for all levels of education combined  \n",
       "GEO                                                                                                                     \n",
       "Austria                                               11.20                                                             \n",
       "Belgium                                               12.51                                                             \n",
       "Bulgaria                                              10.95                                                             \n",
       "Croatia                                                 NaN                                                             \n",
       "Cyprus                                                17.16                                                             "
      ]
     },
     "execution_count": 65,
     "metadata": {},
     "output_type": "execute_result"
    }
   ],
   "source": [
    "#Extract 2010 set of values\n",
    "edu2010=pivedu.loc[2010]\n",
    "edu2010.head()\n"
   ]
  },
  {
   "cell_type": "markdown",
   "metadata": {},
   "source": [
    "Let us clean and store the names of the features and the countries."
   ]
  },
  {
   "cell_type": "code",
   "execution_count": 66,
   "metadata": {},
   "outputs": [
    {
     "data": {
      "text/html": [
       "<div>\n",
       "<style scoped>\n",
       "    .dataframe tbody tr th:only-of-type {\n",
       "        vertical-align: middle;\n",
       "    }\n",
       "\n",
       "    .dataframe tbody tr th {\n",
       "        vertical-align: top;\n",
       "    }\n",
       "\n",
       "    .dataframe thead th {\n",
       "        text-align: right;\n",
       "    }\n",
       "</style>\n",
       "<table border=\"1\" class=\"dataframe\">\n",
       "  <thead>\n",
       "    <tr style=\"text-align: right;\">\n",
       "      <th></th>\n",
       "      <th>0</th>\n",
       "      <th>1</th>\n",
       "      <th>2</th>\n",
       "      <th>3</th>\n",
       "      <th>4</th>\n",
       "      <th>5</th>\n",
       "      <th>6</th>\n",
       "      <th>7</th>\n",
       "      <th>8</th>\n",
       "      <th>9</th>\n",
       "      <th>10</th>\n",
       "      <th>11</th>\n",
       "    </tr>\n",
       "    <tr>\n",
       "      <th>GEO</th>\n",
       "      <th></th>\n",
       "      <th></th>\n",
       "      <th></th>\n",
       "      <th></th>\n",
       "      <th></th>\n",
       "      <th></th>\n",
       "      <th></th>\n",
       "      <th></th>\n",
       "      <th></th>\n",
       "      <th></th>\n",
       "      <th></th>\n",
       "      <th></th>\n",
       "    </tr>\n",
       "  </thead>\n",
       "  <tbody>\n",
       "    <tr>\n",
       "      <th>Austria</th>\n",
       "      <td>0.52</td>\n",
       "      <td>5.25</td>\n",
       "      <td>9.98</td>\n",
       "      <td>0.64</td>\n",
       "      <td>1.22</td>\n",
       "      <td>0.61</td>\n",
       "      <td>1.01</td>\n",
       "      <td>2.64</td>\n",
       "      <td>1.63</td>\n",
       "      <td>5.89</td>\n",
       "      <td>5.90</td>\n",
       "      <td>11.20</td>\n",
       "    </tr>\n",
       "    <tr>\n",
       "      <th>Belgium</th>\n",
       "      <td>0.34</td>\n",
       "      <td>6.25</td>\n",
       "      <td>11.90</td>\n",
       "      <td>0.32</td>\n",
       "      <td>0.61</td>\n",
       "      <td>0.78</td>\n",
       "      <td>1.54</td>\n",
       "      <td>2.79</td>\n",
       "      <td>1.46</td>\n",
       "      <td>6.57</td>\n",
       "      <td>6.44</td>\n",
       "      <td>12.51</td>\n",
       "    </tr>\n",
       "    <tr>\n",
       "      <th>Bulgaria</th>\n",
       "      <td>0.63</td>\n",
       "      <td>3.35</td>\n",
       "      <td>8.96</td>\n",
       "      <td>0.74</td>\n",
       "      <td>1.99</td>\n",
       "      <td>0.92</td>\n",
       "      <td>0.80</td>\n",
       "      <td>1.76</td>\n",
       "      <td>0.61</td>\n",
       "      <td>4.10</td>\n",
       "      <td>4.18</td>\n",
       "      <td>10.95</td>\n",
       "    </tr>\n",
       "    <tr>\n",
       "      <th>Croatia</th>\n",
       "      <td>0.26</td>\n",
       "      <td>4.24</td>\n",
       "      <td>NaN</td>\n",
       "      <td>0.03</td>\n",
       "      <td>NaN</td>\n",
       "      <td>0.65</td>\n",
       "      <td>1.87</td>\n",
       "      <td>0.97</td>\n",
       "      <td>0.78</td>\n",
       "      <td>4.27</td>\n",
       "      <td>4.42</td>\n",
       "      <td>NaN</td>\n",
       "    </tr>\n",
       "    <tr>\n",
       "      <th>Cyprus</th>\n",
       "      <td>1.61</td>\n",
       "      <td>6.73</td>\n",
       "      <td>14.59</td>\n",
       "      <td>1.19</td>\n",
       "      <td>2.57</td>\n",
       "      <td>0.40</td>\n",
       "      <td>2.26</td>\n",
       "      <td>3.14</td>\n",
       "      <td>2.12</td>\n",
       "      <td>7.92</td>\n",
       "      <td>8.18</td>\n",
       "      <td>17.16</td>\n",
       "    </tr>\n",
       "  </tbody>\n",
       "</table>\n",
       "</div>"
      ],
      "text/plain": [
       "            0     1      2     3     4     5     6     7     8     9     10  \\\n",
       "GEO                                                                           \n",
       "Austria   0.52  5.25   9.98  0.64  1.22  0.61  1.01  2.64  1.63  5.89  5.90   \n",
       "Belgium   0.34  6.25  11.90  0.32  0.61  0.78  1.54  2.79  1.46  6.57  6.44   \n",
       "Bulgaria  0.63  3.35   8.96  0.74  1.99  0.92  0.80  1.76  0.61  4.10  4.18   \n",
       "Croatia   0.26  4.24    NaN  0.03   NaN  0.65  1.87  0.97  0.78  4.27  4.42   \n",
       "Cyprus    1.61  6.73  14.59  1.19  2.57  0.40  2.26  3.14  2.12  7.92  8.18   \n",
       "\n",
       "             11  \n",
       "GEO              \n",
       "Austria   11.20  \n",
       "Belgium   12.51  \n",
       "Bulgaria  10.95  \n",
       "Croatia     NaN  \n",
       "Cyprus    17.16  "
      ]
     },
     "execution_count": 66,
     "metadata": {},
     "output_type": "execute_result"
    }
   ],
   "source": [
    "#Store column names and clear them for better handling. Do the same with countries\n",
    "edu2010 = edu2010.rename(index={'Euro area (13 countries)': 'EU13',\n",
    "                                'Euro area (15 countries)': 'EU15',\n",
    "                                'European Union (25 countries)': 'EU25',\n",
    "                                'European Union (27 countries)': 'EU27',\n",
    "                                'Former Yugoslav Republic of Macedonia, the': 'Macedonia',\n",
    "                                'Germany (until 1990 former territory of the FRG)': 'Germany'\n",
    "                        })\n",
    "features = edu2010.columns.tolist()\n",
    "countries = edu2010.index.tolist()\n",
    "\n",
    "edu2010.columns=range(12)\n",
    "edu2010.head()"
   ]
  },
  {
   "cell_type": "markdown",
   "metadata": {},
   "source": [
    "## 5.2 Missing values"
   ]
  },
  {
   "cell_type": "markdown",
   "metadata": {},
   "source": [
    "As we can observe, this is not a clean data set, there are missing values. Some countries may not collect or have access to some indicators and there are countries without any indicators. Let us display this effect."
   ]
  },
  {
   "cell_type": "code",
   "execution_count": 67,
   "metadata": {},
   "outputs": [
    {
     "data": {
      "image/png": "[encoded data removed]",
      "text/plain": [
       "<Figure size 864x360 with 1 Axes>"
      ]
     },
     "metadata": {
      "needs_background": "light"
     },
     "output_type": "display_data"
    }
   ],
   "source": [
    "%matplotlib inline\n",
    "\n",
    "#Check what is going on in the NaN data \n",
    "nan_countries=np.sum(np.where(edu2010.isnull(),1,0),axis=1)\n",
    "\n",
    "plt.bar(np.arange(nan_countries.shape[0]),nan_countries)\n",
    "plt.xticks(np.arange(nan_countries.shape[0]),countries,rotation=90,\n",
    "           horizontalalignment='left',fontsize=12)\n",
    "\n",
    "fig = plt.gcf()\n",
    "fig.set_size_inches((12,5))"
   ]
  },
  {
   "cell_type": "markdown",
   "metadata": {},
   "source": [
    "We don't have info on Albania, Macedonia and Greece. And very limited info from Liechtenstein, Luxembourg and Turkey. So let us work without them. Now let us check the features."
   ]
  },
  {
   "cell_type": "code",
   "execution_count": 68,
   "metadata": {},
   "outputs": [
    {
     "name": "stdout",
     "output_type": "stream",
     "text": [
      "[1 0 3 0 3 0 0 0 0 0 0 3]\n"
     ]
    }
   ],
   "source": [
    "#Remove non info countries\n",
    "wrk_countries = nan_countries<4\n",
    "\n",
    "educlean=edu2010.loc[wrk_countries] \n",
    "\n",
    "#Let us check the features we have\n",
    "na_features = np.sum(np.where(educlean.isnull(),1,0),axis=0)\n",
    "print(na_features)"
   ]
  },
  {
   "cell_type": "code",
   "execution_count": 69,
   "metadata": {},
   "outputs": [
    {
     "data": {
      "image/png": "[encoded data removed]",
      "text/plain": [
       "<Figure size 576x288 with 1 Axes>"
      ]
     },
     "metadata": {
      "needs_background": "light"
     },
     "output_type": "display_data"
    }
   ],
   "source": [
    "#visualize\n",
    "plt.bar(np.arange(na_features.shape[0]),na_features)\n",
    "plt.xticks(fontsize=12)\n",
    "fig = plt.gcf()\n",
    "fig.set_size_inches((8,4))"
   ]
  },
  {
   "cell_type": "markdown",
   "metadata": {},
   "source": [
    "There are four features with missing data. At this point we can proceed in two ways:\n",
    "\n",
    "+ **Drop** the features with missing values.\n",
    "+ **Fill in** the features with some non-informative, non-biasing data.\n",
    "\n",
    "If we have many features and only a few have missing values then it is not much harmful to drop them. However, if missing values are spread across the features, we have to eventually deal with them. In our case, both options seem reasonable, so we will proceed with both at the same time."
   ]
  },
  {
   "cell_type": "code",
   "execution_count": 70,
   "metadata": {},
   "outputs": [
    {
     "name": "stdout",
     "output_type": "stream",
     "text": [
      "Drop data shape: (35, 8)\n"
     ]
    }
   ],
   "source": [
    "#Options A: drop those features\n",
    "edudrop=educlean.dropna(axis=1) \n",
    "         #dropna: Return object with labels on given axis omitted where alternately any or \n",
    "          # all of the data are missing\n",
    "print('Drop data shape: ' + str(edudrop.shape))"
   ]
  },
  {
   "cell_type": "code",
   "execution_count": 71,
   "metadata": {},
   "outputs": [
    {
     "name": "stdout",
     "output_type": "stream",
     "text": [
      "Filled in data shape: (35, 12)\n"
     ]
    }
   ],
   "source": [
    "#Option B fill those features with some value, at risk of extracting wrong information\n",
    "#Constant filling : edufill0=educlean.fillna(0)\n",
    "edufill=educlean.fillna(educlean.mean())\n",
    "print('Filled in data shape: ' + str(edufill.shape))"
   ]
  },
  {
   "cell_type": "markdown",
   "metadata": {},
   "source": [
    "In the fill-in option, we have decided to fill the data with the mean value of the feature. This will not bias the distribution of the feature, though it has consequences in the interpretation of the results. \n",
    "\n",
    "## 5.3 Clustering by k-means\n",
    "\n",
    "Let us now apply a k-means clustering technique on this data in order to partition the countries according to their investment in education and check their profiles."
   ]
  },
  {
   "cell_type": "code",
   "execution_count": 72,
   "metadata": {},
   "outputs": [
    {
     "name": "stdout",
     "output_type": "stream",
     "text": [
      "[2 1 0 0 1 0 1 2 2 2 2 2 1 2 2 2 1 1 0 0 2 2 1 2 1 2 2 0 0 2 2 1 2 2 2]\n"
     ]
    }
   ],
   "source": [
    "#Now we have clean data, create the data set to analyze\n",
    "X_train = edudrop.values\n",
    "\n",
    "from sklearn import cluster\n",
    "clf = cluster.KMeans(init='k-means++', n_clusters=3, random_state=42)\n",
    "    #‘k-means++’ : selects initial cluster centers for k-mean clustering in a smart way to \n",
    "    # speed up convergence.\n",
    "    \n",
    "clf.fit(X_train) #Compute k-means clustering.\n",
    "\n",
    "y_pred_drop = clf.predict(X_train) #Predict the closest cluster each sample in X belongs to.\n",
    "print(y_pred_drop)"
   ]
  },
  {
   "cell_type": "code",
   "execution_count": 73,
   "metadata": {},
   "outputs": [
    {
     "data": {
      "image/png": "[encoded data removed]",
      "text/plain": [
       "<Figure size 864x360 with 1 Axes>"
      ]
     },
     "metadata": {
      "needs_background": "light"
     },
     "output_type": "display_data"
    }
   ],
   "source": [
    "#Let's order the countries\n",
    "idx=y_pred_drop.argsort()\n",
    "plt.plot(np.arange(35),y_pred_drop[idx],'ro')\n",
    "\n",
    "#visualize it\n",
    "wrk_countries_names = [countries[i] for i,item in enumerate(wrk_countries) if item ]\n",
    "plt.xticks(np.arange(len(wrk_countries_names)),[wrk_countries_names[i] for i in idx],rotation=90,\n",
    "           horizontalalignment='left',fontsize=12)\n",
    "plt.title('Using drop features',size=15)\n",
    "fig = plt.gcf()\n",
    "fig.set_size_inches((12,5))\n"
   ]
  },
  {
   "cell_type": "code",
   "execution_count": 74,
   "metadata": {},
   "outputs": [
    {
     "name": "stdout",
     "output_type": "stream",
     "text": [
      "[2 2 0 0 1 0 1 1 2 2 2 2 2 2 0 0 1 2 0 0 2 2 1 2 1 2 2 0 0 2 2 1 1 2 2]\n"
     ]
    }
   ],
   "source": [
    "X_train = edufill.values\n",
    "clf.fit(X_train) #Compute k-means clustering.\n",
    "\n",
    "y_pred_fill = clf.predict(X_train) #Predict the closest cluster each sample in X belongs to.\n",
    "print(y_pred_fill)"
   ]
  },
  {
   "cell_type": "code",
   "execution_count": 75,
   "metadata": {},
   "outputs": [
    {
     "data": {
      "image/png": "[encoded data removed]",
      "text/plain": [
       "<Figure size 864x360 with 1 Axes>"
      ]
     },
     "metadata": {
      "needs_background": "light"
     },
     "output_type": "display_data"
    }
   ],
   "source": [
    "#visualize it\n",
    "idx=y_pred_fill.argsort()\n",
    "plt.plot(np.arange(35),y_pred_fill[idx],'ro')\n",
    "\n",
    "wrk_countries_names = [countries[i] for i,item in enumerate(wrk_countries) if item ]\n",
    "plt.xticks(np.arange(len(wrk_countries_names)),[wrk_countries_names[i] for i in idx],rotation=90,\n",
    "           horizontalalignment='left',fontsize=12)\n",
    "plt.title('Using filled in data', size=15)\n",
    "fig = plt.gcf()\n",
    "fig.set_size_inches((12,5))"
   ]
  },
  {
   "cell_type": "markdown",
   "metadata": {},
   "source": [
    "We have sorted the data for better visualization. At a simple glance we can see that both partitions can be different. We can better check this effect plotting the clusters values of one technique against the other."
   ]
  },
  {
   "cell_type": "code",
   "execution_count": 76,
   "metadata": {},
   "outputs": [
    {
     "data": {
      "text/plain": [
       "[<matplotlib.lines.Line2D at 0x1a1c205be0>]"
      ]
     },
     "execution_count": 76,
     "metadata": {},
     "output_type": "execute_result"
    },
    {
     "data": {
      "image/png": "[encoded data removed]",
      "text/plain": [
       "<Figure size 432x288 with 1 Axes>"
      ]
     },
     "metadata": {
      "needs_background": "light"
     },
     "output_type": "display_data"
    }
   ],
   "source": [
    "plt.plot(y_pred_drop+0.2*np.random.rand(35),y_pred_fill+0.2*np.random.rand(35),'bo')"
   ]
  },
  {
   "cell_type": "markdown",
   "metadata": {},
   "source": [
    "Well, looking at both methods, both may yield the same results, but not necessarily always. WHY?"
   ]
  },
  {
   "cell_type": "markdown",
   "metadata": {},
   "source": [
    "This is mainly due to two aspects: the random initialization of the k-means clustering and the fact that each method works in a different space (dropped data vs filled-in data). \n",
    "\n",
    "Let us check the list of countries in both methods. Do not consider the cluster value, since it is irrelevant."
   ]
  },
  {
   "cell_type": "code",
   "execution_count": 77,
   "metadata": {},
   "outputs": [
    {
     "name": "stdout",
     "output_type": "stream",
     "text": [
      "Cluster 0: \n",
      "['Bulgaria', 'Croatia', 'Czech Republic', 'Italy', 'Japan', 'Romania', 'Slovakia']\n",
      "Cluster 0: \n",
      "['Bulgaria', 'Croatia', 'Czech Republic', 'Germany', 'Hungary', 'Italy', 'Japan', 'Romania', 'Slovakia']\n",
      "\n",
      "\n",
      "Cluster 1: \n",
      "['Belgium', 'Cyprus', 'Denmark', 'Finland', 'Iceland', 'Ireland', 'Malta', 'Norway', 'Sweden']\n",
      "Cluster 1: \n",
      "['Cyprus', 'Denmark', 'Estonia', 'Iceland', 'Malta', 'Norway', 'Sweden', 'Switzerland']\n",
      "\n",
      "\n",
      "Cluster 2: \n",
      "['Austria', 'Estonia', 'EU13', 'EU15', 'EU25', 'EU27', 'France', 'Germany', 'Hungary', 'Latvia', 'Lithuania', 'Netherlands', 'Poland', 'Portugal', 'Slovenia', 'Spain', 'Switzerland', 'United Kingdom', 'United States']\n",
      "Cluster 2: \n",
      "['Austria', 'Belgium', 'EU13', 'EU15', 'EU25', 'EU27', 'Finland', 'France', 'Ireland', 'Latvia', 'Lithuania', 'Netherlands', 'Poland', 'Portugal', 'Slovenia', 'Spain', 'United Kingdom', 'United States']\n",
      "\n",
      "\n"
     ]
    }
   ],
   "source": [
    "print('Cluster 0: \\n' + str([wrk_countries_names[i] for i,item in enumerate(y_pred_drop) if item==0]))\n",
    "print('Cluster 0: \\n' + str([wrk_countries_names[i] for i,item in enumerate(y_pred_fill) if item==0]))\n",
    "print('\\n')\n",
    "print('Cluster 1: \\n' + str([wrk_countries_names[i] for i,item in enumerate(y_pred_drop) if item==1]))\n",
    "print('Cluster 1: \\n' + str([wrk_countries_names[i] for i,item in enumerate(y_pred_fill) if item==1]))\n",
    "print('\\n')\n",
    "print('Cluster 2: \\n' + str([wrk_countries_names[i] for i,item in enumerate(y_pred_drop) if item==2]))\n",
    "print('Cluster 2: \\n' + str([wrk_countries_names[i] for i,item in enumerate(y_pred_fill) if item==2]))\n",
    "print('\\n')\n"
   ]
  },
  {
   "cell_type": "markdown",
   "metadata": {},
   "source": [
    "## 5.4 Shell we consider a data normalization?"
   ]
  },
  {
   "cell_type": "markdown",
   "metadata": {},
   "source": [
    "We have been a little careless and proceeded with the clustering of data, without any normalization. Let us go into a little more detail in the data. For the sake of simplicity, let us work just with the drop set."
   ]
  },
  {
   "cell_type": "code",
   "execution_count": 78,
   "metadata": {},
   "outputs": [
    {
     "data": {
      "text/plain": [
       "[<matplotlib.lines.Line2D at 0x1a1c4a8898>]"
      ]
     },
     "execution_count": 78,
     "metadata": {},
     "output_type": "execute_result"
    },
    {
     "data": {
      "image/png": "[encoded data removed]",
      "text/plain": [
       "<Figure size 432x288 with 1 Axes>"
      ]
     },
     "metadata": {
      "needs_background": "light"
     },
     "output_type": "display_data"
    }
   ],
   "source": [
    "from sklearn.preprocessing import StandardScaler\n",
    "\n",
    "y_pred_drop_unnorm=y_pred_drop.copy()\n",
    "X_train = edudrop.values\n",
    "scaler = StandardScaler() #Standardize features by removing the mean and scaling to unit variance\n",
    "X_train = scaler.fit_transform(X_train)\n",
    "\n",
    "clf.fit(X_train)\n",
    "y_pred_drop = clf.predict(X_train)\n",
    "\n",
    "#visuaize it\n",
    "plt.plot(y_pred_drop+0.2*np.random.rand(35),y_pred_drop_unnorm+0.2*np.random.rand(35),'bo')"
   ]
  },
  {
   "cell_type": "markdown",
   "metadata": {},
   "source": [
    "**QUIZ:** In this case it seems both clustering techniques yield almost the same clusters. Why do you think both yield almost the same results? "
   ]
  },
  {
   "cell_type": "markdown",
   "metadata": {},
   "source": [
    " Let us now check the clusters:"
   ]
  },
  {
   "cell_type": "code",
   "execution_count": 79,
   "metadata": {},
   "outputs": [
    {
     "name": "stdout",
     "output_type": "stream",
     "text": [
      "Cluster 0: \n",
      "['Bulgaria', 'Croatia', 'Czech Republic', 'Hungary', 'Italy', 'Japan', 'Latvia', 'Romania', 'Slovakia', 'Spain']\n",
      "Cluster 1: \n",
      "['Cyprus', 'Denmark', 'Finland', 'Iceland', 'Ireland', 'Malta', 'Norway', 'Sweden', 'United Kingdom']\n",
      "Cluster 2: \n",
      "['Austria', 'Belgium', 'Estonia', 'EU13', 'EU15', 'EU25', 'EU27', 'France', 'Germany', 'Lithuania', 'Netherlands', 'Poland', 'Portugal', 'Slovenia', 'Switzerland', 'United States']\n"
     ]
    }
   ],
   "source": [
    "print('Cluster 0: \\n' + str([wrk_countries_names[i] for i,item in enumerate(y_pred_drop) if item==0]))\n",
    "\n",
    "print('Cluster 1: \\n' + str([wrk_countries_names[i] for i,item in enumerate(y_pred_drop) if item==1]))\n",
    "\n",
    "print('Cluster 2: \\n' + str([wrk_countries_names[i] for i,item in enumerate(y_pred_drop) if item==2]))"
   ]
  },
  {
   "cell_type": "markdown",
   "metadata": {},
   "source": [
    "## 5.5 How to find the average expenditure per cluster?"
   ]
  },
  {
   "cell_type": "markdown",
   "metadata": {},
   "source": [
    "And check the profile of the clusters by looking at the centroids:"
   ]
  },
  {
   "cell_type": "code",
   "execution_count": 80,
   "metadata": {},
   "outputs": [
    {
     "data": {
      "image/png": "[encoded data removed]",
      "text/plain": [
       "<Figure size 576x360 with 1 Axes>"
      ]
     },
     "metadata": {
      "needs_background": "light"
     },
     "output_type": "display_data"
    }
   ],
   "source": [
    "width=0.3\n",
    "p1 = plt.bar(np.arange(8),scaler.inverse_transform(clf.cluster_centers_[1]),width,color='b')\n",
    "        # Scale back the data to the original representation\n",
    "    \n",
    "p2 = plt.bar(np.arange(8)+width,scaler.inverse_transform(clf.cluster_centers_[2]),width,color='yellow')\n",
    "p0 = plt.bar(np.arange(8)+2*width,scaler.inverse_transform(clf.cluster_centers_[0]),width,color='r')\n",
    "\n",
    "#visualize\n",
    "plt.legend( (p0[0], p1[0], p2[0]), ('Cluster 0', 'Cluster 1', 'Cluster 2') ,loc=9)\n",
    "plt.xticks(np.arange(8) + 0.5, np.arange(8),size=12)\n",
    "plt.yticks(size=12)\n",
    "fig = plt.gcf()\n",
    "fig.set_size_inches((8,5))"
   ]
  },
  {
   "cell_type": "markdown",
   "metadata": {},
   "source": [
    "It looks like cluster `1` spends more on education while cluster `0` is the one with less resources on education. \n",
    "\n",
    "### And what about Spain?\n",
    "\n",
    "Let us refine a little bit more cluster `0` and check how close are members from this cluster to cluster `1`. This may give us a hint on a possible ordering. "
   ]
  },
  {
   "cell_type": "code",
   "execution_count": 81,
   "metadata": {},
   "outputs": [],
   "source": [
    "from scipy.spatial import distance\n",
    "\n",
    "p = distance.cdist(X_train[y_pred_drop==0,:],[clf.cluster_centers_[1]],'euclidean') \n",
    "                              #the distance of the elements of cluster 0 to the center of cluster 1"
   ]
  },
  {
   "cell_type": "code",
   "execution_count": 82,
   "metadata": {},
   "outputs": [
    {
     "data": {
      "text/plain": [
       "([<matplotlib.axis.XTick at 0x1a1b506d30>,\n",
       "  <matplotlib.axis.XTick at 0x1a1b5066a0>,\n",
       "  <matplotlib.axis.XTick at 0x1a1b5063c8>,\n",
       "  <matplotlib.axis.XTick at 0x1a1c5fc8d0>,\n",
       "  <matplotlib.axis.XTick at 0x1a1c5fcda0>,\n",
       "  <matplotlib.axis.XTick at 0x1a1b50f400>,\n",
       "  <matplotlib.axis.XTick at 0x1a1c5f2550>,\n",
       "  <matplotlib.axis.XTick at 0x1a1c5f2a58>,\n",
       "  <matplotlib.axis.XTick at 0x1a1c5f2f60>,\n",
       "  <matplotlib.axis.XTick at 0x1a1c6054a8>],\n",
       " <a list of 10 Text xticklabel objects>)"
      ]
     },
     "execution_count": 82,
     "metadata": {},
     "output_type": "execute_result"
    },
    {
     "data": {
      "image/png": "[encoded data removed]",
      "text/plain": [
       "<Figure size 432x288 with 1 Axes>"
      ]
     },
     "metadata": {
      "needs_background": "light"
     },
     "output_type": "display_data"
    }
   ],
   "source": [
    "\n",
    "plt.bar(np.arange(p.shape[0]), p.flatten())\n",
    "\n",
    "wrk_countries_names = [countries[i] for i,item in enumerate(wrk_countries) if item ]\n",
    "zero_countries_names = [wrk_countries_names[i] for i,item in enumerate(y_pred_drop) if item==0]\n",
    "plt.xticks(np.arange(len(zero_countries_names)),zero_countries_names,rotation=90,horizontalalignment='left',fontsize=12)"
   ]
  },
  {
   "cell_type": "markdown",
   "metadata": {},
   "source": [
    "Well, it seems that Spain belongs to cluster `0`, it is the closest to change to a policy in the lines of the other clusters."
   ]
  },
  {
   "cell_type": "markdown",
   "metadata": {},
   "source": [
    "Additionally, we can also check the distance to the centroid of cluster `0`."
   ]
  },
  {
   "cell_type": "code",
   "execution_count": 83,
   "metadata": {},
   "outputs": [
    {
     "data": {
      "text/plain": [
       "<matplotlib.legend.Legend at 0x1a1adbeeb8>"
      ]
     },
     "execution_count": 83,
     "metadata": {},
     "output_type": "execute_result"
    },
    {
     "data": {
      "image/png": "[encoded data removed]",
      "text/plain": [
       "<Figure size 432x288 with 1 Axes>"
      ]
     },
     "metadata": {
      "needs_background": "light"
     },
     "output_type": "display_data"
    }
   ],
   "source": [
    "from scipy.spatial import distance\n",
    "\n",
    "p = distance.cdist(X_train[y_pred_drop==0,:],[clf.cluster_centers_[1]],'euclidean')\n",
    "pown = distance.cdist(X_train[y_pred_drop==0,:],[clf.cluster_centers_[0]],'euclidean')\n",
    "\n",
    "width=0.45\n",
    "p0=plt.bar(np.arange(p.shape[0]),p.flatten(),width)\n",
    "p1=plt.bar(np.arange(p.shape[0])+width,pown.flatten(),width,color = 'red')\n",
    "\n",
    "wrk_countries_names = [countries[i] for i,item in enumerate(wrk_countries) if item ]\n",
    "zero_countries_names = [wrk_countries_names[i] for i,item in enumerate(y_pred_drop) if item==0]\n",
    "plt.xticks(np.arange(len(zero_countries_names)),zero_countries_names,rotation=90,horizontalalignment='left',fontsize=12)\n",
    "plt.legend( (p0[0], p1[0]), ('d -> 1', 'd -> 0') ,loc=2)\n"
   ]
  },
  {
   "cell_type": "markdown",
   "metadata": {},
   "source": [
    "## 5.6 The number of clusters\n",
    "The number of cluster has been arbitrarely chosen. We will explore the **elbow/knee technique** for looking for a \"good\" number $K$. Other references for finding the number of clusters are the GAP statistic or $f(K)$ (Pham et al. 2004) among others."
   ]
  },
  {
   "cell_type": "markdown",
   "metadata": {},
   "source": [
    "###  The elbow technique\n",
    "\n",
    "By the definition of clustering, we want clusters to be compact. The notion of compactness can be measured by checking the distance of the members of the cluster to its centroid. The average distance to its centroid is a naive measure of the overall quality of the cluster. The elbow technique distinguish two phases in the process of checking this value against the number of clusters. In the first phase, the average will decrease dramatically. In the second phase, it will slowly stabilize. The elbow technique consists of selecting the value, where this transition occurs. This can not always be easily found. "
   ]
  },
  {
   "cell_type": "code",
   "execution_count": 84,
   "metadata": {},
   "outputs": [
    {
     "data": {
      "image/png": "[encoded data removed]",
      "text/plain": [
       "<Figure size 1008x432 with 2 Axes>"
      ]
     },
     "metadata": {
      "needs_background": "light"
     },
     "output_type": "display_data"
    }
   ],
   "source": [
    "import numpy as np\n",
    "import matplotlib.pyplot as plt\n",
    "#Create some data\n",
    "MAXN=40\n",
    "X = np.concatenate([1.25*np.random.randn(MAXN,2),5+1.5*np.random.randn(MAXN,2)]) \n",
    "X = np.concatenate([X,[8,3]+1*np.random.randn(MAXN,2)])\n",
    "\n",
    "#Just for visualization purposes\n",
    "y = np.concatenate([np.ones((MAXN,1)),2*np.ones((MAXN,1))])\n",
    "y = np.concatenate([y,3*np.ones((MAXN,1))])\n",
    "\n",
    "plt.subplot(1,2,1)\n",
    "plt.scatter(X[:,0],X[:,1],color='r')\n",
    "plt.title('Data as we see it', size=14)\n",
    "\n",
    "plt.subplot(1,2,2)\n",
    "plt.scatter(X[(y==1).ravel(),0],X[(y==1).ravel(),1],color='r')\n",
    "plt.scatter(X[(y==2).ravel(),0],X[(y==2).ravel(),1],color='b')\n",
    "plt.scatter(X[(y==3).ravel(),0],X[(y==3).ravel(),1],color='g')\n",
    "plt.title('Data as it was generated',size=14)\n",
    "fig=plt.gcf()\n",
    "fig.set_size_inches((14,6))"
   ]
  },
  {
   "cell_type": "code",
   "execution_count": 85,
   "metadata": {},
   "outputs": [
    {
     "data": {
      "image/png": "[encoded data removed]",
      "text/plain": [
       "<Figure size 1008x288 with 2 Axes>"
      ]
     },
     "metadata": {
      "needs_background": "light"
     },
     "output_type": "display_data"
    }
   ],
   "source": [
    "from sklearn import cluster\n",
    "from sklearn import metrics\n",
    "\n",
    "pp=[]\n",
    "iter=20\n",
    "s=[]\n",
    "for K in range(2,iter):\n",
    "    clf = cluster.KMeans(init='random', n_clusters=K, random_state=0)\n",
    "    clf.fit(X)\n",
    "    pp.append(clf.inertia_)\n",
    "    s.append(metrics.silhouette_score(X, clf.labels_,  metric='euclidean'))\n",
    "\n",
    "plt.subplot(1,2,1)\n",
    "plt.plot(np.arange(2,iter), pp)\n",
    "plt.title('Inertia')\n",
    "\n",
    "plt.subplot(1,2,2)\n",
    "plt.plot(np.arange(2,iter),s,color='r')\n",
    "plt.title('Sillhouette')\n",
    "fig = plt.gcf()\n",
    "fig.set_size_inches((14,4))"
   ]
  },
  {
   "cell_type": "markdown",
   "metadata": {},
   "source": [
    "Checking at this graph it seems that $3$ is a good number of clusters. "
   ]
  },
  {
   "cell_type": "markdown",
   "metadata": {},
   "source": [
    "Going back to the Eurostat data?"
   ]
  },
  {
   "cell_type": "code",
   "execution_count": 86,
   "metadata": {},
   "outputs": [
    {
     "data": {
      "image/png": "[encoded data removed]",
      "text/plain": [
       "<Figure size 1008x288 with 2 Axes>"
      ]
     },
     "metadata": {
      "needs_background": "light"
     },
     "output_type": "display_data"
    }
   ],
   "source": [
    "from sklearn import cluster\n",
    "\n",
    "d=[]\n",
    "s=[]\n",
    "for K in range(2,10):\n",
    "    clf = cluster.KMeans(init='random', n_clusters=K, random_state=0)\n",
    "    clf.fit(X_train)\n",
    "    d.append(clf.inertia_)\n",
    "    s.append(metrics.silhouette_score(X_train, clf.labels_,  metric='euclidean'))\n",
    "\n",
    "plt.subplot(1,2,1)\n",
    "plt.plot(np.arange(2,10),d)\n",
    "plt.subplot(1,2,2)\n",
    "plt.plot(np.arange(2,10),s,color='r')\n",
    "fig = plt.gcf()\n",
    "fig.set_size_inches((14,4))\n"
   ]
  },
  {
   "cell_type": "markdown",
   "metadata": {},
   "source": [
    "It looks like $4$ can be a better choice. "
   ]
  },
  {
   "cell_type": "markdown",
   "metadata": {},
   "source": [
    "Let us redo the clustering with $K=4$ and see what we can conclude."
   ]
  },
  {
   "cell_type": "code",
   "execution_count": 87,
   "metadata": {},
   "outputs": [],
   "source": [
    "X_train = edudrop.values\n",
    "clf = cluster.KMeans(init='k-means++', n_clusters=4, random_state=0)\n",
    "clf.fit(X_train)\n",
    "y_pred = clf.predict(X_train)"
   ]
  },
  {
   "cell_type": "code",
   "execution_count": 88,
   "metadata": {},
   "outputs": [
    {
     "data": {
      "image/png": "[encoded data removed]",
      "text/plain": [
       "<Figure size 864x360 with 1 Axes>"
      ]
     },
     "metadata": {
      "needs_background": "light"
     },
     "output_type": "display_data"
    }
   ],
   "source": [
    "idx=y_pred.argsort()\n",
    "plt.plot(np.arange(35),y_pred[idx],'ro')\n",
    "wrk_countries_names = [countries[i] for i,item in enumerate(wrk_countries) if item ]\n",
    "\n",
    "plt.xticks(np.arange(len(wrk_countries_names)),[wrk_countries_names[i] for i in idx],rotation=90,horizontalalignment='left',fontsize=12)\n",
    "plt.title('Using drop features',size=15)\n",
    "fig = plt.gcf()\n",
    "fig.set_size_inches((12,5))"
   ]
  },
  {
   "cell_type": "code",
   "execution_count": 89,
   "metadata": {},
   "outputs": [
    {
     "data": {
      "image/png": "[encoded data removed]",
      "text/plain": [
       "<Figure size 1008x360 with 1 Axes>"
      ]
     },
     "metadata": {
      "needs_background": "light"
     },
     "output_type": "display_data"
    }
   ],
   "source": [
    "width=0.2\n",
    "p0 = plt.bar(np.arange(8)+1*width,clf.cluster_centers_[0],width,color='r')\n",
    "p1 = plt.bar(np.arange(8),clf.cluster_centers_[1],width,color='b')\n",
    "p2 = plt.bar(np.arange(8)+3*width,clf.cluster_centers_[2],width,color='yellow')\n",
    "p3 = plt.bar(np.arange(8)+2*width,clf.cluster_centers_[3],width,color='pink')\n",
    "\n",
    "plt.legend( (p0[0], p1[0], p2[0], p3[0]), ('Cluster 0', 'Cluster 1', 'Cluster 2', 'Cluster 3') ,loc=9)\n",
    "plt.xticks(np.arange(8) + 0.5, np.arange(8),size=12)\n",
    "plt.yticks(size=12)\n",
    "fig = plt.gcf()\n",
    "fig.set_size_inches((14,5))"
   ]
  },
  {
   "cell_type": "markdown",
   "metadata": {},
   "source": [
    "Spain is still in cluster `0`. But as we observed in our previous clustering it was very close to changing cluster. This time cluster `0` includes the averages values for the EU members. Just for the sake of completeness, let us write down the name of the countries in the clusters."
   ]
  },
  {
   "cell_type": "code",
   "execution_count": 90,
   "metadata": {},
   "outputs": [
    {
     "name": "stdout",
     "output_type": "stream",
     "text": [
      "Cluster 0: \n",
      "['Austria', 'Estonia', 'EU13', 'EU15', 'EU25', 'EU27', 'France', 'Germany', 'Hungary', 'Latvia', 'Lithuania', 'Netherlands', 'Poland', 'Portugal', 'Slovenia', 'Spain', 'Switzerland', 'United Kingdom', 'United States']\n",
      "Cluster 1: \n",
      "['Bulgaria', 'Croatia', 'Czech Republic', 'Italy', 'Japan', 'Romania', 'Slovakia']\n",
      "Cluster 2: \n",
      "['Cyprus', 'Denmark', 'Iceland']\n",
      "Cluster 3: \n",
      "['Belgium', 'Finland', 'Ireland', 'Malta', 'Norway', 'Sweden']\n"
     ]
    }
   ],
   "source": [
    "print('Cluster 0: \\n' + str([wrk_countries_names[i] for i,item in enumerate(y_pred) if item==0]))\n",
    "print('Cluster 1: \\n' + str([wrk_countries_names[i] for i,item in enumerate(y_pred) if item==1]))\n",
    "print('Cluster 2: \\n' + str([wrk_countries_names[i] for i,item in enumerate(y_pred) if item==2]))\n",
    "print('Cluster 3: \\n' + str([wrk_countries_names[i] for i,item in enumerate(y_pred) if item==3]))\n",
    "\n",
    "#Save data for future use.\n",
    "import pickle\n",
    "ofname = open('edu2010.pkl', 'wb')\n",
    "s = pickle.dump([edu2010, wrk_countries_names,y_pred ],ofname)\n",
    "ofname.close()"
   ]
  },
  {
   "cell_type": "markdown",
   "metadata": {},
   "source": [
    "<div class=\"alert alert-info\">TAKE HOME NOTES:\n",
    "<p>\n",
    "<ul>\n",
    "<li>K-means is a simple, but quite powerful clustering partition technique.\n",
    "<li>It is very sensitive to variance differences on the features / features at different scales.\n",
    "<li>It is resistant to irrelevant dimensions as far as they do not introduce biases.\n",
    "</ul>\n",
    "</div>"
   ]
  },
  {
   "cell_type": "markdown",
   "metadata": {},
   "source": [
    "## 5.7 Alternative: Spectral clustering"
   ]
  },
  {
   "cell_type": "markdown",
   "metadata": {},
   "source": [
    "We can repeat the process using the alternative clustering techniques and compare their results. Let us first apply the **spectral clustering**. The corresponding code will be:"
   ]
  },
  {
   "cell_type": "code",
   "execution_count": 91,
   "metadata": {},
   "outputs": [],
   "source": [
    "from scipy.cluster.hierarchy import linkage, dendrogram\n",
    "from scipy.spatial.distance import pdist\n",
    "from sklearn.preprocessing import StandardScaler\n",
    "from sklearn.neighbors import kneighbors_graph\n",
    "from sklearn.metrics import euclidean_distances\n",
    "\n",
    "X = StandardScaler().fit_transform(edudrop.values)\n",
    " \n",
    "distances = euclidean_distances(edudrop.values)\n",
    "    \n",
    "spectral = cluster.SpectralClustering(n_clusters=4, affinity=\"nearest_neighbors\")\n",
    "spectral.fit(edudrop.values)\n",
    " \n",
    "y_pred = spectral.labels_.astype(np.int)"
   ]
  },
  {
   "cell_type": "markdown",
   "metadata": {},
   "source": [
    "If we visualize the results:"
   ]
  },
  {
   "cell_type": "code",
   "execution_count": 92,
   "metadata": {},
   "outputs": [
    {
     "data": {
      "image/png": "[encoded data removed]",
      "text/plain": [
       "<Figure size 792x360 with 1 Axes>"
      ]
     },
     "metadata": {
      "needs_background": "light"
     },
     "output_type": "display_data"
    }
   ],
   "source": [
    "idx=y_pred.argsort()\n",
    "\n",
    "plt.plot(np.arange(35),y_pred[idx],'ro')\n",
    "wrk_countries_names = [countries[i] for i,item in enumerate(wrk_countries) if item ]\n",
    "\n",
    "plt.xticks(np.arange(len(wrk_countries_names)),[wrk_countries_names[i] \n",
    "        for i in idx],rotation=90,horizontalalignment='left',fontsize=12)\n",
    "\n",
    "plt.yticks([0,1,2,3])\n",
    "\n",
    "plt.title('Applying Spectral Clustering on the drop features',size=15)\n",
    "fig = plt.gcf()\n",
    "fig.set_size_inches((11,5))"
   ]
  },
  {
   "cell_type": "markdown",
   "metadata": {},
   "source": [
    "**Note** that in general, the spectral clustering intends to obtain more balanced clusters. "
   ]
  },
  {
   "cell_type": "markdown",
   "metadata": {},
   "source": [
    "## 5.8 Applying the hierarchical clustering to agglomerate countries"
   ]
  },
  {
   "cell_type": "markdown",
   "metadata": {},
   "source": [
    "Applying the agglomerative clustering, we obtain not only the different clusters, but also we can see how different clusters are obtained. This, in some way it is giving us information on which are the pairs of countries and clusters that are most similar. The corresponding code that applies the agglomerative clustering is:"
   ]
  },
  {
   "cell_type": "code",
   "execution_count": 93,
   "metadata": {},
   "outputs": [
    {
     "data": {
      "image/png": "[encoded data removed]",
      "text/plain": [
       "<Figure size 525.6x525.6 with 1 Axes>"
      ]
     },
     "metadata": {
      "needs_background": "light"
     },
     "output_type": "display_data"
    }
   ],
   "source": [
    "X_train = edudrop.values\n",
    "\n",
    "dist = pdist(X_train,'euclidean')\n",
    "\n",
    "linkage_matrix = linkage(dist,method = 'complete');\n",
    "plt.figure(figsize=(7.3, 7.3))  # we need a tall figure\n",
    "\n",
    "dendrogram(linkage_matrix, orientation=\"right\", color_threshold = 2,labels = \n",
    "           wrk_countries_names, leaf_font_size=10);\n",
    "\n",
    "plt.tight_layout()  # fixes margins"
   ]
  },
  {
   "cell_type": "markdown",
   "metadata": {},
   "source": [
    "In scikit-learn, the parameter color_threshold colors all the descendent links below a cluster node k the same color if k is the first node below the color threshold. All links connecting nodes with distances greater than or equal to the threshold are colored blue. Thus, if we use color threshold = 2, the obtained clusters are as follows:\n",
    "\n",
    "- Cluster 0: ['Cyprus', 'Denmark', 'Iceland']\n",
    "- Cluster 1: ['Bulgaria', 'Croatia', 'Czech Republic', 'Italy', 'Japan', 'Romania', 'Slovakia']\n",
    "- Cluster 2: ['Belgium', 'Finland', 'Ireland', 'Malta', 'Norway', 'Sweden']\n",
    "- Cluster 3: ['Austria', 'Estonia', 'EU13', 'EU15', 'EU25', 'EU27', 'France', 'Germany', 'Hungary', 'Latvia', 'Lithuania', 'Netherlands', 'Poland', 'Portugal', 'Slovenia', 'Spain', 'Switzerland', 'United Kingdom', 'United States']\n",
    "\n",
    "Note that they correspond in high degree to the clusters obtained by the K-means (except permutation of clusters labels that is irrelevant). The figure shows the construction of the clusters using the complete linkage agglomerative clustering. Different cuts at different levels of the dendrogram allow to obtain different number of clusters. As a summary, let us compare the results of the three approaches of clustering. We cannot expect that the results coincide since different approaches are based on different criteria to construct the clusters. Still, we can observe that in this case K-means and the agglomerative approaches gave the same results (up to a permutation of the number of cluster that is irrelevant), meanwhile the spectral clustering gave more evenly distributed clusters.  Note that these results can change when using different distance between data."
   ]
  },
  {
   "cell_type": "markdown",
   "metadata": {},
   "source": [
    "<small><i> This notebook was created by [Petia Radeva](http://www.cvc.uab.es/~petia) and [Oriol Pujol Vila](http://www.maia.ub.es/~oriol). Last edition: 5 of February, 2019.</i></small>"
   ]
  },
  {
   "cell_type": "code",
   "execution_count": null,
   "metadata": {},
   "outputs": [],
   "source": []
  },
  {
   "cell_type": "code",
   "execution_count": null,
   "metadata": {},
   "outputs": [],
   "source": []
  },
  {
   "cell_type": "code",
   "execution_count": null,
   "metadata": {},
   "outputs": [],
   "source": []
  },
  {
   "cell_type": "code",
   "execution_count": null,
   "metadata": {},
   "outputs": [],
   "source": []
  },
  {
   "cell_type": "code",
   "execution_count": null,
   "metadata": {},
   "outputs": [],
   "source": []
  }
 ],
 "metadata": {
  "anaconda-cloud": {},
  "kernelspec": {
   "display_name": "Python 3",
   "language": "python",
   "name": "python3"
  },
  "language_info": {
   "codemirror_mode": {
    "name": "ipython",
    "version": 3
   },
   "file_extension": ".py",
   "mimetype": "text/x-python",
   "name": "python",
   "nbconvert_exporter": "python",
   "pygments_lexer": "ipython3",
   "version": "3.7.2"
  }
 },
 "nbformat": 4,
 "nbformat_minor": 1
}
