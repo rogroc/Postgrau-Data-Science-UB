{
 "cells": [
  {
   "cell_type": "markdown",
   "metadata": {
    "slideshow": {
     "slide_type": "slide"
    }
   },
   "source": [
    "<small><i>Updated February 2020 - This notebook was created by [Santi Seguí](https://ssegui.github.io/). </i></small>"
   ]
  },
  {
   "cell_type": "markdown",
   "metadata": {},
   "source": [
    "<div class=\"alert alert-info\" style = \"border-radius:10px;border-width:3px;border-color:darkblue;font-family:Verdana,sans-serif;font-size:16px;\">\n",
    "<h1>Recommenders Systems</h1><br>\n",
    "</div>\n",
    "<br>\n",
    "<h2>Overview of the seminar:</h2>\n",
    "<ul>\n",
    "    <li>What is a recommenders systems?</li>\n",
    "    <li>How the recommenders systems work?</li>\n",
    "    <li>How to evaluate the succes?</li>\n",
    "    <li>How to build a recommendation system? </li>\n",
    "</ul>"
   ]
  },
  {
   "cell_type": "markdown",
   "metadata": {
    "slideshow": {
     "slide_type": "slide"
    }
   },
   "source": [
    "### Why do we need a recommendation system?\n",
    "#### Steve Jobs, 1997 : “A lot of times, people doesn’t know what they want until you show it to them…”  \n",
    "#### Chris Anderson, from the Long Tail Book - 2008: “We are leaving the information age, and entering into the recommendation age”\n",
    "![alt Amazon](images/amoutdata.png)"
   ]
  },
  {
   "cell_type": "markdown",
   "metadata": {
    "slideshow": {
     "slide_type": "slide"
    }
   },
   "source": [
    "![alt Amazon](images/longtail.png)"
   ]
  },
  {
   "cell_type": "markdown",
   "metadata": {
    "slideshow": {
     "slide_type": "slide"
    }
   },
   "source": [
    "Some of the various potential benefits of recommendation systems in business, and the companies that use them:\n",
    "* **“Improving with use” (retention)**\n",
    "    * Ability to continuously calibrate to the preferences of the user. You’re much less likely to switch to a Netflix competitor when Netflix has such a wonderful sense of which movies and shows you might want to watch next \n",
    "* **Improving cart value**\n",
    "    * Help the companies to decide what to offer (to have in their catalog)\n",
    "\n",
    "* **Improved engagement and delight**\n",
    "    * Long-term or short term optimization.  YouTube doesn’t optimize for short-term view length, as this might encourage pushy or flashy tactics that wouldn’t genuinely delight users. Instead, the service aims to encourage long-term use, because advertising views is the ROI that these systems serve at YouTube"
   ]
  },
  {
   "cell_type": "markdown",
   "metadata": {
    "slideshow": {
     "slide_type": "slide"
    }
   },
   "source": [
    "<div class=\"alert alert-success\" style = \"border-radius:10px;border-width:3px;border-color:darkgreen;font-family:Verdana,sans-serif\"><a class=\"anchor\" id=\"what-is-a-recommender\"></a><h3>What is a recommeder systems?</h3><br></div>\n",
    "\n",
    "<p>Recommender systems are tools designed for interacting with large and complex information spaces and providing information or items that are likely to be of interest to the user, in an automated fashion. </p>\n",
    "<br>\n",
    "\n",
    "\n",
    "<br>"
   ]
  },
  {
   "cell_type": "markdown",
   "metadata": {
    "slideshow": {
     "slide_type": "slide"
    }
   },
   "source": [
    "Do we know daily examples of recommendation systems?:\n"
   ]
  },
  {
   "cell_type": "markdown",
   "metadata": {
    "slideshow": {
     "slide_type": "slide"
    }
   },
   "source": [
    "### Amazon:\n",
    "<img src=\"http://3.bp.blogspot.com/_skxW9kDLt_c/TLfnLNnlnmI/AAAAAAAAfY0/HLqtnI3tItM/s1600/recommender.PNG\" width=70%>\n",
    "<br>"
   ]
  },
  {
   "cell_type": "markdown",
   "metadata": {
    "slideshow": {
     "slide_type": "slide"
    }
   },
   "source": [
    "### NetFlix:\n",
    "<img src=\"https://dataaspirant.files.wordpress.com/2015/01/netflixrec01_616.jpg\" width=60%>\n",
    "<br>"
   ]
  },
  {
   "cell_type": "markdown",
   "metadata": {
    "slideshow": {
     "slide_type": "slide"
    }
   },
   "source": [
    "### Pandora:\n",
    "<img src=\"http://s.hswstatic.com/gif/pandora-hp.jpg\" width=60%>\n",
    "\n",
    "<br>"
   ]
  },
  {
   "cell_type": "markdown",
   "metadata": {
    "slideshow": {
     "slide_type": "slide"
    }
   },
   "source": [
    "### Linkedin: \n",
    "<img src=\"https://dataaspirant.files.wordpress.com/2015/01/linkedin.png\" width=40%>"
   ]
  },
  {
   "cell_type": "markdown",
   "metadata": {
    "slideshow": {
     "slide_type": "slide"
    }
   },
   "source": [
    "### Facebook (I):\n",
    "<img src=\"https://dataaspirant.files.wordpress.com/2015/01/8027583588_0232c7d836_z.jpg\" width=40%>"
   ]
  },
  {
   "cell_type": "markdown",
   "metadata": {
    "slideshow": {
     "slide_type": "slide"
    }
   },
   "source": [
    "\n",
    "\n",
    "\n",
    "\n",
    "### What they do and how they work?\n",
    "Recommneder systems use several  information from the users, in order to infer its preferences, it can be from explicit (rating, reviews) to implicit information (navitation, purchases,..) about items and our preferences. User profile and demographics are also important.\n",
    "\n",
    "\n",
    "\n",
    "\n"
   ]
  },
  {
   "cell_type": "markdown",
   "metadata": {
    "slideshow": {
     "slide_type": "slide"
    }
   },
   "source": [
    "### GOOD FOR:\n",
    "* Solution to large amounts of good data\n",
    "\n",
    "* Reduce cognitive load on users\n",
    "\n",
    "* Discover new things"
   ]
  },
  {
   "cell_type": "markdown",
   "metadata": {
    "slideshow": {
     "slide_type": "slide"
    }
   },
   "source": [
    "<div class=\"alert alert-error\" style = \"border-radius:10px;border-width:3px;border-color:darkred;font-family:Verdana,sans-serif;\">\n",
    "\n",
    "### CAUTION\n",
    "<p>\n",
    "<b>Trust is critical!!</b> Are you recommending me  what is good for me or what is good for you?\n",
    "</p>\n",
    "</div>\n",
    "\n",
    "\n",
    "\n"
   ]
  },
  {
   "cell_type": "markdown",
   "metadata": {
    "slideshow": {
     "slide_type": "slide"
    }
   },
   "source": [
    "How can we improve out trustness: <b>Being transparent!</b> Some examples:\n",
    "<img src=\"images/transparency1.png\" width=800>"
   ]
  },
  {
   "cell_type": "markdown",
   "metadata": {
    "slideshow": {
     "slide_type": "slide"
    }
   },
   "source": [
    "<img src=\"images/transparency2.png\" width=80%>"
   ]
  },
  {
   "cell_type": "markdown",
   "metadata": {
    "slideshow": {
     "slide_type": "slide"
    }
   },
   "source": [
    "<img src=\"images/transparency3.png\" width=80%>\n",
    "<hr>\n",
    "\n"
   ]
  },
  {
   "cell_type": "markdown",
   "metadata": {
    "slideshow": {
     "slide_type": "slide"
    }
   },
   "source": [
    "Another important rule:  <b> Not everything is allowed!!</b>\n",
    "<p> The ethics of recommender systems: There are things we should not recommend to someone even though we are sure he/she will like it. Ethics and cultural issues are critical and we have to care about it</p>\n",
    "\n",
    "<img src=https://isenbergmarketing.files.wordpress.com/2015/02/marks_year.jpg width=600>\n",
    "\n",
    "https://www.forbes.com/sites/amitchowdhry/2014/12/29/facebook-year-in-review-apology/#1ecfc4e85996"
   ]
  },
  {
   "cell_type": "markdown",
   "metadata": {
    "slideshow": {
     "slide_type": "slide"
    }
   },
   "source": [
    "### On Orbitz, Mac Users Steered to Pricier Hotels\n",
    "\n",
    " \n",
    "\"Just last week, The Wall Street Journal reported that the online travel-booking site Orbitz.com shows Mac computer users more expensive hotel recommendations than it shows PC users. Why? Apparently, marketing reports indicate that Mac users, who spend more on their computers, are also likely to pay up to 30% more for their hotel rooms. That fact isn’t surprising, as Macs have long been associated with a somewhat richer demographic than PCs have been. But the use of that information is somewhat novel. It is also controversial: In The Wall Street Journal article’s comments section, readers posted hundreds of comments. Some vowed never to use Orbitz again; others weren’t concerned by the practice.\"\n",
    "<img src=\"https://i1.wp.com/verdict.justia.com/wp-content/uploads/2012/07/iStock_000011396443XSmall.jpg?quality=100&resize=1200%2C440&strip=all&fit=1000%25\">\n",
    "\n",
    "https://www.wsj.com/articles/SB10001424052702304458604577488822667325882"
   ]
  },
  {
   "cell_type": "markdown",
   "metadata": {
    "slideshow": {
     "slide_type": "slide"
    }
   },
   "source": [
    "### Google’s algorithm shows prestigious job ads to men, but not to women. Here’s why that should worry you.\n",
    "<img src=\"https://static.independent.co.uk/s3fs-public/thumbnails/image/2015/07/07/14/google-search-ceo.jpg?w968\" widht = 80%>\n",
    "\n",
    "https://www.washingtonpost.com/news/the-intersect/wp/2015/07/06/googles-algorithm-shows-prestigious-job-ads-to-men-but-not-to-women-heres-why-that-should-worry-you/?noredirect=on&utm_term=.d25843c3bb48"
   ]
  },
  {
   "cell_type": "markdown",
   "metadata": {
    "slideshow": {
     "slide_type": "slide"
    }
   },
   "source": [
    "<div class=\"alert alert-success\" style = \"border-radius:10px;border-width:3px;border-color:darkgreen;font-family:Verdana,sans-serif;font-size:16px;\">\n",
    "        <h2>Types of Recomenders:</h2>\n",
    "         <br>\n",
    "</div>\n",
    "\n",
    "### Non-Personalized \n",
    "### Content-Based \n",
    "### Collaborative \n",
    "###  Hybrid Solutions\n"
   ]
  },
  {
   "cell_type": "markdown",
   "metadata": {
    "slideshow": {
     "slide_type": "slide"
    }
   },
   "source": [
    "### Non-Personalized filtering\n",
    "Non-personalized filtering are based on the description other users give to the item without using any information from the user itself. "
   ]
  },
  {
   "cell_type": "markdown",
   "metadata": {
    "slideshow": {
     "slide_type": "slide"
    }
   },
   "source": [
    "### Content-based filtering\n",
    "Content-based filtering methods are based on a description of the item and a profile of the user’s preference.\n",
    "        <br>Will recomend the items which are similar to the items we liked.\n",
    "        <br>Need to compute a similarity between items based on the content of the items.\n",
    "        <img src=https://dataaspirant.files.wordpress.com/2015/01/itembased1.png width=400>\n",
    "        <center>Original source: https://dataaspirant.files.wordpress.com</center>"
   ]
  },
  {
   "cell_type": "markdown",
   "metadata": {
    "slideshow": {
     "slide_type": "slide"
    }
   },
   "source": [
    "### Collaborative filtering\n",
    "Collaborative filtering methods are based on collecting and analyzing a large amount of information on users’ behaviors, activities or preferences and predicting what users will like based on their similarity to other users. \n",
    "<br><b>Hyphothesis: Similar users tend to like similar items.</b>\n",
    "<br><b>Requires a user community.</b>\n",
    "<br>\n",
    "\n",
    "<p><b>Several</b> methods but <b>one (or two main) </b> approaches\n",
    "<ol>\n",
    "\n",
    "<li>Memory-Based Methods (Neighborhood-based methods) </li>\n",
    "<li>Model-Based Methods</li>\n",
    "</ol>"
   ]
  },
  {
   "cell_type": "markdown",
   "metadata": {
    "slideshow": {
     "slide_type": "subslide"
    }
   },
   "source": [
    "Neighborhood-based method can be of two types: User-based and Item-based.\n",
    "* User-based CF: take a user U and a set of other users D whose ratings are similar to the ratings of the selected user U and use the ratings from those like-minded users to calculate a prediction for the selected user U.\n",
    "* In Item-based CF you build an item-item matrix determining relationships between pairs of items and using this matrix and data on the current user, infer the user’s taste. Typicaly domain: people who buy x also buy y\n",
    "\n",
    "<img src=https://dataaspirant.files.wordpress.com/2015/01/userbased.png width=600>\n",
    "<center>Original source: https://dataaspirant.files.wordpress.com</center>"
   ]
  },
  {
   "cell_type": "markdown",
   "metadata": {
    "slideshow": {
     "slide_type": "slide"
    }
   },
   "source": [
    "### Hybrid solutions\n",
    "\n",
    "Hybrid approaches can be implemented in several ways: by making content-based and collaborative-based predictions separately and then combining them; by adding content-based capabilities to a collaborative-based approach (and vice versa); or by unifying the approaches into one model. \n",
    "<img src=https://dataaspirant.files.wordpress.com/2015/01/people-who-liked-this-talk-also-liked-building-recommendation-systems-using-ruby-40-6381.jpg width=500>\n",
    "        <center>Original source: https://dataaspirant.files.wordpress.com</center>\n"
   ]
  },
  {
   "cell_type": "markdown",
   "metadata": {
    "slideshow": {
     "slide_type": "slide"
    }
   },
   "source": [
    "### Summary\n",
    "\n",
    "Content-Based\n",
    "* PROS: No community requiered, comparision between items possible from init.\n",
    "* CONS: Content description needed; Good explainability, no surprises.\n",
    "\n",
    "\n",
    "\n",
    "Collaborative\n",
    "* PROS: well-understood, works well in several domains; easy to be implemented.\n",
    "* CONS: Requieres a user community; sparsity problems; no explanation of results; cold-start for new users and items.\n",
    "\n",
    " </table>"
   ]
  },
  {
   "cell_type": "markdown",
   "metadata": {
    "slideshow": {
     "slide_type": "slide"
    }
   },
   "source": [
    "\n",
    "## What do we need to build a recommendation system?\n",
    "\n",
    "### Steps:\n",
    "+ Data recollection\n",
    "+ Data filtering/cleaning\n",
    "+ Item/user similarity function\n",
    "+ Learning/Prediction funciton"
   ]
  },
  {
   "cell_type": "code",
   "execution_count": null,
   "metadata": {},
   "outputs": [],
   "source": []
  }
 ],
 "metadata": {
  "anaconda-cloud": {},
  "celltoolbar": "Slideshow",
  "kernelspec": {
   "display_name": "Python 3",
   "language": "python",
   "name": "python3"
  },
  "language_info": {
   "codemirror_mode": {
    "name": "ipython",
    "version": 3
   },
   "file_extension": ".py",
   "mimetype": "text/x-python",
   "name": "python",
   "nbconvert_exporter": "python",
   "pygments_lexer": "ipython3",
   "version": "3.6.8"
  }
 },
 "nbformat": 4,
 "nbformat_minor": 1
}
