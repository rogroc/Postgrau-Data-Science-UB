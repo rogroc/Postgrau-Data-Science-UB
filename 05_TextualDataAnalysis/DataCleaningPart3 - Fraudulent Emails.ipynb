{
 "cells": [
  {
   "cell_type": "markdown",
   "metadata": {},
   "source": [
    "# Example: SMS: SPAM or HAM (Kaggle)"
   ]
  },
  {
   "cell_type": "code",
   "execution_count": 1,
   "metadata": {},
   "outputs": [],
   "source": [
    "import pandas as pd\n",
    "import matplotlib.pyplot as plt"
   ]
  },
  {
   "cell_type": "code",
   "execution_count": 2,
   "metadata": {},
   "outputs": [
    {
     "name": "stdout",
     "output_type": "stream",
     "text": [
      "(1000, 2)\n"
     ]
    }
   ],
   "source": [
    "## Read Data for the Fraudulent Email Kaggle Challenge\n",
    "data = pd.read_csv(\"data/kg_train.csv\",encoding='latin-1')\n",
    "\n",
    "# Reduce the training set to speead up development. \n",
    "# Modify for final system\n",
    "data = data.head(1000)\n",
    "print(data.shape)\n",
    "data.fillna(\"\",inplace=True)"
   ]
  },
  {
   "cell_type": "code",
   "execution_count": 3,
   "metadata": {},
   "outputs": [],
   "source": [
    "# Let's divide the training and test set into two partitions\n",
    "from sklearn.model_selection import train_test_split\n",
    "\n",
    "data_train, data_val, label_train, label_val = \\\n",
    "    train_test_split(data, data[\"label\"], test_size=0.3, random_state=5)"
   ]
  },
  {
   "cell_type": "code",
   "execution_count": 4,
   "metadata": {},
   "outputs": [
    {
     "data": {
      "text/html": [
       "<div>\n",
       "<style scoped>\n",
       "    .dataframe tbody tr th:only-of-type {\n",
       "        vertical-align: middle;\n",
       "    }\n",
       "\n",
       "    .dataframe tbody tr th {\n",
       "        vertical-align: top;\n",
       "    }\n",
       "\n",
       "    .dataframe thead th {\n",
       "        text-align: right;\n",
       "    }\n",
       "</style>\n",
       "<table border=\"1\" class=\"dataframe\">\n",
       "  <thead>\n",
       "    <tr style=\"text-align: right;\">\n",
       "      <th></th>\n",
       "      <th>text</th>\n",
       "      <th>label</th>\n",
       "    </tr>\n",
       "  </thead>\n",
       "  <tbody>\n",
       "    <tr>\n",
       "      <th>904</th>\n",
       "      <td>I will prepare for you to sign next week. Enjo...</td>\n",
       "      <td>0</td>\n",
       "    </tr>\n",
       "    <tr>\n",
       "      <th>132</th>\n",
       "      <td>fvi</td>\n",
       "      <td>0</td>\n",
       "    </tr>\n",
       "    <tr>\n",
       "      <th>942</th>\n",
       "      <td>Got it.On Mon May 4 2009 at 4:08 PM H &lt;HDR22@c...</td>\n",
       "      <td>0</td>\n",
       "    </tr>\n",
       "    <tr>\n",
       "      <th>784</th>\n",
       "      <td>NAME=3ADR=2E OLUSEGUN SMITHdr=2Eolusegun=2Esmi...</td>\n",
       "      <td>1</td>\n",
       "    </tr>\n",
       "    <tr>\n",
       "      <th>681</th>\n",
       "      <td>Fyi</td>\n",
       "      <td>0</td>\n",
       "    </tr>\n",
       "  </tbody>\n",
       "</table>\n",
       "</div>"
      ],
      "text/plain": [
       "                                                  text  label\n",
       "904  I will prepare for you to sign next week. Enjo...      0\n",
       "132                                                fvi      0\n",
       "942  Got it.On Mon May 4 2009 at 4:08 PM H <HDR22@c...      0\n",
       "784  NAME=3ADR=2E OLUSEGUN SMITHdr=2Eolusegun=2Esmi...      1\n",
       "681                                                Fyi      0"
      ]
     },
     "execution_count": 4,
     "metadata": {},
     "output_type": "execute_result"
    }
   ],
   "source": [
    "data_train.head()"
   ]
  },
  {
   "cell_type": "markdown",
   "metadata": {},
   "source": [
    "## Data Preprocessing"
   ]
  },
  {
   "cell_type": "code",
   "execution_count": 5,
   "metadata": {},
   "outputs": [
    {
     "name": "stdout",
     "output_type": "stream",
     "text": [
      "!\"#$%&'()*+,-./:;<=>?@[\\]^_`{|}~\n",
      "['here', 'there', 'when', 'where', 'why', 'how', 'all', 'any', 'both', 'each']\n"
     ]
    }
   ],
   "source": [
    "import string\n",
    "from nltk.corpus import stopwords\n",
    "print(string.punctuation)\n",
    "print(stopwords.words(\"english\")[100:110])\n",
    "from nltk.stem.snowball import SnowballStemmer\n",
    "snowball = SnowballStemmer('english')"
   ]
  },
  {
   "cell_type": "code",
   "execution_count": 6,
   "metadata": {},
   "outputs": [
    {
     "data": {
      "text/html": [
       "<div>\n",
       "<style scoped>\n",
       "    .dataframe tbody tr th:only-of-type {\n",
       "        vertical-align: middle;\n",
       "    }\n",
       "\n",
       "    .dataframe tbody tr th {\n",
       "        vertical-align: top;\n",
       "    }\n",
       "\n",
       "    .dataframe thead th {\n",
       "        text-align: right;\n",
       "    }\n",
       "</style>\n",
       "<table border=\"1\" class=\"dataframe\">\n",
       "  <thead>\n",
       "    <tr style=\"text-align: right;\">\n",
       "      <th></th>\n",
       "      <th>text</th>\n",
       "      <th>label</th>\n",
       "    </tr>\n",
       "  </thead>\n",
       "  <tbody>\n",
       "    <tr>\n",
       "      <th>904</th>\n",
       "      <td>I will prepare for you to sign next week. Enjo...</td>\n",
       "      <td>0</td>\n",
       "    </tr>\n",
       "    <tr>\n",
       "      <th>132</th>\n",
       "      <td>fvi</td>\n",
       "      <td>0</td>\n",
       "    </tr>\n",
       "    <tr>\n",
       "      <th>942</th>\n",
       "      <td>Got it.On Mon May 4 2009 at 4:08 PM H &lt;HDR22@c...</td>\n",
       "      <td>0</td>\n",
       "    </tr>\n",
       "    <tr>\n",
       "      <th>784</th>\n",
       "      <td>NAME=3ADR=2E OLUSEGUN SMITHdr=2Eolusegun=2Esmi...</td>\n",
       "      <td>1</td>\n",
       "    </tr>\n",
       "    <tr>\n",
       "      <th>681</th>\n",
       "      <td>Fyi</td>\n",
       "      <td>0</td>\n",
       "    </tr>\n",
       "  </tbody>\n",
       "</table>\n",
       "</div>"
      ],
      "text/plain": [
       "                                                  text  label\n",
       "904  I will prepare for you to sign next week. Enjo...      0\n",
       "132                                                fvi      0\n",
       "942  Got it.On Mon May 4 2009 at 4:08 PM H <HDR22@c...      0\n",
       "784  NAME=3ADR=2E OLUSEGUN SMITHdr=2Eolusegun=2Esmi...      1\n",
       "681                                                Fyi      0"
      ]
     },
     "execution_count": 6,
     "metadata": {},
     "output_type": "execute_result"
    }
   ],
   "source": [
    "data_train.head()"
   ]
  },
  {
   "cell_type": "code",
   "execution_count": 7,
   "metadata": {},
   "outputs": [
    {
     "name": "stderr",
     "output_type": "stream",
     "text": [
      "/Users/ssegui/anaconda/lib/python3.6/site-packages/pandas/core/indexing.py:362: SettingWithCopyWarning: \n",
      "A value is trying to be set on a copy of a slice from a DataFrame.\n",
      "Try using .loc[row_indexer,col_indexer] = value instead\n",
      "\n",
      "See the caveats in the documentation: http://pandas.pydata.org/pandas-docs/stable/indexing.html#indexing-view-versus-copy\n",
      "  self.obj[key] = _infer_fill_value(value)\n",
      "/Users/ssegui/anaconda/lib/python3.6/site-packages/pandas/core/indexing.py:543: SettingWithCopyWarning: \n",
      "A value is trying to be set on a copy of a slice from a DataFrame.\n",
      "Try using .loc[row_indexer,col_indexer] = value instead\n",
      "\n",
      "See the caveats in the documentation: http://pandas.pydata.org/pandas-docs/stable/indexing.html#indexing-view-versus-copy\n",
      "  self.obj[item] = s\n"
     ]
    },
    {
     "data": {
      "text/html": [
       "<div>\n",
       "<style scoped>\n",
       "    .dataframe tbody tr th:only-of-type {\n",
       "        vertical-align: middle;\n",
       "    }\n",
       "\n",
       "    .dataframe tbody tr th {\n",
       "        vertical-align: top;\n",
       "    }\n",
       "\n",
       "    .dataframe thead th {\n",
       "        text-align: right;\n",
       "    }\n",
       "</style>\n",
       "<table border=\"1\" class=\"dataframe\">\n",
       "  <thead>\n",
       "    <tr style=\"text-align: right;\">\n",
       "      <th></th>\n",
       "      <th>text</th>\n",
       "      <th>label</th>\n",
       "      <th>preprocessed_text</th>\n",
       "    </tr>\n",
       "  </thead>\n",
       "  <tbody>\n",
       "    <tr>\n",
       "      <th>904</th>\n",
       "      <td>I will prepare for you to sign next week. Enjo...</td>\n",
       "      <td>0</td>\n",
       "      <td>i will prepare for you to sign next week enjoy...</td>\n",
       "    </tr>\n",
       "    <tr>\n",
       "      <th>132</th>\n",
       "      <td>fvi</td>\n",
       "      <td>0</td>\n",
       "      <td>fvi</td>\n",
       "    </tr>\n",
       "    <tr>\n",
       "      <th>942</th>\n",
       "      <td>Got it.On Mon May 4 2009 at 4:08 PM H &lt;HDR22@c...</td>\n",
       "      <td>0</td>\n",
       "      <td>got it on mon may 4 2009 at 4 08 pm hdr22 clin...</td>\n",
       "    </tr>\n",
       "    <tr>\n",
       "      <th>784</th>\n",
       "      <td>NAME=3ADR=2E OLUSEGUN SMITHdr=2Eolusegun=2Esmi...</td>\n",
       "      <td>1</td>\n",
       "      <td>name 3adr 2e olusegun smithdr 2eolusegun 2esmi...</td>\n",
       "    </tr>\n",
       "    <tr>\n",
       "      <th>681</th>\n",
       "      <td>Fyi</td>\n",
       "      <td>0</td>\n",
       "      <td>fyi</td>\n",
       "    </tr>\n",
       "  </tbody>\n",
       "</table>\n",
       "</div>"
      ],
      "text/plain": [
       "                                                  text  label  \\\n",
       "904  I will prepare for you to sign next week. Enjo...      0   \n",
       "132                                                fvi      0   \n",
       "942  Got it.On Mon May 4 2009 at 4:08 PM H <HDR22@c...      0   \n",
       "784  NAME=3ADR=2E OLUSEGUN SMITHdr=2Eolusegun=2Esmi...      1   \n",
       "681                                                Fyi      0   \n",
       "\n",
       "                                     preprocessed_text  \n",
       "904  i will prepare for you to sign next week enjoy...  \n",
       "132                                                fvi  \n",
       "942  got it on mon may 4 2009 at 4 08 pm hdr22 clin...  \n",
       "784  name 3adr 2e olusegun smithdr 2eolusegun 2esmi...  \n",
       "681                                                fyi  "
      ]
     },
     "execution_count": 7,
     "metadata": {},
     "output_type": "execute_result"
    }
   ],
   "source": [
    "import re\n",
    "def clean_text(text):\n",
    "    \n",
    "    # Remove all the special characters\n",
    "    processed_feature = re.sub(r'\\W', ' ', str(text))\n",
    "\n",
    "    # remove all single characters\n",
    "    processed_feature= re.sub(r'\\s+[a-zA-Z]\\s+', ' ', processed_feature)\n",
    "\n",
    "    # Remove single characters from the start\n",
    "    processed_feature = re.sub(r'\\^[a-zA-Z]\\s+', ' ', processed_feature) \n",
    "\n",
    "    # Substituting multiple spaces with single space\n",
    "    processed_feature = re.sub(r'\\s+', ' ', processed_feature, flags=re.I)\n",
    "\n",
    "    # Removing prefixed 'b'\n",
    "    processed_feature = re.sub(r'^b\\s+', '', processed_feature)\n",
    "\n",
    "    # Converting to Lowercase\n",
    "    processed_feature = processed_feature.lower()\n",
    "\n",
    "    \n",
    "    return processed_feature\n",
    "\n",
    "\n",
    "\n",
    "data_train.loc[:,'preprocessed_text'] = data_train['text'].apply(clean_text)\n",
    "data_val.loc[:,'preprocessed_text'] = data_val['text'].apply(clean_text)\n",
    "\n",
    "data_train.head()"
   ]
  },
  {
   "cell_type": "markdown",
   "metadata": {},
   "source": [
    "## Bag Of Words\n",
    "Let's get the 10 top words in ham and spam messages"
   ]
  },
  {
   "cell_type": "code",
   "execution_count": 8,
   "metadata": {},
   "outputs": [
    {
     "data": {
      "text/html": [
       "<div>\n",
       "<style scoped>\n",
       "    .dataframe tbody tr th:only-of-type {\n",
       "        vertical-align: middle;\n",
       "    }\n",
       "\n",
       "    .dataframe tbody tr th {\n",
       "        vertical-align: top;\n",
       "    }\n",
       "\n",
       "    .dataframe thead th {\n",
       "        text-align: right;\n",
       "    }\n",
       "</style>\n",
       "<table border=\"1\" class=\"dataframe\">\n",
       "  <thead>\n",
       "    <tr style=\"text-align: right;\">\n",
       "      <th></th>\n",
       "      <th>word</th>\n",
       "      <th>count</th>\n",
       "    </tr>\n",
       "  </thead>\n",
       "  <tbody>\n",
       "    <tr>\n",
       "      <th>0</th>\n",
       "      <td>the</td>\n",
       "      <td>5026</td>\n",
       "    </tr>\n",
       "    <tr>\n",
       "      <th>1</th>\n",
       "      <td>to</td>\n",
       "      <td>3966</td>\n",
       "    </tr>\n",
       "    <tr>\n",
       "      <th>2</th>\n",
       "      <td>of</td>\n",
       "      <td>3531</td>\n",
       "    </tr>\n",
       "    <tr>\n",
       "      <th>3</th>\n",
       "      <td>and</td>\n",
       "      <td>2881</td>\n",
       "    </tr>\n",
       "    <tr>\n",
       "      <th>4</th>\n",
       "      <td>in</td>\n",
       "      <td>2322</td>\n",
       "    </tr>\n",
       "    <tr>\n",
       "      <th>5</th>\n",
       "      <td>you</td>\n",
       "      <td>2270</td>\n",
       "    </tr>\n",
       "    <tr>\n",
       "      <th>6</th>\n",
       "      <td>this</td>\n",
       "      <td>1890</td>\n",
       "    </tr>\n",
       "    <tr>\n",
       "      <th>7</th>\n",
       "      <td>my</td>\n",
       "      <td>1507</td>\n",
       "    </tr>\n",
       "    <tr>\n",
       "      <th>8</th>\n",
       "      <td>2e</td>\n",
       "      <td>1491</td>\n",
       "    </tr>\n",
       "    <tr>\n",
       "      <th>9</th>\n",
       "      <td>your</td>\n",
       "      <td>1489</td>\n",
       "    </tr>\n",
       "  </tbody>\n",
       "</table>\n",
       "</div>"
      ],
      "text/plain": [
       "   word  count\n",
       "0   the   5026\n",
       "1    to   3966\n",
       "2    of   3531\n",
       "3   and   2881\n",
       "4    in   2322\n",
       "5   you   2270\n",
       "6  this   1890\n",
       "7    my   1507\n",
       "8    2e   1491\n",
       "9  your   1489"
      ]
     },
     "execution_count": 8,
     "metadata": {},
     "output_type": "execute_result"
    }
   ],
   "source": [
    "from collections import Counter\n",
    "\n",
    "data_ham  = data_train[data_train['label'] == 0].copy()\n",
    "data_spam = data_train[data_train['label'] == 1].copy()\n",
    "\n",
    "words_data_ham  = data_ham['preprocessed_text']\n",
    "words_data_spam = data_spam['preprocessed_text']\n",
    "\n",
    "\n",
    "list_ham_words = []\n",
    "for sublist in words_data_ham:\n",
    "    for item in sublist.split():\n",
    "        list_ham_words.append(item)\n",
    "\n",
    "list_spam_words = []\n",
    "for sublist in words_data_spam:\n",
    "    for item in sublist.split():\n",
    "        list_spam_words.append(item)\n",
    "        \n",
    "c_ham  = Counter(list_ham_words)\n",
    "c_spam = Counter(list_spam_words)\n",
    "df_hamwords_top10  = pd.DataFrame(c_ham.most_common(10),  columns=['word', 'count'])\n",
    "df_spamwords_top10 = pd.DataFrame(c_spam.most_common(10), columns=['word', 'count'])\n",
    "\n",
    "df_spamwords_top10"
   ]
  },
  {
   "cell_type": "markdown",
   "metadata": {},
   "source": [
    "## Bag of Words with Count Vectorizer"
   ]
  },
  {
   "cell_type": "code",
   "execution_count": 9,
   "metadata": {},
   "outputs": [],
   "source": [
    "from sklearn.feature_extraction.text import CountVectorizer\n",
    "bow_transformer = CountVectorizer().fit(data_train['preprocessed_text'])"
   ]
  },
  {
   "cell_type": "code",
   "execution_count": 10,
   "metadata": {},
   "outputs": [
    {
     "name": "stdout",
     "output_type": "stream",
     "text": [
      "17120\n",
      "dear sir strictly private business proposal am mike chukwu the manager bills and exchange at the foreign remittance department of the zenith international bank plc am writing this letter to ask for your support and cooperation to carry out this business opportunity in my department we discovered an abandoned sum of 15 000 000 00 fifteen million united states dollars only in an account that belongs to one of our foreign customers who died along with his entire family of wife and two children in november 1997 in plane crash since we heard of his death we have been expecting his next of kin to come over and put claims for his money as the heir because we cannot release the fund from his account unless someone applies for claim as the next of kin to the deceased as indicated in our banking guidelines unfortunately neither their family member nor distant relative has ever appeared to claim the said fund upon this discovery and other officials in my department have agreed to make business with you and release the total amount into your account as the heir of the fund since no one came for it or discovered he maintained account with our bank otherwise the fund will be returned to the banks treasury as unclaimed fund we have agreed that our ratio of sharing will be as stated thus 30 for you as foreign partner 60 for us the officials in my department and 10 for the settlement of all local and foreign expences incurred by us and you during the course of this business upon the successful completion of this transfer and one of my colleagues will come to your country and mind our share it is from our 60 we intend to import agricultural machineries into my country as way of recycling the fund to commence this transaction we require you to immediately indicate your interest by return mail and enclose your private contact telephone number fax number full name and address and your designated bank coordinates to enable us file letter of claim to the appropriate departments for necessary approvals before the transfer can be made note also this transaction must be kept strictly confidential because of it nature look forward to receiving your prompt response regards mr mike chukwu zenith international bank plc \n",
      "  (0, 0)\t1\n",
      "  (0, 1)\t2\n",
      "  (0, 113)\t1\n",
      "  (0, 202)\t1\n",
      "  (0, 283)\t1\n",
      "  (0, 1326)\t1\n",
      "  (0, 1737)\t2\n",
      "  (0, 2112)\t1\n",
      "  (0, 2213)\t4\n",
      "  (0, 2320)\t1\n",
      "  (0, 2498)\t2\n",
      "  (0, 2502)\t1\n",
      "  (0, 2603)\t1\n",
      "  (0, 2647)\t1\n",
      "  (0, 2657)\t1\n",
      "  (0, 2681)\t2\n",
      "  (0, 2748)\t1\n",
      "  (0, 2764)\t2\n",
      "  (0, 2778)\t14\n",
      "  (0, 3013)\t1\n",
      "  (0, 3022)\t1\n",
      "  (0, 3041)\t1\n",
      "  (0, 3045)\t1\n",
      "  (0, 3164)\t8\n",
      "  (0, 3193)\t1\n",
      "  :\t:\n",
      "  (0, 15048)\t1\n",
      "  (0, 15209)\t7\n",
      "  (0, 15295)\t1\n",
      "  (0, 15366)\t15\n",
      "  (0, 15495)\t1\n",
      "  (0, 15586)\t2\n",
      "  (0, 15601)\t2\n",
      "  (0, 15647)\t1\n",
      "  (0, 15755)\t1\n",
      "  (0, 15843)\t1\n",
      "  (0, 15897)\t1\n",
      "  (0, 15919)\t1\n",
      "  (0, 15928)\t1\n",
      "  (0, 15983)\t2\n",
      "  (0, 16014)\t3\n",
      "  (0, 16391)\t1\n",
      "  (0, 16417)\t7\n",
      "  (0, 16554)\t1\n",
      "  (0, 16589)\t1\n",
      "  (0, 16594)\t3\n",
      "  (0, 16665)\t3\n",
      "  (0, 16793)\t1\n",
      "  (0, 16923)\t4\n",
      "  (0, 16947)\t7\n",
      "  (0, 17042)\t2\n"
     ]
    }
   ],
   "source": [
    "print(len(bow_transformer.vocabulary_))\n",
    "sample_spam = data_train['preprocessed_text'][0]\n",
    "bow_sample_spam = bow_transformer.transform([sample_spam])\n",
    "\n",
    "# Lets look at some vectorization example for a spam email\n",
    "print(sample_spam)\n",
    "print(bow_sample_spam)"
   ]
  },
  {
   "cell_type": "code",
   "execution_count": 11,
   "metadata": {},
   "outputs": [
    {
     "name": "stdout",
     "output_type": "stream",
     "text": [
      "(700, 17120)\n",
      "(300, 17120)\n"
     ]
    }
   ],
   "source": [
    "## let's vectorize all dataset\n",
    "X_train = bow_transformer.transform(data_train['preprocessed_text'])\n",
    "X_val  = bow_transformer.transform(data_val['preprocessed_text'])\n",
    "\n",
    "#Let's print the shape of the vetorized dataset\n",
    "print(X_train.shape)\n",
    "print(X_val.shape)\n"
   ]
  },
  {
   "cell_type": "code",
   "execution_count": null,
   "metadata": {},
   "outputs": [],
   "source": []
  },
  {
   "cell_type": "markdown",
   "metadata": {},
   "source": [
    "## Train a Classifier"
   ]
  },
  {
   "cell_type": "code",
   "execution_count": 12,
   "metadata": {},
   "outputs": [
    {
     "name": "stdout",
     "output_type": "stream",
     "text": [
      "0.91\n"
     ]
    },
    {
     "data": {
      "text/plain": [
       "array([[152,  25],\n",
       "       [  2, 121]])"
      ]
     },
     "execution_count": 12,
     "metadata": {},
     "output_type": "execute_result"
    }
   ],
   "source": [
    "from sklearn.naive_bayes import MultinomialNB\n",
    "from sklearn.metrics import classification_report, confusion_matrix, accuracy_score\n",
    "\n",
    "\n",
    "#Learn Classifier\n",
    "clf = MultinomialNB().fit(X_train, label_train)\n",
    "#Predict Val data\n",
    "pred_val = clf.predict(X_val)\n",
    "\n",
    "accuracy = accuracy_score(label_val, pred_val)\n",
    "print(accuracy)\n",
    "confusion_matrix(label_val, pred_val)"
   ]
  },
  {
   "cell_type": "markdown",
   "metadata": {},
   "source": [
    "### TASK - Implement a SPAM/HAM classifier\n",
    "\n",
    "https://www.kaggle.com/t/3b0207700e7b44f4a96d50b8188c16b4\n",
    "\n",
    "The classifier can not be changed!!! It must be the MultinimialNB with default parameters!\n",
    "\n",
    "Your task is to find the **best feature representation**.\n",
    "\n",
    "You can work with teams of two persons.\n",
    "\n",
    "**Deadline**: 30/11/2020\n"
   ]
  },
  {
   "cell_type": "code",
   "execution_count": 13,
   "metadata": {},
   "outputs": [],
   "source": [
    "data_test = pd.read_csv(\"data/kg_test.csv\",encoding='latin-1')\n",
    "X_test = bow_transformer.transform(data_test['text'].apply(clean_text))\n",
    "pred_text = clf.predict(X_test)\n",
    "\n",
    "submission_file = pd.DataFrame({'Id': data_test.index,'Category':pred_text})\n",
    "submission_file.to_csv('data/to_submit.csv',index=False)"
   ]
  },
  {
   "cell_type": "code",
   "execution_count": null,
   "metadata": {},
   "outputs": [],
   "source": []
  }
 ],
 "metadata": {
  "celltoolbar": "Slideshow",
  "kernelspec": {
   "display_name": "Python 3",
   "language": "python",
   "name": "python3"
  },
  "language_info": {
   "codemirror_mode": {
    "name": "ipython",
    "version": 3
   },
   "file_extension": ".py",
   "mimetype": "text/x-python",
   "name": "python",
   "nbconvert_exporter": "python",
   "pygments_lexer": "ipython3",
   "version": "3.8.3"
  }
 },
 "nbformat": 4,
 "nbformat_minor": 2
}
