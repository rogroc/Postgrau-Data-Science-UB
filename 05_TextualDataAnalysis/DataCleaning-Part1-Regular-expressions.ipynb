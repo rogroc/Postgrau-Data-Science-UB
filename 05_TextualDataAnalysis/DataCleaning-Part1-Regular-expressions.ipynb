{
 "cells": [
  {
   "cell_type": "markdown",
   "metadata": {
    "slideshow": {
     "slide_type": "slide"
    }
   },
   "source": [
    "# Data cleaning and text analysis"
   ]
  },
  {
   "cell_type": "markdown",
   "metadata": {
    "slideshow": {
     "slide_type": "slide"
    }
   },
   "source": [
    "<img src=\"https://miro.medium.com/max/2392/0*1-i9w0e4kklVQl5B.jpg\">"
   ]
  },
  {
   "cell_type": "markdown",
   "metadata": {
    "slideshow": {
     "slide_type": "slide"
    }
   },
   "source": [
    "It is estimated that 80% of the data is **unstructured**\n",
    "\n",
    "And **unstructured** data is basically **text data**!\n",
    "\n",
    "Text is present in every major business process, from support tickets to product feedback and customer interactions.\n",
    "\n",
    "There is not doubt that text analysis has a broad range of business applications and use cases:\n",
    "* Understand customer \n",
    "* Risk managment\n",
    "* Prediction and prevention of crime\n",
    "* Personalized adversitsing\n",
    "* ..."
   ]
  },
  {
   "cell_type": "markdown",
   "metadata": {
    "slideshow": {
     "slide_type": "slide"
    }
   },
   "source": [
    "## Is text data used in your company? \n",
    "<br>\n",
    "<br>\n",
    "\n",
    "## How do you used?\n"
   ]
  },
  {
   "cell_type": "markdown",
   "metadata": {
    "slideshow": {
     "slide_type": "slide"
    }
   },
   "source": [
    "### Social Media Monitoring\n",
    "* Let's say you work for NIKE and you want to know what the users say about the company. Every day there are thousands of tweets that can provide us really interesting insights, however these data can not be analyzed manually. Some questions:\n",
    "    * Is the sentiment about the company positive or negative?\n",
    "    * What are they compeling?\n",
    "    * What do they say about a the new AIR MAX shoes?"
   ]
  },
  {
   "cell_type": "markdown",
   "metadata": {
    "slideshow": {
     "slide_type": "slide"
    }
   },
   "source": [
    "$\\bullet$ **Objectives**: \n",
    "    * Write scripts for data cleaning (data formatting, text categorization, etc.). \n",
    "    * Extract features from unstructured data. Understand and use tools for representing natural language data. \n",
    "    * Show examples for sentiment analysis tasks."
   ]
  },
  {
   "cell_type": "markdown",
   "metadata": {},
   "source": [
    "$\\bullet$ Topics: Data cleaning; Regular Expression; How to represent natural language: tf-idf, n-grams; Tools for NLP (NLTK, Pattern).\n",
    "\n",
    "<code>Regular expressions and examples\n",
    "Textual data cleaning/processing:\n",
    "    Tokenining - convert sentences to words\n",
    "    Removing unnecessary punctuation, tags\n",
    "    Removing stop words — frequent words such as ”the”, ”is”, etc. that do not have specific semantic\n",
    "    Stemming and Lemmatizing - words are reduced to a root by removing inflection\n",
    "Text representation\n",
    "        TF-IDF: Term frequencies (counter)\n",
    "        Vector normalization\n",
    "        Feature weighting (Inverse Document Frequency)\t\n",
    "        Sklearn implementation\n",
    "Learning text representations\n",
    "        Stopwords\n",
    "        Bag of Words\n",
    "        n-grams\n",
    "        Training a (naive Bayes) Classifier with NLTK: film critiques example\n",
    "        Training a (naive Bayes) Classifier with TextBlob: A Tweet Sentiment Analyzer\n",
    "        Pattern module</code>"
   ]
  },
  {
   "cell_type": "markdown",
   "metadata": {
    "slideshow": {
     "slide_type": "slide"
    }
   },
   "source": [
    "## Regular expressions - Regex"
   ]
  },
  {
   "cell_type": "markdown",
   "metadata": {},
   "source": [
    "The concept Regular Expression arose in the 1950s, when the American mathematician Stephen Kleene formalized the description of a regular language, and came into common use with the Unix text processing utilities ed, an editor, and grep (global regular expression print), a filter.\n",
    "<img src=\"regular.png\">"
   ]
  },
  {
   "cell_type": "markdown",
   "metadata": {},
   "source": [
    "A regular expression processor translates a regular expression into a nondeterministic finite automaton (NFA) (where several states can be the output of a given state and symbol), which is then made deterministic (only one possible state transition for a particular symbol) and run on the target text string to recognize substrings that match the regular expression. "
   ]
  },
  {
   "attachments": {},
   "cell_type": "markdown",
   "metadata": {
    "slideshow": {
     "slide_type": "slide"
    }
   },
   "source": [
    "In other words: Regular expression is a group of characters or symbols which is used to find a specific pattern from some text.\n"
   ]
  },
  {
   "cell_type": "markdown",
   "metadata": {
    "slideshow": {
     "slide_type": "slide"
    }
   },
   "source": [
    "1956.\"Representation of Events in Nerve Nets and Finite Automata\" in Automata Studies. Claude Shannon and John McCarthy, eds.\n",
    "<img src=\"Automat.png\">"
   ]
  },
  {
   "cell_type": "markdown",
   "metadata": {},
   "source": [
    "You write regular expressions (regex) to match patterns in strings. When you are processing text, you may want to extract a substring of some predictable structure: a phone number, an email address, or something more specific to your research or task. You may also want to clean your text of some kind of junk: maybe there are repetitive formatting errors due to some transcription process that you need to remove."
   ]
  },
  {
   "cell_type": "markdown",
   "metadata": {},
   "source": [
    "In these cases and in many others like them, writing the right regex will be a good choice."
   ]
  },
  {
   "cell_type": "markdown",
   "metadata": {
    "slideshow": {
     "slide_type": "slide"
    }
   },
   "source": [
    "<img src='https://res.cloudinary.com/practicaldev/image/fetch/s--_iE0KvdT--/c_imagga_scale,f_auto,fl_progressive,h_900,q_auto,w_1600/https://dev-to-uploads.s3.amazonaws.com/i/zpek00ubevoxvn458b01.png'>"
   ]
  },
  {
   "cell_type": "code",
   "execution_count": 1,
   "metadata": {
    "slideshow": {
     "slide_type": "slide"
    }
   },
   "outputs": [],
   "source": [
    "import re #the regex module in the python standard library\n",
    "\n",
    "#strings to be searched for matching regex patterns\n",
    "str1 = \"varks Aard belíng to the Captain\"\n",
    "str2 = \"Albert's famous equation, E = mc^2.\"\n",
    "str3 = \"Located at 455 Serra Mall.\"\n",
    "str4 = \"Beware of the shape-shifters!\"\n",
    "\n",
    "test_strings = [str1, str2, str3, str4] #created a list of strings"
   ]
  },
  {
   "cell_type": "code",
   "execution_count": 2,
   "metadata": {},
   "outputs": [
    {
     "name": "stdout",
     "output_type": "stream",
     "text": [
      "\n",
      "The test string is \"varks Aard belíng to the Captain\"\n",
      "- The first possible match is: í\n",
      "\n",
      "The test string is \"Albert's famous equation, E = mc^2.\"\n",
      "- ** no match. **\n",
      "\n",
      "The test string is \"Located at 455 Serra Mall.\"\n",
      "- ** no match. **\n",
      "\n",
      "The test string is \"Beware of the shape-shifters!\"\n",
      "- ** no match. **\n"
     ]
    }
   ],
   "source": [
    "for test_string in test_strings:\n",
    "    print ('\\nThe test string is \"' + test_string + '\"')\n",
    "    match = re.search('[í]', test_string)\n",
    "    # r'' raw strings, do not interpret inside special characters, such as \\\n",
    "    # u'' unicode\n",
    "    if match:\n",
    "        print ('- The first possible match is: ' + match.group())\n",
    "    else:\n",
    "        print ('- ** no match. **')"
   ]
  },
  {
   "cell_type": "markdown",
   "metadata": {
    "slideshow": {
     "slide_type": "slide"
    }
   },
   "source": [
    "Let's go through the code above line by line:"
   ]
  },
  {
   "cell_type": "markdown",
   "metadata": {},
   "source": [
    "<code>\n",
    "for test_string in test_strings:\n",
    "</code>"
   ]
  },
  {
   "cell_type": "markdown",
   "metadata": {},
   "source": [
    "test_strings is a list, and so it is iterable in a for loop. Every element in this list is a string. So for the rest of the for loop, we will be referring to the current element as test_string"
   ]
  },
  {
   "cell_type": "markdown",
   "metadata": {},
   "source": [
    "<code>\n",
    "print 'The test string is \"' + test_string + '\"'\n",
    "</code>"
   ]
  },
  {
   "cell_type": "markdown",
   "metadata": {},
   "source": [
    "This just prints out the current object we're iterating over"
   ]
  },
  {
   "cell_type": "markdown",
   "metadata": {
    "slideshow": {
     "slide_type": "slide"
    }
   },
   "source": [
    "<code>\n",
    "match = re.search(r'[A-Z]', test_string)\n",
    "</code>"
   ]
  },
  {
   "cell_type": "markdown",
   "metadata": {},
   "source": [
    "You give a searcher (in this case, the function re.search() a pattern and a string in which to find matches. That's exactly what this line does. re.search() returns either an object of type SRE_Match or None. "
   ]
  },
  {
   "cell_type": "markdown",
   "metadata": {},
   "source": [
    "<code>\n",
    "if match:\n",
    "    print 'The first possible match is: ' + match.group()\n",
    "else:\n",
    "    print 'no match.'\n",
    "</code>    "
   ]
  },
  {
   "cell_type": "markdown",
   "metadata": {},
   "source": [
    "match is an object that has two possible states: SRE_Match or None. None is a type of object that returns false in a logical test. In this for loop, we've basically told the Python interpreter to check whether match is NoneType or not. If it isn't, we return a string plus match.group(). group() is a method that has SRE_Match objects. It will return the substring that matched the pattern defined.\n"
   ]
  },
  {
   "cell_type": "markdown",
   "metadata": {
    "slideshow": {
     "slide_type": "slide"
    }
   },
   "source": [
    "Note that since we are using re.search, only a single character is returned. That's because of the following:"
   ]
  },
  {
   "cell_type": "markdown",
   "metadata": {},
   "source": [
    "<ol>\n",
    "<li>We only defined a single character pattern and</li>\n",
    "<li>re.search finds the first possible match and then doesn't look for any more.</li>\n",
    "</ol>\n"
   ]
  },
  {
   "cell_type": "markdown",
   "metadata": {},
   "source": [
    "If you want to find all possible matches in a string, you can use re.findall(), which will return a list of all matches:"
   ]
  },
  {
   "cell_type": "code",
   "execution_count": 3,
   "metadata": {
    "scrolled": true
   },
   "outputs": [
    {
     "name": "stdout",
     "output_type": "stream",
     "text": [
      "varks Aard belíng to the Captain\n",
      "- ['A', 'C'] \n",
      "\n",
      "Albert's famous equation, E = mc^2.\n",
      "- ['A', 'E'] \n",
      "\n",
      "Located at 455 Serra Mall.\n",
      "- ['L', 'S', 'M'] \n",
      "\n",
      "Beware of the shape-shifters!\n",
      "- ['B'] \n",
      "\n"
     ]
    }
   ],
   "source": [
    "for string in test_strings:\n",
    "    print(string)\n",
    "    print (\"-\" , re.findall(r'[A-Z]', string),\"\\n\")"
   ]
  },
  {
   "cell_type": "markdown",
   "metadata": {
    "slideshow": {
     "slide_type": "slide"
    }
   },
   "source": [
    "You can also compile your regex ahead of time. This will create SRE_Pattern objects. There are many performance reasons to do this. Additionally, you can create lists of these objects and iterate over both strings and patterns more easily. Here's an example:"
   ]
  },
  {
   "cell_type": "code",
   "execution_count": 4,
   "metadata": {},
   "outputs": [
    {
     "name": "stdout",
     "output_type": "stream",
     "text": [
      "In: \"varks Aard belíng to the Captain\"\n",
      " - The first potential match for \"[ABC] \t is: A\n",
      " - The first potential match for \"[^ABC] \t is: v\n",
      " - The first potential match for \"[ABC^] \t is: A\n",
      " - The first potential match for \"[0123456789] \t is: no match.\n",
      " - The first potential match for \"[0-9] \t is: no match.\n",
      " - The first potential match for \"[0-4] \t is: no match.\n",
      " - The first potential match for \"[A-Z] \t is: A\n",
      " - The first potential match for \"[A-Za-z] \t is: v\n",
      " - The first potential match for \"[A-Za-z0-9] \t is: v\n",
      " - The first potential match for \"[-a-z] \t is: v\n",
      " - The first potential match for \"[- a-z] \t is: v\n",
      "In: \"Albert's famous equation, E = mc^2.\"\n",
      " - The first potential match for \"[ABC] \t is: A\n",
      " - The first potential match for \"[^ABC] \t is: l\n",
      " - The first potential match for \"[ABC^] \t is: A\n",
      " - The first potential match for \"[0123456789] \t is: 2\n",
      " - The first potential match for \"[0-9] \t is: 2\n",
      " - The first potential match for \"[0-4] \t is: 2\n",
      " - The first potential match for \"[A-Z] \t is: A\n",
      " - The first potential match for \"[A-Za-z] \t is: A\n",
      " - The first potential match for \"[A-Za-z0-9] \t is: A\n",
      " - The first potential match for \"[-a-z] \t is: l\n",
      " - The first potential match for \"[- a-z] \t is: l\n",
      "In: \"Located at 455 Serra Mall.\"\n",
      " - The first potential match for \"[ABC] \t is: no match.\n",
      " - The first potential match for \"[^ABC] \t is: L\n",
      " - The first potential match for \"[ABC^] \t is: no match.\n",
      " - The first potential match for \"[0123456789] \t is: 4\n",
      " - The first potential match for \"[0-9] \t is: 4\n",
      " - The first potential match for \"[0-4] \t is: 4\n",
      " - The first potential match for \"[A-Z] \t is: L\n",
      " - The first potential match for \"[A-Za-z] \t is: L\n",
      " - The first potential match for \"[A-Za-z0-9] \t is: L\n",
      " - The first potential match for \"[-a-z] \t is: o\n",
      " - The first potential match for \"[- a-z] \t is: o\n",
      "In: \"Beware of the shape-shifters!\"\n",
      " - The first potential match for \"[ABC] \t is: B\n",
      " - The first potential match for \"[^ABC] \t is: e\n",
      " - The first potential match for \"[ABC^] \t is: B\n",
      " - The first potential match for \"[0123456789] \t is: no match.\n",
      " - The first potential match for \"[0-9] \t is: no match.\n",
      " - The first potential match for \"[0-4] \t is: no match.\n",
      " - The first potential match for \"[A-Z] \t is: B\n",
      " - The first potential match for \"[A-Za-z] \t is: B\n",
      " - The first potential match for \"[A-Za-z0-9] \t is: B\n",
      " - The first potential match for \"[-a-z] \t is: e\n",
      " - The first potential match for \"[- a-z] \t is: e\n"
     ]
    }
   ],
   "source": [
    "patterns = [re.compile(r'[ABC]'),\n",
    "re.compile(r'[^ABC]'),\n",
    "re.compile(r'[ABC^]'),\n",
    "re.compile(r'[0123456789]'),\n",
    "re.compile(r'[0-9]'),\n",
    "re.compile(r'[0-4]'),\n",
    "re.compile(r'[A-Z]'),\n",
    "re.compile(r'[A-Za-z]'),\n",
    "re.compile(r'[A-Za-z0-9]'),\n",
    "re.compile(r'[-a-z]'),\n",
    "re.compile(r'[- a-z]')]\n",
    "\n",
    "def find_match(pattern, string):\n",
    "    match = re.search(pattern, string)\n",
    "    if match:\n",
    "        return match.group()\n",
    "    else:\n",
    "        return 'no match.'\n",
    "    \n",
    "for test_string in test_strings:\n",
    "    matches = [find_match(pattern, test_string) for pattern in patterns]\n",
    "    print(\"In: \\\"\"+ test_string+\"\\\"\")\n",
    "    for pattern in patterns:\n",
    "        print (' - The first potential match for \"' + pattern.pattern + ' \\t is: ' + matches[patterns.index(pattern)])"
   ]
  },
  {
   "cell_type": "markdown",
   "metadata": {
    "slideshow": {
     "slide_type": "slide"
    }
   },
   "source": [
    "Let's go over this code line by line: "
   ]
  },
  {
   "cell_type": "markdown",
   "metadata": {},
   "source": [
    "<code>\n",
    "patterns = [re.compile(r'[ABC]'),\n",
    "re.compile(r'[^ABC]'),\n",
    "re.compile(r'[ABC^]'),\n",
    "re.compile(r'[0123456789]'),\n",
    "re.compile(r'[0-9]'),\n",
    "re.compile(r'[0-4]'),\n",
    "re.compile(r'[A-Z]'),\n",
    "re.compile(r'[A-Za-z]'),\n",
    "re.compile(r'[A-Za-z0-9]'),\n",
    "re.compile(r'[-a-z]'),\n",
    "re.compile(r'[- a-z]')]\n",
    "</code>"
   ]
  },
  {
   "cell_type": "markdown",
   "metadata": {},
   "source": [
    "This creates a list of SRE_Patterns."
   ]
  },
  {
   "cell_type": "code",
   "execution_count": 5,
   "metadata": {},
   "outputs": [
    {
     "name": "stdout",
     "output_type": "stream",
     "text": [
      "[re.compile('[ABC]'), re.compile('[^ABC]'), re.compile('[ABC^]'), re.compile('[0123456789]'), re.compile('[0-9]'), re.compile('[0-4]'), re.compile('[A-Z]'), re.compile('[A-Za-z]'), re.compile('[A-Za-z0-9]'), re.compile('[-a-z]'), re.compile('[- a-z]')]\n"
     ]
    }
   ],
   "source": [
    "print (patterns)"
   ]
  },
  {
   "cell_type": "code",
   "execution_count": 6,
   "metadata": {},
   "outputs": [
    {
     "name": "stdout",
     "output_type": "stream",
     "text": [
      "re.compile('[^ABC]')\n",
      "[^ABC]\n"
     ]
    }
   ],
   "source": [
    "print (patterns[1])\n",
    "print (patterns[1].pattern)"
   ]
  },
  {
   "cell_type": "markdown",
   "metadata": {
    "slideshow": {
     "slide_type": "slide"
    }
   },
   "source": [
    "<code>\n",
    "def find_match(pattern, string):\n",
    "    match = re.search(pattern, string)\n",
    "    if match:\n",
    "        return match.group()\n",
    "    else:\n",
    "        return 'no match.'\n",
    "</code>"
   ]
  },
  {
   "cell_type": "markdown",
   "metadata": {},
   "source": [
    "We defined a function find_match that expects some variables called pattern and string. Notice that this function is very similar to the logical condition testing from the code above. Note also that this function returns either the match.group() or a string \"no match.\""
   ]
  },
  {
   "cell_type": "markdown",
   "metadata": {},
   "source": [
    "<code>\n",
    "for test_string in test_strings:\n",
    "    matches = [find_match(pattern, test_string) for pattern in patterns]\n",
    "<code>"
   ]
  },
  {
   "cell_type": "markdown",
   "metadata": {},
   "source": [
    "By defining the find_match() function above, I can then call it from within a list comprehension. In words, for each string test_string that is in test_strings, we compare against the list of patterns and return matches. The resulting list of matches should be the same length as patterns; one match per pattern tested. "
   ]
  },
  {
   "cell_type": "markdown",
   "metadata": {},
   "source": [
    "<code>\n",
    "for pattern in patterns:\n",
    "        print 'The first potential match for \"' + pattern.pattern + '\" in \"' + test_string + '\" is: ' + matches[patterns.index(pattern)]\n",
    "</code>"
   ]
  },
  {
   "cell_type": "markdown",
   "metadata": {},
   "source": [
    "Because we wanted to print some diagnostic code, we need to iterate over each pattern in patterns (a list and thus iterable) and print it out, along with the test string. If you want to get the pattern out of an SRE_Pattern object, you can call its member method .pattern and it will return the regex pattern as a string. Since we are nesting this loop within the bigger loop above, this loop will go over every pattern in the patterns list for each string, and then repeat for the next string in the list test_strings."
   ]
  },
  {
   "cell_type": "markdown",
   "metadata": {},
   "source": [
    "However, note that we are dynamically referring to the index of the matches list:"
   ]
  },
  {
   "cell_type": "markdown",
   "metadata": {},
   "source": [
    "<code>\n",
    "matches[patterns.index(pattern)]\n",
    "</code>"
   ]
  },
  {
   "cell_type": "markdown",
   "metadata": {
    "slideshow": {
     "slide_type": "slide"
    }
   },
   "source": [
    "### Compiling regular expressions"
   ]
  },
  {
   "cell_type": "markdown",
   "metadata": {},
   "source": [
    "<p>Compiling regular expressions as in the previous example can improve performance if you are using the same regular expression multiple times.</p>\n",
    "<pre><code>compiled_re = re.compile(r'some_regexpr')    \n",
    "for word in text:\n",
    "    match = comp.search(compiled_re)\n",
    "    # do something with the match\n",
    "</code></pre><p><strong>E.g., if we want to check if a string ends with a substring:</strong></p>"
   ]
  },
  {
   "cell_type": "code",
   "execution_count": 7,
   "metadata": {},
   "outputs": [
    {
     "name": "stdout",
     "output_type": "stream",
     "text": [
      "True\n",
      "True\n",
      "True\n"
     ]
    }
   ],
   "source": [
    "import re\n",
    "\n",
    "needle = 'needlers'\n",
    "\n",
    "# Python approach\n",
    "print (any([needle.endswith(e) for e in ('ly', 'ed', 'ing', 'ers')]))\n",
    "\n",
    "# On-the-fly Regular expression in Python\n",
    "print(bool(re.search(r'(ly|ed|ing|ers)$', needle)))\n",
    "\n",
    "# Compiled Regular expression in Python\n",
    "comp = re.compile(r'(ly|ed|ing|ers)$') \n",
    "print(bool(comp.search(needle)))"
   ]
  },
  {
   "cell_type": "code",
   "execution_count": 8,
   "metadata": {},
   "outputs": [
    {
     "name": "stdout",
     "output_type": "stream",
     "text": [
      "608 ns ± 23.3 ns per loop (mean ± std. dev. of 50 runs, 1000 loops each)\n",
      "660 ns ± 14.2 ns per loop (mean ± std. dev. of 50 runs, 1000 loops each)\n",
      "356 ns ± 48.5 ns per loop (mean ± std. dev. of 50 runs, 1000 loops each)\n"
     ]
    }
   ],
   "source": [
    "%timeit -n 1000 -r 50 bool(any([needle.endswith(e) for e in ('ly', 'ed', 'ing', 'ers')]))\n",
    "%timeit -n 1000 -r 50 bool(re.search(r'(ly|ed|ing|ers)$', needle))\n",
    "%timeit -n 1000 -r 50 bool(comp.search(needle))"
   ]
  },
  {
   "cell_type": "markdown",
   "metadata": {
    "slideshow": {
     "slide_type": "slide"
    }
   },
   "source": [
    "### Summary of terms for regular expressions"
   ]
  },
  {
   "cell_type": "markdown",
   "metadata": {},
   "source": [
    "<p><strong><span style=\"color:red\">'[ ]'</span></strong> - one element inside has to match.</p>\n",
    "<p><strong><span style=\"color:red\">''|'</span></strong> - or element.</p>\n",
    "<p><strong><span style=\"color:red\">''( )'</span></strong> - all inside has to be matched.</p>\n",
    "<p><strong><span style=\"color:red\">''{ }'</span></strong> - to set an interval or number of times repetition.</p>\n",
    "<p><strong><span style=\"color:red\">''\\'</span></strong> - identify next character as a character and not regular expression symbol.</p>\n",
    "<p><strong><span style=\"color:red\">''.'(Dot.)</span></strong> - In the default mode, this matches any character except a newline. </p>\n",
    "<p><strong><span style=\"color:red\">''^'(Caret.)</span></strong> - Matches the start of the string, and in MULTILINE mode also matches immediately after each newline.</p>\n",
    "<p><strong><span style=\"color:red\">'<code>$</code>'</span></strong> - Matches the end of the string or just before the newline at the end of the string, and in MULTILINE mode also matches before a newline. </p>\n",
    "<p><strong><span style=\"color:red\">'\\*'</span></strong> - Causes the resulting RE to match 0 or more repetitions of the preceding RE, as many repetitions as are possible. ab* will match ‘a’ or ‘ab’ followed by any number of ‘b’s.</p>\n",
    "<p><strong><span style=\"color:red\">'<code>+</code>'</span></strong>- Causes the resulting RE to match 1 or more repetitions of the preceding RE. ab+ will match ‘a’ followed by any non-zero number of ‘b’s; it will not match just ‘a’.</p>\n",
    "<p><strong><span style=\"color:red\">'?'</span></strong> - Causes the resulting RE to match 0 or 1 repetitions of the preceding RE. ab? will match either ‘a’ or ‘ab’.</p>\n",
    "<ul>\n",
    "<li><span style=\"color:red\">\\d </span>- Matches any decimal digit; this is equivalent to the class [0-9].</li>\n",
    "<li><span style=\"color:red\">\\D </span>- Matches any non-digit character; this is equivalent to the class [^0-9].</li>\n",
    "<li><span style=\"color:red\">\\s </span>- Matches any whitespace character; this is equivalent to the class [ \\t\\n\\r\\f\\v].</li>\n",
    "<li><span style=\"color:red\">\\S </span>- Matches any non-whitespace character; this is equivalent to the class [^ \\t\\n\\r\\f\\v].</li>\n",
    "<li><span style=\"color:red\">\\w </span>- Matches any alphanumeric character; this is equivalent to the class [a-zA-Z0-9_].</li>\n",
    "<li><span style=\"color:red\">\\W </span>- Matches any non-alphanumeric character; this is equivalent to the class [^a-zA-Z0-9_].</li>\n",
    "</ul>\n",
    "<p>For more comprehesive and complete documentation, ref: <a href=\"http://docs.python.org/2/library/re.html#re-syntax\">http://docs.python.org/2/library/re.html#re-syntax</a>"
   ]
  },
  {
   "cell_type": "markdown",
   "metadata": {
    "slideshow": {
     "slide_type": "slide"
    }
   },
   "source": [
    "#### Pre-defined character classes example"
   ]
  },
  {
   "cell_type": "code",
   "execution_count": 9,
   "metadata": {
    "scrolled": false
   },
   "outputs": [
    {
     "name": "stdout",
     "output_type": "stream",
     "text": [
      "In: \"varks Aard belíng to the Captain\"\n",
      " - The first potential match for \"\\w\" is: v\n",
      " - The first potential match for \"\\W\" is:  \n",
      " - The first potential match for \"\\d\" is: no match.\n",
      " - The first potential match for \"\\D\" is: v\n",
      " - The first potential match for \"\\s\" is:  \n",
      " - The first potential match for \"\\S\" is: v\n",
      "In: \"Albert's famous equation, E = mc^2.\"\n",
      " - The first potential match for \"\\w\" is: A\n",
      " - The first potential match for \"\\W\" is: '\n",
      " - The first potential match for \"\\d\" is: 2\n",
      " - The first potential match for \"\\D\" is: A\n",
      " - The first potential match for \"\\s\" is:  \n",
      " - The first potential match for \"\\S\" is: A\n",
      "In: \"Located at 455 Serra Mall.\"\n",
      " - The first potential match for \"\\w\" is: L\n",
      " - The first potential match for \"\\W\" is:  \n",
      " - The first potential match for \"\\d\" is: 4\n",
      " - The first potential match for \"\\D\" is: L\n",
      " - The first potential match for \"\\s\" is:  \n",
      " - The first potential match for \"\\S\" is: L\n",
      "In: \"Beware of the shape-shifters!\"\n",
      " - The first potential match for \"\\w\" is: B\n",
      " - The first potential match for \"\\W\" is:  \n",
      " - The first potential match for \"\\d\" is: no match.\n",
      " - The first potential match for \"\\D\" is: B\n",
      " - The first potential match for \"\\s\" is:  \n",
      " - The first potential match for \"\\S\" is: B\n",
      "In: \"Aardvarks belong to the Captain, capt_hook\"\n",
      " - The first potential match for \"\\w\" is: A\n",
      " - The first potential match for \"\\W\" is:  \n",
      " - The first potential match for \"\\d\" is: no match.\n",
      " - The first potential match for \"\\D\" is: A\n",
      " - The first potential match for \"\\s\" is:  \n",
      " - The first potential match for \"\\S\" is: A\n"
     ]
    }
   ],
   "source": [
    "patterns2 = [\n",
    "re.compile(r'\\w'),\n",
    "re.compile(r'\\W'),\n",
    "re.compile(r'\\d'),\n",
    "re.compile(r'\\D'),\n",
    "re.compile(r'\\s'),\n",
    "re.compile(r'\\S')]\n",
    "\n",
    "test_strings.append('Aardvarks belong to the Captain, capt_hook')\n",
    "\n",
    "for test_string in test_strings:\n",
    "    matches = [find_match(pattern, test_string) for pattern in patterns2]\n",
    "    print('In: \"' + test_string +'\"')\n",
    "    for pattern in patterns2:\n",
    "        print (' - The first potential match for \"' + pattern.pattern + '\" is: ' + matches[patterns2.index(pattern)])"
   ]
  },
  {
   "cell_type": "markdown",
   "metadata": {
    "slideshow": {
     "slide_type": "slide"
    }
   },
   "source": [
    "#### Examples matching sequences with regular expressions"
   ]
  },
  {
   "cell_type": "code",
   "execution_count": 10,
   "metadata": {},
   "outputs": [
    {
     "name": "stdout",
     "output_type": "stream",
     "text": [
      "In: \"The Aardvarks belong to the Captain.\"\n",
      " - The first potential match for \"(Aa)\" is: Aa\n",
      " - The first potential match for \"[Aa][Aa]\" is: Aa\n",
      " - The first potential match for \"[aeiou][aeiou]\" is: ai\n",
      " - The first potential match for \"[AaEeIiOoUu][aeiou]\" is: Aa\n",
      " - The first potential match for \"[Tt]he\" is: The\n",
      " - The first potential match for \"^[Tt]he\" is: The\n",
      " - The first potential match for \"n.\" is: ng\n",
      " - The first potential match for \"n.$\" is: n.\n",
      " - The first potential match for \"\\W\\w\" is:  A\n",
      " - The first potential match for \"\\w[aeiou]tter\" is: no match.\n",
      " - The first potential match for \"..tt..\" is: no match.\n",
      "In: \"Bitter butter won't make the batter better.\"\n",
      " - The first potential match for \"(Aa)\" is: no match.\n",
      " - The first potential match for \"[Aa][Aa]\" is: no match.\n",
      " - The first potential match for \"[aeiou][aeiou]\" is: no match.\n",
      " - The first potential match for \"[AaEeIiOoUu][aeiou]\" is: no match.\n",
      " - The first potential match for \"[Tt]he\" is: the\n",
      " - The first potential match for \"^[Tt]he\" is: no match.\n",
      " - The first potential match for \"n.\" is: n'\n",
      " - The first potential match for \"n.$\" is: no match.\n",
      " - The first potential match for \"\\W\\w\" is:  b\n",
      " - The first potential match for \"\\w[aeiou]tter\" is: Bitter\n",
      " - The first potential match for \"..tt..\" is: Bitter\n",
      "In: \"Hark, the pitter patter of little feet!\"\n",
      " - The first potential match for \"(Aa)\" is: no match.\n",
      " - The first potential match for \"[Aa][Aa]\" is: no match.\n",
      " - The first potential match for \"[aeiou][aeiou]\" is: ee\n",
      " - The first potential match for \"[AaEeIiOoUu][aeiou]\" is: ee\n",
      " - The first potential match for \"[Tt]he\" is: the\n",
      " - The first potential match for \"^[Tt]he\" is: no match.\n",
      " - The first potential match for \"n.\" is: no match.\n",
      " - The first potential match for \"n.$\" is: no match.\n",
      " - The first potential match for \"\\W\\w\" is:  t\n",
      " - The first potential match for \"\\w[aeiou]tter\" is: pitter\n",
      " - The first potential match for \"..tt..\" is: pitter\n"
     ]
    }
   ],
   "source": [
    "test_strings2 = [\"The Aardvarks belong to the Captain.\",\n",
    "                 \"Bitter butter won't make the batter better.\",\n",
    "                 \"Hark, the pitter patter of little feet!\"]\n",
    "\n",
    "patterns3 = [re.compile(r'(Aa)'),\n",
    "re.compile(r'[Aa][Aa]'),\n",
    "re.compile(r'[aeiou][aeiou]'),\n",
    "re.compile(r'[AaEeIiOoUu][aeiou]'),\n",
    "re.compile(r'[Tt]he'),\n",
    "re.compile(r'^[Tt]he'),\n",
    "re.compile(r'n.'),\n",
    "re.compile(r'n.$'),\n",
    "re.compile(r'\\W\\w'),\n",
    "re.compile(r'\\w[aeiou]tter'),\n",
    "re.compile(r'..tt..')]\n",
    "\n",
    "for test_string in test_strings2:\n",
    "    matches = [find_match(pattern, test_string) for pattern in patterns3]\n",
    "    print('In: \"' + test_string +'\"')\n",
    "    for pattern in patterns3:\n",
    "        print (' - The first potential match for \"' + pattern.pattern + '\" is: ' + matches[patterns3.index(pattern)])"
   ]
  },
  {
   "cell_type": "code",
   "execution_count": 11,
   "metadata": {
    "slideshow": {
     "slide_type": "slide"
    }
   },
   "outputs": [
    {
     "name": "stdout",
     "output_type": "stream",
     "text": [
      "In: \"The Aardvarks belong to the Captain.\"\n",
      " - All potential matches for \"(Aa)\" is/are: Aa\n",
      " - All potential matches for \"[Aa][Aa]\" is/are: Aa\n",
      " - All potential matches for \"[aeiou][aeiou]\" is/are: ai\n",
      " - All potential matches for \"[AaEeIiOoUu][aeiou]\" is/are: Aa, ai\n",
      " - All potential matches for \"[Tt]he\" is/are: The, the\n",
      " - All potential matches for \"^[Tt]he\" is/are: The\n",
      " - All potential matches for \"n.\" is/are: ng, n.\n",
      " - All potential matches for \"n.$\" is/are: n.\n",
      " - All potential matches for \"\\W\\w\" is/are:  A,  b,  t,  t,  C\n",
      " - There were no matches for \"\\w[aeiou]tter.\n",
      " - There were no matches for \"..tt...\n",
      "\n",
      "\n",
      "In: \"Bitter butter won't make the batter better.\"\n",
      " - There were no matches for \"(Aa).\n",
      " - There were no matches for \"[Aa][Aa].\n",
      " - There were no matches for \"[aeiou][aeiou].\n",
      " - There were no matches for \"[AaEeIiOoUu][aeiou].\n",
      " - All potential matches for \"[Tt]he\" is/are: the\n",
      " - There were no matches for \"^[Tt]he.\n",
      " - All potential matches for \"n.\" is/are: n'\n",
      " - There were no matches for \"n.$.\n",
      " - All potential matches for \"\\W\\w\" is/are:  b,  w, 't,  m,  t,  b,  b\n",
      " - All potential matches for \"\\w[aeiou]tter\" is/are: Bitter, butter, batter, better\n",
      " - All potential matches for \"..tt..\" is/are: Bitter, butter, batter, better\n",
      "\n",
      "\n",
      "In: \"Hark, the pitter patter of little feet!\"\n",
      " - There were no matches for \"(Aa).\n",
      " - There were no matches for \"[Aa][Aa].\n",
      " - All potential matches for \"[aeiou][aeiou]\" is/are: ee\n",
      " - All potential matches for \"[AaEeIiOoUu][aeiou]\" is/are: ee\n",
      " - All potential matches for \"[Tt]he\" is/are: the\n",
      " - There were no matches for \"^[Tt]he.\n",
      " - There were no matches for \"n..\n",
      " - There were no matches for \"n.$.\n",
      " - All potential matches for \"\\W\\w\" is/are:  t,  p,  p,  o,  l,  f\n",
      " - All potential matches for \"\\w[aeiou]tter\" is/are: pitter, patter\n",
      " - All potential matches for \"..tt..\" is/are: pitter, patter, little\n",
      "\n",
      "\n"
     ]
    }
   ],
   "source": [
    "def find_all_matches(pattern, string):\n",
    "    matches = re.findall(pattern, string)\n",
    "    if matches:\n",
    "        return matches\n",
    "    else:\n",
    "        return None\n",
    "\n",
    "for test_string in test_strings2:\n",
    "    matches = [find_all_matches(pattern, test_string) for pattern in patterns3]\n",
    "    print('In: \"' + test_string +'\"')\n",
    "    for pattern in patterns3:\n",
    "        if matches[patterns3.index(pattern)]:\n",
    "            \n",
    "            print (' - All potential matches for \"' + pattern.pattern + '\" is/are: ' + ', '.join(matches[patterns3.index(pattern)]))\n",
    "        else:\n",
    "            print (' - There were no matches for \"' + pattern.pattern + '.')\n",
    "    print('\\n')"
   ]
  },
  {
   "cell_type": "markdown",
   "metadata": {
    "slideshow": {
     "slide_type": "slide"
    }
   },
   "source": [
    "We have a new function and some new code. Let's go over it:"
   ]
  },
  {
   "cell_type": "markdown",
   "metadata": {},
   "source": [
    "First, we wrote a function called find_all_matches:"
   ]
  },
  {
   "cell_type": "markdown",
   "metadata": {},
   "source": [
    "<code>\n",
    "def find_all_matches(pattern, string):\n",
    "    matches = re.findall(pattern, string)\n",
    "    if matches:\n",
    "        return matches\n",
    "    else:\n",
    "        return None\n",
    "</code>"
   ]
  },
  {
   "cell_type": "markdown",
   "metadata": {},
   "source": [
    "There are only two differences between find_matches and find_all_matches. First, find_all_matches uses re.findall not re.search. So matches is a list of all possible matches. Thus, instead of return a single string in either condition, find_all_matches can return either a list of strings or None."
   ]
  },
  {
   "cell_type": "markdown",
   "metadata": {},
   "source": [
    "<code>\n",
    "for test_string in test_strings2:\n",
    "    matches = [find_all_matches(pattern, test_string) for pattern in patterns3]\n",
    "\n",
    "    for pattern in patterns3:\n",
    "        if matches[patterns3.index(pattern)]:\n",
    "</code>"
   ]
  },
  {
   "cell_type": "markdown",
   "metadata": {
    "slideshow": {
     "slide_type": "slide"
    }
   },
   "source": [
    "Remember the use of .index() from the previous code walkthrough. Also, remember that None returns false in a logical condition test. In this if statement, We are testing to see if there were any matches for the current pattern in the loop. If there were any matches, the code will execute the next line. Otherwise, it will go to the else block. "
   ]
  },
  {
   "cell_type": "markdown",
   "metadata": {},
   "source": [
    "<code>\n",
    "print 'All potential matches for \"' + pattern.pattern + '\" in \"' + test_string + '\" is/are: ' + ', '.join(matches[patterns3.index(pattern)])\n",
    "</code>"
   ]
  },
  {
   "cell_type": "markdown",
   "metadata": {},
   "source": [
    "If matches at the index of the current pattern is not None, it will be a list of strings. Because we are printing these results, we wanted to nicely format them for diagnostic purposes. So we use the standard list-to-string Python expression of ''.join(list). In this case, we wanted the results to be comma-separated. "
   ]
  },
  {
   "cell_type": "code",
   "execution_count": 12,
   "metadata": {
    "slideshow": {
     "slide_type": "slide"
    }
   },
   "outputs": [
    {
     "name": "stdout",
     "output_type": "stream",
     "text": [
      "All potential matches for \"No*\" in \"Now Mr. N said, \"Nooooooo!\"\" is/are: No, N, Nooooooo\n",
      "All potential matches for \"No+\" in \"Now Mr. N said, \"Nooooooo!\"\" is/are: No, Nooooooo\n",
      "All potential matches for \"No?\" in \"Now Mr. N said, \"Nooooooo!\"\" is/are: No, N, No\n",
      "All potential matches for \"No{7}\" in \"Now Mr. N said, \"Nooooooo!\"\" is/are: Nooooooo\n",
      "There were no matches for \"s?he\" in \"Now Mr. N said, \"Nooooooo!\"\".\n",
      "There were no matches for \"she|he\" in \"Now Mr. N said, \"Nooooooo!\"\".\n",
      "There were no matches for \"No*\" in \"Then she told him he had to be quiet.\".\n",
      "There were no matches for \"No+\" in \"Then she told him he had to be quiet.\".\n",
      "There were no matches for \"No?\" in \"Then she told him he had to be quiet.\".\n",
      "There were no matches for \"No{7}\" in \"Then she told him he had to be quiet.\".\n",
      "All potential matches for \"s?he\" in \"Then she told him he had to be quiet.\" is/are: he, she, he\n",
      "All potential matches for \"she|he\" in \"Then she told him he had to be quiet.\" is/are: he, she, he\n"
     ]
    }
   ],
   "source": [
    "test_strings3 = ['Now Mr. N said, \"Nooooooo!\"',\n",
    "                 'Then she told him he had to be quiet.']\n",
    "\n",
    "patterns4 = [re.compile(r'No*'),\n",
    "re.compile(r'No+'),\n",
    "re.compile(r'No?'),\n",
    "re.compile(r'No{7}'),\n",
    "re.compile(r's?he'),\n",
    "re.compile(r'she|he')]\n",
    "\n",
    "for test_string in test_strings3:\n",
    "    matches = [find_all_matches(pattern, test_string) for pattern in patterns4]\n",
    "    \n",
    "    for pattern in patterns4:\n",
    "        if matches[patterns4.index(pattern)]:\n",
    "            print ('All potential matches for \"' + pattern.pattern + '\" in \"' + test_string + '\" is/are: ' + ', '.join(matches[patterns4.index(pattern)]))\n",
    "        else:\n",
    "            print ('There were no matches for \"' + pattern.pattern + '\" in \"' + test_string + '\".')"
   ]
  },
  {
   "cell_type": "markdown",
   "metadata": {
    "slideshow": {
     "slide_type": "slide"
    }
   },
   "source": [
    "#### Capturing groups"
   ]
  },
  {
   "cell_type": "markdown",
   "metadata": {},
   "source": [
    "In Python, SRE_Match objects have .groups and .group methods. These correspond to the capturing groups established in the regex, if you chose to indicate groups. By default, the 0th group is the entire match to the whole regex. To access the result for a capturing group, you pass the capturing group index to the .group method. "
   ]
  },
  {
   "cell_type": "code",
   "execution_count": 52,
   "metadata": {},
   "outputs": [],
   "source": [
    "test_strings4 = ['The benefit is being held for Mr. Kite and Mr. Henderson.',\n",
    "                 'Tickets cost $5.00 for adults, $3.50 for children.',\n",
    "                 'Over 9000 attendees are expected, up from 900 attendees last year.',\n",
    "                 'Over 9,000 attendees are expected, up from 900 attendees last year.']\n",
    "\n",
    "patterns5 = [re.compile(r'Mr\\. (\\w+)'),\n",
    "             re.compile(r'\\$(\\d+\\.\\d\\d)'),\n",
    "             re.compile(r'(\\d+) attendees'),\n",
    "             re.compile(r'((\\d+,)*\\d+) attendees')]"
   ]
  },
  {
   "cell_type": "code",
   "execution_count": 53,
   "metadata": {},
   "outputs": [
    {
     "name": "stdout",
     "output_type": "stream",
     "text": [
      "((\\d+,)*\\d+) attendees\n",
      "Over 9,000 attendees are expected, up from 900 attendees last year.\n",
      "\n",
      "Matches:  9,000 attendees\n",
      "\n",
      "Group 0: 9,000 attendees\n",
      "Group 1: 9,000\n",
      "Group 2: 9,\n"
     ]
    }
   ],
   "source": [
    "# simple example\n",
    "print (patterns5[3].pattern)\n",
    "print (test_strings4[3])\n",
    "\n",
    "matches = re.search(patterns5[3], test_strings4[3])\n",
    "print (\"\\nMatches:  \" + matches.group() + \"\\n\")\n",
    "print ('Group 0: ' + matches.group(0))\n",
    "print ('Group 1: ' + matches.group(1))\n",
    "print ('Group 2: ' + matches.group(2))\n",
    "# print ('Group 3: ' + matches.group(3)) # what happens if you uncomment this?\n"
   ]
  },
  {
   "cell_type": "markdown",
   "metadata": {},
   "source": [
    "This example searched for r'((\\d+,)*\\d+) attendees' in the string \"Over 9000 attendees are expected, up from 900 attendees last year.'\" There are two groups, one nested inside the other. Groups are indexed outer-most left parens. This is why Group 1 is 9,000 and Group 2 is 9,."
   ]
  },
  {
   "cell_type": "code",
   "execution_count": 68,
   "metadata": {
    "slideshow": {
     "slide_type": "slide"
    }
   },
   "outputs": [
    {
     "name": "stdout",
     "output_type": "stream",
     "text": [
      "\n",
      "The benefit is being held for Mr. Kite and Mr. Henderson.\n",
      "re.compile('Mr\\\\. (\\\\w+)')\n",
      " the group 0 match is Mr. Kite\n",
      " the group 1 match is Kite\n",
      " the group 0 match is Mr. Henderson\n",
      " the group 1 match is Henderson\n",
      "re.compile('\\\\$(\\\\d+\\\\.\\\\d\\\\d)')\n",
      "re.compile('(\\\\d+) attendees')\n",
      "re.compile('((\\\\d+,)*\\\\d+) attendees')\n",
      "\n",
      "Tickets cost $5.00 for adults, $3.50 for children.\n",
      "re.compile('Mr\\\\. (\\\\w+)')\n",
      "re.compile('\\\\$(\\\\d+\\\\.\\\\d\\\\d)')\n",
      " the group 0 match is $5.00\n",
      " the group 1 match is 5.00\n",
      " the group 0 match is $3.50\n",
      " the group 1 match is 3.50\n",
      "re.compile('(\\\\d+) attendees')\n",
      "re.compile('((\\\\d+,)*\\\\d+) attendees')\n",
      "\n",
      "Over 9000 attendees are expected, up from 900 attendees last year.\n",
      "re.compile('Mr\\\\. (\\\\w+)')\n",
      "re.compile('\\\\$(\\\\d+\\\\.\\\\d\\\\d)')\n",
      "re.compile('(\\\\d+) attendees')\n",
      " the group 0 match is 9000 attendees\n",
      " the group 1 match is 9000\n",
      " the group 0 match is 900 attendees\n",
      " the group 1 match is 900\n",
      "re.compile('((\\\\d+,)*\\\\d+) attendees')\n",
      " the group 0 match is 9000 attendees\n",
      " the group 1 match is 9000\n",
      " the group 2 match is None\n",
      " the group 0 match is 900 attendees\n",
      " the group 1 match is 900\n",
      " the group 2 match is None\n",
      "\n",
      "Over 9,000 attendees are expected, up from 900 attendees last year.\n",
      "re.compile('Mr\\\\. (\\\\w+)')\n",
      "re.compile('\\\\$(\\\\d+\\\\.\\\\d\\\\d)')\n",
      "re.compile('(\\\\d+) attendees')\n",
      " the group 0 match is 000 attendees\n",
      " the group 1 match is 000\n",
      " the group 0 match is 900 attendees\n",
      " the group 1 match is 900\n",
      "re.compile('((\\\\d+,)*\\\\d+) attendees')\n",
      " the group 0 match is 9,000 attendees\n",
      " the group 1 match is 9,000\n",
      " the group 2 match is 9,\n",
      " the group 0 match is 900 attendees\n",
      " the group 1 match is 900\n",
      " the group 2 match is None\n"
     ]
    }
   ],
   "source": [
    "for test_string in test_strings4:\n",
    "    print(\"\")\n",
    "    print(test_string)\n",
    "    for pattern in patterns5:\n",
    "        print(pattern)\n",
    "        for result in re.finditer(pattern, test_string): # iterator finding a new group each time instead of a list (findall)\n",
    "            for i in range(pattern.groups+1):\n",
    "                print (' the group ' +str(i)+ ' match is ' + str(result.group(i)))"
   ]
  },
  {
   "cell_type": "markdown",
   "metadata": {
    "slideshow": {
     "slide_type": "slide"
    }
   },
   "source": [
    "Before we go over this code block, let's establish the purpose of the code. We wanted to return all the matches for each group. But there are a few concerns:\n",
    "\n",
    "<li>The number of groups is different for each pattern. </li>\n",
    "<li>`.findall' return a list of matches, and if there are groups, it will return a list of tuples, where each tuple is the length of the number of capturing groups.</li>"
   ]
  },
  {
   "cell_type": "code",
   "execution_count": 16,
   "metadata": {},
   "outputs": [
    {
     "name": "stdout",
     "output_type": "stream",
     "text": [
      "((\\d+,)*\\d+) attendees\n",
      "Over 9,000 attendees are expected, up from 900 attendees last year.\n",
      "\n",
      "Matches: \n",
      "[('9,000', '9,'), ('900', '')]\n",
      "\n",
      "Group 0: 9,000 attendees\n",
      "Group 1: 9,000\n",
      "Group 2: 9,\n"
     ]
    }
   ],
   "source": [
    "print (patterns5[3].pattern)\n",
    "print (test_strings4[3])\n",
    "matches = re.findall(patterns5[3], test_strings4[3])\n",
    "print(\"\\nMatches: \")\n",
    "print (matches)\n",
    "matches = re.search(patterns5[3], test_strings4[3])\n",
    "print ('\\nGroup 0: ' + matches.group(0))\n",
    "print ('Group 1: ' + matches.group(1))\n",
    "print ('Group 2: ' + matches.group(2))\n"
   ]
  },
  {
   "cell_type": "markdown",
   "metadata": {
    "slideshow": {
     "slide_type": "slide"
    }
   },
   "source": [
    "But there are other ways of constructing this kind of loop."
   ]
  },
  {
   "cell_type": "markdown",
   "metadata": {},
   "source": [
    "<code>\n",
    "for test_string in test_strings4:\n",
    "    for pattern in patterns5:\n",
    "        for result in re.finditer(pattern, test_string):\n",
    "</code>"
   ]
  },
  {
   "cell_type": "markdown",
   "metadata": {},
   "source": [
    "re.finditer returns an iterator. This loop means that for every pattern and for each string we're testing, instead of creating a list of matches, we're going to create a iterator object that contains the results."
   ]
  },
  {
   "cell_type": "markdown",
   "metadata": {},
   "source": [
    "<code>\n",
    "for i in range(pattern.groups+1):\n",
    "</code>"
   ]
  },
  {
   "cell_type": "markdown",
   "metadata": {},
   "source": [
    "The .groups method will list the number of capturing groups in the regular expression. range is a function that will return a list of integers ranging from a start or a stop value and by a step value. If you just give it a int, by default it will treat that value is a stopping value and start from 0. Now, we add 1 to this value because the end point is omitted in range. If we want to return all the groups, we have to add that end point back."
   ]
  },
  {
   "cell_type": "markdown",
   "metadata": {},
   "source": [
    "<code>\n",
    "print 'In \"' + test_string + '\", '  + 'given pattern \"' + pattern.pattern + '\", the group ' +str(i)+ ' match is ' + str(result.group(i))\n",
    "</code>"
   ]
  },
  {
   "cell_type": "markdown",
   "metadata": {},
   "source": [
    "Because i is established as the index value of the current regex match produced by the iterator, we can use i as the index value for which group we'd like to return. That's why we can call result.group(i). "
   ]
  },
  {
   "cell_type": "markdown",
   "metadata": {
    "slideshow": {
     "slide_type": "slide"
    }
   },
   "source": [
    "#### Summary of useful functions"
   ]
  },
  {
   "cell_type": "markdown",
   "metadata": {},
   "source": [
    "<ul>\n",
    "<li><code>re.match()</code>  : Determine if the RE matches at the beginning of the string.</li>\n",
    "<li><code>re.search()</code> : Scan through a string, looking for any location where this RE matches.</li>\n",
    "<li><code>re.findall()</code> : Find all substrings where the RE matches, and returns them as a list.</li>\n",
    "<li><code>re.finditer()</code> : Find all substrings where the RE matches, and returns them as an iterator.</li>\n",
    "</ul>"
   ]
  },
  {
   "cell_type": "markdown",
   "metadata": {
    "slideshow": {
     "slide_type": "slide"
    }
   },
   "source": [
    "### Use case examples using regular expressions"
   ]
  },
  {
   "cell_type": "markdown",
   "metadata": {},
   "source": [
    "#### Identify files via file extensions"
   ]
  },
  {
   "cell_type": "markdown",
   "metadata": {},
   "source": [
    "<p>A regular expression to check for file extensions.  </p>"
   ]
  },
  {
   "cell_type": "code",
   "execution_count": 17,
   "metadata": {},
   "outputs": [
    {
     "name": "stdout",
     "output_type": "stream",
     "text": [
      "test.gif correct\n",
      "image.jpeg correct\n",
      "image.jpg correct\n",
      "image.TIF correct\n",
      "test invalid\n",
      "test.pdf invalid\n",
      "test.gif.gif invalid\n"
     ]
    }
   ],
   "source": [
    "import re\n",
    "pattern = r'(?i)(\\w+)\\.(jpeg|jpg|png|gif|tif|svg)$'\n",
    "\n",
    "# remove `(?i)` to make regexpr case-sensitive\n",
    "\n",
    "str_true = ('test.gif', \n",
    "            'image.jpeg', \n",
    "            'image.jpg',\n",
    "            'image.TIF'\n",
    "            )\n",
    "\n",
    "str_false = ('test',\n",
    "             'test.pdf',\n",
    "             'test.gif.gif',\n",
    "             )\n",
    "\n",
    "for t in str_true:\n",
    "    if (bool(re.match(pattern, t)) == True):\n",
    "        print ('%s correct' %t)\n",
    "for f in str_false:\n",
    "    if (bool(re.match(pattern, f)) == False):\n",
    "        print ('%s invalid' %f)"
   ]
  },
  {
   "cell_type": "markdown",
   "metadata": {
    "slideshow": {
     "slide_type": "slide"
    }
   },
   "source": [
    "#### Username validation"
   ]
  },
  {
   "cell_type": "markdown",
   "metadata": {},
   "source": [
    "<p>Checking for a valid user name that has a certain minimum and maximum length.</p>\n",
    "<p>Allowed characters:</p>\n",
    "<ul>\n",
    "<li>letters (upper- and lower-case)</li>\n",
    "<li>numbers</li>\n",
    "<li>dashes</li>\n",
    "<li>underscores</li>"
   ]
  },
  {
   "cell_type": "code",
   "execution_count": 18,
   "metadata": {},
   "outputs": [
    {
     "name": "stdout",
     "output_type": "stream",
     "text": [
      "user123 is valid\n",
      "123_user is valid\n",
      "Username is valid\n",
      "user is invalid\n",
      "username1234_is-way-too-long is invalid\n",
      "user$34354 is invalid\n"
     ]
    },
    {
     "name": "stderr",
     "output_type": "stream",
     "text": [
      "<ipython-input-18-5354d1b48b01>:15: DeprecationWarning: Flags not at the start of the expression '^(?i)[a-z0-9_-]{5,15' (truncated)\n",
      "  if (bool(re.match(pattern, t)) == True):\n"
     ]
    }
   ],
   "source": [
    "min_len = 5 # minimum length for a valid username\n",
    "max_len = 15 # maximum length for a valid username\n",
    "\n",
    "pattern = r\"^(?i)[a-z0-9_-]{%s,%s}$\" %(min_len, max_len)\n",
    "\n",
    "# remove `(?i)` to only allow lower-case letters\n",
    "\n",
    "\n",
    "\n",
    "str_true = ('user123', '123_user', 'Username')\n",
    "            \n",
    "str_false = ('user', 'username1234_is-way-too-long', 'user$34354')\n",
    "\n",
    "for t in str_true:\n",
    "    if (bool(re.match(pattern, t)) == True):\n",
    "        print ('%s is valid' %t)\n",
    "for f in str_false:\n",
    "    if (bool(re.match(pattern, f)) == False):\n",
    "        print ('%s is invalid' %f)"
   ]
  },
  {
   "cell_type": "markdown",
   "metadata": {
    "slideshow": {
     "slide_type": "slide"
    }
   },
   "source": [
    "#### Checking for valid email addresses"
   ]
  },
  {
   "cell_type": "markdown",
   "metadata": {},
   "source": [
    "A regular expression that captures most email addresses."
   ]
  },
  {
   "cell_type": "code",
   "execution_count": 19,
   "metadata": {},
   "outputs": [
    {
     "name": "stdout",
     "output_type": "stream",
     "text": [
      "l-l.l@mail.Aom.PP is valid\n",
      "testmail.com is invalid\n",
      "test@mail.com. is invalid\n",
      "@testmail.com is invalid\n",
      "test@mailcom is invalid\n"
     ]
    },
    {
     "name": "stderr",
     "output_type": "stream",
     "text": [
      "<ipython-input-19-ee1c939261c3>:8: DeprecationWarning: Flags not at the start of the expression '(^(?i)(\\\\w+\\\\.|\\\\w+-)*\\\\' (truncated)\n",
      "  if (bool(re.match(pattern, t)) == True):\n"
     ]
    }
   ],
   "source": [
    "pattern = r\"(^(?i)(\\w+\\.|\\w+-)*\\w+@(\\w+\\.|\\w+-)*\\w+\\.[a-z]{2,3}$)\"\n",
    "\n",
    "str_true = ('l-l.l@mail.Aom.PP',)\n",
    "            \n",
    "str_false = ('testmail.com','test@mail.com.', '@testmail.com', 'test@mailcom')\n",
    "\n",
    "for t in str_true:\n",
    "    if (bool(re.match(pattern, t)) == True):\n",
    "        print ('%s is valid' %t)\n",
    "for f in str_false:\n",
    "    if (bool(re.match(pattern, f)) == False):\n",
    "        print ('%s is invalid' %f)"
   ]
  },
  {
   "cell_type": "markdown",
   "metadata": {},
   "source": [
    "#### Checks for an URL if a string ...\n",
    "<ul>\n",
    "<li>starts with <code>https://</code>, or <code>http://</code>, or <code>www.</code></li>\n",
    "<li>and ends with a dot extension</li>"
   ]
  },
  {
   "cell_type": "code",
   "execution_count": 20,
   "metadata": {},
   "outputs": [
    {
     "name": "stdout",
     "output_type": "stream",
     "text": [
      "https://githuB.com is valid\n",
      "http://github.com is valid\n",
      "www.github.com is valid\n",
      "https://www.github.com is valid\n",
      "//testmail.com is invalid\n",
      "http:testmailcom is invalid\n"
     ]
    }
   ],
   "source": [
    "pattern = '^((https?:\\/\\/)|www\\.)([\\dA-Za-z\\.-]+)\\.([A-Za-z\\.-]*)$'\n",
    "\n",
    "str_true = ('https://githuB.com', \n",
    "            'http://github.com',\n",
    "            'www.github.com',\n",
    "            'https://www.github.com'\n",
    "            )\n",
    "            \n",
    "str_false = ('//testmail.com', 'http:testmailcom', )\n",
    "\n",
    "for t in str_true:\n",
    "    if (bool(re.match(pattern, t)) == True):\n",
    "        print ('%s is valid' %t)\n",
    "for f in str_false:\n",
    "    if (bool(re.match(pattern, f)) == False):\n",
    "        print ('%s is invalid' %f)"
   ]
  },
  {
   "cell_type": "code",
   "execution_count": 21,
   "metadata": {},
   "outputs": [],
   "source": [
    "# IMPROVE PREVIOUS EXERCISE: THINK ADDITIONAL CONSTRAINTS\n"
   ]
  },
  {
   "cell_type": "markdown",
   "metadata": {
    "slideshow": {
     "slide_type": "slide"
    }
   },
   "source": [
    "### Checking for numbers"
   ]
  },
  {
   "cell_type": "markdown",
   "metadata": {},
   "source": [
    "##### Positive integers"
   ]
  },
  {
   "cell_type": "code",
   "execution_count": 22,
   "metadata": {},
   "outputs": [
    {
     "name": "stdout",
     "output_type": "stream",
     "text": [
      "123 is positive integer\n",
      "1 is positive integer\n",
      "abc is not positive integer\n",
      "1.1 is not positive integer\n"
     ]
    }
   ],
   "source": [
    "pattern = '^\\d+$'\n",
    "\n",
    "str_true = ('123', '1', )\n",
    "            \n",
    "str_false = ('abc', '1.1', )\n",
    "\n",
    "for t in str_true:\n",
    "    if (bool(re.match(pattern, t)) == True):\n",
    "        print ('%s is positive integer' %t)\n",
    "for f in str_false:\n",
    "    if (bool(re.match(pattern, f)) == False):\n",
    "        print ('%s is not positive integer' %f)"
   ]
  },
  {
   "cell_type": "markdown",
   "metadata": {
    "slideshow": {
     "slide_type": "slide"
    }
   },
   "source": [
    "##### Negative integers"
   ]
  },
  {
   "cell_type": "code",
   "execution_count": 23,
   "metadata": {},
   "outputs": [
    {
     "name": "stdout",
     "output_type": "stream",
     "text": [
      "-123 is negative integer\n",
      "-1 is negative integer\n",
      "123 is not negative integer\n",
      "-abc is not negative integer\n",
      "-1.1 is not negative integer\n"
     ]
    }
   ],
   "source": [
    "pattern = '^-\\d+$'\n",
    "\n",
    "str_true = ('-123', '-1', )\n",
    "            \n",
    "str_false = ('123', '-abc', '-1.1', )\n",
    "\n",
    "for t in str_true:\n",
    "    if (bool(re.match(pattern, t)) == True):\n",
    "        print ('%s is negative integer' %t)\n",
    "for f in str_false:\n",
    "    if (bool(re.match(pattern, f)) == False):\n",
    "        print ('%s is not negative integer' %f)"
   ]
  },
  {
   "cell_type": "markdown",
   "metadata": {
    "slideshow": {
     "slide_type": "slide"
    }
   },
   "source": [
    "##### All integers"
   ]
  },
  {
   "cell_type": "code",
   "execution_count": 24,
   "metadata": {},
   "outputs": [
    {
     "name": "stdout",
     "output_type": "stream",
     "text": [
      "-123 is integer\n",
      "-1 is integer\n",
      "1 is integer\n",
      "123 is integer\n",
      "123.0 is not integer\n",
      "-abc is not integer\n",
      "-1.1 is not integer\n"
     ]
    }
   ],
   "source": [
    "pattern = '^-{0,1}\\d+$'\n",
    "\n",
    "str_true = ('-123', '-1', '1', '123',)\n",
    "            \n",
    "str_false = ('123.0', '-abc', '-1.1', )\n",
    "\n",
    "for t in str_true:\n",
    "    if (bool(re.match(pattern, t)) == True):\n",
    "        print ('%s is integer' %t)\n",
    "for f in str_false:\n",
    "    if (bool(re.match(pattern, f)) == False):\n",
    "        print ('%s is not integer' %f)"
   ]
  },
  {
   "cell_type": "markdown",
   "metadata": {
    "slideshow": {
     "slide_type": "slide"
    }
   },
   "source": [
    "##### Positive numbers"
   ]
  },
  {
   "cell_type": "code",
   "execution_count": 25,
   "metadata": {},
   "outputs": [
    {
     "name": "stdout",
     "output_type": "stream",
     "text": [
      "PATTERN: ^\\d*\\.{0,1}\\d+$\n",
      "1 is positive number\n",
      "123 is positive number\n",
      "1.234 is positive number\n",
      "0.2 is positive number\n",
      ".2 is positive number\n",
      "-abc is not positive number\n",
      "-123 is not positive number\n",
      "-123.0 is not positive number\n",
      "\n",
      "PATTERN: ^\\d+([.]\\d+)?$\n",
      "1 is positive number\n",
      "123 is positive number\n",
      "1.234 is positive number\n",
      "0.2 is positive number\n",
      "-abc is not positive number\n",
      "-123 is not positive number\n",
      "-123.0 is not positive number\n"
     ]
    }
   ],
   "source": [
    "pattern = '^\\d*\\.{0,1}\\d+$'\n",
    "str_true = ('1', '123', '1.234','0.2','.2')\n",
    "            \n",
    "str_false = ('-abc', '-123', '-123.0')\n",
    "print(\"PATTERN:\",pattern)\n",
    "for t in str_true:\n",
    "    if (bool(re.match(pattern, t)) == True):\n",
    "        print ('%s is positive number' %t)\n",
    "for f in str_false:\n",
    "    if (bool(re.match(pattern, f)) == False):\n",
    "        print ('%s is not positive number' %f)\n",
    "print()\n",
    "pattern = '^\\d+([.]\\d+)?$'\n",
    "print(\"PATTERN:\",pattern)\n",
    "for t in str_true:\n",
    "    if (bool(re.match(pattern, t)) == True):\n",
    "        print ('%s is positive number' %t)\n",
    "for f in str_false:\n",
    "    if (bool(re.match(pattern, f)) == False):\n",
    "        print ('%s is not positive number' %f)"
   ]
  },
  {
   "cell_type": "markdown",
   "metadata": {
    "slideshow": {
     "slide_type": "slide"
    }
   },
   "source": [
    "##### Negative numbers"
   ]
  },
  {
   "cell_type": "code",
   "execution_count": 26,
   "metadata": {},
   "outputs": [
    {
     "name": "stdout",
     "output_type": "stream",
     "text": [
      "-1 is negative number\n",
      "-123 is negative number\n",
      "-123.0 is negative number\n",
      "-abc is not negative number\n",
      "1 is not negative number\n",
      "123 is not negative number\n",
      "1.234 is not negative number\n"
     ]
    }
   ],
   "source": [
    "pattern = '^-\\d*\\.{0,1}\\d+$'\n",
    "\n",
    "str_true = ('-1', '-123', '-123.0', )\n",
    "            \n",
    "str_false = ('-abc', '1', '123', '1.234', )\n",
    "\n",
    "for t in str_true:\n",
    "    if (bool(re.match(pattern, t)) == True):\n",
    "        print ('%s is negative number' %t)\n",
    "for f in str_false:\n",
    "    if (bool(re.match(pattern, f)) == False):\n",
    "        print ('%s is not negative number' %f)"
   ]
  },
  {
   "cell_type": "markdown",
   "metadata": {
    "slideshow": {
     "slide_type": "slide"
    }
   },
   "source": [
    "##### All numbers"
   ]
  },
  {
   "cell_type": "code",
   "execution_count": 27,
   "metadata": {},
   "outputs": [
    {
     "name": "stdout",
     "output_type": "stream",
     "text": [
      "1 is a number\n",
      "123 is a number\n",
      "1.234 is a number\n",
      "-123 is a number\n",
      "-123.0 is a number\n",
      "a is not a number\n",
      "-abc is not a number\n"
     ]
    }
   ],
   "source": [
    "pattern = '^-{0,1}\\d*\\.{0,1}\\d+$'\n",
    "\n",
    "str_true = ('1', '123', '1.234', '-123', '-123.0')\n",
    "            \n",
    "str_false = ('a','-abc')\n",
    "\n",
    "for t in str_true:\n",
    "    if (bool(re.match(pattern, t)) == True):\n",
    "        print ('%s is a number' %t)\n",
    "for f in str_false:\n",
    "    if (bool(re.match(pattern, f)) == False):\n",
    "        print ('%s is not a number' %f)"
   ]
  },
  {
   "cell_type": "markdown",
   "metadata": {
    "slideshow": {
     "slide_type": "slide"
    }
   },
   "source": [
    "### Validating dates and time"
   ]
  },
  {
   "cell_type": "markdown",
   "metadata": {},
   "source": [
    "Validates dates in mm/dd/yyyy format. note: Some dates are not verified such as 2080 to be invalid. "
   ]
  },
  {
   "cell_type": "code",
   "execution_count": 28,
   "metadata": {},
   "outputs": [
    {
     "name": "stdout",
     "output_type": "stream",
     "text": [
      "01/08/2014 is a valid date\n",
      "12/30/2014 is a valid date\n",
      "22/08/2014 is not a valid date\n",
      "-123 is not a valid date\n",
      "1/8/2014 is not a valid date\n",
      "1/08/2014 is not a valid date\n",
      "01/8/2014 is not a valid date\n"
     ]
    }
   ],
   "source": [
    "pattern = '^(0[1-9]|1[0-2])\\/(0[1-9]|1\\d|2\\d|3[01])\\/(19|20)\\d{2}$'\n",
    "\n",
    "str_true = ('01/08/2014', '12/30/2014', )\n",
    "            \n",
    "str_false = ('22/08/2014', '-123', '1/8/2014', '1/08/2014', '01/8/2014')\n",
    "\n",
    "for t in str_true:\n",
    "    if (bool(re.match(pattern, t)) == True):\n",
    "        print ('%s is a valid date' %t)\n",
    "for f in str_false:\n",
    "    if (bool(re.match(pattern, f)) == False):\n",
    "        print ('%s is not a valid date' %f)"
   ]
  },
  {
   "cell_type": "markdown",
   "metadata": {
    "slideshow": {
     "slide_type": "slide"
    }
   },
   "source": [
    "#### 12-Hour format"
   ]
  },
  {
   "cell_type": "markdown",
   "metadata": {},
   "source": [
    "\\s is the space character"
   ]
  },
  {
   "cell_type": "code",
   "execution_count": 29,
   "metadata": {},
   "outputs": [
    {
     "name": "stdout",
     "output_type": "stream",
     "text": [
      "2:00pm is a valid 12-hour format\n",
      "7:30 AM is a valid 12-hour format\n",
      "12:05 am is a valid 12-hour format\n",
      "22:00pm is not a valid 12-hour format\n",
      "14:00 is not a valid 12-hour format\n",
      "3:12 is not a valid 12-hour format\n",
      "03:12pm is not a valid 12-hour format\n"
     ]
    },
    {
     "name": "stderr",
     "output_type": "stream",
     "text": [
      "<ipython-input-29-b83570ee3654>:8: DeprecationWarning: Flags not at the start of the expression '^(1[012]|[1-9]):[0-5' (truncated)\n",
      "  if (bool(re.match(pattern, t)) == True):\n"
     ]
    }
   ],
   "source": [
    "pattern = r'^(1[012]|[1-9]):[0-5][0-9](\\s)?(?i)(am|pm)$'\n",
    "\n",
    "str_true = ('2:00pm', '7:30 AM', '12:05 am', )\n",
    "            \n",
    "str_false = ('22:00pm', '14:00', '3:12', '03:12pm', )\n",
    "\n",
    "for t in str_true:\n",
    "    if (bool(re.match(pattern, t)) == True):\n",
    "        print ('%s is a valid 12-hour format' %t)\n",
    "for f in str_false:\n",
    "    if (bool(re.match(pattern, f)) == False):\n",
    "        print ('%s is not a valid 12-hour format' %f)"
   ]
  },
  {
   "cell_type": "markdown",
   "metadata": {
    "slideshow": {
     "slide_type": "slide"
    }
   },
   "source": [
    "#### 24-Hour format"
   ]
  },
  {
   "cell_type": "code",
   "execution_count": 30,
   "metadata": {},
   "outputs": [
    {
     "name": "stdout",
     "output_type": "stream",
     "text": [
      "14:00 is a valid 24-hour format\n",
      "00:30 is a valid 24-hour format\n",
      "22:00pm is not valid 24-hour format\n",
      "4:00 is not valid 24-hour format\n"
     ]
    }
   ],
   "source": [
    "pattern = r'^([0-1]{1}[0-9]{1}|20|21|22|23):[0-5]{1}[0-9]{1}$'\n",
    "\n",
    "str_true = ('14:00', '00:30', )\n",
    "            \n",
    "str_false = ('22:00pm', '4:00', )\n",
    "\n",
    "for t in str_true:\n",
    "    if (bool(re.match(pattern, t)) == True):\n",
    "        print ('%s is a valid 24-hour format' %t)\n",
    "for f in str_false:\n",
    "    if (bool(re.match(pattern, f)) == False):\n",
    "        print ('%s is not valid 24-hour format' %f)"
   ]
  },
  {
   "cell_type": "markdown",
   "metadata": {
    "slideshow": {
     "slide_type": "slide"
    }
   },
   "source": [
    "### Checking for HTML/XML, etc. tags (a very simple approach)"
   ]
  },
  {
   "cell_type": "code",
   "execution_count": 31,
   "metadata": {},
   "outputs": [
    {
     "name": "stdout",
     "output_type": "stream",
     "text": [
      "<a> is a valid tag text\n",
      "<a href=\"somethinG\"> is a valid tag text\n",
      "</a> is a valid tag text\n",
      "<img src> is a valid tag text\n",
      "a> is not a valid tag text\n",
      "<a  is not a valid tag text\n",
      "< a > is not a valid tag text\n"
     ]
    }
   ],
   "source": [
    "pattern = r\"\"\"</?(\\w+|\\w+\\s*[\\w+=\"]*)/?>\"\"\"\n",
    "\n",
    "str_true = ('<a>', '<a href=\"somethinG\">', '</a>', '<img src>')\n",
    "            \n",
    "str_false = ('a>', '<a ', '< a >')\n",
    "\n",
    "for t in str_true:\n",
    "    if (bool(re.match(pattern, t)) == True): \n",
    "        print ('%s is a valid tag text' %t)\n",
    "for f in str_false:\n",
    "    if (bool(re.match(pattern, f)) == False): \n",
    "        print ('%s is not a valid tag text' %f)"
   ]
  },
  {
   "cell_type": "markdown",
   "metadata": {
    "slideshow": {
     "slide_type": "slide"
    }
   },
   "source": [
    "#### E-mail address?"
   ]
  },
  {
   "cell_type": "code",
   "execution_count": 32,
   "metadata": {},
   "outputs": [],
   "source": [
    "# what is a valid email adress??\n"
   ]
  },
  {
   "cell_type": "markdown",
   "metadata": {
    "slideshow": {
     "slide_type": "slide"
    }
   },
   "source": [
    "#### ID/Passport/NIF"
   ]
  },
  {
   "cell_type": "code",
   "execution_count": null,
   "metadata": {},
   "outputs": [],
   "source": []
  }
 ],
 "metadata": {
  "celltoolbar": "Slideshow",
  "kernelspec": {
   "display_name": "Python 3",
   "language": "python",
   "name": "python3"
  },
  "language_info": {
   "codemirror_mode": {
    "name": "ipython",
    "version": 3
   },
   "file_extension": ".py",
   "mimetype": "text/x-python",
   "name": "python",
   "nbconvert_exporter": "python",
   "pygments_lexer": "ipython3",
   "version": "3.8.3"
  }
 },
 "nbformat": 4,
 "nbformat_minor": 1
}
