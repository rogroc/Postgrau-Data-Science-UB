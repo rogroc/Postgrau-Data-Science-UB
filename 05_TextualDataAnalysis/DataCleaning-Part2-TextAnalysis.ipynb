{
 "cells": [
  {
   "cell_type": "markdown",
   "metadata": {
    "slideshow": {
     "slide_type": "slide"
    }
   },
   "source": [
    "## Cleaning Text\n",
    "Now we are able to process data to analyze text, numbers and symbols for particular regular expressions that can be useful for data cleaning, representation, and decision making analyses. Let's start performing some data cleaning filtering\n",
    "\n",
    "For this purpose we will first use the NLTK library characteristics (Natural Language Toolkit).\n",
    "\n",
    "<code>\n",
    "    Regular expressions and examples\n",
    "    Data cleaning:\n",
    "        Tokenining\n",
    "        Removing punctuation\n",
    "        Stemming and Lemmatizing\n",
    "        Removing tags\n",
    "    Text representation\n",
    "            TF-IDF: Term frequencies (counter)\n",
    "            Vector normalization\n",
    "            Feature weighting (Inverse Document Frequency)\\t\n",
    "            Sklearn implementation\\n\n",
    "    Learning text representations\\n\n",
    "            Stopwords\\n\n",
    "            Bag of Words\\n\n",
    "            n-grams\\n\n",
    "            Training a (naive Bayes) Classifier with NLTK: film critiques example\\n\n",
    "            Training a (naive Bayes) Classifier with TextBlob: A Tweet Sentiment Analyzer\\n\n",
    "</code>"
   ]
  },
  {
   "cell_type": "code",
   "execution_count": 1,
   "metadata": {
    "slideshow": {
     "slide_type": "slide"
    }
   },
   "outputs": [],
   "source": [
    "import math\n",
    "import numpy as np\n",
    "\n",
    "import nltk\n",
    "#nltk.download()\n",
    "raw_docs = [\"Here are some very simple basic sentences.\",\n",
    "\"They won't be very interesting, I'm afraid.\",\n",
    "\"The point of these examples is to _learn how basic text cleaning works_ on *very simple* data.\"]"
   ]
  },
  {
   "cell_type": "markdown",
   "metadata": {
    "slideshow": {
     "slide_type": "slide"
    }
   },
   "source": [
    "### Tokenizing text into bags of words\n",
    "\n",
    "NLTK makes it easy to convert documents-as-strings into word-vectors, a process called tokenizing.\n",
    "\n",
    "\n"
   ]
  },
  {
   "cell_type": "code",
   "execution_count": 2,
   "metadata": {},
   "outputs": [
    {
     "name": "stdout",
     "output_type": "stream",
     "text": [
      "[['Here', 'are', 'some', 'very', 'simple', 'basic', 'sentences', '.'], ['They', 'wo', \"n't\", 'be', 'very', 'interesting', ',', 'I', \"'m\", 'afraid', '.'], ['The', 'point', 'of', 'these', 'examples', 'is', 'to', '_learn', 'how', 'basic', 'text', 'cleaning', 'works_', 'on', '*very', 'simple*', 'data', '.']]\n"
     ]
    }
   ],
   "source": [
    "from nltk.tokenize import word_tokenize\n",
    "\n",
    "tokenized_docs = [word_tokenize(doc) for doc in raw_docs]\n",
    "print (tokenized_docs)"
   ]
  },
  {
   "cell_type": "markdown",
   "metadata": {
    "slideshow": {
     "slide_type": "slide"
    }
   },
   "source": [
    "### Removing punctuation\n",
    "\n",
    "Punctuation can help with tokenizers, but once you've done that, there's no reason to keep it around. There are tons of ways to remove punctuation.\n",
    "\n",
    "Let's review some useful functions\n",
    "\n",
    "re.escape: Return string with all non-alphanumerics backslashed; this is useful if you want to match an arbitrary literal string that may have regular expression metacharacters in it."
   ]
  },
  {
   "cell_type": "code",
   "execution_count": 3,
   "metadata": {},
   "outputs": [
    {
     "name": "stdout",
     "output_type": "stream",
     "text": [
      "!\"#$%&'()*+,-./:;<=>?@[\\]^_`{|}~\n",
      "\\!\\\"\\#\\$\\%\\&\\'\\(\\)\\*\\+\\,\\-\\.\\/\\:\\;\\<\\=\\>\\?\\@\\[\\\\\\]\\^_\\`\\{\\|\\}\\~\n"
     ]
    }
   ],
   "source": [
    "import string\n",
    "import re\n",
    "#nltk.download('punkt')\n",
    "\n",
    "print(string.punctuation)\n",
    "print (re.escape(string.punctuation))"
   ]
  },
  {
   "cell_type": "code",
   "execution_count": 4,
   "metadata": {},
   "outputs": [
    {
     "name": "stdout",
     "output_type": "stream",
     "text": [
      "tokenized_docs:\n",
      " [['Here', 'are', 'some', 'very', 'simple', 'basic', 'sentences', '.'], ['They', 'wo', \"n't\", 'be', 'very', 'interesting', ',', 'I', \"'m\", 'afraid', '.'], ['The', 'point', 'of', 'these', 'examples', 'is', 'to', '_learn', 'how', 'basic', 'text', 'cleaning', 'works_', 'on', '*very', 'simple*', 'data', '.']] \n",
      "\n",
      "tokenized_docs without punctuation symbols:\n",
      " [['Here', 'are', 'some', 'very', 'simple', 'basic', 'sentences'], ['They', 'wo', 'nt', 'be', 'very', 'interesting', 'I', 'm', 'afraid'], ['The', 'point', 'of', 'these', 'examples', 'is', 'to', 'learn', 'how', 'basic', 'text', 'cleaning', 'works', 'on', 'very', 'simple', 'data']]\n"
     ]
    }
   ],
   "source": [
    "print (\"tokenized_docs:\\n\", tokenized_docs,'\\n')    \n",
    "regex = re.compile('[%s]' % re.escape(string.punctuation)) \n",
    "tokenized_docs_no_punctuation = []\n",
    "for sentence in tokenized_docs:\n",
    "    new_sentence = []\n",
    "    for token in sentence: \n",
    "        new_token = regex.sub(u'', token)\n",
    "        if not new_token == u'':\n",
    "            new_sentence.append(new_token)\n",
    "    tokenized_docs_no_punctuation.append(new_sentence)\n",
    "    \n",
    "print (\"tokenized_docs without punctuation symbols:\\n\",tokenized_docs_no_punctuation)"
   ]
  },
  {
   "cell_type": "markdown",
   "metadata": {},
   "source": [
    "Punctuation symbols are removed, and those words containing a punctuation symbol are keeped and marked with an initial 'u'.\n"
   ]
  },
  {
   "cell_type": "markdown",
   "metadata": {
    "slideshow": {
     "slide_type": "slide"
    }
   },
   "source": [
    "### Stemming and Lemmatizing\n",
    "\n",
    "If you have taken linguistics, you may be familiar with morphology. This is the belief that words have a root form. If you want to get to the basic term meaning of the word, you can try applying a stemmer or lemmatizer. Here are three very popular methods ready to go right out of the NLTK box.\n",
    "\n",
    "<img src=\"https://res.cloudinary.com/dyd911kmh/image/upload/f_auto,q_auto:best/v1539984207/stemminglemmatization_n8bmou.jpg\">"
   ]
  },
  {
   "cell_type": "code",
   "execution_count": 5,
   "metadata": {
    "slideshow": {
     "slide_type": "slide"
    }
   },
   "outputs": [
    {
     "name": "stdout",
     "output_type": "stream",
     "text": [
      "BEFORE:\n",
      "  [['Here', 'are', 'some', 'very', 'simple', 'basic', 'sentences'], ['They', 'wo', 'nt', 'be', 'very', 'interesting', 'I', 'm', 'afraid'], ['The', 'point', 'of', 'these', 'examples', 'is', 'to', 'learn', 'how', 'basic', 'text', 'cleaning', 'works', 'on', 'very', 'simple', 'data']]\n",
      "\n",
      "After Stemming and Lemmatizing:\n",
      "  [['here', 'are', 'some', 'veri', 'simpl', 'basic', 'sentenc'], ['they', 'wo', 'nt', 'be', 'veri', 'interest', 'i', 'm', 'afraid'], ['the', 'point', 'of', 'these', 'exampl', 'is', 'to', 'learn', 'how', 'basic', 'text', 'clean', 'work', 'on', 'veri', 'simpl', 'data']]\n"
     ]
    }
   ],
   "source": [
    "from nltk.stem.porter import PorterStemmer\n",
    "from nltk.stem.snowball import SnowballStemmer\n",
    "from nltk.stem.wordnet import WordNetLemmatizer\n",
    "\n",
    "porter   = PorterStemmer()\n",
    "snowball = SnowballStemmer('english')\n",
    "wordnet  = WordNetLemmatizer()\n",
    "\n",
    "preprocessed_docs = []\n",
    "\n",
    "for doc in tokenized_docs_no_punctuation:\n",
    "    final_doc = []\n",
    "    for word in doc:\n",
    "        #final_doc.append(porter.stem(word))\n",
    "        final_doc.append(snowball.stem(word)) # requires 'corpora/wordnet' -> nltk.download()\n",
    "        #final_doc.append(wordnet.lemmatize(word)) # requires 'corpora/wordnet' -> nltk.download()\n",
    "    preprocessed_docs.append(final_doc)\n",
    "\n",
    "    \n",
    "print(\"BEFORE:\\n \", tokenized_docs_no_punctuation)\n",
    "print(\"\\nAfter Stemming and Lemmatizing:\\n \", preprocessed_docs)\n"
   ]
  },
  {
   "cell_type": "markdown",
   "metadata": {
    "slideshow": {
     "slide_type": "slide"
    }
   },
   "source": [
    "### Removing HTML entities and tags\n",
    "We have it already implemented in NLTK!\n"
   ]
  },
  {
   "cell_type": "code",
   "execution_count": 6,
   "metadata": {},
   "outputs": [
    {
     "name": "stdout",
     "output_type": "stream",
     "text": [
      "<p>While many of the stories tugged <a> at the heartstrings, I never felt manipulated by the authors. (Note: Part of the reason why I don't like the &quot;Chicken Soup for the Soul&quot;series is that I feel that the authors are just dying to make the reader clutch for the box of tissues.)</a>\n",
      "\n",
      "--- Cleaned text:---\n",
      "While many of the stories tugged at the heartstrings, I never felt manipulated by the authors. (Note: Part of the reason why I don't like the &quot;Chicken Soup for the Soul&quot;series is that I feel that the authors are just dying to make the reader clutch for the box of tissues.)\n"
     ]
    }
   ],
   "source": [
    "def clean_html(html):\n",
    "    \"\"\"\n",
    "    Copied from NLTK package.\n",
    "    Remove HTML markup from the given string.\n",
    "\n",
    "    :param html: the HTML string to be cleaned\n",
    "    :type html: str\n",
    "    :rtype: str\n",
    "    \"\"\"\n",
    "    # First we remove inline JavaScript/CSS:\n",
    "    cleaned = re.sub(r\"(?is)<(script|style).*?>.*?(</\\1>)\", \"\", html.strip())\n",
    "    \n",
    "    # Then we remove html comments. This has to be done before removing regular\n",
    "    # tags since comments can contain '>' characters.\n",
    "    cleaned = re.sub(r\"(?s)<!--(.*?)-->[\\n]?\", \"\", cleaned)\n",
    "    \n",
    "    # Next we can remove the remaining tags:\n",
    "    cleaned = re.sub(r\"(?s)<.*?>\", \" \", cleaned)\n",
    "    \n",
    "    # Finally, we deal with whitespace\n",
    "    cleaned = re.sub(r\"&nbsp;\", \" \", cleaned)\n",
    "    cleaned = re.sub(r\"  \", \" \", cleaned)\n",
    "    cleaned = re.sub(r\"  \", \" \", cleaned)\n",
    "    return cleaned.strip()\n",
    "\n",
    "test_string  =\"<p>While many of the stories tugged <a> at the heartstrings, I never felt manipulated by the authors.\"\n",
    "test_string +=\" (Note: Part of the reason why I don't like the &quot;Chicken Soup for the Soul&quot;\"\n",
    "test_string +=\"series is that I feel that the authors are just dying to make the reader clutch for the box of tissues.)</a>\"\n",
    "\n",
    "print (test_string)\n",
    "print(\"\\n--- Cleaned text:---\" )\n",
    "print(clean_html(test_string))\n",
    "\n",
    "#Use from bs4 import BeautifulSoup  : for improved versions of tag cleaning "
   ]
  },
  {
   "cell_type": "markdown",
   "metadata": {
    "slideshow": {
     "slide_type": "slide"
    }
   },
   "source": [
    "## The Vector Space Model of text: TF-IDF (Term Frequency - Inverse Distance Frequency)\n",
    "\n",
    "Once text is analyzed based on regular expressions and cleaned by filtering using some of the previous tools, we can proceed to represent it in order to perform posterior analyses.\n",
    "\n",
    "We need to start thinking about how to translate collections of texts into quantifiable phenomena.  The easiest way to start is to think about word frequencies.\n",
    "\n",
    "Example with histograms of visual words representation:\n",
    "<img src=\"https://github.com/DataScienceUB/Postgrau/raw/d4ef21ee7506dd2725b7fd9d9607e931b1834cb5/05_TextualDataAnalysis/VisualWords.png\">\n"
   ]
  },
  {
   "cell_type": "markdown",
   "metadata": {
    "slideshow": {
     "slide_type": "slide"
    }
   },
   "source": [
    "### Basic term frequencies\n",
    "First, let's review how to get a count of terms per document: a term frequency vector."
   ]
  },
  {
   "cell_type": "code",
   "execution_count": 7,
   "metadata": {
    "slideshow": {
     "slide_type": "-"
    }
   },
   "outputs": [
    {
     "name": "stdout",
     "output_type": "stream",
     "text": [
      "dict_items([('Julie', 1), ('loves', 2), ('me', 2), ('more', 1), ('than', 1), ('Linda', 1)])\n",
      "dict_items([('Jane', 1), ('likes', 1), ('me', 2), ('more', 1), ('than', 1), ('Julie', 1), ('loves', 1)])\n",
      "dict_items([('He', 1), ('likes', 1), ('basketball', 1), ('more', 1), ('than', 1), ('baseball', 1)])\n"
     ]
    }
   ],
   "source": [
    "mydoclist = ['Julie loves me more than Linda loves me',\n",
    "'Jane likes me more than Julie loves me',\n",
    "'He likes basketball more than baseball']\n",
    "\n",
    "from collections import Counter\n",
    "\n",
    "for doc in mydoclist:\n",
    "    tf = Counter()\n",
    "    for word in doc.split():\n",
    "        tf[word] +=1\n",
    "    print (tf.items())"
   ]
  },
  {
   "cell_type": "markdown",
   "metadata": {
    "slideshow": {
     "slide_type": "slide"
    }
   },
   "source": [
    "Let's call this a first stab at representing documents quantitatively, just by their word counts (also thinking that we may have previously filtered and cleaned the text using previous approaches)."
   ]
  },
  {
   "cell_type": "code",
   "execution_count": 8,
   "metadata": {},
   "outputs": [
    {
     "name": "stdout",
     "output_type": "stream",
     "text": [
      "Our vocabulary vector is [more, basketball, me, loves, Julie, Jane, baseball, than, He, likes, Linda]\n",
      "\n",
      "The doc is \"Julie loves me more than Linda loves me\"\n",
      "The tf vector for Document 1 is [1, 0, 2, 2, 1, 0, 0, 1, 0, 0, 1]|\n",
      "\n",
      "The doc is \"Jane likes me more than Julie loves me\"\n",
      "The tf vector for Document 2 is [1, 0, 2, 1, 1, 1, 0, 1, 0, 1, 0]|\n",
      "\n",
      "The doc is \"He likes basketball more than baseball\"\n",
      "The tf vector for Document 3 is [1, 1, 0, 0, 0, 0, 1, 1, 1, 1, 0]|\n",
      "\n",
      "\n",
      "All combined, here is our master document term matrix: \n",
      "[[1, 0, 2, 2, 1, 0, 0, 1, 0, 0, 1], [1, 0, 2, 1, 1, 1, 0, 1, 0, 1, 0], [1, 1, 0, 0, 0, 0, 1, 1, 1, 1, 0]]\n"
     ]
    }
   ],
   "source": [
    "def build_lexicon(corpus): # define a set with all possible words included in all the sentences or \"corpus\"\n",
    "    lexicon = set()\n",
    "    for doc in corpus:\n",
    "        lexicon.update([word for word in doc.split()])\n",
    "    return lexicon\n",
    "\n",
    "def freq(term, document):\n",
    "    return document.split().count(term)\n",
    "\n",
    "def tf(term, document):\n",
    "    return freq(term, document)\n",
    "\n",
    "\n",
    "vocabulary = build_lexicon(mydoclist)\n",
    "\n",
    "doc_term_matrix = []\n",
    "print ('Our vocabulary vector is [' + ', '.join(list(vocabulary)) + ']\\n')\n",
    "for doc in mydoclist:\n",
    "    print ('The doc is \"' + doc + '\"')\n",
    "    tf_vector = [tf(word, doc) for word in vocabulary]\n",
    "    tf_vector_string = ', '.join(format(freq, 'd') for freq in tf_vector)\n",
    "    print ('The tf vector for Document %d is [%s]|\\n' % ((mydoclist.index(doc)+1), tf_vector_string))\n",
    "    doc_term_matrix.append(tf_vector)\n",
    "print ('\\nAll combined, here is our master document term matrix: ')\n",
    "print (doc_term_matrix)"
   ]
  },
  {
   "cell_type": "markdown",
   "metadata": {},
   "source": [
    "Okay, that seems reasonable enough. If any of you have any experience with machine learning, what you've just seen is the creation of a feature space. Now every document is in the same feature space, meaning that we can represent the entire corpus in the same dimensional space without having lost too much information."
   ]
  },
  {
   "cell_type": "markdown",
   "metadata": {
    "slideshow": {
     "slide_type": "slide"
    }
   },
   "source": [
    "### Normalizing vectors to L2 Norm\n",
    "Once you've got your data in the same feature space, you can start applying some machine learning methods; classifying, clustering, and so on. But actually, we've got a few problems. Words aren't all equally informative.\n",
    "\n",
    "If words appear too frequently in a single document, they're going to muck up our analysis. We want to perform some scaling of each of these term frequency vectors into something a bit more representative. In other words, we need to do some vector normalizing.\n",
    "\n",
    "One possibility is to ensure that the L2 norm of each vector is equal to 1. Here's some code that shows how this is done.\n",
    "\n"
   ]
  },
  {
   "cell_type": "code",
   "execution_count": 9,
   "metadata": {},
   "outputs": [
    {
     "name": "stdout",
     "output_type": "stream",
     "text": [
      "A regular old document term matrix: \n",
      "[[1 0 2 2 1 0 0 1 0 0 1]\n",
      " [1 0 2 1 1 1 0 1 0 1 0]\n",
      " [1 1 0 0 0 0 1 1 1 1 0]]\n",
      "\n",
      "A document term matrix with row-wise L2 norms of 1:\n",
      "[[0.28867513 0.         0.57735027 0.57735027 0.28867513 0.\n",
      "  0.         0.28867513 0.         0.         0.28867513]\n",
      " [0.31622777 0.         0.63245553 0.31622777 0.31622777 0.31622777\n",
      "  0.         0.31622777 0.         0.31622777 0.        ]\n",
      " [0.40824829 0.40824829 0.         0.         0.         0.\n",
      "  0.40824829 0.40824829 0.40824829 0.40824829 0.        ]]\n"
     ]
    }
   ],
   "source": [
    "def l2_normalizer(vec):\n",
    "    denom = np.sum([el**2 for el in vec])\n",
    "    return [(el / math.sqrt(denom)) for el in vec]\n",
    "\n",
    "doc_term_matrix_l2 = []\n",
    "for vec in doc_term_matrix:\n",
    "    doc_term_matrix_l2.append(l2_normalizer(vec))\n",
    "\n",
    "print ('A regular old document term matrix: ') \n",
    "print (np.matrix(doc_term_matrix))\n",
    "print ('\\nA document term matrix with row-wise L2 norms of 1:')\n",
    "print (np.matrix(doc_term_matrix_l2))"
   ]
  },
  {
   "cell_type": "markdown",
   "metadata": {},
   "source": [
    "You can see immediately that we've scaled down vectors such that each element is between [0, 1], without losing too much valuable information.\n",
    "\n",
    "Why would we care about this kind of normalizing? Think about it this way; if you wanted to make a document seem more related to a particular topic than it actually was, you might try boosting the likelihood of its inclusion into a topic by repeating the same word over and over and over again. Frankly, at a certain point, we're getting a diminishing return on the informative value of the word. So we need to scale down words that appear too frequently in a document."
   ]
  },
  {
   "cell_type": "markdown",
   "metadata": {
    "slideshow": {
     "slide_type": "slide"
    }
   },
   "source": [
    "### IDF frequency weighting\n",
    "But we're still not there yet. Just as all words aren't equally valuable within a document, **not all words are valuable across all documents**. We can try reweighting every word by its inverse document frequency. Let's see what's involved in that."
   ]
  },
  {
   "cell_type": "code",
   "execution_count": 10,
   "metadata": {},
   "outputs": [
    {
     "name": "stdout",
     "output_type": "stream",
     "text": [
      "Our vocabulary vector is [more, basketball, me, loves, Julie, Jane, baseball, than, He, likes, Linda]\n",
      "\n",
      "The inverse document frequency (IDF) vector is\n",
      " [0.000000, 1.098612, 0.405465, 0.405465, 0.405465, 1.098612, 1.098612, 0.000000, 1.098612, 0.405465, 1.098612]\n"
     ]
    }
   ],
   "source": [
    "def numDocsContaining(word, doclist):\n",
    "    '''Num documents containing the word'''\n",
    "    doccount = 0\n",
    "    for doc in doclist:\n",
    "        if freq(word, doc) > 0:\n",
    "            doccount +=1\n",
    "    return doccount \n",
    "\n",
    "def idf(word, doclist):\n",
    "    n_samples = len(doclist) #numer of documents\n",
    "    df = numDocsContaining(word, doclist) \n",
    "    return np.log(n_samples / (float(df)) )\n",
    "\n",
    "my_idf_vector = [idf(word, mydoclist) for word in vocabulary]\n",
    "\n",
    "print ('Our vocabulary vector is [' + ', '.join(list(vocabulary)) + ']\\n')\n",
    "print ('The inverse document frequency (IDF) vector is\\n [' \n",
    "       + ', '.join(format(freq, 'f') for freq in my_idf_vector) + ']')"
   ]
  },
  {
   "cell_type": "markdown",
   "metadata": {
    "slideshow": {
     "slide_type": "slide"
    }
   },
   "source": [
    "Now we have a general sense of information values per term in our vocabulary, accounting for their relative frequency across the entire corpus. Recall that this is an inverse! The lower the value, the more frequent it is.\n",
    "\n",
    "To get TF-IDF weighted word vectors, we have to perform the simple calculation of **tf * idf**."
   ]
  },
  {
   "cell_type": "code",
   "execution_count": 11,
   "metadata": {},
   "outputs": [
    {
     "name": "stdout",
     "output_type": "stream",
     "text": [
      "[[0.         0.         0.         0.         0.         0.\n",
      "  0.         0.         0.         0.         0.        ]\n",
      " [0.         1.09861229 0.         0.         0.         0.\n",
      "  0.         0.         0.         0.         0.        ]\n",
      " [0.         0.         0.40546511 0.         0.         0.\n",
      "  0.         0.         0.         0.         0.        ]\n",
      " [0.         0.         0.         0.40546511 0.         0.\n",
      "  0.         0.         0.         0.         0.        ]\n",
      " [0.         0.         0.         0.         0.40546511 0.\n",
      "  0.         0.         0.         0.         0.        ]\n",
      " [0.         0.         0.         0.         0.         1.09861229\n",
      "  0.         0.         0.         0.         0.        ]\n",
      " [0.         0.         0.         0.         0.         0.\n",
      "  1.09861229 0.         0.         0.         0.        ]\n",
      " [0.         0.         0.         0.         0.         0.\n",
      "  0.         0.         0.         0.         0.        ]\n",
      " [0.         0.         0.         0.         0.         0.\n",
      "  0.         0.         1.09861229 0.         0.        ]\n",
      " [0.         0.         0.         0.         0.         0.\n",
      "  0.         0.         0.         0.40546511 0.        ]\n",
      " [0.         0.         0.         0.         0.         0.\n",
      "  0.         0.         0.         0.         1.09861229]]\n"
     ]
    }
   ],
   "source": [
    "def build_idf_matrix(idf_vector):\n",
    "    idf_mat = np.zeros((len(idf_vector), len(idf_vector)))\n",
    "    np.fill_diagonal(idf_mat, idf_vector)\n",
    "    return idf_mat\n",
    "\n",
    "my_idf_matrix = build_idf_matrix(my_idf_vector)\n",
    "print (my_idf_matrix)"
   ]
  },
  {
   "cell_type": "markdown",
   "metadata": {
    "slideshow": {
     "slide_type": "slide"
    }
   },
   "source": [
    "Now we have converted our IDF vector into a matrix of size BxB, where the diagonal is the IDF vector. That means we can perform now multiply every term frequency vector by the inverse document frequency matrix. Then to make sure we are also accounting for words that appear too frequently within documents, we'll normalize each document using L2 norm."
   ]
  },
  {
   "cell_type": "code",
   "execution_count": 12,
   "metadata": {},
   "outputs": [
    {
     "name": "stdout",
     "output_type": "stream",
     "text": [
      "{'more', 'basketball', 'me', 'loves', 'Julie', 'Jane', 'baseball', 'than', 'He', 'likes', 'Linda'}\n",
      "[[0.         0.         0.49474872 0.49474872 0.24737436 0.\n",
      "  0.         0.         0.         0.         0.67026363]\n",
      " [0.         0.         0.52812101 0.2640605  0.2640605  0.71547492\n",
      "  0.         0.         0.         0.2640605  0.        ]\n",
      " [0.         0.56467328 0.         0.         0.         0.\n",
      "  0.56467328 0.         0.56467328 0.20840411 0.        ]]\n"
     ]
    }
   ],
   "source": [
    "doc_term_matrix_tfidf = []\n",
    "\n",
    "#performing tf-idf matrix multiplication\n",
    "for tf_vector in doc_term_matrix:\n",
    "    doc_term_matrix_tfidf.append(np.dot(tf_vector, my_idf_matrix))\n",
    "\n",
    "#normalizing\n",
    "doc_term_matrix_tfidf_l2 = []\n",
    "for tfidf_vector in doc_term_matrix_tfidf:\n",
    "    doc_term_matrix_tfidf_l2.append(l2_normalizer(tfidf_vector))\n",
    "                                    \n",
    "print (vocabulary)\n",
    "print (np.matrix(doc_term_matrix_tfidf_l2)) # np.matrix() just to make it easier to look at"
   ]
  },
  {
   "cell_type": "markdown",
   "metadata": {
    "slideshow": {
     "slide_type": "slide"
    }
   },
   "source": [
    "Now let's see an efficient implementation of the previous approach using scikits-learn, which ensures that you don't have to worry about the efficiency of all the previous steps.\n",
    "\n",
    "**NOTE**: The values you get from the TfidfVectorizer/TfidfTransformer will be different than what we have computed by hand. This is because scikits-learn uses an adapted version of Tfidf to deal with divide-by-zero errors."
   ]
  },
  {
   "cell_type": "code",
   "execution_count": 13,
   "metadata": {},
   "outputs": [
    {
     "name": "stdout",
     "output_type": "stream",
     "text": [
      "Vocabulary: {'julie': 4, 'loves': 7, 'me': 8, 'more': 9, 'than': 10, 'linda': 6, 'jane': 3, 'likes': 5, 'he': 2, 'basketball': 1, 'baseball': 0} \n",
      "\n",
      "[[0.         0.         0.         0.         0.28945906 0.\n",
      "  0.38060387 0.57891811 0.57891811 0.22479078 0.22479078]\n",
      " [0.         0.         0.         0.41715759 0.3172591  0.3172591\n",
      "  0.         0.3172591  0.6345182  0.24637999 0.24637999]\n",
      " [0.48359121 0.48359121 0.48359121 0.         0.         0.36778358\n",
      "  0.         0.         0.         0.28561676 0.28561676]]\n"
     ]
    }
   ],
   "source": [
    "from sklearn.feature_extraction.text import CountVectorizer\n",
    "from sklearn.feature_extraction.text import TfidfTransformer\n",
    "\n",
    "count_vectorizer = CountVectorizer(min_df=1)\n",
    "term_freq_matrix = count_vectorizer.fit_transform(mydoclist)\n",
    "print (\"Vocabulary:\", count_vectorizer.vocabulary_,'\\n')\n",
    "\n",
    "tfidf = TfidfTransformer(norm=\"l2\")\n",
    "tfidf.fit(term_freq_matrix)\n",
    "tf_idf_matrix = tfidf.transform(term_freq_matrix)\n",
    "print (tf_idf_matrix.todense())"
   ]
  },
  {
   "cell_type": "markdown",
   "metadata": {
    "slideshow": {
     "slide_type": "slide"
    }
   },
   "source": [
    "Or more directly\n",
    "\n"
   ]
  },
  {
   "cell_type": "code",
   "execution_count": 14,
   "metadata": {},
   "outputs": [
    {
     "name": "stdout",
     "output_type": "stream",
     "text": [
      "[[0.         0.         0.         0.         0.28945906 0.\n",
      "  0.38060387 0.57891811 0.57891811 0.22479078 0.22479078]\n",
      " [0.         0.         0.         0.41715759 0.3172591  0.3172591\n",
      "  0.         0.3172591  0.6345182  0.24637999 0.24637999]\n",
      " [0.48359121 0.48359121 0.48359121 0.         0.         0.36778358\n",
      "  0.         0.         0.         0.28561676 0.28561676]]\n"
     ]
    }
   ],
   "source": [
    "from sklearn.feature_extraction.text import TfidfVectorizer\n",
    "\n",
    "tfidf_vectorizer = TfidfVectorizer(min_df = 1)\n",
    "tfidf_matrix = tfidf_vectorizer.fit_transform(mydoclist)\n",
    "\n",
    "print (tfidf_matrix.todense())"
   ]
  },
  {
   "cell_type": "markdown",
   "metadata": {},
   "source": [
    "And we can fit new observations into this vocabulary space like so:\n"
   ]
  },
  {
   "cell_type": "code",
   "execution_count": 15,
   "metadata": {},
   "outputs": [
    {
     "name": "stdout",
     "output_type": "stream",
     "text": [
      "{'julie': 4, 'loves': 7, 'me': 8, 'more': 9, 'than': 10, 'linda': 6, 'jane': 3, 'likes': 5, 'he': 2, 'basketball': 1, 'baseball': 0}\n",
      "[[0.57735027 0.57735027 0.57735027 0.         0.         0.\n",
      "  0.         0.         0.         0.         0.        ]\n",
      " [0.         0.68091856 0.         0.         0.51785612 0.51785612\n",
      "  0.         0.         0.         0.         0.        ]\n",
      " [0.62276601 0.         0.         0.62276601 0.         0.\n",
      "  0.         0.4736296  0.         0.         0.        ]]\n"
     ]
    }
   ],
   "source": [
    "new_docs = ['He watches basketball and baseball', 'Julie likes to play basketball', 'Jane loves to play baseball']\n",
    "new_term_freq_matrix = tfidf_vectorizer.transform(new_docs)\n",
    "print (tfidf_vectorizer.vocabulary_)\n",
    "print (new_term_freq_matrix.todense())"
   ]
  },
  {
   "cell_type": "markdown",
   "metadata": {},
   "source": [
    "Note that we didn't get words like 'watches' in the new_term_freq_matrix. That's because we trained the object on the documents in mydoclist, and that word doesn't appear in the vocabulary from that corpus. In other words, it's out of the lexicon."
   ]
  },
  {
   "cell_type": "markdown",
   "metadata": {
    "slideshow": {
     "slide_type": "slide"
    }
   },
   "source": [
    "### Learning text representations\n",
    "When using NLTK classifier, it is noted that the classifer expects dict style feature sets, so we need to transform the text into a dict.\n",
    "We can use previous TF-IDF. Let's see another implementation: Bag of Words."
   ]
  },
  {
   "cell_type": "code",
   "execution_count": 16,
   "metadata": {},
   "outputs": [],
   "source": [
    "# First, write a Feature extractor (the following is taken from nltk-trainer package)\n",
    "\n",
    "# download featx.py (written by Perkins)\n",
    "\n",
    "from nltk import probability\n",
    "\n",
    "def bag_of_words(words):\n",
    "        return dict([(word, True) for word in words])\n",
    "\n",
    "def bag_of_words_in_set(words, wordset):\n",
    "        return bag_of_words(set(words) & wordset)\n",
    "    \n",
    "def word_counts(words):\n",
    "        return dict(probability.FreqDist((w for w in words)))\n",
    "\n",
    "def word_counts_in_set(words, wordset):\n",
    "        return word_counts((w for w in words if w in wordset))\n",
    "\n",
    "def train_test_feats(label, instances, featx=bag_of_words, fraction=0.75):\n",
    "        labeled_instances = [(featx(i), label) for i in instances]\n",
    "        \n",
    "        if fraction != 1.0:\n",
    "                l = len(instances)\n",
    "                cutoff = int(math.ceil(l * fraction))\n",
    "                return labeled_instances[:cutoff], labeled_instances[cutoff:]\n",
    "        else:\n",
    "                return labeled_instances, labeled_instances"
   ]
  },
  {
   "cell_type": "code",
   "execution_count": 17,
   "metadata": {
    "slideshow": {
     "slide_type": "slide"
    }
   },
   "outputs": [
    {
     "data": {
      "text/plain": [
       "{'this': True, 'is': True, 'awesome': True}"
      ]
     },
     "execution_count": 17,
     "metadata": {},
     "output_type": "execute_result"
    }
   ],
   "source": [
    "bag_of_words(['this', 'is', 'awesome'])"
   ]
  },
  {
   "cell_type": "code",
   "execution_count": 18,
   "metadata": {},
   "outputs": [
    {
     "data": {
      "text/plain": [
       "{'awesome': True, 'is': True}"
      ]
     },
     "execution_count": 18,
     "metadata": {},
     "output_type": "execute_result"
    }
   ],
   "source": [
    "def bag_of_words_not_in_set(words, badwords):\n",
    "    return bag_of_words(set(words) - set(badwords))\n",
    "\n",
    "bag_of_words_not_in_set(['this','is','awesome'],['this'])"
   ]
  },
  {
   "cell_type": "code",
   "execution_count": 19,
   "metadata": {},
   "outputs": [
    {
     "name": "stderr",
     "output_type": "stream",
     "text": [
      "[nltk_data] Downloading package stopwords to\n",
      "[nltk_data]     /Users/ssegui/nltk_data...\n",
      "[nltk_data]   Package stopwords is already up-to-date!\n"
     ]
    },
    {
     "data": {
      "text/plain": [
       "True"
      ]
     },
     "execution_count": 19,
     "metadata": {},
     "output_type": "execute_result"
    }
   ],
   "source": [
    "nltk.download('stopwords')"
   ]
  },
  {
   "cell_type": "code",
   "execution_count": 20,
   "metadata": {},
   "outputs": [
    {
     "data": {
      "text/plain": [
       "{'awesome': True}"
      ]
     },
     "execution_count": 20,
     "metadata": {},
     "output_type": "execute_result"
    }
   ],
   "source": [
    "from nltk.corpus import stopwords\n",
    "\n",
    "def bag_of_non_stopwords(words, stopfile = 'english'):\n",
    "    badwords = stopwords.words(stopfile)\n",
    "    return bag_of_words_not_in_set(words, badwords)\n",
    "\n",
    "bag_of_non_stopwords(['this','is','awesome'])\n",
    "\n",
    "#nltk.download()   # try to use this is you need some package"
   ]
  },
  {
   "cell_type": "code",
   "execution_count": 21,
   "metadata": {},
   "outputs": [
    {
     "name": "stdout",
     "output_type": "stream",
     "text": [
      "['i', 'me', 'my', 'myself', 'we', 'our', 'ours', 'ourselves', 'you', \"you're\", \"you've\", \"you'll\", \"you'd\", 'your', 'yours', 'yourself', 'yourselves', 'he', 'him', 'his', 'himself', 'she', \"she's\", 'her', 'hers', 'herself', 'it', \"it's\", 'its', 'itself', 'they', 'them', 'their', 'theirs', 'themselves', 'what', 'which', 'who', 'whom', 'this', 'that', \"that'll\", 'these', 'those', 'am', 'is', 'are', 'was', 'were', 'be', 'been', 'being', 'have', 'has', 'had', 'having', 'do', 'does', 'did', 'doing', 'a', 'an', 'the', 'and', 'but', 'if', 'or', 'because', 'as', 'until', 'while', 'of', 'at', 'by', 'for', 'with', 'about', 'against', 'between', 'into', 'through', 'during', 'before', 'after', 'above', 'below', 'to', 'from', 'up', 'down', 'in', 'out', 'on', 'off', 'over', 'under', 'again', 'further', 'then', 'once', 'here', 'there', 'when', 'where', 'why', 'how', 'all', 'any', 'both', 'each', 'few', 'more', 'most', 'other', 'some', 'such', 'no', 'nor', 'not', 'only', 'own', 'same', 'so', 'than', 'too', 'very', 's', 't', 'can', 'will', 'just', 'don', \"don't\", 'should', \"should've\", 'now', 'd', 'll', 'm', 'o', 're', 've', 'y', 'ain', 'aren', \"aren't\", 'couldn', \"couldn't\", 'didn', \"didn't\", 'doesn', \"doesn't\", 'hadn', \"hadn't\", 'hasn', \"hasn't\", 'haven', \"haven't\", 'isn', \"isn't\", 'ma', 'mightn', \"mightn't\", 'mustn', \"mustn't\", 'needn', \"needn't\", 'shan', \"shan't\", 'shouldn', \"shouldn't\", 'wasn', \"wasn't\", 'weren', \"weren't\", 'won', \"won't\", 'wouldn', \"wouldn't\"]\n"
     ]
    }
   ],
   "source": [
    "#nltk.download()   # try to use this is you need some package\n",
    "from nltk.corpus import stopwords\n",
    "print (stopwords.words('english'))"
   ]
  },
  {
   "cell_type": "markdown",
   "metadata": {
    "slideshow": {
     "slide_type": "slide"
    }
   },
   "source": [
    "## Training a (naive Bayes) Classifier with TextBlob: A Tweet Sentiment Analyzer\n",
    "\n",
    "\n",
    "We will train a simple sentiment analyzer trained on a small dataset of fake tweets. To begin, we’ll import the text.classifiers and create some training and test data.\n",
    "\n",
    "https://blog.twitter.com/2012/a-new-barometer-for-the-election\n",
    "\n",
    "\"( Wednesday, August 1, 2012 | By Adam Sharp (@AdamS) [16:00 UTC] ) One glance at the numbers, and it’s easy to see why pundits are already calling 2012 “the Twitter election.” More Tweets are sent every two days today than had ever been sent prior to Election Day 2008 — and Election Day 2008’s Tweet volume represents only about six minutes of Tweets today.\"\n",
    "\n",
    "\"Each day, the Index evaluates and weighs the sentiment of Tweets mentioning Obama or Romney relative to the more than 400 million Tweets sent on all other topics. For example, a score of 73 for a candidate indicates that Tweets containing their name or account name are on average more positive than 73 percent of all Tweets.\"\n",
    "\n",
    "<img src=\"Tweetpolitics.png\\\">"
   ]
  },
  {
   "cell_type": "code",
   "execution_count": 22,
   "metadata": {
    "slideshow": {
     "slide_type": "slide"
    }
   },
   "outputs": [
    {
     "name": "stdout",
     "output_type": "stream",
     "text": [
      "Requirement already up-to-date: textblob in /Users/ssegui/anaconda/lib/python3.6/site-packages (0.15.3)\r\n",
      "Requirement already satisfied, skipping upgrade: nltk>=3.1 in /Users/ssegui/anaconda/lib/python3.6/site-packages (from textblob) (3.4.1)\r\n",
      "Requirement already satisfied, skipping upgrade: six in /Users/ssegui/anaconda/lib/python3.6/site-packages (from nltk>=3.1->textblob) (1.12.0)\r\n"
     ]
    }
   ],
   "source": [
    "!pip install -U textblob\n",
    "#!conda install -c https://conda.anaconda.org/sloria textblob -y\n"
   ]
  },
  {
   "cell_type": "code",
   "execution_count": 23,
   "metadata": {
    "slideshow": {
     "slide_type": "slide"
    }
   },
   "outputs": [],
   "source": [
    "from textblob.classifiers import NaiveBayesClassifier\n",
    "\n",
    "train = [\n",
    "    ('I love this sandwich.', 'pos'),\n",
    "    ('This is an amazing place!', 'pos'),\n",
    "    ('I feel very good about these beers.', 'pos'),\n",
    "    ('This is my best work.', 'pos'),\n",
    "    (\"What an awesome view\", 'pos'),\n",
    "    ('I do not like this restaurant', 'neg'),\n",
    "    ('I am tired of this stuff.', 'neg'),\n",
    "    (\"I can't deal with this\", 'neg'),\n",
    "    ('He is my sworn enemy!', 'neg'),\n",
    "    ('My boss is horrible.', 'neg')\n",
    "]\n",
    "test = [\n",
    "    ('The beer was good.', 'pos'),\n",
    "    ('I do not enjoy my job', 'neg'),\n",
    "    (\"I ain't feeling dandy today.\", 'neg'),\n",
    "    (\"I feel amazing!\", 'pos'),\n",
    "    ('Gary is a friend of mine.', 'pos'),\n",
    "    (\"I can't believe I'm doing this.\", 'neg')\n",
    "]\n",
    "\n"
   ]
  },
  {
   "cell_type": "markdown",
   "metadata": {},
   "source": [
    "We create a new classifier by passing training data into the constructor for a NaiveBayesClassifier.\n",
    "\n"
   ]
  },
  {
   "cell_type": "code",
   "execution_count": 24,
   "metadata": {},
   "outputs": [],
   "source": [
    "cl = NaiveBayesClassifier(train)"
   ]
  },
  {
   "cell_type": "code",
   "execution_count": 25,
   "metadata": {},
   "outputs": [
    {
     "name": "stdout",
     "output_type": "stream",
     "text": [
      "Most Informative Features\n",
      "          contains(this) = True              neg : pos    =      2.3 : 1.0\n",
      "          contains(this) = False             pos : neg    =      1.8 : 1.0\n",
      "            contains(an) = False             neg : pos    =      1.6 : 1.0\n",
      "          contains(This) = False             neg : pos    =      1.6 : 1.0\n",
      "             contains(I) = True              neg : pos    =      1.4 : 1.0\n",
      "             contains(I) = False             pos : neg    =      1.4 : 1.0\n",
      "          contains(like) = False             pos : neg    =      1.2 : 1.0\n",
      "          contains(work) = False             neg : pos    =      1.2 : 1.0\n",
      "         contains(beers) = False             neg : pos    =      1.2 : 1.0\n",
      "         contains(tired) = False             pos : neg    =      1.2 : 1.0\n"
     ]
    }
   ],
   "source": [
    "cl.show_informative_features(10)"
   ]
  },
  {
   "cell_type": "markdown",
   "metadata": {
    "slideshow": {
     "slide_type": "slide"
    }
   },
   "source": [
    "We can now classify arbitrary text using the NaiveBayesClassifier.classify(text) method."
   ]
  },
  {
   "cell_type": "code",
   "execution_count": 26,
   "metadata": {},
   "outputs": [
    {
     "data": {
      "text/plain": [
       "'pos'"
      ]
     },
     "execution_count": 26,
     "metadata": {},
     "output_type": "execute_result"
    }
   ],
   "source": [
    "cl.classify(\"Their burgers are amazing\")  # \"pos\""
   ]
  },
  {
   "cell_type": "code",
   "execution_count": 27,
   "metadata": {},
   "outputs": [
    {
     "data": {
      "text/plain": [
       "'neg'"
      ]
     },
     "execution_count": 27,
     "metadata": {},
     "output_type": "execute_result"
    }
   ],
   "source": [
    "cl.classify(\"I don't like their pizza.\")  # \"neg\""
   ]
  },
  {
   "cell_type": "markdown",
   "metadata": {
    "slideshow": {
     "slide_type": "slide"
    }
   },
   "source": [
    "Another way to classify strings of text is to use TextBlob objects. You can pass classifiers into the constructor of a TextBlob.\n"
   ]
  },
  {
   "cell_type": "code",
   "execution_count": 28,
   "metadata": {},
   "outputs": [
    {
     "name": "stdout",
     "output_type": "stream",
     "text": [
      "The beer was amazing. But the hangover was horrible. My boss was not happy.\n"
     ]
    }
   ],
   "source": [
    "import textblob\n",
    "blob = textblob.TextBlob(\"The beer was amazing. \"\n",
    "                \"But the hangover was horrible. My boss was not happy.\", classifier=cl)\n",
    "print (blob)"
   ]
  },
  {
   "cell_type": "markdown",
   "metadata": {},
   "source": [
    "You can then call the classify() method on the blob.\n",
    "\n"
   ]
  },
  {
   "cell_type": "code",
   "execution_count": 29,
   "metadata": {},
   "outputs": [
    {
     "data": {
      "text/plain": [
       "'neg'"
      ]
     },
     "execution_count": 29,
     "metadata": {},
     "output_type": "execute_result"
    }
   ],
   "source": [
    "blob.classify()  # \"neg\""
   ]
  },
  {
   "cell_type": "markdown",
   "metadata": {
    "slideshow": {
     "slide_type": "slide"
    }
   },
   "source": [
    "You can also take advantage of TextBlob’s sentence tokenization and classify each sentence indvidually."
   ]
  },
  {
   "cell_type": "code",
   "execution_count": 30,
   "metadata": {},
   "outputs": [
    {
     "name": "stdout",
     "output_type": "stream",
     "text": [
      "The beer was amazing.\n",
      "pos\n",
      "But the hangover was horrible.\n",
      "neg\n",
      "My boss was not happy.\n",
      "neg\n"
     ]
    }
   ],
   "source": [
    "for sentence in blob.sentences:\n",
    "    print(sentence)\n",
    "    print(sentence.classify())\n",
    "# \"pos\", \"neg\", \"neg\""
   ]
  },
  {
   "cell_type": "code",
   "execution_count": 31,
   "metadata": {},
   "outputs": [
    {
     "data": {
      "text/plain": [
       "0.8333333333333334"
      ]
     },
     "execution_count": 31,
     "metadata": {},
     "output_type": "execute_result"
    }
   ],
   "source": [
    "cl.accuracy(test)  "
   ]
  },
  {
   "cell_type": "markdown",
   "metadata": {},
   "source": [
    "We can improve our classifier by adding more training and test data. Here we’ll add data from the movie review corpus which was downloaded with NLTK.\n",
    "\n"
   ]
  },
  {
   "cell_type": "code",
   "execution_count": 32,
   "metadata": {},
   "outputs": [
    {
     "name": "stderr",
     "output_type": "stream",
     "text": [
      "[nltk_data] Downloading package movie_reviews to\n",
      "[nltk_data]     /Users/ssegui/nltk_data...\n",
      "[nltk_data]   Package movie_reviews is already up-to-date!\n"
     ]
    },
    {
     "data": {
      "text/plain": [
       "True"
      ]
     },
     "execution_count": 32,
     "metadata": {},
     "output_type": "execute_result"
    }
   ],
   "source": [
    "nltk.download('movie_reviews')"
   ]
  },
  {
   "cell_type": "code",
   "execution_count": 33,
   "metadata": {},
   "outputs": [
    {
     "name": "stdout",
     "output_type": "stream",
     "text": [
      "Review:\n",
      "wild things is a way to steam up an otherwise dreary early spring day ? provided , of course , that you ' re the victim of a frontal lobotomy . there is , in fact , no doubt about who this motion picture is aimed at : movie - goers in their late teens and early twenties -- the most lucrative target group . this is film noir for the mtv generation : fast - paced , slick , flashy , gleefully mindless , and hollow to the core . wild things is easily one of the five dumbest movies to arrive in theaters during the first eleven weeks of 1998 . i ' ve seen more convincing drama ( with nearly as much bare flesh ) on that pinnacle of narrative quality , baywatch . wild things wants to dupe viewers into thinking it ' s a thriller with a real story . what it is , however , is a series of increasingly - improbable and shockingly predictable plot twists . everything in between those serpentine moments is filler -- a flash of a breast , a spatter of blood , and some of the most idiotic dialogue this side of a steven seagal movie . the film tries so hard to surprise its audience that the twists end up being easy to guess -- just take a stab at the most unlikely thing to happen , and that will probably be it . using this approach , i was right three times and wrong only once . that ' s not a good average for a production that wants to keep viewers in the dark about what ' s around the next corner . the ad campaign uses two things to sell this movie : the hot , young cast and the old standby , sex . both have an abundance of screen time , although i ' ll admit that the film ' s erotic content is somewhat less impressive than i expected . nothing about wild things is exceptionally risqu ? . the soft - core sex sequences are generic , and don ' t generate much heat . the lesbian kisses can ' t hold a candle to those in bound . theresa russell and denise richards have only token topless appearances ( neve campbell , possessing an iron - clad \" no nudity \" clause in her contract , keeps her clothes more or less on ) . the film ' s greatest curiosity is a full frontal shot of kevin bacon climbing out of the shower . maybe a few girls will skip seeing a fully - clothed leonardo dicaprio for the thirteenth time in titanic to catch a glimpse of what kyra sedgwick ( mrs . kevin bacon ) is familiar with . the director of wild things is john mcnaughton , whose last effort was the finely - tuned psychological thriller , normal life . that movie featured copious sex , a pair of real characters , and a powerful script . it ' s difficult to believe that something this shallow could come from the same film maker . but i suppose we all need to put food on the table . mcnaughton appears to have completely lost his way here , in what is obviously a stab at mainstream success ( his previous wide - release picture , mad dog and glory , was a box - office disappointment ) . quick cuts and pretty sunrises can ' t even begin to cover up this movie ' s flaws . the main character ( and i use that term lightly , since no one in wild things shows more than an occasional flash of personality ) is sam lombardo ( matt dillon ) , a guidance counselor at florida ' s blue bay high school . a student , the deliciously curvaceous kelly van ryan ( denise richards ) , has a crush on him . one afternoon , she comes to his house to wash his car , and , when she leaves , her clothing is torn . after confessing to her mother ( theresa russell ) that she was raped , she goes to the police station , where she tells her story to detectives ray duquette ( kevin bacon ) and gloria perez ( daphne rubin - vega ) . they are skeptical about here claims until another girl , suzie toller ( neve campbell ) , comes forward with a similar tale . meanwhile , sam , convinced that he ' s being set up , goes to a shyster lawyer ( bill murray ) for help . the acting in wild things isn ' t very good , but none of the principals have much to work with . this is definitely not a character - based motion picture . not only does the ludicrous screenplay ignore the possibility that someone in the audience may have a triple - digit i . q . , but it doesn ' t bother to give any of the on - screen individuals even a hint of depth . the men and women populating the picture are there to look nice , but nothing more . matt dillon is given plenty of opportunities to flex his biceps . neve campbell gets to model the slutty look . denise richards strikes a fetching pose in a see - through , one - piece bathing suit . and nothing in the film gets a rise out of kevin bacon . the only one who ' s even remotely interesting is bill murray , and he seems to think he ' s in comedy , not a thriller ( maybe he ' s got the right idea ) . columbia pictures has specifically requested that critics not reveal the film ' s ending , which prompts the question : which ending do they want kept secret ? wild things has no less than three ( one occurs during the end credits , so stay seated ) , all of which are jaw - droppingly absurd -- a feat that joe eszterhas ( the writer of basic instinct and showgirls ) would be impressed by . thanks to jeffrey kimball ' s polished , kinetic cinematography , wild things always looks great , and george s . clinton ' s score keeps it pulsing and throbbing . but , no matter how shiny the superficial sheen is , this is still trash , and , like all garbage , it stinks .\n",
      "\n",
      "Sentiment: neg\n"
     ]
    }
   ],
   "source": [
    "import random\n",
    "from nltk.corpus import movie_reviews\n",
    "\n",
    "reviews = [(list(movie_reviews.words(fileid)), category)\n",
    "              for category in movie_reviews.categories()\n",
    "              for fileid in movie_reviews.fileids(category)]\n",
    "random.shuffle(reviews)\n",
    "\n",
    "new_train, new_test = reviews[0:300], reviews[301:400]\n",
    "\n",
    "print('Review:' )\n",
    "print(' '.join(new_train[0][0]))\n",
    "print(\"\\nSentiment: \"+ new_train[0][1])"
   ]
  },
  {
   "cell_type": "markdown",
   "metadata": {
    "slideshow": {
     "slide_type": "slide"
    }
   },
   "source": [
    "Let’s see what one of these documents looks like.\n",
    "\n"
   ]
  },
  {
   "cell_type": "code",
   "execution_count": 34,
   "metadata": {},
   "outputs": [
    {
     "name": "stdout",
     "output_type": "stream",
     "text": [
      "(['wild', 'things', 'is', 'a', 'way', 'to', 'steam', 'up', 'an', 'otherwise', 'dreary', 'early', 'spring', 'day', '?', 'provided', ',', 'of', 'course', ',', 'that', 'you', \"'\", 're', 'the', 'victim', 'of', 'a', 'frontal', 'lobotomy', '.', 'there', 'is', ',', 'in', 'fact', ',', 'no', 'doubt', 'about', 'who', 'this', 'motion', 'picture', 'is', 'aimed', 'at', ':', 'movie', '-', 'goers', 'in', 'their', 'late', 'teens', 'and', 'early', 'twenties', '--', 'the', 'most', 'lucrative', 'target', 'group', '.', 'this', 'is', 'film', 'noir', 'for', 'the', 'mtv', 'generation', ':', 'fast', '-', 'paced', ',', 'slick', ',', 'flashy', ',', 'gleefully', 'mindless', ',', 'and', 'hollow', 'to', 'the', 'core', '.', 'wild', 'things', 'is', 'easily', 'one', 'of', 'the', 'five', 'dumbest', 'movies', 'to', 'arrive', 'in', 'theaters', 'during', 'the', 'first', 'eleven', 'weeks', 'of', '1998', '.', 'i', \"'\", 've', 'seen', 'more', 'convincing', 'drama', '(', 'with', 'nearly', 'as', 'much', 'bare', 'flesh', ')', 'on', 'that', 'pinnacle', 'of', 'narrative', 'quality', ',', 'baywatch', '.', 'wild', 'things', 'wants', 'to', 'dupe', 'viewers', 'into', 'thinking', 'it', \"'\", 's', 'a', 'thriller', 'with', 'a', 'real', 'story', '.', 'what', 'it', 'is', ',', 'however', ',', 'is', 'a', 'series', 'of', 'increasingly', '-', 'improbable', 'and', 'shockingly', 'predictable', 'plot', 'twists', '.', 'everything', 'in', 'between', 'those', 'serpentine', 'moments', 'is', 'filler', '--', 'a', 'flash', 'of', 'a', 'breast', ',', 'a', 'spatter', 'of', 'blood', ',', 'and', 'some', 'of', 'the', 'most', 'idiotic', 'dialogue', 'this', 'side', 'of', 'a', 'steven', 'seagal', 'movie', '.', 'the', 'film', 'tries', 'so', 'hard', 'to', 'surprise', 'its', 'audience', 'that', 'the', 'twists', 'end', 'up', 'being', 'easy', 'to', 'guess', '--', 'just', 'take', 'a', 'stab', 'at', 'the', 'most', 'unlikely', 'thing', 'to', 'happen', ',', 'and', 'that', 'will', 'probably', 'be', 'it', '.', 'using', 'this', 'approach', ',', 'i', 'was', 'right', 'three', 'times', 'and', 'wrong', 'only', 'once', '.', 'that', \"'\", 's', 'not', 'a', 'good', 'average', 'for', 'a', 'production', 'that', 'wants', 'to', 'keep', 'viewers', 'in', 'the', 'dark', 'about', 'what', \"'\", 's', 'around', 'the', 'next', 'corner', '.', 'the', 'ad', 'campaign', 'uses', 'two', 'things', 'to', 'sell', 'this', 'movie', ':', 'the', 'hot', ',', 'young', 'cast', 'and', 'the', 'old', 'standby', ',', 'sex', '.', 'both', 'have', 'an', 'abundance', 'of', 'screen', 'time', ',', 'although', 'i', \"'\", 'll', 'admit', 'that', 'the', 'film', \"'\", 's', 'erotic', 'content', 'is', 'somewhat', 'less', 'impressive', 'than', 'i', 'expected', '.', 'nothing', 'about', 'wild', 'things', 'is', 'exceptionally', 'risqu', '?', '.', 'the', 'soft', '-', 'core', 'sex', 'sequences', 'are', 'generic', ',', 'and', 'don', \"'\", 't', 'generate', 'much', 'heat', '.', 'the', 'lesbian', 'kisses', 'can', \"'\", 't', 'hold', 'a', 'candle', 'to', 'those', 'in', 'bound', '.', 'theresa', 'russell', 'and', 'denise', 'richards', 'have', 'only', 'token', 'topless', 'appearances', '(', 'neve', 'campbell', ',', 'possessing', 'an', 'iron', '-', 'clad', '\"', 'no', 'nudity', '\"', 'clause', 'in', 'her', 'contract', ',', 'keeps', 'her', 'clothes', 'more', 'or', 'less', 'on', ')', '.', 'the', 'film', \"'\", 's', 'greatest', 'curiosity', 'is', 'a', 'full', 'frontal', 'shot', 'of', 'kevin', 'bacon', 'climbing', 'out', 'of', 'the', 'shower', '.', 'maybe', 'a', 'few', 'girls', 'will', 'skip', 'seeing', 'a', 'fully', '-', 'clothed', 'leonardo', 'dicaprio', 'for', 'the', 'thirteenth', 'time', 'in', 'titanic', 'to', 'catch', 'a', 'glimpse', 'of', 'what', 'kyra', 'sedgwick', '(', 'mrs', '.', 'kevin', 'bacon', ')', 'is', 'familiar', 'with', '.', 'the', 'director', 'of', 'wild', 'things', 'is', 'john', 'mcnaughton', ',', 'whose', 'last', 'effort', 'was', 'the', 'finely', '-', 'tuned', 'psychological', 'thriller', ',', 'normal', 'life', '.', 'that', 'movie', 'featured', 'copious', 'sex', ',', 'a', 'pair', 'of', 'real', 'characters', ',', 'and', 'a', 'powerful', 'script', '.', 'it', \"'\", 's', 'difficult', 'to', 'believe', 'that', 'something', 'this', 'shallow', 'could', 'come', 'from', 'the', 'same', 'film', 'maker', '.', 'but', 'i', 'suppose', 'we', 'all', 'need', 'to', 'put', 'food', 'on', 'the', 'table', '.', 'mcnaughton', 'appears', 'to', 'have', 'completely', 'lost', 'his', 'way', 'here', ',', 'in', 'what', 'is', 'obviously', 'a', 'stab', 'at', 'mainstream', 'success', '(', 'his', 'previous', 'wide', '-', 'release', 'picture', ',', 'mad', 'dog', 'and', 'glory', ',', 'was', 'a', 'box', '-', 'office', 'disappointment', ')', '.', 'quick', 'cuts', 'and', 'pretty', 'sunrises', 'can', \"'\", 't', 'even', 'begin', 'to', 'cover', 'up', 'this', 'movie', \"'\", 's', 'flaws', '.', 'the', 'main', 'character', '(', 'and', 'i', 'use', 'that', 'term', 'lightly', ',', 'since', 'no', 'one', 'in', 'wild', 'things', 'shows', 'more', 'than', 'an', 'occasional', 'flash', 'of', 'personality', ')', 'is', 'sam', 'lombardo', '(', 'matt', 'dillon', ')', ',', 'a', 'guidance', 'counselor', 'at', 'florida', \"'\", 's', 'blue', 'bay', 'high', 'school', '.', 'a', 'student', ',', 'the', 'deliciously', 'curvaceous', 'kelly', 'van', 'ryan', '(', 'denise', 'richards', ')', ',', 'has', 'a', 'crush', 'on', 'him', '.', 'one', 'afternoon', ',', 'she', 'comes', 'to', 'his', 'house', 'to', 'wash', 'his', 'car', ',', 'and', ',', 'when', 'she', 'leaves', ',', 'her', 'clothing', 'is', 'torn', '.', 'after', 'confessing', 'to', 'her', 'mother', '(', 'theresa', 'russell', ')', 'that', 'she', 'was', 'raped', ',', 'she', 'goes', 'to', 'the', 'police', 'station', ',', 'where', 'she', 'tells', 'her', 'story', 'to', 'detectives', 'ray', 'duquette', '(', 'kevin', 'bacon', ')', 'and', 'gloria', 'perez', '(', 'daphne', 'rubin', '-', 'vega', ')', '.', 'they', 'are', 'skeptical', 'about', 'here', 'claims', 'until', 'another', 'girl', ',', 'suzie', 'toller', '(', 'neve', 'campbell', ')', ',', 'comes', 'forward', 'with', 'a', 'similar', 'tale', '.', 'meanwhile', ',', 'sam', ',', 'convinced', 'that', 'he', \"'\", 's', 'being', 'set', 'up', ',', 'goes', 'to', 'a', 'shyster', 'lawyer', '(', 'bill', 'murray', ')', 'for', 'help', '.', 'the', 'acting', 'in', 'wild', 'things', 'isn', \"'\", 't', 'very', 'good', ',', 'but', 'none', 'of', 'the', 'principals', 'have', 'much', 'to', 'work', 'with', '.', 'this', 'is', 'definitely', 'not', 'a', 'character', '-', 'based', 'motion', 'picture', '.', 'not', 'only', 'does', 'the', 'ludicrous', 'screenplay', 'ignore', 'the', 'possibility', 'that', 'someone', 'in', 'the', 'audience', 'may', 'have', 'a', 'triple', '-', 'digit', 'i', '.', 'q', '.', ',', 'but', 'it', 'doesn', \"'\", 't', 'bother', 'to', 'give', 'any', 'of', 'the', 'on', '-', 'screen', 'individuals', 'even', 'a', 'hint', 'of', 'depth', '.', 'the', 'men', 'and', 'women', 'populating', 'the', 'picture', 'are', 'there', 'to', 'look', 'nice', ',', 'but', 'nothing', 'more', '.', 'matt', 'dillon', 'is', 'given', 'plenty', 'of', 'opportunities', 'to', 'flex', 'his', 'biceps', '.', 'neve', 'campbell', 'gets', 'to', 'model', 'the', 'slutty', 'look', '.', 'denise', 'richards', 'strikes', 'a', 'fetching', 'pose', 'in', 'a', 'see', '-', 'through', ',', 'one', '-', 'piece', 'bathing', 'suit', '.', 'and', 'nothing', 'in', 'the', 'film', 'gets', 'a', 'rise', 'out', 'of', 'kevin', 'bacon', '.', 'the', 'only', 'one', 'who', \"'\", 's', 'even', 'remotely', 'interesting', 'is', 'bill', 'murray', ',', 'and', 'he', 'seems', 'to', 'think', 'he', \"'\", 's', 'in', 'comedy', ',', 'not', 'a', 'thriller', '(', 'maybe', 'he', \"'\", 's', 'got', 'the', 'right', 'idea', ')', '.', 'columbia', 'pictures', 'has', 'specifically', 'requested', 'that', 'critics', 'not', 'reveal', 'the', 'film', \"'\", 's', 'ending', ',', 'which', 'prompts', 'the', 'question', ':', 'which', 'ending', 'do', 'they', 'want', 'kept', 'secret', '?', 'wild', 'things', 'has', 'no', 'less', 'than', 'three', '(', 'one', 'occurs', 'during', 'the', 'end', 'credits', ',', 'so', 'stay', 'seated', ')', ',', 'all', 'of', 'which', 'are', 'jaw', '-', 'droppingly', 'absurd', '--', 'a', 'feat', 'that', 'joe', 'eszterhas', '(', 'the', 'writer', 'of', 'basic', 'instinct', 'and', 'showgirls', ')', 'would', 'be', 'impressed', 'by', '.', 'thanks', 'to', 'jeffrey', 'kimball', \"'\", 's', 'polished', ',', 'kinetic', 'cinematography', ',', 'wild', 'things', 'always', 'looks', 'great', ',', 'and', 'george', 's', '.', 'clinton', \"'\", 's', 'score', 'keeps', 'it', 'pulsing', 'and', 'throbbing', '.', 'but', ',', 'no', 'matter', 'how', 'shiny', 'the', 'superficial', 'sheen', 'is', ',', 'this', 'is', 'still', 'trash', ',', 'and', ',', 'like', 'all', 'garbage', ',', 'it', 'stinks', '.'], 'neg')\n"
     ]
    }
   ],
   "source": [
    "print(new_train[0])"
   ]
  },
  {
   "cell_type": "markdown",
   "metadata": {
    "slideshow": {
     "slide_type": "slide"
    }
   },
   "source": [
    "We can now update our classifier with the new training data using the update(new_data) method, as well as test it using the larger test dataset.\n",
    "\n"
   ]
  },
  {
   "cell_type": "code",
   "execution_count": 35,
   "metadata": {
    "slideshow": {
     "slide_type": "slide"
    }
   },
   "outputs": [
    {
     "name": "stdout",
     "output_type": "stream",
     "text": [
      "Accuracy: 0.8383838383838383\n"
     ]
    }
   ],
   "source": [
    "cl.update(new_train) # it takes a while\n",
    "accuracy = cl.accuracy(new_test) \n",
    "print(\"Accuracy: {0}\".format(accuracy))"
   ]
  },
  {
   "cell_type": "markdown",
   "metadata": {
    "slideshow": {
     "slide_type": "slide"
    }
   },
   "source": [
    "Here’s the full, updated script:\n",
    "\n"
   ]
  },
  {
   "cell_type": "code",
   "execution_count": 36,
   "metadata": {},
   "outputs": [],
   "source": [
    "train = [\n",
    "    ('I love this sandwich.', 'pos'),\n",
    "    ('This is an amazing place!', 'pos'),\n",
    "    ('I feel very good about these beers.', 'pos'),\n",
    "    ('This is my best work.', 'pos'),\n",
    "    (\"What an awesome view\", 'pos'),\n",
    "    ('I do not like this restaurant', 'neg'),\n",
    "    ('I am tired of this stuff.', 'neg'),\n",
    "    (\"I can't deal with this\", 'neg'),\n",
    "    ('He is my sworn enemy!', 'neg'),\n",
    "    ('My boss is horrible.', 'neg')\n",
    "]\n",
    "test = [\n",
    "    ('The beer was good.', 'pos'),\n",
    "    ('I do not enjoy my job', 'neg'),\n",
    "    (\"I ain't feeling dandy today.\", 'neg'),\n",
    "    (\"I feel amazing!\", 'pos'),\n",
    "    ('Gary is a friend of mine.', 'pos'),\n",
    "    (\"I can't believe I'm doing this.\", 'neg')\n",
    "]\n",
    "\n",
    "processed_features = []\n",
    "def clean_text(data):\n",
    "    for sentence in range(0, len(data)):  \n",
    "        # Remove all the special characters\n",
    "        processed_feature = re.sub(r'\\W', ' ', str(data[sentence][0]))\n",
    "\n",
    "        # remove all single characters\n",
    "        processed_feature= re.sub(r'\\s+[a-zA-Z]\\s+', ' ', processed_feature)\n",
    "\n",
    "        # Remove single characters from the start\n",
    "        processed_feature = re.sub(r'\\^[a-zA-Z]\\s+', ' ', processed_feature) \n",
    "\n",
    "        # Substituting multiple spaces with single space\n",
    "        processed_feature = re.sub(r'\\s+', ' ', processed_feature, flags=re.I)\n",
    "\n",
    "        # Removing prefixed 'b'\n",
    "        processed_feature = re.sub(r'^b\\s+', '', processed_feature)\n",
    "\n",
    "        # Converting to Lowercase\n",
    "        processed_feature = processed_feature.lower()\n",
    "\n",
    "        data[sentence] = (processed_feature,data[sentence][1])\n",
    "    return data"
   ]
  },
  {
   "cell_type": "code",
   "execution_count": 37,
   "metadata": {
    "slideshow": {
     "slide_type": "slide"
    }
   },
   "outputs": [
    {
     "name": "stdout",
     "output_type": "stream",
     "text": [
      "Accuracy: 0.8333333333333334\n"
     ]
    }
   ],
   "source": [
    "train_clean = clean_text(train)\n",
    "test_clean = clean_text(test)\n",
    "\n",
    "cl = NaiveBayesClassifier(train_clean)\n",
    "accuracy = cl.accuracy(test_clean)\n",
    "print(\"Accuracy: {0}\".format(accuracy))"
   ]
  },
  {
   "cell_type": "markdown",
   "metadata": {
    "slideshow": {
     "slide_type": "slide"
    }
   },
   "source": [
    "### Removing HTML entities and tags\n",
    "We have it already implemented in NLTK!\n"
   ]
  },
  {
   "cell_type": "code",
   "execution_count": 38,
   "metadata": {},
   "outputs": [
    {
     "name": "stdout",
     "output_type": "stream",
     "text": [
      "ORIGINAL TEXT:\n",
      "<p>While many of the stories tugged <a> at the heartstrings, I never felt manipulated by the authors. (Note: Part of the reason why I don't like the &quot;Chicken Soup for the Soul&quot; series is that I feel that the authors are just dying to make the reader clutch for the box of tissues.)</a>\n"
     ]
    }
   ],
   "source": [
    "test_string =\"<p>While many of the stories tugged <a> at the heartstrings, I never felt manipulated by the authors. (Note: Part of the reason why I don't like the &quot;Chicken Soup for the Soul&quot; series is that I feel that the authors are just dying to make the reader clutch for the box of tissues.)</a>\"\n",
    "print(\"ORIGINAL TEXT:\")\n",
    "print (test_string)"
   ]
  },
  {
   "cell_type": "code",
   "execution_count": 39,
   "metadata": {},
   "outputs": [
    {
     "name": "stdout",
     "output_type": "stream",
     "text": [
      "\n",
      "CLEANED TEXT:\n",
      "While many of the stories tugged at the heartstrings, I never felt manipulated by the authors. (Note: Part of the reason why I don't like the &quot;Chicken Soup for the Soul&quot; series is that I feel that the authors are just dying to make the reader clutch for the box of tissues.)\n"
     ]
    }
   ],
   "source": [
    "import nltk\n",
    "\n",
    "def clean_html(html):\n",
    "    \"\"\"\n",
    "    Copied from NLTK package.\n",
    "    Remove HTML markup from the given string.\n",
    "\n",
    "    :param html: the HTML string to be cleaned\n",
    "    :type html: str\n",
    "    :rtype: str\n",
    "    \"\"\"\n",
    "    # First we remove inline JavaScript/CSS:\n",
    "    cleaned = re.sub(r\"(?is)<(script|style).*?>.*?(</\\1>)\", \"\", html.strip())\n",
    "    # Then we remove html comments. This has to be done before removing regular\n",
    "    # tags since comments can contain '>' characters.\n",
    "    cleaned = re.sub(r\"(?s)<!--(.*?)-->[\\n]?\", \"\", cleaned)\n",
    "    # Next we can remove the remaining tags:\n",
    "    cleaned = re.sub(r\"(?s)<.*?>\", \" \", cleaned)\n",
    "    # Finally, we deal with whitespace\n",
    "    cleaned = re.sub(r\"&nbsp;\", \" \", cleaned)\n",
    "    cleaned = re.sub(r\"  \", \" \", cleaned)\n",
    "    cleaned = re.sub(r\"  \", \" \", cleaned)\n",
    "    return cleaned.strip()\n",
    "\n",
    "\n",
    "print(\"\\nCLEANED TEXT:\")\n",
    "print(clean_html(test_string) )\n",
    "\n",
    "#Use from bs4 import BeautifulSoup  : for improved versions of tag cleaning "
   ]
  },
  {
   "cell_type": "markdown",
   "metadata": {
    "slideshow": {
     "slide_type": "slide"
    }
   },
   "source": [
    "# Read data from moneycontrol\n",
    "Let's get something more complex!! An html page from moneycontrol"
   ]
  },
  {
   "cell_type": "code",
   "execution_count": 40,
   "metadata": {
    "slideshow": {
     "slide_type": "slide"
    }
   },
   "outputs": [
    {
     "name": "stdout",
     "output_type": "stream",
     "text": [
      "                                            \r\n",
      "   \r\n",
      "<!DOCTYPE html PUBLIC \"-//W3C//DTD XHTML 1.0 Transitional//EN\" \"http://www.w3.org/TR/xhtml1/DTD/xhtml1-transitional.dtd\"><html><head><meta name=\"viewport\" content=\"width=device-width, initial-scale=1.0, maximum-scale=1.0, user-scalable=0\" /><meta http-equiv=\"x-ua-compatible\" content=\"ie=edge\"><link href=\"//stat1.moneycontrol.com/mcnews/css/jquery.mCustomScrollbar.css?v=0.1\" rel=\"dns-prefetch stylesheet\" type=\"text/css\" defer/><link href=\"https://fonts.googleapis.com/css?family=Noto+Serif:400,700\" rel=\"stylesheet\" defer><link href=\"//stat1.moneycontrol.com/mcnews/css/style.css?v=0.2\" rel=\"dns-prefetch stylesheet\" type=\"text/css\" async /><link href=\"//stat1.moneycontrol.com/mcnews/css/mc_news.css?v=7.0\" rel=\"dns-prefetch stylesheet\" type=\"text/css\" defer/><meta charset=\"utf-8\"><title>Polycab India Q4 net profit down 27.3%; to spend Rs 175-200cr annually on capex - Moneycontrol.com</title><meta name=\"description\" content=\"Board has recommended a final dividend of Rs 3 per equity share\" /><meta name=\"news_keywords\" content=\"Polycab,Q4,net profit,profit,revenue,wires,cables\" /><meta name=\"Keywords\" content=\"Polycab,Q4,net profit,profit,revenue,wires,cables\"><meta content=\"NOODP\" name=\"robots\"><meta http-equiv=\"Content-Type\" content=\"text/html; charset=utf-8\" /><meta http-equiv=\"Last-Modified\" content=\"2019-05-15T02:17:43+05:30\"/><meta name=\"Last-Modified\" content=\"2019-05-15T02:17:43+05:30\"><link rel=\"publisher\" href=\"https://plus.google.com/+moneycontrol\"/><meta property=\"og:locale\" content=\"en_US\" /><meta property=\"og:site_name\" content=\"Moneycontrol\" /><meta property=\"og:type\" content=\"website\" /><meta property=\"og:url\" content=\"https://www.moneycontrol.com/news/business/earnings/polycab-india-q4-net-profit-down-27-3-to-spend-rs-175-200cr-annually-on-capex-3972161.html\" /><meta property=\"og:title\" content=\"Polycab India Q4 net profit down 27.3%; to spend Rs 175-200cr annually on capex\" /><meta property=\"og:description\" content=\"Board has recommended a final dividend of Rs 3 per equity share\" /><meta property=\"og:image\" content=\"https://static-news.moneycontrol.com/static-mcnews/2019/04/Polycab1-770x433.jpg\" /><meta name=\"twitter:card\" content=\"summary_large_image\"><meta name=\"twitter:site\" content=\"@moneycontrolcom\"><meta name=\"twitter:creator\" content=\"@moneycontrolcom\"><meta name=\"twitter:url\" content=\"https://www.moneycontrol.com/news/business/earnings/polycab-india-q4-net-profit-down-27-3-to-spend-rs-175-200cr-annually-on-capex-3972161.html\"><meta name=\"twitter:title\" content=\"Polycab India Q4 net profit down 27.3%; to spend Rs 175-200cr annually on capex\"><meta name=\"twitter:image:src\" content=\"https://static-news.moneycontrol.com/static-mcnews/2019/04/Polycab1-770x433.jpg\"><meta property=\"fb:pages\" content=\"143902715620459\" /><meta name=\"HandheldFriendly\" content=\"true\" /><link rel=\"canonical\" href=\"https://www.moneycontrol.com/news/business/earnings/polycab-india-q4-net-profit-down-27-3-to-spend-rs-175-200cr-annually-on-capex-3972161.html\" /><link rel=\"amphtml\" href=\"https://www.moneycontrol.com/news/business/earnings/polycab-india-q4-net-profit-down-27-3-to-spend-rs-175-200cr-annually-on-capex-3972161.html/amp\">    <script type=\"application/ld+json\">        {\r\n",
      "            \"@context\": \"https://schema.org\",\r\n",
      "            \"@type\": \"WebPage\",\r\n",
      "            \"name\": \"Polycab India Q4 net profit down 27.3%; to spend Rs 175-200cr annually on capex\",\r\n",
      "            \"description\": \"Board has recommended a final dividend of Rs 3 per equity share\",\r\n",
      "            \"url\" : \"https://www.moneycontrol.com/news/business/earnings/polycab-india-q4-net-profit-down-27-3-to-spend-rs-175-200cr-annually-on-capex-3972161.html\",\r\n",
      "            \"publisher\": {\r\n",
      "                \"@type\": \"Organization\",\r\n",
      "                \"name\": \"MoneyControl\",\r\n",
      "                \"url\" : \"https://www.moneycontrol.com\",\r\n",
      "                \"logo\" : {\r\n",
      "                        \"@type\": \"ImageObject\",\r\n",
      "                        \"contentUrl\": \"https://img-d02.moneycontrol.co.in/images/common/header/logo.png\"\r\n",
      "                        }\r\n",
      "            }\r\n",
      "        } \r\n",
      "    </script>    <script type=\"application/ld+json\">            {\r\n",
      "             \"@context\": \"https://schema.org\",\r\n",
      "             \"@type\": \"BreadcrumbList\",\r\n",
      "             \"itemListElement\":\r\n",
      "             [\r\n",
      "              {\r\n",
      "               \"@type\": \"ListItem\",\r\n",
      "               \"position\": 1,\r\n",
      "               \"item\":\r\n",
      "               {\r\n",
      "                \"@id\": \"https://www.moneycontrol.com/\",\r\n",
      "                \"name\": \"HOME\"\r\n",
      "                }\r\n",
      "            }, \r\n",
      "                    {\r\n",
      "                      \"@type\": \"ListItem\",\r\n",
      "                      \"position\": 2,\r\n",
      "                      \"item\":{\r\n",
      "                        \"@id\": \"https://www.moneycontrol.com/news/\",\r\n",
      "                        \"name\": \"NEWS\"\r\n",
      "                        }\r\n",
      "                    }, \r\n",
      "                    {\r\n",
      "                      \"@type\": \"ListItem\",\r\n",
      "                      \"position\": 3,\r\n",
      "                      \"item\":{\r\n",
      "                        \"@id\": \"https://www.moneycontrol.com/news/business/\",\r\n",
      "                        \"name\": \"BUSINESS\"\r\n",
      "                        }\r\n",
      "                    }, \r\n",
      "                    {\r\n",
      "                      \"@type\": \"ListItem\",\r\n",
      "                      \"position\": 4,\r\n",
      "                      \"item\":{\r\n",
      "                        \"@id\": \"https://www.moneycontrol.com/news/business/earnings/\",\r\n",
      "                        \"name\": \"EARNINGS\"\r\n",
      "                        }\r\n",
      "                    }]}\r\n",
      "        }\r\n",
      "    </script><script type=\"application/ld+json\">        [{\r\n",
      "          \"@context\": \"https://schema.org\",\r\n",
      "          \"mainEntityOfPage\":\"https://www.moneycontrol.com/news/business/earnings/polycab-india-q4-net-profit-down-27-3-to-spend-rs-175-200cr-annually-on-capex-3972161.html\",\r\n",
      "          \r\n",
      "          \"@type\": \"NewsArticle\",\r\n",
      "          \"url\": \"https://www.moneycontrol.com/news/business/earnings/polycab-india-q4-net-profit-down-27-3-to-spend-rs-175-200cr-annually-on-capex-3972161.html\",\r\n",
      "          \"articleBody\":\"Wires, cables and electrical goods maker Polycab India posted a 27.3 percent year-on-year (YoY) drop in its March quarter (Q4) consolidated net profit at Rs 137.2 crore on account of a drop in EBITDA margin.&nbsp;Commodity prices and rupee movement versus the dollar also impacted profitability\r\n",
      "\r\n",
      "R Ramakrishnan, CEO, Polycab, said higher-than-normal EBITDA in some of the past quarters is not sustainable, adding: &amp;quot;Going forward, EBITDA margin will be maintained between 11 percent and 13 percent.&amp;quot;\r\n",
      "\r\n",
      "Revenue increased by 16 percent YoY in Q4 to Rs 2,444.8 crore. Among segments, wires and cables grew 13 percent at Rs 2,121.6 crore&nbsp;and EPC 141 percent at Rs 218.3 crore.\r\n",
      "\r\n",
      "The board has recommended a final dividend of Rs 3 per equity share.\r\n",
      "\r\n",
      "Commenting on the company's performance in FY19,&nbsp;Inder Jaisinghani, Chairman and Managing Director, Polycab India, said&nbsp;it has been a year of record performance with all business segments performing well.\r\n",
      "\r\n",
      "He added that net profit increased 40 percent YoY to Rs 500 crore in FY19. &amp;quot;Gross debt fell 66 percent to Rs 272.4 crore&nbsp;and capital expenditure was up 55 percent to Rs 279 crore.&amp;quot;\r\n",
      "\r\n",
      "On the company's capex plans, Ramakrishnan said Polycab will incur Rs 175 -200 crore annually. &amp;quot;Of this, 75 percent will be allocated for the wires and cables business&nbsp;and the&nbsp;balance will go&nbsp;towards the fast moving electrical goods space.&amp;quot;\r\n",
      "\r\n",
      "On an annual basis, the wires and cables business grew 11 percent YoY to Rs 6,929.5 crore&nbsp;and the FMEG business grew 33 percent to Rs 643.3 crore.\r\n",
      "\r\n",
      "Polycab listed on the stock exchanges in April this year at&nbsp;an 18 percent premium over its issue price of Rs 538. It is currently trading in&nbsp;the Rs 625-655 range.Special Thursday Expiry on 10th 7th Nov\r\n",
      "Early Closure to The Great Diwali Discount. Last Chance to get Moneycontrol PRO for a year @ Rs. 289/- only \r\n",
      "Coupon code: DIWALI\",\r\n",
      "          \"articleSection\":\"Business\",\r\n",
      "          \"headline\": \"Polycab India Q4 net profit down 27.3%; to spend Rs 175-200cr annually on capex\",\r\n",
      "          \"description\":\"Board has recommended a final dividend of Rs 3 per equity share\",\r\n",
      "          \"author\": \"Moneycontrol News\",\r\n",
      "          \"datePublished\": \"02:17:43 PM IST May 15, 2019\",\r\n",
      "          \"dateModified\": \"2019-05-15T02:17:43+05:30\",\r\n",
      "          \"image\":{\r\n",
      "                \"@context\": \"https://schema.org\",\r\n",
      "                \"@type\": \"ImageObject\",\r\n",
      "                \"width\": \"630px\",\r\n",
      "                \"height\": \"354px\",\r\n",
      "                \"url\":\"https://static-news.moneycontrol.com/static-mcnews/2019/04/Polycab1-770x433.jpg\"\r\n",
      "              },\r\n",
      "          \"publisher\":{\r\n",
      "                \"@context\": \"https://schema.org\",\r\n",
      "                \"@type\": \"Organization\",\r\n",
      "                \"name\": \"Moneycontrol\",\r\n",
      "                \"logo\": {\r\n",
      "                        \"@context\": \"https://schema.org\",\r\n",
      "                        \"@type\": \"ImageObject\",\r\n",
      "                        \"width\": \"247px\",\r\n",
      "                        \"height\": \"94px\",\r\n",
      "                        \"url\": \"https://img-d02.moneycontrol.co.in/images/common/header/logo.png\"\r\n",
      "                    },\r\n",
      "                \"url\":\"https://www.moneycontrol.com\"\r\n",
      "              }\r\n",
      "        }]\r\n",
      "    </script>    <script type=\"application/ld+json\">[]</script> <!-- DNS Prefetch --><link href=\"//b.scorecardresearch.com\" rel=\"dns-prefetch\"/><link href=\"//b.scorecardresearch.com\" rel=\"preconnect\"/><link href=\"https://securepubads.g.doubleclick.net\" rel=\"dns-prefetch\"/><link href=\"https://securepubads.g.doubleclick.net\" rel=\"preconnect\"/><link href=\"https://pubads.g.doubleclick.net\" rel=\"dns-prefetch\"/><link href=\"https://pubads.g.doubleclick.net\" rel=\"preconnect\"/><link href=\"https://www.google-analytics.com\" rel=\"dns-prefetch\"/><link href=\"https://www.google-analytics.com\" rel=\"preconnect\"/><link href=\"//www.googletagservices.com\" rel=\"dns-prefetch\"/><link href=\"//www.googletagservices.com\" rel=\"preconnect\"/><link href=\"//tpc.googlesyndication.com\" rel=\"dns-prefetch\"/><link href=\"//tpc.googlesyndication.com\" rel=\"preconnect\"/><link href=\"//connect.facebook.net\" rel=\"dns-prefetch\" /><link href=\"//connect.facebook.net\" rel=\"preconnect\" /><link href=\"//static.xx.fbcdn.net\" rel=\"dns-prefetch\" /><link href=\"//static.xx.fbcdn.net\" rel=\"preconnect\" /><link href=\"https://img-d04.moneycontrol.co.in/mcnews/images/\" rel=\"dns-prefetch\"/><link href=\"https://img-d04.moneycontrol.co.in/mcnews/images/\" rel=\"preconnect\"/><link href=\"//static-news.moneycontrol.com\" rel=\"dns-prefetch\"/><link href=\"//static-news.moneycontrol.com\" rel=\"preconnect\"/><link href=\"https://fonts.gstatic.com\" rel=\"dns-prefetch\"><link href=\"https://fonts.gstatic.com\" rel=\"preconnect\"><link rel=\"dns-prefetch\" href=\"//fonts.googleapis.com\"><link rel=\"dns-prefetch\" href=\"//ajax.googleapis.com\"> <link rel=\"dns-prefetch\" href=\"//googleads.g.doubleclick.net\"><link rel=\"dns-prefetch\" href=\"//sb.scorecardresearch.com\"><link rel=\"dns-prefetch\" href=\"//pagead2.googlesyndication.com\"><link rel=\"dns-prefetch\" href=\"//www.googletagmanager.com\"><link rel=\"dns-prefetch\" href=\"//tt.onthe.io\"><link rel=\"dns-prefetch\" href=\"//s.in.com\"><link rel=\"dns-prefetch\" href=\"//cse.google.com/\" /><link rel=\"dns-prefetch\" href=\"//www.googleadservices.com/\" /><link rel=\"dns-prefetch\" href=\"//fonts.gstatic.com\" /><link rel=\"dns-prefetch\" href=\"//adservice.google.co.in\" /><!-- DNS Prefetch Ends Here -->    <link rel=\"dns-prefetch shortcut icon\" href=\"https://img-d04.moneycontrol.co.in/mcnews/images/favicon.ico\" type=\"image/x-icon\"/>                  \r\n",
      "    <table cellpadding=\"0\" cellspacing=\"0\" border=\"0\">    <tr><td><link rel=\"alternate\" TITLE=\"MoneyControl.com News\" HREF=\"https://www.moneycontrol.com/rss/latestnews.xml\" TYPE=\"application/rss+xml\" /></td></tr>    </table>    \r\n",
      "    <script type=\"text/javascript\">      \r\n",
      "       var KEY = \"A18ID\", DAYS = \"730\";\r\n",
      "\r\n",
      "      function _htCreate(name,value,days) {\r\n",
      "              var expires = \"\";\r\n",
      "              if (days) {\r\n",
      "                      var date = new Date();\r\n",
      "                      date.setTime(date.getTime() + (days*24*60*60*1000));\r\n",
      "                      expires = \"; expires=\" + date.toUTCString();\r\n",
      "              }\r\n",
      "              document.cookie = name + \"=\" + value + expires + \"; path=/\";\r\n",
      "      }\r\n",
      "\r\n",
      "      function _htGet(name) {\r\n",
      "              var nameEQ = name + \"=\";\r\n",
      "              var ca = document.cookie.split(\";\");\r\n",
      "              for(var i=0;i < ca.length;i++) {\r\n",
      "                      var c = ca[i];\r\n",
      "                      while (c.charAt(0)==\" \") c = c.substring(1,c.length);\r\n",
      "                      if (c.indexOf(nameEQ) == 0) return c.substring(nameEQ.length,c.length);\r\n",
      "              }\r\n",
      "              return null;\r\n",
      "      }\r\n",
      "\r\n",
      "      function _htDel(name) {\r\n",
      "              _htCreate(name,\"\",-1);\r\n",
      "      }\r\n",
      "\r\n",
      "      function getId() {\r\n",
      "              return Date.now() + \".\" + Math.round(Math.random() * 1000000);\r\n",
      "      }\r\n",
      "      \r\n",
      "      function create_dim_cookie(){\r\n",
      "                ID = _htGet(KEY);\r\n",
      "                if(null == ID || \"\" == ID) {\r\n",
      "                        ID = getId();\r\n",
      "                        _htCreate(KEY, ID, DAYS);\r\n",
      "                }\r\n",
      "      }\r\n",
      "      \r\n",
      "      function getCookie(cname) {\r\n",
      "\t\tvar name = cname + \"=\";\r\n",
      "\t\tvar ca = document.cookie.split(';');\r\n",
      "\t\t\r\n",
      "\t\tfor(var i = 0; i < ca.length; i++) {\r\n",
      "\t\t\tvar c = ca[i];\r\n",
      "\t\t\twhile (c.charAt(0) == ' ') {\r\n",
      "\t\t\t\tc = c.substring(1);\r\n",
      "\t\t\t}\r\n",
      "\t\t\t\r\n",
      "\t\t\tif (c.indexOf(name) == 0) {\r\n",
      "\t\t\t\treturn c.substring(name.length, c.length);\r\n",
      "\t\t\t}\r\n",
      "\t\t}\r\n",
      "\t\t\r\n",
      "\t\treturn \"\";\r\n",
      "      }\r\n",
      "      \r\n",
      "      create_dim_cookie();\r\n",
      "      \r\n",
      "       \r\n",
      "    </script>    \r\n",
      "         \r\n",
      "   \r\n",
      "  \r\n",
      "    </head>    <body >                \r\n",
      "   \r\n",
      "      <script type=\"text/javascript\"> var is_app =0; var _w18WNSITE='WEB';</script>   <!-- Moneycontrol Common header start here --><script type=\"text/javascript\">var max_limit_interstitial_page_check = 6;\r\n",
      "\t\t\tvar interstitial_page_position = [1, 3, 5];\r\n",
      "\r\n",
      "\t\t\tfunction getCurrentDate() {\r\n",
      "\r\n",
      "\t\t\t\tvar d = new Date();\r\n",
      "\t\t\t\tvar month = d.getMonth()+1;\r\n",
      "\t\t\t\tvar date = d.getDate();\r\n",
      "\r\n",
      "\t\t\t\tif( month <= 9 ) {\r\n",
      "\t\t\t\t\tmonth = '0' + month;\r\n",
      "\t\t\t\t}\r\n",
      "\t\t\t\tif( date <= 9 ) {\r\n",
      "\t\t\t\t\tdate = '0' + date;\r\n",
      "\t\t\t\t}\r\n",
      "\t\t\t\treturn d.getFullYear() + '' + month + '' + date;\r\n",
      "\t\t\t}\r\n",
      "\r\n",
      "\t\t\tfunction getInterstitialCookie( cname ) {\r\n",
      "\t\t\t\tvar name = cname + \"=\";\r\n",
      "\t\t\t\tvar ca = document.cookie.split(';');\r\n",
      "\t\t\t\tfor( var i = 0; i < ca.length; i++ ) {\r\n",
      "\t\t\t\t\tvar c = ca[i];\r\n",
      "\t\t\t\t\twhile( c.charAt(0) == ' ' ) {\r\n",
      "\t\t\t\t\t\tc = c.substring( 1 );\r\n",
      "\t\t\t\t\t}\r\n",
      "\t\t\t\t\tif( c.indexOf( name ) == 0 ) {\r\n",
      "\t\t\t\t\t\treturn c.substring( name.length, c.length );\r\n",
      "\t\t\t\t\t}\r\n",
      "\t\t\t\t}\r\n",
      "\t\t\t\treturn \"\";\r\n",
      "\t\t\t}\r\n",
      "\r\n",
      "\t\t\tfunction createInterstitialCookie( name, value, days ) {\r\n",
      "\t\t\t\tvar expires=\"\";\r\n",
      "\t\t\t\tif( days ) {\r\n",
      "\t\t\t\t\tvar date = new Date();\r\n",
      "\t\t\t\t\tdate.setTime(date.getTime()+(days*24*60*60*1000));\r\n",
      "\t\t\t\t\texpires = \"; expires=\"+date.toGMTString();\r\n",
      "\t\t\t\t} else { \r\n",
      "\t\t\t\t\texpires = \"\"; \r\n",
      "\t\t\t\t}\r\n",
      "\t\t\t\tdocument.cookie = name+\"=\"+value+expires+\"; path=/; domain=.moneycontrol.com;\";\r\n",
      "\t\t\t}\r\n",
      "\r\n",
      "\t\t\tfunction initializeInterstitial() {\r\n",
      "\r\n",
      "\t\t\t\t/* console.log( 'initialize Interstitial -> Start' ); */\r\n",
      "\t\t\t\tvar width = window.innerWidth || document.documentElement.clientWidth;\r\n",
      "\t\t\t\t/* console.log( 'width = ', width ); */\r\n",
      "\r\n",
      "\t\t\t\t/* width = 700; */\t/*  Hardcode */\r\n",
      "\r\n",
      "\t\t\t\t/* Runs Only for WAP */\r\n",
      "\t\t\t\tif( width <= 768 ) {\r\n",
      "\t\t\t\t\tvar current_page = window.location.href;\r\n",
      "\t\t\t\t\tvar interstitial_cookie_name = 'MC_WAP_INTERSTITIAL_NEW_LOGIC_' + getCurrentDate();\r\n",
      "\t\t\t\t\tvar interstitial_cookie_object = getInterstitialCookie( interstitial_cookie_name );\t/* Get Cookie Value */\r\n",
      "\r\n",
      "\t\t\t\t\t/* console.log( 'current_page = ', current_page ); */\r\n",
      "\r\n",
      "\t\t\t\t\t/* Checks for Cookie is exists OR not? */\r\n",
      "\t\t\t\t\tif( interstitial_cookie_object == undefined || interstitial_cookie_object == '' ) {\r\n",
      "\t\t\t\t\t\tinterstitial_cookie_value = {};\r\n",
      "\t\t\t\t\t\tinterstitial_cookie_value[0] = current_page;\r\n",
      "\t\t\t\t\t\tcreateInterstitialCookie( interstitial_cookie_name, JSON.stringify( interstitial_cookie_value ), '1' );\t/* Create Cookie */\r\n",
      "\r\n",
      "\t\t\t\t\t\t/* console.log( 'Added Cookie', interstitial_cookie_value ); */\r\n",
      "\r\n",
      "\t\t\t\t\t} else {\r\n",
      "\t\t\t\t\t\tvar interstitial_cookie_value = JSON.parse( interstitial_cookie_object );\r\n",
      "\t\t\t\t\t\tvar pageCount = Object.keys( interstitial_cookie_value ).length;\r\n",
      "\r\n",
      "\t\t\t\t\t\t/* console.log( 'Present Cookie = ', interstitial_cookie_value ); */\r\n",
      "\r\n",
      "\t\t\t\t\t\t/* console.log( 'Page Cookie = ', pageCount ); */\r\n",
      "\r\n",
      "\t\t\t\t\t\tif( pageCount <= max_limit_interstitial_page_check ) {\r\n",
      "\r\n",
      "\t\t\t\t\t\t\tvar is_page_exists = false;\r\n",
      "\t\t\t\t\t\t\tfor( var i = 0; i < pageCount; i++ ) {\r\n",
      "\t\t\t\t\t\t\t\tif( current_page === interstitial_cookie_value[ i ] ) {\r\n",
      "\t\t\t\t\t\t\t\t\tis_page_exists = true;\r\n",
      "\t\t\t\t\t\t\t\t\t/* console.log( 'is_page_exists = ', is_page_exists ); */\r\n",
      "\t\t\t\t\t\t\t\t}\r\n",
      "\t\t\t\t\t\t\t}\r\n",
      "\r\n",
      "\t\t\t\t\t\t\tif( is_page_exists == false ) {\r\n",
      "\t\t\t\t\t\t\t\t// if( pageCount == 1 || pageCount == 3 || pageCount == 5 ) {\r\n",
      "\r\n",
      "\t\t\t\t\t\t\t\tif( interstitial_page_position.includes( pageCount ) ) {\r\n",
      "\t\t\t\t\t\t\t\t\tinterstitial_cookie_value[ pageCount ] = current_page;\r\n",
      "\t\t\t\t\t\t\t\t\t\r\n",
      "\t\t\t\t\t\t\t\t\t/* console.log( 'Updated Cookie = ', interstitial_cookie_value ); */\r\n",
      "\t\t\t\t\t\t\t\t\t\r\n",
      "\t\t\t\t\t\t\t\t\tcreateInterstitialCookie( interstitial_cookie_name, JSON.stringify( interstitial_cookie_value ), '1' );\t/* Update Cookie */\r\n",
      "\r\n",
      "\t\t\t\t\t\t\t\t\t/* console.log( 'Call DFP Page' ); */\r\n",
      "\r\n",
      "\t\t\t\t\t\t\t\t\twindow.location.href = \"https://www.moneycontrol.com/promo/mc_wap_interstitial_dfp.php\";\r\n",
      "\t\t\t\t\t\t\t\t} else {\r\n",
      "\t\t\t\t\t\t\t\t\tinterstitial_cookie_value[ pageCount ] = current_page;\r\n",
      "\t\t\t\t\t\t\t\t\t\r\n",
      "\t\t\t\t\t\t\t\t\t/* console.log( 'Updated Cookie = ', interstitial_cookie_value ); */\r\n",
      "\t\t\t\t\t\t\t\t\t\r\n",
      "\t\t\t\t\t\t\t\t\tcreateInterstitialCookie( interstitial_cookie_name, JSON.stringify( interstitial_cookie_value ), '1' );\t/* Update Cookie */\r\n",
      "\t\t\t\t\t\t\t\t}\r\n",
      "\t\t\t\t\t\t\t}\r\n",
      "\r\n",
      "\t\t\t\t\t\t}\r\n",
      "\r\n",
      "\t\t\t\t\t}\r\n",
      "\t\t\t\t}\r\n",
      "\t\t\t\t/* console.log( 'End <- initialize Interstitial' ); */\r\n",
      "\t\t\t}\r\n",
      "\r\n",
      "\t\t\twindow.onload = initializeInterstitial();</script><meta name=\"viewport\" content=\"width=device-width, initial-scale=1.0, maximum-scale=1.0, user-scalable=0\" /><meta name='dailymotion-domain-verification' content='dmpn9sdnwtvex9ltc' /><link rel=\"stylesheet\" type=\"text/css\" href=\"https://stat2.moneycontrol.com/mccss/common/moneycontrol_header.css?v=1.0\" /><header class=\" responsive_true  headinsde  budget_header_news \"><link rel=\"stylesheet\" type=\"text/css\" href=\"https://stat2.moneycontrol.com/mccss/common/moneycontrol_header_intermediate.css?v=1.0\" />  <div class=\"headTop\">    <div class=\"header-main-wrapper PR clearfix\">      <div class=\"FL\">        <ul class=\"langblock\">          <li class=\"sub1\"><a href=\"https://www.moneycontrol.com/\" title=\"English\">English</a><span></span>            <ul class=\"submenus\">              <li><a href=\"https://hindi.moneycontrol.com\" title=\"Hindi\" target=\"_blank\">Hindi</a></li>              <li class=\"last\"><a href=\"https://gujarati.moneycontrol.com/\" title=\"Gujarati\" target=\"_blank\">Gujarati</a></li>            </ul>          </li>        </ul>      </div>      <div class=\"clearfix topmenublock\">      <div class=\"FL ML10\"><div class=\"toplinks toptab1\">App<div class=\"appblock\"><span class=\"arwssUp\"></span><div class=\"drpcnthv\"><div class=\"app_banner\"><img src=\"data:image/png;base64,R0lGODlhAQABAAD/ACwAAAAAAQABAAACADs=\" data-src=\"https://img-d03.moneycontrol.co.in/images/common/header/HeaderBanner_06072017_v1.jpg\" alt=\"Moneycontrol App\" title=\"Moneycontrol App\" usemap=\"#Map\" /><map name=\"Map\" id=\"Map\"><area alt=\"Android App\" title=\"Android App\" target=\"_blank\" href=\"https://play.google.com/store/apps/details?id=com.divum.MoneyControl&referrer=utm_source=MC_GlobalBanner&utm_medium=GlobalBanner&utm_term=DesktopGlobalBanner\" shape=\"rect\" coords=\"325,56,465,102\" /><area alt=\"iOS App\" title=\"iOS App\" target=\"_blank\" href=\"https://itunes.apple.com/app/apple-store/id408654600?mt=8\" shape=\"rect\" coords=\"478,55,615,100\" /><area alt=\"iPad App\" title=\"iPad App\" target=\"_blank\" href=\"https://itunes.apple.com/app/moneycontrol-for-ipad-financial/id474708356?mt=8\" shape=\"rect\" coords=\"683,56,717,100\" /><area alt=\"Android Tab\" title=\"Android Tab\" target=\"_blank\" href=\"https://play.google.com/store/apps/details?id=com.moneycontrol\" shape=\"rect\" coords=\"721,55,775,99\" /><area alt=\"Blackberry\" title=\"Blackberry\" target=\"_blank\" href=\"https://appworld.blackberry.com/webstore/content/22518888/?CPID=SOC_IBB1000063&countrycode=IN&lang=en\" shape=\"rect\" coords=\"777,55,829,100\" /><area alt=\"Windows App\" title=\"Windows App\" target=\"_blank\" href=\"https://www.microsoft.com/en-us/store/p/moneycontrol/9wzdncrfj2p0\" shape=\"rect\" coords=\"831,55,905,102\" /><area alt=\"Windows Tab\" title=\"Windows Tab\" target=\"_blank\" href=\"https://www.microsoft.com/en-us/store/p/moneycontrolcom/9wzdncrdftq8\" shape=\"rect\" coords=\"907,54,969,102\" /></map></div></div></div></div>          <span class=\"divider\"></span>          <div class=\"toplinks toptab2\"><a href=\"https://www.moneycontrol.com/subscription\" title=\"Subscription\">Subscription</a>          </div>          <span class=\"divider\"></span>          <div class=\"toplinks toptab3\">Specials\r\n",
      "            <div class=\"specialsblock\">              <span class=\"arwssUp\"></span>              <div class=\"drpcnthv\">              <ul class=\"splist clearfix\"><li>                                            <a href=\"http://www.moneycontrol.com/eye-on-india/?utm_source=MC&utm_medium=specials_web&utm_campaign=EyEyeonIndia\" title=\"EY\" target=\"_blank\">                                                <img src=\"data:image/png;base64,R0lGODlhAQABAAD/ACwAAAAAAQABAAACADs=\" data-src=\"https://img-d03.moneycontrol.co.in/news_image_files/2018/e/ey_201807051305250vcud.jpg\" alt=\"EY\" title=\"EY\" />                                            </a>                                        </li><li>                                            <a href=\"https://www.moneycontrol.com/ms/future-proof-your-business/?mc_source=MC&mc_medium=Specials&mc_campaign=IntelB2B\" title=\"Future Proof Your Business\" target=\"_blank\">                                                <img src=\"data:image/png;base64,R0lGODlhAQABAAD/ACwAAAAAAQABAAACADs=\" data-src=\"https://img-d02.moneycontrol.co.in/news_image_files/2018/1/130x118_20190806184934pdckn.jpg\" alt=\"Future Proof Your Business\" title=\"Future Proof Your Business\" />                                            </a>                                        </li><li>                                            <a href=\"https://www.moneycontrol.com/sme/easybiz?mc_source=MC&mc_medium=Specials&mc_campaign=Easybiz\" title=\"EasyBiz\" target=\"_blank\">                                                <img src=\"data:image/png;base64,R0lGODlhAQABAAD/ACwAAAAAAQABAAACADs=\" data-src=\"https://img-d05.moneycontrol.co.in/news_image_files/2018/e/easybiz_130x118_v2_20191104144318manb8.jpg\" alt=\"EasyBiz\" title=\"EasyBiz\" />                                            </a>                                        </li>              </ul>              </div>            </div>          </div>      </div>        <div class=\"FR ML10\">          <div class=\"searchBox clearfix FL\">            <div class=\"searchboxInner clearfix PR FL\">              <form name=\"form_topsearch\" id=\"form_topsearch\" method=\"get\" onsubmit=\"javascript:return submit_search_txt('#form_topsearch');\" action=\"\">                <input name=\"search_data\" id=\"search_data\" value=\"\" type=\"hidden\" readonly=\"readonly\" />                <input name=\"cid\" id=\"cid\" value=\"\" type=\"hidden\"  readonly=\"readonly\" />                <input name=\"mbsearch_str\" id=\"mbsearch_str\" type=\"hidden\" value=\"\"  readonly=\"readonly\" />                <input name=\"topsearch_type\" id=\"topsearch_type\" value=\"1\" type=\"hidden\" readonly=\"readonly\" />                <input class=\"txtsrchbox FL\" id=\"search_str\" onkeyup=\"getAutosuggesionHeader('#form_topsearch');\" onclick=\"getAutosuggesionHeader('#form_topsearch');\" placeholder=\"Search Quotes, News, Mutual Fund NAVs\" name=\"search_str\" value=\"\" type=\"text\" autocomplete=\"off\" />                <!-- search category--><!-- trending search ooptions start --><div class=\"PR\" style=\"z-index:100000;\"><div class=\"trend_searchbx sugBox\" style=\"display:none;\">            <div class=\"ausggestleft\">              <ul id=\"ul_srchCat_DDL\">                <li class=\"active\"><a style=\"color:#fff !important\" title=\"Moneycontrol Trending Stocks\">Top 5 Trending Stocks</a></li>              </ul>            </div>            <div class=\"clearfix\">              <ul class=\"suglist\">                <li>                  <a onclick='GAEventTracker(\"SEARCHUSAGE\", \"MCTRENDS\", \"STKCLICK\" )' href=\"https://www.moneycontrol.com/india/stockpricequote/banks-private-sector/yesbank/YB\" title=\"Yes Bank\">Yes Bank&nbsp;<span>INE528G01027, YESBANK, 532648</span></a>                </li>                <li>                  <a onclick='GAEventTracker(\"SEARCHUSAGE\", \"MCTRENDS\", \"STKCLICK\" )' href=\"https://www.moneycontrol.com/india/stockpricequote/computers-software/infosys/IT\" title=\"Infosys\">Infosys&nbsp;<span>INE009A01021, INFY, 500209</span></a>                </li>                <li>                  <a onclick='GAEventTracker(\"SEARCHUSAGE\", \"MCTRENDS\", \"STKCLICK\" )' href=\"https://www.moneycontrol.com/india/stockpricequote/banks-public-sector/statebankindia/SBI\" title=\"SBI\">SBI&nbsp;<span>INE062A01020, SBIN, 500112</span></a>                </li>                <li>                  <a onclick='GAEventTracker(\"SEARCHUSAGE\", \"MCTRENDS\", \"STKCLICK\" )' href=\"https://www.moneycontrol.com/india/stockpricequote/banks-public-sector/punjabnationalbank/PNB05\" title=\"PNB\">PNB&nbsp;<span>INE160A01022, PNB, 532461</span></a>                </li>                <li>                  <a onclick='GAEventTracker(\"SEARCHUSAGE\", \"MCTRENDS\", \"STKCLICK\" )' href=\"https://www.moneycontrol.com/india/stockpricequote/finance-housing/indiabullshousingfinance/IHF01\" title=\"Indiabulls Hsg\">Indiabulls Hsg&nbsp;<span>INE148I01020, IBULHSGFIN, 535789</span></a>                </li></ul>    </div>    </div>      </div><!-- trending search ooptions end --> \r\n",
      "\r\n",
      "                <!-- auto suggest box-->               <div class=\"sugBox\" id=\"autosugg_mc1\" style=\"display:none;\">                  <div class=\"ausggestleft\">                    <ul id=\"ul_srchCat_DDL\">                        <li class=\"active\" onClick=\"suggestboxdd('1', 'maintop');\" id=\"tab1\"><a rel=\"1\" href=\"javascript:void(0);\" title=\"Quotes\"> Quotes </a></li>                        <li class=\"\" onClick=\"suggestboxdd('2', 'maintop');\" id=\"tab2\"><a rel=\"2\" href=\"javascript:void(0);\" title=\"Mutual Funds\"> Mutual Funds</a></li>                        <li onClick=\"suggestboxdd('5', 'maintop');\" id=\"tab5\"><a rel=\"5\" href=\"javascript:void(0);\" title=\"Commodities\"> Commodities </a></li>                        <li onClick=\"suggestboxdd('9', 'maintop');\" id=\"tab9\"><a rel=\"9\" href=\"javascript:void(0);\" title=\"Futures\">Futures &amp; Options </a></li>                        <li onClick=\"suggestboxdd('3', 'maintop');\" id=\"tab3\"><a rel=\"3\" href=\"javascript:void(0);\" title=\"News\"> News </a></li>                        <li onClick=\"suggestboxdd('4', 'maintop');\" id=\"tab4\"><a rel=\"4\" href=\"javascript:void(0);\" title=\"Forum\"> Forum </a></li>                        <li onClick=\"suggestboxdd('6', 'maintop');\" id=\"tab6\"><a rel=\"6\" href=\"javascript:void(0);\" title=\"Notices\"> Notices </a></li>                        <li onClick=\"suggestboxdd('7', 'maintop');\" id=\"tab7\"><a rel=\"7\" href=\"javascript:void(0);\" title=\"Videos\"> Videos </a></li>                        <li onClick=\"suggestboxdd('10', 'maintop');\" id=\"tab10\"><a rel=\"10\" href=\"javascript:void(0);\" title=\"Glossary\"> Glossary </a></li>                        <li onClick=\"suggestboxdd('8', 'maintop');\" id=\"tab8\"><a rel=\"8\" href=\"javascript:void(0);\" title=\"All\"> All </a></li>                      </ul>                  </div>                  <div class=\"top_asugscrl\" id=\"autosuggestlist\">                    <ul class=\"suglist scrollBar\" >                    </ul>                    <div class=\"brdtp CTR PT5\">                                          </div>                  </div>                </div>              </form>            </div>            <a href=\"javascript:void(0)\" title=\"Submit\" onclick=\"$('#form_topsearch').submit();\" class=\"btn_black FR\"></a> \r\n",
      "          </div>          <div class=\"toplinks1\"><a class=\"link1\" href=\"https://www.moneycontrol.com/india/stockpricequote/\" title=\"Stocks\">Stocks</a></div>          <span class=\"divider\"></span>          <div class=\"toplinks1\"><a class=\"link1\" href=\"https://www.moneycontrol.com/cdata/feedback.php?flag=oth\" title=\"Feedback\">Feedback</a></div>          <span class=\"divider\"></span>         <div class=\"toplinks1 blp dropdown\"> <a href=\"javascript:;\" title=\"Log In\" class=\"link1 dropdown-toggle linkSignIn\" data-toggle=\"modal\" data-target=\"#LoginModal\"><strong>Log In</strong></a> </div>          <div class=\"toplinks1 alp dropdown\" style=\"display:none;\">            <a href=\"javascript:;\" class=\"link1 dropdown-toggle\" data-toggle=\"dropdown\"><strong id=\"usr_nm\"></strong></a>            <div class=\"myaccpop dropdown-menu\">                <span class=\"arwssUpLft\"></span>                <ul>                    <li><a href=\"https://www.moneycontrol.com/bestportfolio/wealth-management-tool/update_profile\" title=\"My Profile\">My Profile <span style='color:#ff5a5a' id='verifiedtext'> (Unverified)</span></a></li>                    <li><a href=\"https://www.moneycontrol.com/india/bestportfoliomanager/investment-tool\" title=\"My Portfolio\">My Portfolio</a></li>                    <li><a href=\"https://www.moneycontrol.com/bestportfolio/wealth-management-tool/stock_watchlist\" title=\"My Watchlist\">My Watchlist</a></li>                    <li><a href=\"https://mmb.moneycontrol.com/\" title=\"My Messages\">My Messages</a></li>                    <li><a href=\"https://www.moneycontrol.com/alerts/manage-alerts.php\" title=\"My Alerts\">My Alerts</a></li><li><a href=\"https://www.moneycontrol.com/stock-screener/\" title=\"My Screeners\">My Screeners <sup><img src=\"https://img-d04.moneycontrol.co.in//images/common/header/beta_icon.gif\" title=\"My Screeners\" alt=\"My Screeners\" /></sup></a></li>                </ul>            </div>          </div>          <span class=\"divider\"></span>          <div class=\"toplinks1 blp dropdown\"><a href=\"javascript:;\" title=\"Sign Up\" class=\"link1 dropdown-toggle linkSignUp\" data-toggle=\"modal\" data-target=\"#LoginModal\"><strong>Sign Up</strong></a></div><div class=\"toplinks1 alp\" style=\"display:none;\"><a href=\"https://www.moneycontrol.com/mcplus/portfolio/logout.php?ref=https://www.moneycontrol.com/mcplus/portfolio/loginportfolio.php\" title=\"Logout\" class=\"toptab5 link1\"><strong>Logout</strong></a></div><ul class=\"topsocial MT2 FL\">          <li><a href=\"https://www.facebook.com/moneycontrol\" title=\"Facebook\" target=\"_blank\" rel=\"nofollow\" class=\"ic_topfb\"></a></li>          <li><a href=\"https://twitter.com/moneycontrolcom\" title=\"Twitter\" target=\"_blank\" rel=\"nofollow\" class=\"ic_toptweet\"></a></li>        </ul>        <div class=\"FR ML5 MT1\"><a href=\"http://www.network18online.com/\" title=\"Network18\" target=\"_blank\" rel=\"nofollow\" class=\"icon18\"></a></div>  \t\r\n",
      "        </div>              </div>    </div>  </div><!--Common css files in header (Start)--><!--[if IE><script type=\"text/javascript\" src=\"https://stat3.moneycontrol.com/mcjs/common/webfont.js\"></script><script>WebFont.load({ google: { families: ['Fira Sans'] } }); </script><![endif]--><link rel=\"stylesheet\" type=\"text/css\" href=\"https://stat4.moneycontrol.com/mccss/common/googlefont.css?v=0.3\" /><link rel=\"stylesheet\" type=\"text/css\" href=\"https://stat2.moneycontrol.com/mccss/common/headfoot.css?v=1.10\" /><!--Common css files in header (End)--><!--Common JS files & code in header (Start)--><script type=\"text/javascript\" src=\"https://stat1.moneycontrol.com/mcjs/common/jquery-1.7.2.min.js\"></script><script type=\"text/javascript\" src=\"https://stat3.moneycontrol.com/mcjs/common/jquery-1.12.0.min.js\"></script> <script type='text/javascript' src='https://code.jquery.com/jquery-migrate-1.4.1.min.js'></script><script type='text/javascript' src='https://stat3.moneycontrol.com/mcjs/common/jquery.cookie.js'></script><script type=\"text/javascript\" src=\"https://stat1.moneycontrol.com/mcjs/common/bootstrap.min.js\"></script> <script type=\"text/javascript\" src=\"https://stat1.moneycontrol.com/mcjs/common/jquery.jscrollpane.min.js\" async=\"async\"></script><script type=\"text/javascript\" src=\"https://stat4.moneycontrol.com/mcjs/common/jquery.mousewheel.js\" async=\"async\"></script><script type=\"text/javascript\" src=\"https://stat1.moneycontrol.com/mcjs/common/jquery.bxslider-min.js\" async=\"async\"></script><script type=\"text/javascript\" src=\"https://stat2.moneycontrol.com/mcjs/markets/https_common.js?ver=0.2\" async=\"async\"></script><script> var JQ_IS_NEWS_SECTION = 1; </script><script type=\"text/javascript\" src=\"https://stat4.moneycontrol.com/mcjs/common/moneycontrol_header.js?v=123.7\" async=\"async\"></script><script type=\"text/javascript\" src=\"https://stat1.moneycontrol.com/mcjs/common/mc_common.js?v=1.10\"></script>  <!--arjun function start--> \r\n",
      "\t  <script type='text/javascript'>    function _w18gcon (wg) { \r\n",
      "\t    var i, x, y, cl = document.cookie.split(\";\"); \r\n",
      "\t    var out = {}; \r\n",
      "\t    var c = 0; \r\n",
      "\t    for (i = 0; i < cl.length; i++) { \r\n",
      "\t    x = cl[i].substr(0, cl[i].indexOf(\"=\")); \r\n",
      "\t    y = cl[i].substr(cl[i].indexOf(\"=\") + 1); \r\n",
      "\t    x = x.replace(/^\\s+|\\s+$/g, \"\"); \r\n",
      "\t    //console.log(\"new ad id in loop:\"+x); \r\n",
      "\t    if (x == \"nnmc\") { \r\n",
      "\t    out.nnmc = unescape(y); \r\n",
      "\t    c = c + 1 \r\n",
      "\t    }else if (x == \"_w18g\") { \r\n",
      "\t    out._w18g = unescape(y); \r\n",
      "\t    c = c + 1 \r\n",
      "\t    } else if (x == \"_w18s\") { \r\n",
      "\t    out._w18s = unescape(y); \r\n",
      "\t    c = c + 1 \r\n",
      "\t    } \r\n",
      "\t    if (c == 3) { \r\n",
      "\t    return out \r\n",
      "\t    } \r\n",
      "\t    } \r\n",
      "\t    return out \r\n",
      "\t    } \r\n",
      "\t  </script>  <script type='text/javascript'>    var googletag = googletag || {};\r\n",
      "\t    googletag.cmd = googletag.cmd || [];\r\n",
      "\t    googletag.cmd.push(function() {\r\n",
      "\t      //arjun start\r\n",
      "\t      var _w18_pp_uni_id = _w18gcon('_w18g'); \r\n",
      "\t      if(_w18_pp_uni_id.hasOwnProperty('_w18g')){ \r\n",
      "\t      _w18_pp_uni_id= _w18_pp_uni_id._w18g; \r\n",
      "\t      googletag.pubads().setPublisherProvidedId(_w18_pp_uni_id); \r\n",
      "\t      //console.log(\"new ad id complete done:\"+_w18_pp_uni_id); \r\n",
      "\t      }; \r\n",
      "\r\n",
      "\t      //arjun end\r\n",
      "\t     });\r\n",
      "\t  </script>  <!--arjun function end--><script type=\"text/javascript\">function readCookieRevamp(e) {\r\n",
      "\t\tvar t=e+\"=\";\r\n",
      "\t\tvar n=document.cookie.split(\";\");\r\n",
      "\t\tfor( var r=0; r < n.length; r++ ) {\r\n",
      "\t\t\tvar i = n[r];\r\n",
      "\t\t\twhile( i.charAt(0) == \" \" ) {\r\n",
      "\t\t\t\ti = i.substring( 1, i.length );\r\n",
      "\t\t\t}\r\n",
      "\t\t\tif( i.indexOf(t) == 0 ) {\r\n",
      "\t\t\t\treturn i.substring( t.length, i.length )\r\n",
      "\t\t\t}\r\n",
      "\t\t}\r\n",
      "\t\treturn false;\r\n",
      "\t}\r\n",
      "\r\n",
      "\r\n",
      "  var m_selected = '3';\r\n",
      "\tvar matrix_adunit=1;\r\n",
      "\tvar usernnmc = readCookieRevamp(\"nnmc\");\r\n",
      "\r\n",
      "\tvar IE = document.all?true:false;\r\n",
      "\tvar anychange=0;\r\n",
      "\tvar bak_price_div;\r\n",
      "\tvar matrix=0;\r\n",
      "\tvar cnbc_matrix=0;\r\n",
      "\r\n",
      "\t/* Block site in Client IFrame -> Start */\r\n",
      "\t\t/* <meta http-equiv=\"X-Frame-Options\" content=\"deny\"> */\r\n",
      "\t\tif(top.location != window.location) {\r\n",
      "\t\t\twindow.location = 'https://www.moneycontrol.com/mccode/common/iframe_blocker.php';\r\n",
      "\t\t}\r\n",
      "\t/* End <- Block site in Client IFrame */</script><!--Common JS files & code in header (End)--><div class=\"headmid  clearfix\"><div class=\"header-main-wrapper PR\"> <a href=\"https://www.moneycontrol.com/\" class=\"FL\" title=\"Moneycontrol\"><img src=\"https://img-d02.moneycontrol.co.in/images/common/header/logo.png?v=0.1\" width=\"247\" height=\"94\" alt=\"Moneycontrol\" title=\"Moneycontrol\" /></a> <a href=\"https://www.moneycontrol.com/promos/pro.php\" title=\"Be a Pro\" class=\"be-a-pro be-a-pro-internal\" onclick=\"GAEventTracker( 'Pro-discount', 'Top Logo', window.location.href );\">Be a Pro</a>  <div class=\"rightblock\" style=\"position: relative;  z-index: 110;\"><div id=Moneycontrol/MC_News/MC_News_Internal_728x90_3><script type=\"text/javascript\" defer=\"defer\">var width = window.innerWidth || document.documentElement.clientWidth;\r\n",
      "\t\tadKey = \"Moneycontrol/MC_News/MC_News_Internal_728x90_3\";\r\n",
      "\t\tif (width >= 768 && adKey.indexOf(\"Moneycontrol\") != -1 && adKey.indexOf(\"Moneycontrol_Mobile_WAP\") < 0) {\r\n",
      "\t\t\tgoogletag.cmd.push(function() { googletag.display(\"Moneycontrol/MC_News/MC_News_Internal_728x90_3\") });\r\n",
      "\t\t}\r\n",
      "\r\n",
      "\t\tif (width <= 768 && adKey.indexOf(\"Moneycontrol_Mobile_WAP\") != -1) {\r\n",
      "\t\t\tgoogletag.cmd.push(function() { googletag.display(\"Moneycontrol/MC_News/MC_News_Internal_728x90_3\") });\r\n",
      "\t\t}</script></div></div></div></div>  <div class=\"icpancakeblock\">    <div class=\"iconpancake\"></div><div class=\"FL mc_moblogo\"><a href=\"https://www.moneycontrol.com/\" title=\"Moneycontrol\"><img src=\"https://img-d02.moneycontrol.co.in/images/common/header/logo.png?v=0.1\" width=\"120\" height=\"46\" alt=\"Moneycontrol\" title=\"Moneycontrol\" /></a></div><!-- get app css start here -->    <a href=\"https://wz7ux.app.goo.gl/app?utm_source=MC_GetApp&utm_medium=MC_WAP&utm_campaign=GetApp_Button\" class=\"btn_getapp FL\" id=\"getAppModel\" onclick=\"ga('send', 'event', 'Get-App', 'Moneycontrol', 'Moneycontrol');\"><span class=\"ic_clouddown\"><svg xmlns=\"http://www.w3.org/2000/svg\" width=\"15\" height=\"15\" viewBox=\"0 0 20.061 18.038\">        <g id=\"cloud-download-outline\" transform=\"translate(-1.994 -2.962)\">        <g id=\"Layer_2\" data-name=\"Layer 2\">        <g id=\"cloud-download\">        <path id=\"Path_1\" data-name=\"Path 1\" d=\"M14.31,16.38,13,17.64V12a1,1,0,0,0-2,0v5.59l-1.29-1.3a1,1,0,1,0-1.42,1.42l3,3a1,1,0,0,0,1.4.01l3-2.9a1,1,0,1,0-1.38-1.44Z\" fill=\"#fff\"/>        <path id=\"Path_2\" data-name=\"Path 2\" d=\"M17.67,7A6,6,0,0,0,6.33,7a5,5,0,0,0-3.08,8.27A1,1,0,1,0,4.75,14,3,3,0,0,1,7,9h.1a1,1,0,0,0,1-.8,4,4,0,0,1,7.84,0,1,1,0,0,0,1,.8H17a3,3,0,0,1,2.25,5,1,1,0,1,0,1.5,1.33A5,5,0,0,0,17.67,7Z\" fill=\"#fff\"/>        </g>        </g>        </g>        </svg>        </span> Get App</a>        <!-- get app css END here -->    <script>      var userAgent=navigator.userAgent.toLowerCase();\r\n",
      "      if ((userAgent.search(\"iphone\") > -1) || (userAgent.search(\"ipod\") > -1) || (userAgent.search(\"ipad\") > -1)){\r\n",
      "        document.getElementById(\"getAppModel\").href=\"https://n7tuy.app.goo.gl/home?utm_source=MC_GetApp&utm_medium=MC_WAP&utm_campaign=GetApp_Button\"; \r\n",
      "      }\r\n",
      "      if ((userAgent.search(\"android\") > -1)){\r\n",
      "        document.getElementById(\"getAppModel\").href=\" https://wz7ux.app.goo.gl/app?utm_source=MC_GetApp&utm_medium=MC_WAP&utm_campaign=GetApp_Button\"; \r\n",
      "      }\r\n",
      "    </script>    <!-- get app css END here -->    <div class=\"mc-text FL\"></div>    <div class=\"icon-user\">      <ul class=\"usermenus blp\" id=\"mc_mobile_usermenus\">        <li><a href=\"https://m.moneycontrol.com/login.php\" title=\"Login\">Log In</a></li>        <li class=\"last\"><a href=\"https://m.moneycontrol.com/mcreg.php\" title=\"Sign Up\">Sign Up</a></li>      </ul>      <ul class=\"usermenus alp\" id=\"mc_mobile_usermenus\">        <li><a href=\"https://m.moneycontrol.com/portfolio.php?type=today\" id=\"mobile_usr_nm\"></a></li>        <li><a href=\"https://m.moneycontrol.com/portfolio.php?type=today\" title=\"My Portfolio\">My Portfolio</a></li>        <li><a href=\"https://m.moneycontrol.com/watchlist.php\">My Watchlist</a></li>        <li><a href=\"https://m.moneycontrol.com/mmb/\" title=\"My Messages\">My Messages</a></li>        <li class=\"last\"><a href=\"https://m.moneycontrol.com/logout.php?red_url=index.html\" title=\"Sign out\">Sign out</a></li>      </ul>    </div>    <div class=\"searchblock PR\"><span class=\"ic-search\"></span></div>    \r\n",
      "    <!-- mobile search start here --><div class=\"searchBox clearfix\" id=\"autosugg_mc_mobile\" style=\"display:none;\">  <div class=\"FR\">  <div class=\"searchboxInner clearfix PR FL\">    <form name=\"form_mobile_topsearch\" id=\"form_mobile_topsearch\" method=\"get\" onsubmit=\"javascript:return submit_search_txt('#form_mobile_topsearch');\" action=\"\">        <input name=\"search_data\" id=\"search_data\" value=\"\" type=\"hidden\" readonly=\"readonly\" />        <input name=\"cid\" id=\"cid\" value=\"\" type=\"hidden\"  readonly=\"readonly\" />        <input name=\"mbsearch_str\" id=\"mbsearch_str\" type=\"hidden\" value=\"\"  readonly=\"readonly\" />        <input name=\"topsearch_type\" id=\"topsearch_type\" value=\"1\" type=\"hidden\" readonly=\"readonly\" />        <input class=\"txtsrchbox FL\" id=\"search_str\" onkeyup=\"getAutosuggesionHeader('#form_mobile_topsearch');\" placeholder=\"Search Quotes, News, Mutual Fund NAVs\" name=\"search_str\" value=\"\" type=\"text\" autocomplete=\"off\" />      <!-- auto suggest box-->      <div class=\"sugBox\" id=\"autosugg_mc1\" style=\"display:none;\">        <div class=\"ausggestleft\">          <ul class=\"nav-tabs\" id=\"ul_srchCat_DDL\">            <li class=\"active\" onClick=\"suggestboxdd('1', 'mobile_top');\" id=\"tab1\"><a rel=\"1\" href=\"javascript:void(0);\" title=\"Quotes\"> Quotes </a></li>            <li class=\"\" onClick=\"suggestboxdd('2', 'mobile_top');\" id=\"tab2\"><a rel=\"2\" href=\"javascript:void(0);\" title=\"Mutual Funds\"> Mutual Funds</a></li>            <li onClick=\"suggestboxdd('5', 'mobile_top');\" id=\"tab5\"><a rel=\"5\" href=\"javascript:void(0);\" title=\"Commodities\"> Commodities </a></li>            <li onClick=\"suggestboxdd('9', 'mobile_top');\" id=\"tab9\"><a rel=\"9\" href=\"javascript:void(0);\" title=\"Futures\">Futures &amp; Options </a></li>            <li onClick=\"suggestboxdd('3', 'mobile_top');\" id=\"tab3\"><a rel=\"3\" href=\"javascript:void(0);\" title=\"News\"> News </a></li>            <li onClick=\"suggestboxdd('4', 'mobile_top');\" id=\"tab4\"><a rel=\"4\" href=\"javascript:void(0);\" title=\"Forum\"> Forum </a></li>            <li onClick=\"suggestboxdd('6', 'mobile_top');\" id=\"tab6\"><a rel=\"6\" href=\"javascript:void(0);\" title=\"Notices\"> Notices </a></li>            <li onClick=\"suggestboxdd('7', 'mobile_top');\" id=\"tab7\"><a rel=\"7\" href=\"javascript:void(0);\" title=\"Videos\"> Videos </a></li>            <li onClick=\"suggestboxdd('10', 'mobile_top');\" id=\"tab10\"><a rel=\"10\" href=\"javascript:void(0);\" title=\"Glossary\"> Glossary </a></li>            <li onClick=\"suggestboxdd('8', 'mobile_top');\" id=\"tab8\"><a rel=\"8\" href=\"javascript:void(0);\" title=\"All\"> All </a></li>          </ul>        </div>        <div class=\"top_asugscrl\">          <div class=\"tab-content\">            <div class=\"tab-pane in active\" id=\"autosuggestlist\">              <ul class=\"suglist\">                <li><a href=\"javascript:;\" target=\"_parent\"><span><b>Auri</b>ferous</span> Aqua Farma&nbsp;, 519363</a></li>                \r\n",
      "              </ul>            </div>          </div><div class=\"brdtp CTR PT5\"><a href=\"https://www.moneycontrol.com/news/tags/mf-experts.html\" title=\"View All\" class=\"ssMore\">View All <span class=\"ic_seemore\"></span></a></div>        </div>      </div>    </form>  </div>  <a href=\"javascript:;\" class=\"btn_black FR\"></a>  </div></div><!-- mobile search END here --><!-- WAP Menu List -> Start --><div class=\"pancakemenu\"><div class=\"pancakScrl\"><div class=\"PA10\"><div class=\"mtxt16 MT10\">Select Language</div><ul class=\"selectlanguage\"><li><label onclick=\"window.location = 'https://m.moneycontrol.com/'; return false;\"><input type=\"radio\" checked=\"checked\" value=\"\" name=\"rd_select_language\" />English </label></li><li><label onclick=\"window.location = 'https://m.moneycontrol.com/hi/'; return false;\"><input type=\"radio\" value=\"\" name=\"rd_select_language\" /><span class=\"mmnRadio\"></span> हिंदी </label></li><li><label onclick=\"window.location = 'https://m.moneycontrol.com/gu/'; return false;\"><input type=\"radio\" value=\"\" name=\"rd_select_language\" /><span class=\"mmnRadio\"></span> गुजराती </label></li></ul></div><ul class=\"menutable\"><li><a href=\"https://www.moneycontrol.com/\" title=\"Home\" class=\"gd18\">Home </a></li><li><a href=\"https://www.moneycontrol.com/news/\" title=\"News\" class=\"gd18\">News </a></li><li><a href=\"https://www.moneycontrol.com/stocksmarketsindia/\" title=\"Markets\" class=\"gd18\">Markets </a></li><li><a href=\"https://m.moneycontrol.com/markets/earnings/\" title=\"Earnings\" class=\"gd18\">Earnings </a></li><li><a href=\"https://m.moneycontrol.com/portfolio.php?type=today\" title=\"Portfolio\" class=\"gd18\">Portfolio </a></li><li><a href=\"https://m.moneycontrol.com/watchlist.php\" title=\"Watchlist\" class=\"gd18\">Watchlist </a></li><li><a href=\"https://m.moneycontrol.com/mmb/\" title=\"Forum\" class=\"gd18\">Forum </a></li><li><a href=\"https://www.moneycontrol.com/markets/indian-indices/\" title=\"Indian Indices\" class=\"gd18\">Indian Indices </a></li><li><a href=\"https://www.moneycontrol.com/markets/global-indices/\" title=\"Global Indices\" class=\"gd18\">Global Indices </a></li><li><a href=\"https://www.moneycontrol.com/stocks/marketstats/fii_dii_activity/index.php?classic=true\" title=\"FII & DII Activity\" class=\"gd18\">FII & DII Activity <sup><img src=\"https://img-d02.moneycontrol.co.in/images/common/header/new_icon_animated.gif\" title=\"FII & DII Activity\" alt=\"FII & DII Activity\"></sup></a></li><li><a href=\"https://m.moneycontrol.com/live_tv.php\" title=\"Live TV & Shows\" class=\"gd18\">Live TV & Shows </a></li><li><a href=\"https://www.moneycontrol.com/personal-finance/income-tax-filing/\" title=\"Tax Filing\" class=\"gd18\">Tax Filing </a></li><li><a href=\"https://www.moneycontrol.com/ms/earth-360/?mc_source=MC&mc_medium=Trending&mc_campaign=Earth360\" title=\"Earth360\" class=\"gd18\">Earth360 <sup><img src=\"https://img-d02.moneycontrol.co.in/images/common/header/new_icon_animated.gif\" title=\"Earth360\" alt=\"Earth360\"></sup></a></li><li><a href=\"https://www.moneycontrol.com/sme/easybiz\" title=\"Easybiz\" class=\"gd18\">Easybiz <sup><img src=\"https://img-d02.moneycontrol.co.in/images/common/header/new_icon_animated.gif\" title=\"Easybiz\" alt=\"Easybiz\"></sup></a></li><li><a href=\"https://www.moneycontrol.com/video-shows/?classic=true\" title=\"Video\" class=\"gd18\">Video <sup><img src=\"https://img-d02.moneycontrol.co.in/images/common/header/new_icon_animated.gif\" title=\"Video\" alt=\"Video\"></sup></a></li><li><a href=\"https://www.moneycontrol.com/stock-premier-league\" title=\"Stock Premier League\" class=\"gd18\">Stock Premier League <sup><img src=\"https://img-d02.moneycontrol.co.in/images/common/header/new_icon_animated.gif\" title=\"Stock Premier League\" alt=\"Stock Premier League\"></sup></a></li><li><a href=\"https://m.moneycontrol.com/commodity/\" title=\"Commodities\" class=\"gd18\">Commodities </a></li><li><a href=\"https://m.moneycontrol.com/mccode/currencies/\" title=\"Currencies\" class=\"gd18\">Currencies </a></li><li><a href=\"https://www.moneycontrol.com/mutualfundindia/\" title=\"Mutual Funds\" class=\"gd18\">Mutual Funds </a></li><li><a href=\"https://www.moneycontrol.com/personal-finance/?classic=true\" title=\"Personal Finance\" class=\"gd18\">Personal Finance </a></li><li><a href=\"https://www.moneycontrol.com/personal-finance/nps-national-pension-scheme?classic=true\" title=\"National Pension Scheme\" class=\"gd18\">NPS <sup><img src=\"https://img-d02.moneycontrol.co.in/images/common/header/new_icon_animated.gif\" title=\"National Pension Scheme\" alt=\"National Pension Scheme\"></sup></a></li><li><a href=\"https://www.moneycontrol.com/podcast/?classic=true\" title=\"Podcast\" class=\"gd18\">Podcast <sup><img src=\"https://img-d02.moneycontrol.co.in/images/common/header/new_icon_animated.gif\" title=\"Podcast\" alt=\"Podcast\"></sup></a></li><li><a href=\"https://www.moneycontrol.com/cryptocurrency/\" title=\"Cryptocurrency\" class=\"gd18\">Cryptocurrency </a></li></ul><div class=\"pretab MB5\"><div class=\"mmtit\" style=\"padding: 0px !important;\"><a href=\"https://www.moneycontrol.com/subscription\" title=\"Subscription\" class=\"mmtit\">Subscription</a></div></div><div class=\"pretab\"><div class=\"mmtit\">Specials</div><ul class=\"menutable\"><li><a href=\"https://m.moneycontrol.com/invest-now/\" title=\"Invest Now\" class=\"gd18\">Invest Now </a></li><li><a href=\"https://m.moneycontrol.com/master-your-money/\" title=\"Master Your Money\" class=\"gd18\">Master Your Money </a></li><li><a href=\"https://m.moneycontrol.com/sme/sme-special/\" title=\"SME Special\" class=\"gd18\">SME Special </a></li><li><a href=\"https://m.moneycontrol.com/property/real-assets/\" title=\"Real Assets\" class=\"gd18\">Real Assets </a></li><li><a href=\"https://m.moneycontrol.com/travelcafe/\" title=\"Travel Cafe\" class=\"gd18\">Travel Cafe </a></li><li><a href=\"https://m.moneycontrol.com/tech-control/\" title=\"Tech Control\" class=\"gd18\">Tech Control </a></li></ul></div></div></div><!-- End <- WAP Menu List -->  </div>  \r\n",
      "  <script>if( readCookieRevamp( 'nnmc' ) ) {\r\n",
      "\t\tvar usernnmc = readCookieRevamp( 'nnmc' );\r\n",
      "\t\tusernnmc = $.trim(usernnmc);\r\n",
      "\r\n",
      "\t\tif($.trim(usernnmc) == 'Guest' || $.trim(usernnmc) == 'guest'){\r\n",
      "\t\t\t$('div.myaccpop').remove();\r\n",
      "\t\t}\r\n",
      "\t\t\r\n",
      "\t\tusernnmc = usernnmc.replace(\"%40\",\"@\");\r\n",
      "\t\tusernnmc = usernnmc.replace(/\\+/g, \" \");\r\n",
      "\t\tvar dispnm = usernnmc;\r\n",
      "\r\n",
      "\t\tif( usernnmc.length > 6 ) {\r\n",
      "\t\t\tdispnm = usernnmc.substr( 0, 6 ) + '..';\r\n",
      "\t\t} else {\r\n",
      "\t\t\tdispnm = usernnmc;\r\n",
      "\t\t}\r\n",
      "\r\n",
      "\t\t$('strong#usr_nm, a#mobile_usr_nm').text(\"Hi \"+dispnm);\r\n",
      "\r\n",
      "\t\tif(usernnmc != false && usernnmc != 'false' && usernnmc != ''){\r\n",
      "\t\t\t$('div.blp, ul.blp').hide();\r\n",
      "\t\t\t$('div.blp, ul.blp').remove();\r\n",
      "\t\t\t$('div.alp').show();\r\n",
      "\t\t}else{\r\n",
      "\t\t\t$('div.alp, ul.alp').remove();\r\n",
      "\t\t}\r\n",
      "\t}else{\r\n",
      "\t\t$('div.alp, ul.alp').remove();\r\n",
      "\t}</script>  <div class=\"headBotm  PR\">    <div class=\"stickymiddle\">      <div class=\"mc-text FL\"></div>      <div class=\"header-main-wrapper\">                <ul class=\"headbotmmenus clearfix nav-tabs\">                      <li >            <a class=\" \"  href=\"https://www.moneycontrol.com/\" title=\"Home\"  >Home </a>                <div class=\"stickysub db \"  style=\"display:none;\" >                  <ul class=\"headbotmmenus1\">                                          <li>                        <a  href=\"https://www.moneycontrol.com/news/business/companies\"  title=\"Companies\">Companies</a>                      </li>                                          <li>                        <a  href=\"https://www.moneycontrol.com/news/business/economy/\"  title=\"Economy\">Economy</a>                      </li>                                          <li>                        <a  href=\"https://www.moneycontrol.com/real-estate-property/\"  title=\"Property\">Property</a>                      </li>                                          <li>                        <a  href=\"https://www.moneycontrol.com/news/politics/\"  title=\"Politics\">Politics</a>                      </li>                                          <li>                        <a  href=\"https://www.moneycontrol.com/news/technology/auto\"  title=\"Auto\">Auto</a>                      </li>                                          <li>                        <a  href=\"https://www.moneycontrol.com/news/live-cricket/\"  title=\"Cricket\">Cricket</a>                      </li>                                          <li>                        <a  href=\"https://www.moneycontrol.com/news/world/\"  title=\"World\">World</a>                      </li>                                          <li>                        <a  href=\"https://www.moneycontrol.com/news/business/announcements/\"  title=\"Announcements\">Announcements</a>                      </li>                                      </ul>                </div>                          </li>                      <li >            <a class=\" actlink  \"  href=\"https://www.moneycontrol.com/news/\" title=\"News\"  >News </a>                <div class=\"stickysub db  actlink \" >                  <ul class=\"headbotmmenus1\">                                          <li>                        <a  href=\"https://www.moneycontrol.com/news/business/\"  title=\"Business\">Business</a>                      </li>                                          <li>                        <a  href=\"https://www.moneycontrol.com/news/business/markets/\"  title=\"Markets\">Markets</a>                      </li>                                          <li>                        <a  href=\"https://www.moneycontrol.com/news/business/stocks/\"  title=\"Stocks\">Stocks</a>                      </li>                                          <li>                        <a  href=\"https://www.moneycontrol.com/news/business/economy/\"  title=\"Economy\">Economy</a>                      </li>                                          <li>                        <a  href=\"https://www.moneycontrol.com/equity-research/\"  title=\"Research\">Research</a>                      </li>                                          <li>                        <a  href=\"https://www.moneycontrol.com/news/business/mutual-funds/\"  title=\"Mutual Funds\">Mutual Funds</a>                      </li>                                          <li>                        <a  href=\"https://www.moneycontrol.com/news/business/personal-finance/\"  title=\"Personal Finance\">Personal Finance</a>                      </li>                                          <li>                        <a  href=\"https://www.moneycontrol.com/real-estate-property/\"  title=\"Property\">Property</a>                      </li>                                          <li>                        <a  href=\"https://www.moneycontrol.com/news/technology/auto\"  title=\"Auto\">Auto</a>                      </li>                                          <li>                        <a  href=\"https://www.moneycontrol.com/news/business/ipo/\"  title=\"IPO\">IPO</a>                      </li>                                          <li>                        <a  href=\"https://www.moneycontrol.com/news/politics/\"  title=\"Politics\">Politics</a>                      </li>                                          <li>                        <a  href=\"https://www.moneycontrol.com/news/india/\"  title=\"India\">India</a>                      </li>                                          <li>                        <a  href=\"https://www.moneycontrol.com/news/world/\"  title=\"World\">World</a>                      </li>                                          <li>                        <a  href=\"https://www.moneycontrol.com/news/fintech\"  title=\"FinTech \">FinTech <sup><img src=\"https://img-d01.moneycontrol.co.in//images/common/header/new_icon_animated.gif\" alt=\"FinTech\" title=\"FinTech\" /></sup></a>                      </li>                                          <li>                        <a  href=\"https://www.moneycontrol.com/news/technology/\"  title=\"Consumer Tech\">Consumer Tech</a>                      </li>                                          <li>                        <a  href=\"https://www.moneycontrol.com/news/business/startups\"  title=\"Startups\">Startups</a>                      </li>                                          <li>                        <a  href=\"https://www.moneycontrol.com/news/opinion/\"  title=\"Opinion \">Opinion <sup><img src=\"https://img-d03.moneycontrol.co.in//images/common/header/new_icon_animated.gif\" alt=\"Opinion\" title=\"Opinion\" /></sup></a>                      </li>                                      </ul>                </div>                          </li>                      <li >            <a class=\" \"  href=\"https://www.moneycontrol.com/stocksmarketsindia/\" title=\"Markets\"  >Markets </a>                <div class=\"stickysub db \"  style=\"display:none;\" >                  <ul class=\"headbotmmenus1\">                                          <li>                        <a  href=\"https://www.moneycontrol.com/stocksmarketsindia/\"  title=\"Home\">Home</a>                      </li>                                          <li>                        <a  href=\"https://www.moneycontrol.com/markets/premarket/\"  title=\"Pre-Market\">Pre-Market</a>                      </li>                                          <li>                        <a  href=\"https://www.moneycontrol.com/markets/stock-advice/\"  title=\"Advice\">Advice</a>                      </li>                                          <li>                        <a  href=\"https://www.moneycontrol.com/markets/technicals/\"  title=\"Technicals\">Technicals</a>                      </li>                                          <li>                        <a  href=\"https://www.moneycontrol.com/markets/fno-market-snapshot\"  title=\"F&O\">F&O</a>                      </li>                                          <li>                        <a  href=\"https://www.moneycontrol.com/markets/earnings/\"  title=\"Earnings\">Earnings</a>                      </li>                                          <li>                        <a  href=\"https://www.moneycontrol.com/stock-screener/\"  title=\"Stock Screener \">Stock Screener <sup><img src=\"https://img-d02.moneycontrol.co.in//images/common/header/beta_icon.gif\" title=\"Stock Screener\" alt=\"Stock Screener\" /></sup></a>                      </li>                                          <li>                        <a  href=\"https://www.moneycontrol.com/ipo/\"  title=\"IPO\">IPO</a>                      </li>                                          <li>                        <a  href=\"https://www.moneycontrol.com/stocks/marketstats/index.php\"  title=\"All Stats\">All Stats</a>                      </li>                                          <li>                        <a  href=\"https://www.moneycontrol.com/markets/indian-indices/\"  title=\"Indian Indices\">Indian Indices</a>                      </li>                                          <li>                        <a  href=\"https://www.moneycontrol.com/mccode/globalmarkets/index.html\"  title=\"Global Markets\">Global Markets</a>                      </li>                                          <li>                        <a  href=\"https://www.moneycontrol.com/mccode/currencies/\"  title=\"Currencies\">Currencies</a>                      </li>                                          <li>                        <a  href=\"https://www.moneycontrol.com/cryptocurrency/\"  title=\"Crypto\">Crypto</a>                      </li>                                          <li>                        <a  href=\"https://www.moneycontrol.com/fixed-income/bonds/\"  title=\"Bonds\">Bonds</a>                      </li>                                          <li>                        <a  href=\"https://www.moneycontrol.com/broker-research/\"  title=\"Broker Research\">Broker Research</a>                      </li>                                          <li>                        <a  href=\"https://www.moneycontrol.com/mccode/tools/\"  title=\"Tools\">Tools</a>                      </li>                                          <li>                        <a  href=\"http://terminal.moneycontrol.com/?utm_source=moneycontrol_top_nav&utm_medium=navigation&utm_campaign=terminal_main_menu\"  title=\"Terminal\">Terminal</a>                      </li>                                      </ul>                </div>                          </li>                      <li >            <a class=\" \"  href=\"https://www.moneycontrol.com/mutualfundindia/\" title=\"Mutual Funds\"  >Mutual Funds </a>                <div class=\"stickysub db \"  style=\"display:none;\" >                  <ul class=\"headbotmmenus1\">                                          <li>                        <a  href=\"https://www.moneycontrol.com/mutualfundindia/\"  title=\"Home\">Home</a>                      </li>                                          <li>                        <a  href=\"https://www.moneycontrol.com/mutual-funds/performance-tracker/returns/large-cap-fund.html\"  title=\"Performance Tracker\">Performance Tracker</a>                      </li>                                          <li>                        <a  href=\"https://www.moneycontrol.com/mutual-funds/best-funds/equity.html\"  title=\"Top Ranked Funds\">Top Ranked Funds</a>                      </li>                                          <li>                        <a  href=\"https://www.moneycontrol.com/mf/etf/\"  title=\"ETFs\">ETFs</a>                      </li>                                          <li>                        <a  href=\"https://www.moneycontrol.com/mutual-funds/new-fund-offers\"  title=\"NFO\">NFO</a>                      </li>                                          <li>                        <a  href=\"https://www.moneycontrol.com/mutualfundindia/learn/\"  title=\"Learn\">Learn</a>                      </li>                                          <li>                        <a  href=\"https://www.moneycontrol.com/mutual-funds/performance-tracker/all-categories?order=default&dur=1y\"  title=\"Top Performing Categories\">Top Performing Categories</a>                      </li>                                          <li>                        <a  href=\"https://www.moneycontrol.com/mutual-funds/find-fund/\"  title=\"Mutual fund screener\">Mutual fund screener</a>                      </li>                                          <li>                        <a  href=\"https://www.moneycontrol.com/mutual-funds/portfolio-management\"  title=\"My Portfolio\">My Portfolio</a>                      </li>                                          <li>                        <a  href=\"https://www.moneycontrol.com/personal-finance/income-tax-filing/\"  title=\"Tax Filing\">Tax Filing</a>                      </li>                                      </ul>                </div>                          </li>                      <li >            <a class=\" \"  href=\"https://www.moneycontrol.com/commodity/\" title=\"Commodities\"  >Commodities </a>            </li>                      <li >            <a class=\" \"  href=\"https://www.moneycontrol.com/personal-finance/planinsurance/\" title=\"Insurance\"  >Insurance </a>            </li>                      <li >            <a class=\" \"  href=\"https://www.moneycontrol.com/video-shows/\" title=\"Video\"  >Video </a>                <div class=\"stickysub db \"  style=\"display:none;\" >                  <ul class=\"headbotmmenus1\">                                          <li>                        <a  href=\"https://www.moneycontrol.com/video-shows/#managing-money-with-moneycontrol\"  onclick=\"javascript:ga_track( '/video-shows/', 'managing-money-with-moneycontrol' );\"  title=\"Managing Money with Moneycontrol\">Managing Money with Moneycontrol</a>                      </li>                                          <li>                        <a  href=\"https://www.moneycontrol.com/video-shows/#the-udayan-show\"  onclick=\"javascript:ga_track( '/video-shows/', 'the-udayan-show' );\"  title=\"The Udayan Show\">The Udayan Show</a>                      </li>                                          <li>                        <a  href=\"https://www.moneycontrol.com/video-shows/#ideas-for-profit\"  onclick=\"javascript:ga_track( '/video-shows/', 'ideas-for-profit' );\"  title=\"Ideas for Profit\">Ideas for Profit</a>                      </li>                                          <li>                        <a  href=\"https://www.moneycontrol.com/video-shows/#markets-moneycontrol\"  onclick=\"javascript:ga_track( '/video-shows/', 'markets-moneycontrol' );\"  title=\"Markets@moneycontrol\">Markets@moneycontrol</a>                      </li>                                          <li>                        <a  href=\"https://www.moneycontrol.com/video-shows/#commodities-moneycontrol\"  onclick=\"javascript:ga_track( '/video-shows/', 'commodities-moneycontrol' );\"  title=\"Commodities@Moneycontrol\">Commodities@Moneycontrol</a>                      </li>                                      </ul>                </div>                          </li>                      <li >            <a class=\" \"  href=\"https://www.moneycontrol.com/podcast/\" title=\"Podcast\"  >Podcast </a>                <div class=\"stickysub db \"  style=\"display:none;\" >                  <ul class=\"headbotmmenus1\">                                          <li>                        <a  href=\"https://www.moneycontrol.com/podcast/#digging-deeper-with-moneycontrol\"  onclick=\"javascript:ga_track( '/podcast/', 'digging-deeper-with-moneycontrol' );\"  title=\"Digging Deeper with Moneycontrol\">Digging Deeper with Moneycontrol</a>                      </li>                                          <li>                        <a  href=\"https://www.moneycontrol.com/podcast/#stock-picks-of-the-day\"  onclick=\"javascript:ga_track( '/podcast/', 'stock-picks-of-the-day' );\"  title=\"Stock Picks of the Day\">Stock Picks of the Day</a>                      </li>                                          <li>                        <a  href=\"https://www.moneycontrol.com/podcast/#editors-story-of-the-day\"  onclick=\"javascript:ga_track( '/podcast/', 'editors-story-of-the-day' );\"  title=\"Editor's Story of the Day\">Editor's Story of the Day</a>                      </li>                                          <li>                        <a  href=\"https://www.moneycontrol.com/podcast/#a-morning-walk-down-dalal-street\"  onclick=\"javascript:ga_track( '/podcast/', 'a-morning-walk-down-dalal-street' );\"  title=\"A Morning Walk Down Dalal Street\">A Morning Walk Down Dalal Street</a>                      </li>                                          <li>                        <a  href=\"https://www.moneycontrol.com/podcast/#an-evening-walk-down-dalal-street\"  onclick=\"javascript:ga_track( '/podcast/', 'an-evening-walk-down-dalal-street' );\"  title=\"An Evening Walk Down Dalal Street\">An Evening Walk Down Dalal Street</a>                      </li>                                      </ul>                </div>                          </li>                      <li class=\"tooltiplink\">            <a class=\" tip\"  href=\"https://www.moneycontrol.com/personal-finance/\" title=\"\"  >Personal Finance </a><div class=\"tooltipbox logobox\"><div class=\"tooltip_popup\"><img src=\"https://img-d02.moneycontrol.co.in/images/promo/2019/12092019/100x30_1.jpg\" alt=\"bajajfinserv\" title=\"bajajfinserv\" /></div></div>                <div class=\"stickysub db \"  style=\"display:none;\" >                  <ul class=\"headbotmmenus1\">                                          <li>                        <a  href=\"https://www.moneycontrol.com/personal-finance/\"  title=\"Home\">Home</a>                      </li>                                          <li>                        <a  href=\"https://www.moneycontrol.com/personal-finance/investing/\"  title=\"Investing\">Investing</a>                      </li>                                          <li>                        <a  href=\"https://www.moneycontrol.com/personal-finance/insurance/\"  title=\"Insurance\">Insurance</a>                      </li>                                          <li>                        <a  href=\"https://www.moneycontrol.com/personal-finance/banking/\"  title=\"Banking\">Banking</a>                      </li>                                          <li>                        <a  href=\"https://www.moneycontrol.com/personal-finance/financialplanning/\"  title=\"Financial Planning\">Financial Planning</a>                      </li>                                          <li>                        <a  href=\"https://www.moneycontrol.com/personal-finance/planproperty/\"  title=\"Property\">Property</a>                      </li>                                          <li>                        <a  href=\"https://www.moneycontrol.com/personal-finance/tools/\"  title=\"Tools\">Tools</a>                      </li>                                          <li>                        <a  href=\"https://www.moneycontrol.com/personal-finance/videos/\"  title=\"Video\">Video</a>                      </li>                                          <li>                        <a  href=\"https://www.moneycontrol.com/forum-topics/ask-the-expert/\"  title=\"Ask Expert\">Ask Expert</a>                      </li>                                          <li>                        <a  href=\"https://www.moneycontrol.com/personal-finance/explainer/\"  title=\"Explainer\">Explainer</a>                      </li>                                          <li>                        <a  href=\"https://www.moneycontrol.com/personal-finance/nps-national-pension-scheme\"  title=\"NPS\">NPS<sup><img src=\"https://img-d02.moneycontrol.co.in/images/common/header/new_icon_animated.gif\" title=\"NPS\" alt=\"NPS\" /></sup></a>                      </li>                                      </ul>                </div>                          </li>                      <li >            <a class=\" \"  href=\"https://www.moneycontrol.com/india/bestportfoliomanager/investment-tool\" title=\"Portfolio\"  >Portfolio </a>            </li>                      <li >            <a class=\" \"  target=\"_blank\"  href=\"https://mmb.moneycontrol.com/\" title=\"Forum\"  >Forum </a>            </li>                      <li >            <a class=\" \"  target=\"_blank\"  href=\"https://www.moneycontrol.com/promos/pro.php\" title=\"Be a Pro\" onclick=\"javascript:GAEventTracker( 'Pro-Discount', 'Menu', document.title );\" >Be a Pro </a>                <div class=\"stickysub db \"  style=\"display:none;\" >                  <ul class=\"headbotmmenus1\">                                          <li>                        <a  href=\"https://www.moneycontrol.com/subscription?MC_Source=MC_Eng_DT_Subscription_L1&MC_Medium=MC_Eng_L2_Stock_Reports\"  title=\"Home\">Home</a>                      </li>                                          <li>                        <a  href=\"https://www.moneycontrol.com/stock-reports?MC_Source=MC_Eng_DT_Subscription_L1&MC_Medium=MC_Eng_L2_Stock_Reports\"  title=\"Stock Reports\">Stock Reports</a>                      </li>                                          <li>                        <a  href=\"https://www.moneycontrol.com/gamechangers/ambareeshbaliga?MC_Source=MC_Eng_DT_Subscription_L1&MC_Medium=MC_Eng_L2_Ambareesh_Balega\"  title=\"Ambareesh Balega\">Ambareesh Balega</a>                      </li>                                          <li>                        <a  href=\"https://www.moneycontrol.com/gamechangers/cknarayan?MC_Source=MC_Eng_DT_Subscription_L1&MC_Medium=MC_Eng_L2_CK_Narayan\"  title=\"CK Narayan\">CK Narayan</a>                      </li>                                          <li>                        <a  href=\"https://www.moneycontrol.com/gamechangers/?MC_Source=MC_Eng_DT_Subscription_L1&MC_Medium=MC_Eng_L2_Sudarshan_Sukhani\"  title=\"Sudarshan Sukhani\">Sudarshan Sukhani</a>                      </li>                                          <li>                        <a  href=\"https://www.moneycontrol.com/gamechangers/tgnanasekar?MC_Source=MC_Eng_DT_Subscription_L1&MC_Medium=MC_Eng_L2_T_Gnanasekar\"  title=\"T Gnanasekar\">T Gnanasekar</a>                      </li>                                          <li>                        <a  href=\"https://www.moneycontrol.com/gamechangers/mecklai?MC_Source=MC_Eng_DT_Subscription_L1&MC_Medium=MC_Eng_L2_Mecklai_Financial\"  title=\"Mecklai Financial\">Mecklai Financial</a>                      </li>                                          <li>                        <a  href=\"https://poweryourtrade.moneycontrol.com/?MC_Source=MC_Eng_DT_Subscription_L1&MC_Medium=MC_Eng_L2_Power_Your_Trade\"  title=\"Power Your Trade\">Power Your Trade</a>                      </li>                                          <li>                        <a  href=\"https://investmentwatch.moneycontrol.com/?MC_Source=MC_Eng_DT_Subscription_L1&MC_Medium=MC_Eng_L2_Investment_Watch\"  title=\"Investment Watch\">Investment Watch</a>                      </li>                                      </ul>                </div>                          </li>                      <li >            <a class=\" \"  href=\"https://www.moneycontrol.com/ms/earth-360/?mc_source=MC&mc_medium=Trending&mc_campaign=Earth360\" title=\"Earth360\"  >Earth360 <sup><img src=\"https://img-d02.moneycontrol.co.in/images/common/header/new_icon_animated.gif\" title=\"Earth360\" alt=\"Earth360\" /></sup></a>            </li>                      <li >            <a class=\" \"  href=\"https://www.moneycontrol.com/sme/easybiz\" title=\"Easybiz\"  >Easybiz <sup><img src=\"https://img-d02.moneycontrol.co.in/images/common/header/new_icon_animated.gif\" title=\"Easybiz\" alt=\"Easybiz\" /></sup></a>                <div class=\"stickysub db \"  style=\"display:none;\" >                  <ul class=\"headbotmmenus1\">                                      </ul>                </div>                          </li>                      <li class=\"live_tvdrop\">            <a class=\" \"  href=\"javascript:;\" title=\"Live TV\"  >Live TV </a><ul class=\"sub_menulvtv\"><li><a href=\"https://hindi.moneycontrol.com/tv/\" title=\"Hindi Live TV\" target=\"_blank\">Hindi</a></li><li class=\"last\"><a href=\"https://gujarati.moneycontrol.com/tv/\" title=\"Gujarati Live TV\" target=\"_blank\">Gujarati</a></li></ul>            </li>                  </ul>                <ul class=\"res-bottomlinks\">          <li><a href=\"javascript:;\" title=\"All Stocks\">All Stocks</a></li>          <li><a href=\"javascript:;\" title=\"App\">App</a></li>          <li><a href=\"javascript:;\" title=\"Subscriptions\">Subscriptions</a></li>          <li><a href=\"javascript:;\" title=\"Specials\">Specials</a></li>          <li><a href=\"javascript:;\" title=\"Feedback\">Feedback</a></li>        </ul>      </div>        <div class=\"socialblock\">        <ul class=\"sociallinks\">          <li><a href=\"javascript:;\" title=\"Facebook\" target=\"_blank\" rel=\"nofollow\" class=\"fb\"></a></li>          <li><a href=\"javascript:;\" title=\"Twitter\" target=\"_blank\" rel=\"nofollow\" class=\"twitter\"></a></li>        </ul>      </div>    </div>  </div></header><div align=\"center\" ><div id=\"budget_adDiv\" class=\"cls_budget_adDiv\"><style>.closeadpr{width:970px; margin:0 auto; text-align:right;}\r\n",
      "\t@media only screen and (max-width:980px) {\r\n",
      "\t.closeadpr{width:100%; margin:0 auto; text-align:right;}\r\n",
      "\t}</style></div></div><!-- Moneycontrol header END here --><!-- Jacket Banner (Start) --><div align=\"center\" id=\"budget_adDiv\"></div><!-- Jacket Banner (End) --><!-- MAMURAT Trading & sensex nifty updation (Start) --><script type=\"text/javascript\">if( $('#marketRadar').length ) {\r\n",
      "\t\tsensex_ajax_auto(1);\r\n",
      "\t\t\t}\r\n",
      "\r\n",
      "\tfunction verfiedprofilecookie(){\r\n",
      "\t\tvar cookieval = $.cookie('verify');\r\n",
      "\t\tif(cookieval!='' && cookieval !=undefined){\r\n",
      "\t\t\temail_verify = cookieval.split('$$##$$');\r\n",
      "\t\t\tif(email_verify[1]==\"1\" && email_verify[0]==\"1\"){\r\n",
      "\t\t\t\t$('#verifiedtext').html('');\r\n",
      "\t\t\t}else {\r\n",
      "\t\t\t\t$('#verifiedtext').html('(Unverified)');\r\n",
      "\t\t\t}\r\n",
      "\t\t}\r\n",
      "\t}\r\n",
      "\t\r\n",
      "\tverfiedprofilecookie();</script><!-- MAMURAT Trading & sensex nifty updation (End) --><!-- Close/Show for 970x250 Ad -> Start --><script type=\"text/javascript\">$(document).ready(function() {\r\n",
      "\tif( $( '.ad_google_shhide' ).length ) {\r\n",
      "\t\t$( '.sh_clad' ).click( function() {\r\n",
      "\t\t\tvar $this = $(this);\r\n",
      "\r\n",
      "\t\t\t$( '.addhide_show' ).slideToggle();\r\n",
      "\t\t\t$this.toggleClass( 'sh_clad' );\r\n",
      "\t\t\tif( $this.hasClass( 'sh_clad' ) ) {\r\n",
      "\t\t\t\t$this.attr( 'title', 'Close Ad' );\r\n",
      "\t\t\t\t$this.text( 'Close Ad' );\r\n",
      "\t\t\t} else {\r\n",
      "\t\t\t\t$this.attr( 'title', 'Show Ad' );\r\n",
      "\t\t\t\t$this.text( 'Show Ad' );\r\n",
      "\t\t\t}\r\n",
      "\t\t})\r\n",
      "\t}\r\n",
      "\r\n",
      "\t/* Live TV - Drop Down Menu -> Start */\r\n",
      "\tif( $( '.live_tvdrop' ).length ) {\r\n",
      "\t\t$( '.live_tvdrop' ).hover( function(){\r\n",
      "\t\t\t$(this).find( '.sub_menulvtv' ).fadeIn();\r\n",
      "\t\t},function() {\r\n",
      "\t\t\t$(this).find( '.sub_menulvtv' ).hide();\r\n",
      "\t\t})\r\n",
      "\t}\r\n",
      "\t/* End <- Live TV - Drop Down Menu */\r\n",
      "});</script><!-- End <- Close/Show for 970x250 Ad --><!-- commonstore|commonfiles|header_tag_manager  --><!-- Facebook Pixel Code -> Start --><script>!function(f,b,e,v,n,t,s){if(f.fbq)return;n=f.fbq=function(){n.callMethod?\r\n",
      "\tn.callMethod.apply(n,arguments):n.queue.push(arguments)};if(!f._fbq)f._fbq=n;\r\n",
      "\tn.push=n;n.loaded=!0;n.version='2.0';n.queue=[];t=b.createElement(e);t.async=!0;\r\n",
      "\tt.src=v;s=b.getElementsByTagName(e)[0];s.parentNode.insertBefore(t,s)}(window,\r\n",
      "\tdocument,'script','https://connect.facebook.net/en_US/fbevents.js');\r\n",
      "\tfbq('init', '482038382136514');\r\n",
      "\tfbq('track', 'PageView');</script><!-- End -> Facebook Pixel Code --><!---- tooltip for personal finance ------> <script> $(document).ready(function(e) {\r\n",
      "\t$('.tooltiplink a.tip').mouseover( function(){\r\n",
      "\t$(this).next('.tooltipbox').show();\r\n",
      "\t});\r\n",
      "\t\r\n",
      "\t\t$('.tooltipbox').mouseover(function(){\r\n",
      "\t\t\t$(this).show();\r\n",
      "\t\t})\r\n",
      "\t\t$('.tooltipbox').mouseout(function(){\r\n",
      "\t\t\t$(this).hide();\r\n",
      "\t\t})\r\n",
      "\t\t$('.tooltiplink').mouseout(function(){\r\n",
      "\t\t\t$('.tooltipbox').hide();\r\n",
      "\t\t})\r\n",
      "\t});\r\n",
      " </script><!-- START: CHATBOT --><script src=\"https://chat.amplify.ai/plugin/chat_plugin.js?pluginId=5b276c1468136c0dc755610b\" async=\"async\"></script><!-- END: CHATBOT --><!-- Moneycontrol Common header END here --><div id='Moneycontrol/MC_ROS/MC_ROS_1x1'><script>googletag.cmd.push(function() { googletag.display('Moneycontrol/MC_ROS/MC_ROS_1x1'); });</script></div>            <link href=\"//stat1.moneycontrol.com/mcnews/css/header.css\" type=\"text/css\"/>    <!-- style & mc_news css were here -->    \r\n",
      "        <script type=\"text/javascript\">var width = window.innerWidth || document.documentElement.clientWidth;\r\n",
      "\tif (width <= 768 ) {\r\n",
      "\t\tdocument.write('<div class=\"ads-320-50 show-moblie\" id=\"header_ad\"></div>');\r\n",
      "\t}\r\n",
      "    </script>    <div class=\"ads-320-50 show-moblie\"><div id=Moneycontrol_Mobile_WAP/MC_WAP_News/MC_WAP_News_Internal_Masthead_300x250><script type=\"text/javascript\" defer=\"defer\">var width = window.innerWidth || document.documentElement.clientWidth;\r\n",
      "\t\tadKey = \"Moneycontrol_Mobile_WAP/MC_WAP_News/MC_WAP_News_Internal_Masthead_300x250\";\r\n",
      "\t\tif (width >= 768 && adKey.indexOf(\"Moneycontrol\") != -1 && adKey.indexOf(\"Moneycontrol_Mobile_WAP\") < 0) {\r\n",
      "\t\t\tgoogletag.cmd.push(function() { googletag.display(\"Moneycontrol_Mobile_WAP/MC_WAP_News/MC_WAP_News_Internal_Masthead_300x250\") });\r\n",
      "\t\t}\r\n",
      "\r\n",
      "\t\tif (width <= 768 && adKey.indexOf(\"Moneycontrol_Mobile_WAP\") != -1) {\r\n",
      "\t\t\tgoogletag.cmd.push(function() { googletag.display(\"Moneycontrol_Mobile_WAP/MC_WAP_News/MC_WAP_News_Internal_Masthead_300x250\") });\r\n",
      "\t\t}</script></div>    </div>   <div class=\"ad ad-1250x60 no-padding hide-mobile\">   <div id=Moneycontrol/MC_News/MC_News_Internal_1250x60><script type=\"text/javascript\" defer=\"defer\">var width = window.innerWidth || document.documentElement.clientWidth;\r\n",
      "\t\tadKey = \"Moneycontrol/MC_News/MC_News_Internal_1250x60\";\r\n",
      "\t\tif (width >= 768 && adKey.indexOf(\"Moneycontrol\") != -1 && adKey.indexOf(\"Moneycontrol_Mobile_WAP\") < 0) {\r\n",
      "\t\t\tgoogletag.cmd.push(function() { googletag.display(\"Moneycontrol/MC_News/MC_News_Internal_1250x60\") });\r\n",
      "\t\t}\r\n",
      "\r\n",
      "\t\tif (width <= 768 && adKey.indexOf(\"Moneycontrol_Mobile_WAP\") != -1) {\r\n",
      "\t\t\tgoogletag.cmd.push(function() { googletag.display(\"Moneycontrol/MC_News/MC_News_Internal_1250x60\") });\r\n",
      "\t\t}</script></div>   </div><div class=\"budget_ads\"><div class=\"add7280-90 hide-mobile\"><div id=><script type=\"text/javascript\" defer=\"defer\">var width = window.innerWidth || document.documentElement.clientWidth;\r\n",
      "\t\tadKey = \"\";\r\n",
      "\t\tif (width >= 768 && adKey.indexOf(\"Moneycontrol\") != -1 && adKey.indexOf(\"Moneycontrol_Mobile_WAP\") < 0) {\r\n",
      "\t\t\tgoogletag.cmd.push(function() { googletag.display(\"\") });\r\n",
      "\t\t}\r\n",
      "\r\n",
      "\t\tif (width <= 768 && adKey.indexOf(\"Moneycontrol_Mobile_WAP\") != -1) {\r\n",
      "\t\t\tgoogletag.cmd.push(function() { googletag.display(\"\") });\r\n",
      "\t\t}</script></div></div></div><div class=\"breadcrum-bg\">    <div class=\"home-mid-contener\">    <div class=\"brad_crum\">    <div class=\"FL\"><span class=\"bread-title\">you are here: </span><a href=\"https://www.moneycontrol.com/\">Home</a><span class=\"mc_sprite_img bread-arrow\"></span><a href=https://www.moneycontrol.com/news/>News</a><span class=\"mc_sprite_img bread-arrow\"></span><a href=https://www.moneycontrol.com/news/business/>Business</a><span class=\"mc_sprite_img bread-arrow\"></span><a href=https://www.moneycontrol.com/news/business/earnings/>Earnings</a></div>          <div class=\"FR arti_icn TAR\">                      <a href=\"javascript:void(0)\" id=\"bookmark\" rel=\"sidebar\" class=\"note 12506721\"></a>                      <a href=\"http://www.moneycontrol.com/india/newsarticle/news_email.php?autono=12506721\" class=\"mail\"></a>                      <a onclick=\"javascript:window.open('https://www.moneycontrol.com/news/printpage/3972161/','','height=500,width=500,left=10,top=10,scrollbars=1')\"   class=\"print\"></a>                        <a href=\"javascript:void(0)\" id=\"bigtext\" class=\"aplus\"></a>           <a href=\"javascript:void(0)\" id=\"smalltext\" style=\"display:none;\" class=\"aminus\"></a>      </div>        </div>    </div></div><!------- sticky header starts ---------><!------- slider video ad ---------><div id=Moneycontrol/MC_ROS/MC_ROS_Slider_2x2><script type=\"text/javascript\" defer=\"defer\">var width = window.innerWidth || document.documentElement.clientWidth;\r\n",
      "\t\tadKey = \"Moneycontrol/MC_ROS/MC_ROS_Slider_2x2\";\r\n",
      "\t\tif (width >= 768 && adKey.indexOf(\"Moneycontrol\") != -1 && adKey.indexOf(\"Moneycontrol_Mobile_WAP\") < 0) {\r\n",
      "\t\t\tgoogletag.cmd.push(function() { googletag.display(\"Moneycontrol/MC_ROS/MC_ROS_Slider_2x2\") });\r\n",
      "\t\t}\r\n",
      "\r\n",
      "\t\tif (width <= 768 && adKey.indexOf(\"Moneycontrol_Mobile_WAP\") != -1) {\r\n",
      "\t\t\tgoogletag.cmd.push(function() { googletag.display(\"Moneycontrol/MC_ROS/MC_ROS_Slider_2x2\") });\r\n",
      "\t\t}</script></div><!------- slider video ad ends ---------><div id=Moneycontrol_Mobile_WAP/MC_WAP_ROS/MC_WAP_ROS_Audio_1x1><script type=\"text/javascript\" defer=\"defer\">var width = window.innerWidth || document.documentElement.clientWidth;\r\n",
      "\t\tadKey = \"Moneycontrol_Mobile_WAP/MC_WAP_ROS/MC_WAP_ROS_Audio_1x1\";\r\n",
      "\t\tif (width >= 768 && adKey.indexOf(\"Moneycontrol\") != -1 && adKey.indexOf(\"Moneycontrol_Mobile_WAP\") < 0) {\r\n",
      "\t\t\tgoogletag.cmd.push(function() { googletag.display(\"Moneycontrol_Mobile_WAP/MC_WAP_ROS/MC_WAP_ROS_Audio_1x1\") });\r\n",
      "\t\t}\r\n",
      "\r\n",
      "\t\tif (width <= 768 && adKey.indexOf(\"Moneycontrol_Mobile_WAP\") != -1) {\r\n",
      "\t\t\tgoogletag.cmd.push(function() { googletag.display(\"Moneycontrol_Mobile_WAP/MC_WAP_ROS/MC_WAP_ROS_Audio_1x1\") });\r\n",
      "\t\t}</script></div><div id=\"Programmatic/Moneycontrol_Inarticle_1x1\"></div><div id=\"Programmatic/Moneycontrol_Inarticle_1x1_Mobile\"></div><script type=\"text/javascript\" defer=\"defer\">var width = window.innerWidth || document.documentElement.clientWidth;\r\n",
      "adKey = \"Moneycontrol/MC_ROS/MC_ROS_1x1\";\r\n",
      "if (width >= 768 && adKey.indexOf(\"Moneycontrol\") != -1 ) {\r\n",
      "        googletag.cmd.push(function() { googletag.display(\"Programmatic/Moneycontrol_Inarticle_1x1\") });\r\n",
      "}\r\n",
      "\r\n",
      "if (width <= 768) {\r\n",
      "        googletag.cmd.push(function() { googletag.display(\"Programmatic/Moneycontrol_Inarticle_1x1_Mobile\") });\r\n",
      "}</script><div class=\"home-mid-contener\" id=\"el19_mchome\"></div><script src=\"https://player.nw18.com/hola/hola_player.js\"></script><script src=\"https://player.nw18.com/hola/hola_config.js\"></script><script type=\"text/javascript\">var playInfiniteScroll = \"true\"; </script><link type=\"text/css\" rel=\"stylesheet\" href=\"//stat1.moneycontrol.com/mcnews/css/infinite-scroll-article.css\" /><script>getontheIo();\n",
      "\tfunction getontheIo(){\n",
      "\t\twindow._io_config = window._io_config || {};\n",
      "\t\twindow._io_config[\"0.2.0\"] = window._io_config[\"0.2.0\"] || [];\n",
      "\t\twindow._io_config[\"0.2.0\"].push({\n",
      "\t\t\tpage_url: window.location.href,\n",
      "\t\t\tpage_url_canonical: \"https://www.moneycontrol.com/news/business/earnings/polycab-india-q4-net-profit-down-27-3-to-spend-rs-175-200cr-annually-on-capex-3972161.html\" ,\n",
      "\t\t\tpage_title: \"Polycab India Q4 net profit down 27.3%; to spend Rs 175-200cr annually on capex\",\n",
      "\t\t\tpage_type: \"article\",\n",
      "\t\t\tpage_language: \"en\",\n",
      "\t\t\tarticle_authors: [\"M Saraswathy\"],\n",
      "\t\t\tarticle_categories: [\"business\"],\n",
      "\t\t\tarticle_subcategories: [\"earnings\"],\n",
      "\t\t\tarticle_type: \"news\",\n",
      "\t\t\tarticle_word_count: \"349\",\n",
      "\t\t\tarticle_publication_date: \"Wed, 15 May 2019 14:17:43 +0530\"\n",
      "\t\t});\n",
      "\t}</script><body class=\"infinite-scroll-wrap\"><div id=\"fp_mainWrapper\">  <div class=\"main\">                <div class=\"article_page infinite-scroll\" id=\"page1\" data-url=\"https://www.moneycontrol.com/news/business/earnings/polycab-india-q4-net-profit-down-27-3-to-spend-rs-175-200cr-annually-on-capex-3972161.html\" data-title=\"Polycab India Q4 net profit down 27.3%; to spend Rs 175-200cr annually on capex\" data-id=\"3972161\" data-topic=\"510962\" data-autono=\"12506721\" data-scid=\"\" data-cat=\"Business\" data-description=\"Board has recommended a final dividend of Rs 3 per equity share\"> \n",
      "                \n",
      "\t\t  <section class=\"mid-contener contener clearfix\"><div class=\"article_box\">  <div class=\"arttidate \">Last Updated : May 15, 2019 02:17 PM IST    | Source: <span>Moneycontrol.com</span></div>  <h1 class=\"artTitle\">Polycab India Q4 net profit down 27.3%; to spend Rs 175-200cr annually on capex</h1></div></section><section class=\"mid-contener contener clearfix\"> <!--left --><div class=\"clearfix\"><div id=\"left\" class=\"fleft\">  <article class=\"article_box\" data-io-article-url=\"http://www.moneycontrol.com/news/business/earnings/polycab-india-q4-net-profit-down-27-3-to-spend-rs-175-200cr-annually-on-capex-3972161.html\">    <div class=\"brk_wraper clearfix\">    <h2 class=\"subhead\">Board has recommended a final dividend of Rs 3 per equity share</h2>    \r\n",
      "    <div class=\"clearfix bloger-section\">      <div class=\"fleft\">                                                                        \r\n",
      "                                                            <div class=\"dis-in-blk bloger-name\">                                                                                                                                                                                                <a href=\"https://www.moneycontrol.com/author/moneycontrol-news-7285/\" title=\"Moneycontrol News\">Moneycontrol News</a>                                                                                                                                                                                          <span class=\"mailid\"><a href=\"https://twitter.com/moneycontrolcom\" target=\"_blank\">@moneycontrolcom</a></span>                                                            </div>                                                           \r\n",
      "                                              </div>      <div class=\"fright\">        \r\n",
      "        <div class=\"share_arti_srevamp-scroll\">          <div class=\"share_arti_revamp-scroll sshare-icon\" >                    <a href=\"https://api.whatsapp.com/send?text=Polycab India Q4 net profit down 27.3%; to spend Rs 175-200cr annually on capex - https://www.moneycontrol.com/news/business/earnings/polycab-india-q4-net-profit-down-27-3-to-spend-rs-175-200cr-annually-on-capex-3972161.html\" target=\"_blank\" data-action=\"share/whatsapp/share\" class=\"wa\"><span class=\"st_plus_custom\" st_processed=\"yes\"></span></a>                    <a href=\"https://www.facebook.com/sharer/sharer.php?u=https://www.moneycontrol.com/news/business/earnings/polycab-india-q4-net-profit-down-27-3-to-spend-rs-175-200cr-annually-on-capex-3972161.html\" target=\"_blank\" class=\"fb\"><span class=\"st_facebook_custom\" st_processed=\"yes\"></span></a>                    <a href=\"https://twitter.com/home?status=%0Ahttps://www.moneycontrol.com/news/business/earnings/polycab-india-q4-net-profit-down-27-3-to-spend-rs-175-200cr-annually-on-capex-3972161.html\" target=\"_blank\" class=\"tw\"><span class=\"st_twitter_custom\" st_url=\"http://t.in.com/e6Fg\" st_via=\"moneycontrolcom\" st_processed=\"yes\"></span></a>                   <!-- <a href=\"https://plus.google.com/share?url=https://www.moneycontrol.com/news/business/earnings/polycab-india-q4-net-profit-down-27-3-to-spend-rs-175-200cr-annually-on-capex-3972161.html\" target=\"_blank\" class=\"gplus\"><span class=\"st_googleplus_custom\" st_processed=\"yes\"></span></a>-->                    <a href=\"http://www.linkedin.com/shareArticle?mini=true&url=https://www.moneycontrol.com/news/business/earnings/polycab-india-q4-net-profit-down-27-3-to-spend-rs-175-200cr-annually-on-capex-3972161.html\" target=\"_blank\" class=\"in\"><span class=\"st_linkedin_custom\" st_processed=\"yes\"></span></a> \r\n",
      "                    <!--<a href=\"whatsapp://send?text=%0A%0D%0Ahttps://www.moneycontrol.com/news/business/earnings/polycab-india-q4-net-profit-down-27-3-to-spend-rs-175-200cr-annually-on-capex-3972161.html%0A%0D%0ADownload the moneycontrol App: http://m.moneycontrol.com/mom\" data-action=\"share/whatsapp/share\" class=\"plus\"><span class=\"st_plus_custom\" st_processed=\"yes\"></span></a> -->       \r\n",
      "          </div>        </div>        <!--<div class=\"comment-sec\"><img alt=\"\" class=\"coment-img\" src=\"data:image/png;base64,iVBORw0KGgoAAAANSUhEUgAAABEAAAASBAMAAABP1yhnAAAAHlBMVEUAAAAAZaEAZaEAZaEAZaEAZaEAZaEAZaEAZaH///+06ueLAAAACHRSTlMAv0Cf749gIAcykfkAAAA9SURBVAjXY2BSggAGhogOCAhgkICyBAiyOmfM7JyBxgIDElgpEEZLAgMDA2NHMwMQgFkGMBZMiIFdAUwBACr7Nz8+2eeRAAAAAElFTkSuQmCC\" />20 Comments</div>-->      </div>    </div>    <div style=\"padding-bottom: 10px\"></div></div>                                                        <div class=\"img_tagbox clearfix fright\">                                             <div class=\"slideshow-article-img\">                              \t\t\t\t\t     <figure>     <img  class=\"MC_img\" src=\"http://static.english.pradesh18.com/pix/images/grey_bg.gif\" data-src=\"https://static-news.moneycontrol.com/static-mcnews/2019/04/Polycab1-770x433.jpg\" alt=\"\" title=\"\" ></figure>     \t\t\t                                    </div>               \t       <!--<div class=\"whatsapp-share show-moblie\" style=\"text-align: center;\">      <a href=\"https://www.moneycontrol.com/news/widget/whatsapp.html\" target=\"_new\">  \r\n",
      "\t\t\t\t     <img src=\"https://img-d04.moneycontrol.co.in/mcnews/images/whatapps-icon.png?v=3\" title=\"Whatsapp\" alt=\"Whatsapp\" style=\"width: 65%;\">      </a> \r\n",
      "\t       </div>-->   \r\n",
      "               <!-- stock widget -->                                             <style>.mc-modal-wrap{\r\n",
      "\t\tdisplay: none;\r\n",
      "\t\tposition: fixed;\r\n",
      "\t\ttop: 0;\r\n",
      "\t\tleft: 0;\r\n",
      "\t\tright: 0;\r\n",
      "\t\tbottom: 0;\r\n",
      "\t\twidth: 100%;\r\n",
      "\t\theight: 100%;\r\n",
      "\t\talign-items: center;\r\n",
      "  \t\tjustify-content: center;\r\n",
      "\t\tbackground: rgba(0,0,0,0.2);\r\n",
      "\t\tz-index: 999;\r\n",
      "\t}\r\n",
      "\t.mc-modal{\r\n",
      "\t\tbackground: #FFF;\r\n",
      "\t\tborder-radius: 3px;\r\n",
      "\t\toverflow: hidden;\r\n",
      "\t\twidth: 300px;\r\n",
      "\t\tbox-shadow: 0px 5px 10px -2px rgba(0,0,0,0.4);\r\n",
      "\t}\r\n",
      "\t/*.mc-modal-header{\r\n",
      "\t\tdisplay: table;\r\n",
      "\t\twidth: 100%;\r\n",
      "\t}*/\r\n",
      "\t.mc-modal-close{\r\n",
      "\t\tdisplay: block;\r\n",
      "\t\tfloat: right;\r\n",
      "\t\tbackground: transparent;\r\n",
      "\t\tfont-size: 20px;\r\n",
      "\t\tcolor: #999;\r\n",
      "\t\tborder: none;\r\n",
      "\t\tcursor: pointer;\r\n",
      "\t\twidth: 30px;\r\n",
      "\t\theight: 30px;\r\n",
      "\t\ttransition: 0.3s ease all;\r\n",
      "\t}\r\n",
      "\t.mc-modal-close:hover{\r\n",
      "\t\tcolor: #000;\r\n",
      "\t}\r\n",
      "\t.mc-modal-close:focus{\r\n",
      "\t\toutline: none;\r\n",
      "\t\tbox-shadow: none;\r\n",
      "\t}\r\n",
      "\t.mc-modal-content{\r\n",
      "\t\ttext-align: center;\r\n",
      "\t\tfont-family: 'Roboto','Open Sans','Segoe UI',sans-serif;\r\n",
      "\t\ttext-align: center;\r\n",
      "\t\tpadding: 10px;\r\n",
      "\t\tfont-size: 14px;\r\n",
      "\t\tline-height: 1.5;\r\n",
      "\t}\r\n",
      "\t.mc-modal.success .mc-modal-content{\r\n",
      "\t\tbackground: #00b849;\r\n",
      "\t\tcolor: #FFF;\r\n",
      "\t}\r\n",
      "\t.mc-modal.success .mc-modal-close{\r\n",
      "\t\tcolor: #FFF;\r\n",
      "\t}\r\n",
      "\r\n",
      "\t.mc-modal.error .mc-modal-content{\r\n",
      "\t\tbackground: #C00;\r\n",
      "\t\tcolor: #FFF;\r\n",
      "\t}\r\n",
      "\t.mc-modal.error .mc-modal-close{\r\n",
      "\t\tcolor: #FFF;\r\n",
      "\t}</style><div class=\"stockwidget\" articleId=\"3972161\">        <ul class=\"stockwidgettabs\" id=\"stockwidgettabs_3972161\">        </ul>        <div class=\"stockwidget_container\">        <div class=\"stockwgblock\" id=\"stockwg1_3972161\" style=\"display: block;\"><div id=\"toptitleTXT\"></div>         <ul class=\"tabslinks clearfix\">         <li id=\"watchlist-3972161\"><a href=\"javascript:void(0);\" onclick=\"ga('send', 'event', 'Stocks Widget', 'News Consumption','3972161_watchlist');\"><span class=\"stockwidget_sprite ic_plus\"></span>Watchlist</a></li>       <li id=\"portfolio-3972161\"><a href=\"javascript:void(0);\" onclick=\"ga('send', 'event', 'Stocks Widget', 'News Consumption','3972161_portfolio');\"><span class=\"stockwidget_sprite ic_plus\"></span>Portfolio</a></li>       <li><a href=\"javascript:void(0);\" id=\"message-3972161\"  onclick=\"ga('send', 'event', 'Stocks Widget', 'News Consumption','3972161_message');\" target=\"_blank\"><span class=\"stockwidget_sprite ic_msg\"></span>Message</a></li>       <li><a href=\"javascript:void(0);\" id=\"set-alert-3972161\" onclick=\"ga('send', 'event', 'Stocks Widget', 'News Consumption','3972161_set_alert');\" target=\"_blank\"><span class=\"stockwidget_sprite ic_alert\"></span>Set Alert</a></li>         </ul> <div class=\"clear\">&nbsp;</div>         <div class=\"horizontaldivider\"></div>         <div class=\"clear\">&nbsp;</div>         <div class=\"leftcol clearfix\">         <div class=\"bseliveblock\"><div class=\"bseliveselectbox\"><span class=\"stk-Typ\" id=\"stk-Typ-3972161\"></span><span>live</span><span class=\"downarw\"></span></div><ul class=\"bselivelist\"><li class='stk-b' id='stk-b-3972161'>bse<span>live</span></li><li class='stk-n' id='stk-n-3972161'>nse<span>live</span></li></ul><div class=\"livetxt lastUpdated\" id=\"lastUpdated_3972161\"></div>         </div>         <div class=\"gainlosstxt\" id=\"gainlosstxt_3972161\"></div>         <div class=\"clear\"></div>         <div class=\"volumetxt\" id=\"volumetxt_3972161\">Volume <span class=\"stkvol\" id=\"stkvol_3972161\"></span></div>         <div class=\"volumetxt sec\" id=\"vlmtxt_3972161\">Todays L/H <span class=\"td-low\" id=\"td-low_3972161\"></span><span class=\"progressbar\"></span><span class=\"td-high\" id=\"td-high_3972161\"></span></div>         </div>         <div class=\"rightcol clearfix\" id=\"rightcol_3972161\">         <img class=\"stk-graph\" id=\"stk-graph_3972161\" src=\"\" width=\"157\" height=\"54\" alt=\"\"/>         </div>         <div class=\"clear\"></div>             <a href=\"javascript:void(0)\" class=\"text12\" id=\"more-txt-3972161\">More <span class=\"morearw\"></span></a>        </div>        </div><div id=\"back\" class=\"back2\" style=\"height: 100%\"></div><div class=\"mc-modal-wrap\"><div class=\"mc-modal\"><div class=\"mc-modal-header\"><button class=\"mc-modal-close\">&times;</button></div><div class=\"mc-modal-content\"></div></div></div>        </div><script>var stk = jQuery.parseJSON('[{\"stockId\":\"PI41\",\"stockName\":\"PI41\"}]');\r\n",
      "\tvar article_id = jQuery.parseJSON('3972161');\r\n",
      "\t$('.stockwidget').hide();\r\n",
      "\tcreateTabsForStkWidget('3972161');\r\n",
      "\tfunction createTabsForStkWidget(articleId){\r\n",
      "\t\tstk.forEach(function (stkData){\r\n",
      "\t\t\t$(\"#stockwidgettabs_\"+articleId).append('<li><a class=\"stock-name\" id=\"stock-name-'+stkData.stockId.trim()+'-'+articleId+'\" href=\"javascript:void(0)\" stkid=\"'+stkData.stockId+'\" stkType=\"N\"><span></span></a></li>');\r\n",
      "\t\t\tif(!($(\"#stockwidgettabs_\"+articleId).find('a').hasClass('active'))){\r\n",
      "\t\t\t\t$('ul#stockwidgettabs_'+articleId+' li:first').find('a').addClass('active');\r\n",
      "\t\t\t}\r\n",
      "\t\t});\r\n",
      "\t\tstockWidget('N',stk[0]['stockId'],articleId);\r\n",
      "\t\tbindClicksForDropdown(articleId);\r\n",
      "\t\tbindMenuClicks(articleId);\r\n",
      "\t}\r\n",
      "\t\r\n",
      "\tfunction stockWidget(stockType, stockId, articleId){\r\n",
      "\t\tvar stkKey = '';\r\n",
      "\t\tif(typeof stockType == 'undefined' || stockType == 'N'){\r\n",
      "\t\t\tstockType = 'N';\r\n",
      "\t\t\tstkKey = 'NSE';\r\n",
      "\t\t}else{\r\n",
      "\t\t\tstkKey = 'BSE';\r\n",
      "\t\t}\r\n",
      "\t\t\r\n",
      "\t\t$('#stk-Typ-'+articleId).text(stkKey);\r\n",
      "\t\t$('#stk-b-'+articleId).attr('stkId',stockId);\r\n",
      "\t\t$('#stk-n-'+articleId).attr('stkId',stockId);\r\n",
      "\t\t\r\n",
      "\t\tif(typeof stockId == 'undefined'){\r\n",
      "\t\t\treturn;\r\n",
      "\t\t}\r\n",
      "\t\t$.ajax({\r\n",
      "\t\t\turl: '//www.moneycontrol.com/news18/stocks/overview/'+stockId+'/'+stockType+'?classic=true',\r\n",
      "\t\t\ttype: \"GET\",\r\n",
      "\t\t\tdata: '',\r\n",
      "\t\t\tsuccess: function(result){\r\n",
      "\t\t\t\tvar resData = JSON.parse(result);\r\n",
      "\t\t\t\t\r\n",
      "\t\t\t\tif(resData[stkKey].trade_msg==\"Stock is not listed on NSE\")\r\n",
      "\t\t\t\t{\r\n",
      "\t\t\t\t\t$('.stockwidget').hide();\r\n",
      "\t\t\t\t}\r\n",
      "\t\t\t\telse\r\n",
      "\t\t\t\t{\r\n",
      "\t\t\t\t\t$('.stockwidget').show();\r\n",
      "\t\t\t\t\tvar displArr = resData[stkKey].share_url.split('/');\r\n",
      "\t\t\t\t\tvar dispID=displArr[displArr.length - 1];\r\n",
      "\t\t\t\t\t\r\n",
      "\t\t\t\t\t$('#watchlist-'+articleId).attr('stkId',dispID);\r\n",
      "\t\t\t\t\t$('#portfolio-'+articleId).attr('dispId',dispID);\r\n",
      "\t\t\t\t\t$('#stock-name-'+stockId+'-'+articleId).html(resData[stkKey]['shortname']);\r\n",
      "\t\t\t\t\t$('#more-txt-'+articleId).attr('href',resData[stkKey]['share_url'].replace('m.moneycontrol','www.moneycontrol'));\r\n",
      "\t\t\t\t\tvar shortname = resData[stkKey]['shortname'].replace(' ','-').toLowerCase();\r\n",
      "\t\t\t\t\t$('#message-'+articleId).attr('href','//mmb.moneycontrol.com/forum-topics/market-view/'+shortname+'-'+resData[stkKey]['topicid']+'.html');\r\n",
      "\t\t\t\t\t$('#set-alert-'+articleId).attr('href','//investmentwatch.moneycontrol.com/tracker.php?package_id=1&sc_did='+stockId+'&utm_source=IW_stocklink');\r\n",
      "\t\t\t\t\tif(resData[stkKey]['trade_msg'] != \"\"){\r\n",
      "\t\t\t\t\t\t$('#gainlosstxt_'+articleId).html(\"This stock is not listed on \"+stkKey);\r\n",
      "\t\t\t\t\t\t$('#rightcol_'+articleId).hide();\r\n",
      "\t\t\t\t\t\t$('#volumetxt_'+articleId).hide();\r\n",
      "\t\t\t\t\t\t$('#vlmtxt_'+articleId).hide();\r\n",
      "\t\t\t\t\t\treturn;\r\n",
      "\t\t\t\t\t}else{\r\n",
      "\t\t\t\t\t\t$('#gainlosstxt_'+articleId).html('<span class=\"lastvalue\" id=\"lastvalue_'+articleId+'\">'+resData[stkKey]['lastvalue']+'</span> <span class=\"arw_green\"></span> <div class=\"greentxt\" id=\"greentxt_'+articleId+'\"><span class=\"chng\" id=\"chng_'+articleId+'\">'+resData[stkKey]['CHG']+'</span> <span class=\"percntChng\" id=\"percntChng_'+articleId+'\">('+resData[stkKey]['percentchange']+'%)</span></div>');\r\n",
      "\t\t\t\t\t\t$('#lastUpdated_'+articleId).text(resData[stkKey]['lastupdate']);\r\n",
      "\t\t\t\t\t\t\r\n",
      "\t\t\t\t\t\t//if(resData[stkKey]['percentchange'] > 0){\r\n",
      "\t\t\t\t\t\t//\t$('#greentxt_'+articleId).removeClass(\"redtxt\").addClass(\"greentxt\");\r\n",
      "\t\t\t\t\t\t//\t$('.arw_red').removeClass(\"arw_red\").addClass(\"arw_green\");\r\n",
      "\t\t\t\t\t\t//}else if(resData[stkKey]['percentchange'] < 0){\r\n",
      "\t\t\t\t\t\t//\t$('#greentxt_'+articleId).removeClass(\"greentxt\").addClass(\"redtxt\");\r\n",
      "\t\t\t\t\t\t//\t$('.arw_green').removeClass(\"arw_green\").addClass(\"arw_red\");\r\n",
      "\t\t\t\t\t\t//}\r\n",
      "\t\t\t\t\t\t\tif(resData[stkKey]['percentchange'] >= 0){\r\n",
      "\t\t\t\t\t\t\t\t$('#greentxt_'+articleId).removeClass(\"redtxt\").addClass(\"greentxt\");\r\n",
      "\t\t\t\t\t\t\t\t//$('.arw_red').removeClass(\"arw_red\").addClass(\"arw_green\");\r\n",
      "\t\t\t\t\t\t\t\t$('#gainlosstxt_'+articleId).find(\".arw_red\").removeClass(\"arw_red\").addClass(\"arw_green\");\r\n",
      "\t\t\t\t\t\t\t}else if(resData[stkKey]['percentchange'] < 0){\r\n",
      "\t\t\t\t\t\t\t\t$('#greentxt_'+articleId).removeClass(\"greentxt\").addClass(\"redtxt\");\r\n",
      "\t\t\t\t\t\t\t\t//$('.arw_green').removeClass(\"arw_green\").addClass(\"arw_red\");\r\n",
      "\t\t\t\t\t\t\t\t$('#gainlosstxt_'+articleId).find('.arw_green').removeClass(\"arw_green\").addClass(\"arw_red\");\r\n",
      "\t\t\t\t\t\t\t}\r\n",
      "\t\t\t\t\t\r\n",
      "\t\t\t\t\t\t$('#volumetxt_'+articleId).show();\r\n",
      "\t\t\t\t\t\t$('#vlmtxt_'+articleId).show();\r\n",
      "\t\t\t\t\t\t$('#stkvol_'+articleId).text(resData[stkKey]['volume']);\r\n",
      "\t\t\t\t\t\t$('#td-low_'+articleId).text(resData[stkKey]['daylow']);\r\n",
      "\t\t\t\t\t\t$('#td-high_'+articleId).text(resData[stkKey]['dayhigh']);\r\n",
      "\t\t\t\t\t\t$('#rightcol_'+articleId).show();\r\n",
      "\t\t\t\t\t\t\r\n",
      "\t\t\t\t\t\t$('#stk-graph_'+articleId).attr('src','//appfeeds.moneycontrol.com/jsonapi/stocks/graph&format=json&watch_app=true&range=1d&type=area&ex='+stockType+'&sc_id='+stockId+'&width=157&height=100&source=web');\r\n",
      "\t\t\t\t\t}\r\n",
      "\t\t\t\t}\r\n",
      "\t\t\t}\r\n",
      "\t\t});\r\n",
      "\t}\r\n",
      "\r\n",
      "\t$('.bseliveselectbox').click(function(){\r\n",
      "\t\t$('.bselivelist').show();\r\n",
      "\t});\r\n",
      "\t\r\n",
      "\tfunction bindClicksForDropdown(articleId){\r\n",
      "\t\t$('ul#stockwidgettabs_'+articleId+' li').click(function(){\r\n",
      "\t\t\tstkId = jQuery.trim($(this).find('a').attr('stkid'));\r\n",
      "\t\t\t\r\n",
      "\t\t\t$('ul#stockwidgettabs_'+articleId+' li').find('a').removeClass('active');\r\n",
      "\t\t\t$(this).find('a').addClass('active');\r\n",
      "\t\t\tstockWidget('N',stkId,articleId);\t\r\n",
      "\t\t});\r\n",
      "\t\t$('#stk-b-'+articleId).click(function(){\r\n",
      "\t\t\tstkId = jQuery.trim($(this).attr('stkId'));\r\n",
      "\t\t\tstockWidget('B',stkId,articleId);\r\n",
      "\t\t\t$('.bselivelist').hide();\r\n",
      "\t\t});\r\n",
      "\t\t$('#stk-n-'+articleId).click(function(){\r\n",
      "\t\t\tstkId = jQuery.trim($(this).attr('stkId'));\r\n",
      "\t\t\tstockWidget('N',stkId,articleId);\r\n",
      "\t\t\t$('.bselivelist').hide();\r\n",
      "\t\t});\r\n",
      "\t}\r\n",
      "\t\r\n",
      "\t$(\".bselivelist\").focusout(function(){\r\n",
      "\t\t$(\".bselivelist\").hide();  //hide the results\r\n",
      "\t});\r\n",
      "\t\r\n",
      "\tfunction bindMenuClicks(articleId){\r\n",
      "\t\t\r\n",
      "\t\t$('#watchlist-'+articleId).click(function(){\r\n",
      "\t\t\tvar stkId = $(this).attr('stkId');\r\n",
      "\t\t\toverlayPopupWatchlist(0,2,1,stkId);\t\r\n",
      "\t\t});\r\n",
      "\t\t$('#portfolio-'+articleId).click(function(){\r\n",
      "\t\t\tvar dispId = $(this).attr('dispId');\r\n",
      "\t\t\tpcSavePort(0,1,dispId);\t\r\n",
      "\t\t});\r\n",
      "\t}\r\n",
      "\t\r\n",
      "\t$('.mc-modal-close').on('click',function(){\r\n",
      "\t\t$('.mc-modal-wrap').css('display','none');\r\n",
      "\t\t$('.mc-modal').removeClass('success');\r\n",
      "\t\t$('.mc-modal').removeClass('error');\r\n",
      "\t});\r\n",
      "\tfunction overlayPopupWatchlist(e, t, n,stkId) {\r\n",
      "\t\t$('.srch_bx').css('z-index','999');\r\n",
      "\t\ttypparam1 = n;\r\n",
      "\t\tif(readCookie('nnmc'))\r\n",
      "\t\t{\r\n",
      "\t\t\t\tvar lastRsrs =new Array();\r\n",
      "\t\t\t\tlastRsrs[e]= stkId;\r\n",
      "\t\t\t\tif(lastRsrs.length > 0)\r\n",
      "\t\t\t\t{\r\n",
      "\t\t\t\t\tvar resStr='';\r\n",
      "\t\t\t\t\t\r\n",
      "\t\t\t\t\tvar url = '//www.moneycontrol.com/mccode/common/saveWatchlist.php';\r\n",
      "\t\t\t\t\t$.get( \"//www.moneycontrol.com/mccode/common/rhsdata.html\", function( data ) {\t\t\r\n",
      "\t\t\t\t\t$('#backInner1_rhsPop').html(data);\t\r\n",
      "\t\t\t\t\t\t$.ajax({url:url,\r\n",
      "\t\t\t\t\t\ttype:\"POST\",\r\n",
      "\t\t\t\t\t\tdataType:\"json\",\r\n",
      "\t\t\t\t\t\tdata:{q_f:typparam1,wSec:secglbVar,wArray:lastRsrs},\t\t\t\r\n",
      "\t\t\t\t\t\tsuccess:function(d)\t\r\n",
      "\t\t\t\t\t\t{\r\n",
      "\t\t\t\t\t\t\tif(typparam1=='1') // rhs\r\n",
      "\t\t\t\t\t\t\t{\r\n",
      "\t\t\t\t\t\t\t\tvar appndStr='';\r\n",
      "\t\t\t\t\t\t\t\tvar newappndStr = makeMiddleRDivNew(d); \r\n",
      "\t\t\t\t\t\t\t\tappndStr = newappndStr[0];\r\n",
      "\t\t\t\t\t\t\t\tvar titStr='';var editw='';\r\n",
      "\t\t\t\t\t\t\t\tvar typevar='';\r\n",
      "\t\t\t\t\t\t\t\tvar pparr= new Array('Monitoring your investments regularly is important.','Add your transaction details to monitor your stock`s performance.','You can also track your Transaction History and Capital Gains.');\r\n",
      "\t\t\t\t\t\t\t\tvar phead ='Why add to Portfolio?';\r\n",
      "\t\t\t\t\t\t\t\tif(secglbVar ==1)\r\n",
      "\t\t\t\t\t\t\t\t{\r\n",
      "\t\t\t\t\t\t\t\t\tvar stkdtxt='this stock';\r\n",
      "\t\t\t\t\t\t\t\t\tvar fltxt=' it ';\r\n",
      "\t\t\t\t\t\t\t\t\ttypevar ='Stock ';\r\n",
      "\t\t\t\t\t\t\t\t\tif(lastRsrs.length>1){\r\n",
      "\t\t\t\t\t\t\t\t\t\tstkdtxt='these stocks';\r\n",
      "\t\t\t\t\t\t\t\t\t\ttypevar ='Stocks ';fltxt=' them\t';\r\n",
      "\t\t\t\t\t\t\t\t\t}\r\n",
      "\t\t\t\t\t\t\t\t\t\r\n",
      "\t\t\t\t\t\t\t\t}\r\n",
      "\t\t\t\t\t\t\t\t\r\n",
      "\t\t\t\t\t\t\t\t//var popretStr =lvPOPRHS(phead,pparr); \r\n",
      "\t\t\t\t\t\t\t\t//$('#poprhsAdd').html(popretStr);\r\n",
      "\t\t\t\t\t\t\t\t//$('.btmbgnwr').show();\r\n",
      "\t\t\t\t\t\t\t\tvar tickTxt ='<span class=\"arwrhgtnm\"></span>';\r\n",
      "\t\t\t\t\t\t\t\tif(typparam1==1)\r\n",
      "\t\t\t\t\t\t\t\t{\r\n",
      "\t\t\t\t\t\t\t\t\tvar modalContent = 'Watchlist has been updated successfully.';\r\n",
      "\t\t\t\t\t\t\t\t\tvar modalStatus = 'success'; //if error, use 'error'\r\n",
      "\t\t\t\t\t\t\t\r\n",
      "\t\t\t\t\t\t\t\t\t$('.mc-modal-content').text(modalContent);\r\n",
      "\t\t\t\t\t\t\t\t\t$('.mc-modal-wrap').css('display','flex');\r\n",
      "\t\t\t\t\t\t\t\t\t$('.mc-modal').addClass(modalStatus);\r\n",
      "\t\t\t\t\t\t\t\t\t\r\n",
      "\t\t\t\t\t\t\t\t\t//var existsFlag=$.inArray('added',newappndStr[1]);\t\t\t\t\t \r\n",
      "\t\t\t\t\t\t\t\t\t//$('#toptitleTXT').html(tickTxt+typevar+' to your watchlist');\r\n",
      "\t\t\t\t\t\t\t\t\t//if(existsFlag == -1)\r\n",
      "\t\t\t\t\t\t\t\t\t//{\r\n",
      "\t\t\t\t\t\t\t\t\t//\tif(lastRsrs.length > 1)\r\n",
      "\t\t\t\t\t\t\t\t\t//\t$('#toptitleTXT').html(tickTxt+typevar+'already exist in your watchlist');\r\n",
      "\t\t\t\t\t\t\t\t\t//\telse\r\n",
      "\t\t\t\t\t\t\t\t\t//\t$('#toptitleTXT').html(tickTxt+typevar+'already exists in your watchlist');\r\n",
      "\t\t\t\t\t\t\t\t\t//\r\n",
      "\t\t\t\t\t\t\t\t\t//}\r\n",
      "\t\t\t\t\t\t\t\t}\r\n",
      "\t\t\t\t\t\t\t\t\r\n",
      "\t\t\t\t\t\t\t\t//$('.accdiv').html('');\r\n",
      "\t\t\t\t\t\t\t\t//$('.accdiv').html(appndStr);\t\r\n",
      "\t\t\t\t\t\t\t}\r\n",
      "\t\t\t\t\t\t},\r\n",
      "\t\t\t\t\t\t//complete:function(d){\r\n",
      "\t\t\t\t\t\t//\tif(typparam1==1)\r\n",
      "\t\t\t\t\t\t//\t{\r\n",
      "\t\t\t\t\t\t//\t\twatchlist_popup('open');\r\n",
      "\t\t\t\t\t\t//\t} \r\n",
      "\t\t\t\t\t\t//}\r\n",
      "\t\t\t\t\t});\r\n",
      "\t\t\t\t\t});\r\n",
      "\t\t\t\t}\r\n",
      "\t\t\t\telse\r\n",
      "\t\t\t\t{\r\n",
      "\t\t\t\t\tvar disNam ='stock';\r\n",
      "\t\t\t\t\tif($('#impact_option').html()=='STOCKS')\r\n",
      "\t\t\t\t\t disNam ='stock';\r\n",
      "\t\t\t\t\tif($('#impact_option').html()=='MUTUAL FUNDS')\r\n",
      "\t\t\t\t\t disNam ='mutual fund';\r\n",
      "\t\t\t\t\tif($('#impact_option').html()=='COMMODITIES')\r\n",
      "\t\t\t\t\t disNam ='commodity';\t\t\t\r\n",
      "\t\t\r\n",
      "\t\t\t\t\talert('Please select at least one '+disNam);\r\n",
      "\t\t\t\t}\r\n",
      "\t\t}\r\n",
      "\t\telse\r\n",
      "\t\t{\r\n",
      "\t\t\tAFTERLOGINCALLBACK = 'overlayPopup('+e+', '+t+', '+n+')';\r\n",
      "\t\t\tcommonPopRHS();\r\n",
      "\t\t\t/*work_div = 1;\r\n",
      "\t\t\ttypparam = t;\r\n",
      "\t\t\ttypparam1 = n;\r\n",
      "\t\t\tcheck_login_pop(1)*/\r\n",
      "\t\t}\r\n",
      "}\r\n",
      "\r\n",
      "function pcSavePort(param,call_pg,dispId)\r\n",
      "{\r\n",
      "\tvar adtxt='';\r\n",
      "\tif(readCookie('nnmc')){\r\n",
      "\t\tif(call_pg == \"2\")\r\n",
      "\t\t{\r\n",
      "\t\t\tpass_sec = 2;\r\n",
      "\t\t}\r\n",
      "\t\telse\r\n",
      "\t\t{\r\n",
      "\t\t\tpass_sec = 1;\r\n",
      "\t\t}\r\n",
      "\t\tvar url = '//www.moneycontrol.com/mccode/common/saveWatchlist.php';\r\n",
      "\t\t$.ajax({url:url,\r\n",
      "\t\t\ttype:\"POST\",\t\t\t\r\n",
      "\t\t\t//data:{q_f:3,wSec:1,dispid:$('input[name=sc_dispid_port]').val()},\r\n",
      "\r\n",
      "\t\t\tdata:{q_f:3,wSec:pass_sec,dispid:dispId},\r\n",
      "\t\t\t\r\n",
      "\t\t\tdataType:\"json\",\r\n",
      "\t\t\tsuccess:function(d)\r\n",
      "\t\t\t{\r\n",
      "\t\t\t\t//var accStr= '';\r\n",
      "\t\t\t\t//$.each(d.ac,function(i,v)\r\n",
      "\t\t\t\t//{\r\n",
      "\t\t\t\t//\taccStr+='<option value='+v.ui+'>'+v.nm+'</option>';\r\n",
      "\t\t\t\t//});\r\n",
      "\t\t\t\t$.each(d.data,function(i,v)\r\n",
      "\t\t\t\t{\r\n",
      "\t\t\t\t\tif(v.flg == '0')\r\n",
      "\t\t\t\t\t{\r\n",
      "\t\t\t\t\t\tvar modalContent = 'Scheme added to your portfolio.';\r\n",
      "\t\t\t\t\t\tvar modalStatus = 'success'; //if error, use 'error'\r\n",
      "\t\t\t\t\r\n",
      "\t\t\t\t\t\t$('.mc-modal-content').text(modalContent);\r\n",
      "\t\t\t\t\t\t$('.mc-modal-wrap').css('display','flex');\r\n",
      "\t\t\t\t\t\t$('.mc-modal').addClass(modalStatus);\r\n",
      "\t\t\t\t\t\t//$('#acc_sel_port').html(accStr);\r\n",
      "\t\t\t\t\t\t//$('#mcpcp_addportfolio .form_field, .form_btn').removeClass('disabled');\r\n",
      "\t\t\t\t\t\t//$('#mcpcp_addportfolio .form_field input, .form_field select, .form_btn input').attr('disabled', false);\r\n",
      "\t\t\t\t\t\t//\r\n",
      "\t\t\t\t\t\t//if(call_pg == \"2\")\r\n",
      "\t\t\t\t\t\t//{\r\n",
      "\t\t\t\t\t\t//\tadtxt ='<span class=\"grn_right_mark\"></span> <strong>Scheme added to your portfolio</strong> We recommend you <strong>add transactional details</strong> to evaluate your investment better. <span class=\"close\" onclick=\"javascript:close_info();\">x</span>';\r\n",
      "\t\t\t\t\t\t//}\r\n",
      "\t\t\t\t\t\t//else\r\n",
      "\t\t\t\t\t\t//{\r\n",
      "\t\t\t\t\t\t//\tadtxt ='<span class=\"grn_right_mark\"></span> <strong>Stock added to your portfolio</strong> We recommend you <strong>add transactional details</strong> to evaluate your investment better. <span class=\"close\" onclick=\"javascript:close_info();\">x</span>';\r\n",
      "\t\t\t\t\t\t//}\r\n",
      "\t\t\t\t\t\t//$('#mcpcp_addprof_info').css('background-color','#eeffc8');\t\r\n",
      "\t\t\t\t\t\t//$('#mcpcp_addprof_info').html(adtxt);\r\n",
      "\t\t\t\t\t\t//$('#mcpcp_addprof_info').show();\t\r\n",
      "\t\t\t\t\t\tglbbid=v.id;\r\n",
      "\t\t\t\t\t}\r\n",
      "\t\t\t\t});\r\n",
      "\t\t\t}\r\n",
      "\t\t});\r\n",
      "\t}\telse\r\n",
      "\t\t{\r\n",
      "\t\t\tAFTERLOGINCALLBACK = 'pcSavePort('+param+', '+call_pg+', '+dispId+')';\r\n",
      "\t\t\tcommonPopRHS();\r\n",
      "\t\t\t/*work_div = 1;\r\n",
      "\t\t\ttypparam = t;\r\n",
      "\t\t\ttypparam1 = n;\r\n",
      "\t\t\tcheck_login_pop(1)*/\r\n",
      "\t\t}\r\n",
      "\t\r\n",
      "}\r\n",
      "\r\n",
      "\r\n",
      "function commonPopRHS(e) {\r\n",
      "    /*var t = ($(window).height() - $(\"#\" + e).height()) / 2 + $(window).scrollTop();\r\n",
      "    var n = ($(window).width() - $(\"#\" + e).width()) / 2 + $(window).scrollLeft();\r\n",
      "    $(\"#\" + e).css({\r\n",
      "        position: \"absolute\",\r\n",
      "        top: t,\r\n",
      "        left: n\r\n",
      "    });\r\n",
      "    $(\"#lightbox_cb,#\" + e).fadeIn(300);\r\n",
      "    $(\"#lightbox_cb\").remove();\r\n",
      "    $(\"body\").append('<div id=\"lightbox_cb\"></div>');\r\n",
      "    $(\"#lightbox_cb\").css({\r\n",
      "        filter: \"alpha(opacity=80)\"\r\n",
      "    }).fadeIn()*/\r\n",
      "\t\r\n",
      "\t$(\"#myframe\").attr('src','https://accounts.moneycontrol.com/mclogin/?d=2');\r\n",
      "\t$(\"#LoginModal\").modal();\r\n",
      "}\r\n",
      "\r\n",
      "function overlay(n)\r\n",
      "\t{\r\n",
      "\t\tdocument.getElementById('back').style.width = document.body.clientWidth + \"px\";\r\n",
      "\t\tdocument.getElementById('back').style.height = document.body.clientHeight +\"px\";\r\n",
      "\t\tdocument.getElementById('back').style.display = 'block';\r\n",
      "\t\tjQuery.fn.center = function () {\r\n",
      "\t\t\tthis.css(\"position\",\"absolute\");\r\n",
      "\t\t\tvar topPos = ($(window).height() - this.height() ) / 2;\r\n",
      "\t\t\tthis.css(\"top\", -topPos).show().animate({'top':topPos},300);\r\n",
      "\t\t\tthis.css(\"left\", ( $(window).width() - this.width() ) / 2);\r\n",
      "\t\t\treturn this;\r\n",
      "\t\t}\r\n",
      "\t\tsetTimeout(function(){$('#backInner'+n).center()},100);\r\n",
      "\t\r\n",
      "\t}\r\n",
      "function closeoverlay(n){\r\n",
      "\tdocument.getElementById('back').style.display = 'none';\r\n",
      "document.getElementById('backInner'+n).style.display = 'none';\r\n",
      "\t}\r\n",
      "\tstk_str='';\r\n",
      "\tstk.forEach(function (stkData,index){\r\n",
      "\t\tif(index==0){\r\n",
      "\t\t\tstk_str+=stkData.stockId.trim();\r\n",
      "\t\t}else{\r\n",
      "\t\t\tstk_str+=','+stkData.stockId.trim();\t\r\n",
      "\t\t}\r\n",
      "\t});\r\n",
      "\t\r\n",
      "$.get('//www.moneycontrol.com/techmvc/mc_apis/stock_details/?sc_id='+stk_str, function(data) {   \r\n",
      "     stk.forEach(function (stkData,index){\t\r\n",
      "\t\t$('#stock-name-'+stkData.stockId.trim()+'-'+article_id).text(data[stkData.stockId.trim()]['nse']['shortname']);\r\n",
      "     });\r\n",
      "   });</script>                              <!-- stock widget -->                 </div>               <div class=\"arti-flow\" id=\"article-main\"> \r\n",
      "        <!-- .CONTENT BODY -->        <br><p>Wires, cables and electrical goods maker <a href=\"http://www.moneycontrol.com/india/stockpricequote/cables-power-others/polycabindia/PI44\" target=\"_blank\" >Polycab India</a> posted a 27.3 percent year-on-year (YoY) drop in its March quarter (Q4) consolidated net profit at Rs 137.2 crore on account of a drop in EBITDA margin. Commodity prices and rupee movement versus the dollar also impacted profitability</p><p>R Ramakrishnan, CEO, Polycab, said higher-than-normal EBITDA in some of the past quarters is not sustainable, adding: \"Going forward, EBITDA margin will be maintained between 11 percent and 13 percent.\"</p><p>Revenue increased by 16 percent YoY in Q4 to Rs 2,444.8 crore. Among segments, wires and cables grew 13 percent at Rs 2,121.6 crore and EPC 141 percent at Rs 218.3 crore.</p><style type=\"text/css\">@media(max-width:480px){\r\n",
      "\t\t.arti-flow .fixedfortopwrap iframe{min-height:600px;}\r\n",
      "\t\t}\r\n",
      "\t\t@media(max-width:640px){\r\n",
      "\t\t.arti-flow .fixedfortopwrap iframe{min-height:600px;}\r\n",
      "\t\t}\r\n",
      "\t\t@media(max-width:767px){\r\n",
      "\t\t.arti-flow .fixedfortopwrap iframe{min-height:600px;}\r\n",
      "\t\t.closbtn{font-size:15px; text-transform: uppercase; position: fixed; right:45px; top:65px; background: #222; padding:8px 15px; color: #fff !important;z-index: 9;}\r\n",
      "\t\t.fixedfortopwrap{width: 300px; display: block; margin: auto; position: relative; height: 300px; overflow: hidden;} \r\n",
      ".fixedfortop{position: absolute; top: 0; left: 0;width: 100%;height: 100%;     clip: rect(0,auto,auto,0)!important;\r\n",
      "    -webkit-clip-path: polygon(0px 0px,100% 0px,100% 100%,0px 100%)!important;\r\n",
      "    clip-path: polygon(0px 0px,100% 0px,100% 100%,0px 100%)!important;\r\n",
      "} \r\n",
      ".fixedfortop-in{vertical-align: bottom; position: fixed; top: 0; left: 0; width: 100%; height: 100%; -webkit-transform: translateZ(0); display: -webkit-box; display: -ms-flexbox; \r\n",
      "display: flex; -webkit-box-orient: vertical; -webkit-box-direction: normal; -ms-flex-direction: column; flex-direction: column; -webkit-box-align: center; \r\n",
      "-ms-flex-align: center; align-items: center; -webkit-box-pack: center; -ms-flex-pack: center; justify-content: center;} \r\n",
      "\t\t}</style><div class=\"show-moblie fixedfortopwrap\"><div class=\"fixedfortop\"><a href=\"javascript:;\" class=\"closbtn\" onclick=$(\".fixedfortopwrap\").css(\"display\", \"none\");\" >Close</a> <div class=\"fixedfortop-in\"><div class=\"show-moblie mid-arti-ad\"><div id=Moneycontrol_Mobile_WAP/MC_WAP_ROS/MC_Wap_flying_carpet_300x600><script type=\"text/javascript\" defer=\"defer\">var width = window.innerWidth || document.documentElement.clientWidth;\r\n",
      "\t\tadKey = \"Moneycontrol_Mobile_WAP/MC_WAP_ROS/MC_Wap_flying_carpet_300x600\";\r\n",
      "\t\tif (width >= 768 && adKey.indexOf(\"Moneycontrol\") != -1 && adKey.indexOf(\"Moneycontrol_Mobile_WAP\") < 0) {\r\n",
      "\t\t\tgoogletag.cmd.push(function() { googletag.display(\"Moneycontrol_Mobile_WAP/MC_WAP_ROS/MC_Wap_flying_carpet_300x600\") });\r\n",
      "\t\t}\r\n",
      "\r\n",
      "\t\tif (width <= 768 && adKey.indexOf(\"Moneycontrol_Mobile_WAP\") != -1) {\r\n",
      "\t\t\tgoogletag.cmd.push(function() { googletag.display(\"Moneycontrol_Mobile_WAP/MC_WAP_ROS/MC_Wap_flying_carpet_300x600\") });\r\n",
      "\t\t}</script></div></div></div></div></div><script> $(document).ready(function(){$(\".closbtn\").on(\"click\", function(){ $(\".fixedfortopwrap\").css(\"display\", \"none\");}) });</script><div class=\"ads-320-250 show-moblie mid-arti-ad\"><div id=Moneycontrol_Mobile_WAP/MC_WAP_News/MC_WAP_News_Internal_300x250_Middle_2><script type=\"text/javascript\" defer=\"defer\">var width = window.innerWidth || document.documentElement.clientWidth;\r\n",
      "\t\tadKey = \"Moneycontrol_Mobile_WAP/MC_WAP_News/MC_WAP_News_Internal_300x250_Middle_2\";\r\n",
      "\t\tif (width >= 768 && adKey.indexOf(\"Moneycontrol\") != -1 && adKey.indexOf(\"Moneycontrol_Mobile_WAP\") < 0) {\r\n",
      "\t\t\tgoogletag.cmd.push(function() { googletag.display(\"Moneycontrol_Mobile_WAP/MC_WAP_News/MC_WAP_News_Internal_300x250_Middle_2\") });\r\n",
      "\t\t}\r\n",
      "\r\n",
      "\t\tif (width <= 768 && adKey.indexOf(\"Moneycontrol_Mobile_WAP\") != -1) {\r\n",
      "\t\t\tgoogletag.cmd.push(function() { googletag.display(\"Moneycontrol_Mobile_WAP/MC_WAP_News/MC_WAP_News_Internal_300x250_Middle_2\") });\r\n",
      "\t\t}</script></div></div><div class=\"hide-moblie mid-arti-ad\"><div id=Moneycontrol_Mobile_WAP/MC_WAP_News/MC_WAP_News_Internal_OutStream><script type=\"text/javascript\" defer=\"defer\">var width = window.innerWidth || document.documentElement.clientWidth;\r\n",
      "\t\tadKey = \"Moneycontrol_Mobile_WAP/MC_WAP_News/MC_WAP_News_Internal_OutStream\";\r\n",
      "\t\tif (width >= 768 && adKey.indexOf(\"Moneycontrol\") != -1 && adKey.indexOf(\"Moneycontrol_Mobile_WAP\") < 0) {\r\n",
      "\t\t\tgoogletag.cmd.push(function() { googletag.display(\"Moneycontrol_Mobile_WAP/MC_WAP_News/MC_WAP_News_Internal_OutStream\") });\r\n",
      "\t\t}\r\n",
      "\r\n",
      "\t\tif (width <= 768 && adKey.indexOf(\"Moneycontrol_Mobile_WAP\") != -1) {\r\n",
      "\t\t\tgoogletag.cmd.push(function() { googletag.display(\"Moneycontrol_Mobile_WAP/MC_WAP_News/MC_WAP_News_Internal_OutStream\") });\r\n",
      "\t\t}</script></div></div><script>    date = new Date();\r\n",
      "\t\t    date.setTime(date.getTime()+(1*24*60*60*1000));\r\n",
      "\t\t    $.cookie(\"dfp_cookie_article\", \"Y1\", {expires: date,path:\"/\",domain: \".moneycontrol.com\"});</script><p>The board has recommended a final dividend of Rs 3 per equity share.</p><div class=\"hide-moblie mid-arti-ad\"><div id=Moneycontrol/MC_News/MC_News_Internal_Article_Native><script type=\"text/javascript\" defer=\"defer\">var width = window.innerWidth || document.documentElement.clientWidth;\r\n",
      "\t\tadKey = \"Moneycontrol/MC_News/MC_News_Internal_Article_Native\";\r\n",
      "\t\tif (width >= 768 && adKey.indexOf(\"Moneycontrol\") != -1 && adKey.indexOf(\"Moneycontrol_Mobile_WAP\") < 0) {\r\n",
      "\t\t\tgoogletag.cmd.push(function() { googletag.display(\"Moneycontrol/MC_News/MC_News_Internal_Article_Native\") });\r\n",
      "\t\t}\r\n",
      "\r\n",
      "\t\tif (width <= 768 && adKey.indexOf(\"Moneycontrol_Mobile_WAP\") != -1) {\r\n",
      "\t\t\tgoogletag.cmd.push(function() { googletag.display(\"Moneycontrol/MC_News/MC_News_Internal_Article_Native\") });\r\n",
      "\t\t}</script></div></div><div class=\"hide-moblie mid-arti-ad\"><div id=Moneycontrol/MC_News/MC_News_Internal_OutStream><script type=\"text/javascript\" defer=\"defer\">var width = window.innerWidth || document.documentElement.clientWidth;\r\n",
      "\t\tadKey = \"Moneycontrol/MC_News/MC_News_Internal_OutStream\";\r\n",
      "\t\tif (width >= 768 && adKey.indexOf(\"Moneycontrol\") != -1 && adKey.indexOf(\"Moneycontrol_Mobile_WAP\") < 0) {\r\n",
      "\t\t\tgoogletag.cmd.push(function() { googletag.display(\"Moneycontrol/MC_News/MC_News_Internal_OutStream\") });\r\n",
      "\t\t}\r\n",
      "\r\n",
      "\t\tif (width <= 768 && adKey.indexOf(\"Moneycontrol_Mobile_WAP\") != -1) {\r\n",
      "\t\t\tgoogletag.cmd.push(function() { googletag.display(\"Moneycontrol/MC_News/MC_News_Internal_OutStream\") });\r\n",
      "\t\t}</script></div></div><script>    date = new Date();\r\n",
      "\t\t    date.setTime(date.getTime()+(1*24*60*60*1000));\r\n",
      "\t\t    $.cookie(\"dfp_cookie_article\", \"Y1\", {expires: date,path:\"/\",domain: \".moneycontrol.com\"});</script><div class=\"FL MR30 wd225\"><div class=\"brdr4 PR10\"><div class=\"interview_header\"><!--<div class=\"related_title PB10 clearfix\">      <a href=\"#\"> <img alt=\"\" class=\"fb-img fleft\" src=\"data:image/png;base64,iVBORw0KGgoAAAANSUhEUgAAAEEAAAAhCAMAAACx3TYtAAABv1BMVEX///////////////////9BVqBNZbJCWKJMY7E/VZ5GX7E9U5xOZrR5jMdLYq5JYK1HXqvl6PBDWKTl6PJOZbNFW6dBV6FEWqREXa/r7fVGXag/V6eFk8R1hr83Tp7s7vZHXan8/P6wuNVCWalKY7BCWqs7UqCOm8dEXKs+VqU5UqL4+fxAV6M8U6I+VaE5UJwySZf09fnv8fekrtCdqc6IlsR/jsA+VaNFW6I6UZ8zSpjh5fHi5e/c3+rHzeC4wNuOnMptf7lqe7Q8VaY7U6Q4T6A8T4y8xNu2v9myu9ihrdGToMuLmMaDkcFugsF6ir1rfbtpe7hsfbZoebZmd7NdcLBjda9DWJ81TJwsQobX2+vR1ujAx+G3wd+rtNGirMeHlcabpcWDksOGk7+CkL90hb1tf71xgrtYbbRJYa9Waq5yf6xfcKtMYqpJXqVHWZLn6vTV2ObFzOS3vtSostNRZ7BHX61UZ6hkcqNcbKAxSZ1VZJpCV5pPYJk2TJMyR4/5+f2hrtertdaXo8upscqAksqmr8l2iMSQm8B3hbmCjbVygbVQZa1abKcvSqFOYJ9RY54zSporRJpAU5NBU441ALpZAAAABHRSTlPx8vblqY/gKgAAAx5JREFUSMel1vdX2lAUwHFtryRIm0DkEU0okDJkL5FhWa2iVm3tUlu3tdat3cuq3Xu3f3AvL3HhOR4PfA8JN4/wIcAPUHeyrqbw+Segtk7U1dco1FNh4v3p6nodU4WJxmprLipU+Nh4qsp0C3EqXG40m82u5gOxZrNOV950FUPFsl0VmnW6xYUz+5t7vKg7TrsCu7gwBgcaf+xiWRZfBfd00NHtULuC+zZUdN6Lj/PEwdKMhGeNEs9W5NKEu16XPA07ZRPWgTzAvJvj2HT3X5eLw+Fld5puXGWa4ObkdtAaW5I7fyTxGlDwDt7vecJh3kTutjtxf9DLuTgM1UqB77SCWmBeNi6tDqDg5Hl3K9zz8pi7zzQt90Cr26HXP+EkQ0TgOJ7WQoUrzj0hvuqca1ECquAcgHMoYD831rwFaO3q3lxhDd3Pn/3b4tXsh4SA5D+rfpKy0VgWiJHHoc1k9RVgdvtdy5vgRj6g5Jb1uIw37RpkY5f6XeT7Eg558FFbHuAaCnJ7WcDkAvR3FuDLDDzg0rnAzKd47Dt9YJ9wiQrJP114uv9FAgWfKjgdeJ7vIr6DXshBPu1PQs/6+iT0+XDd4VCFqz7JrwqzN0XJQYLMKAopSfJRAUuhEOoFgOxmKQEKgKKMh6RylUI8Oyr635pMeM6FFCEo5G5hW2XB3wuFCXi4XYSHv1aeL98ghEiEaEKKlFCgxUTbIzpcCBGSaof41NTUh9mQKiS/2ZXlpwHTs/WZ7FyQYJpwPURKd0DNnr7ZtiuEikAbLfVAf2kcii/6IbZUfAUKPFgVCBFFURM8om1XYHYEjygGh6y0+eBV61DwmnUovJacHspc7+9LroVFTBCOEjKCIIZtNI/osYXpxthsYcGT8WSC+HRME254hMxwXBUCI78nAcs+DTOMIDDqbm84cIQ3TcgwjOHrWVrbSGQQ7yaHDcwxslg0IdLQYIlEo9GOjmiHhYmUh4ilwWLBZdwdGCqPVGEYherSj6hCa1RfZR3DMSrYP48Yqkq/MgZUAOWeyWRqamoq7+i0/+io5RhQobbqa//trv3/w3+69LoJVHFkFwAAAABJRU5ErkJggg==\" /> 48k people like this.Be the first of your friends.</a> </div> -->      </div>      <div class=\"section-title\">      <h2>related news</h2>      </div><ul class=\"clearfix editor_list intvw_list text-left\"><li> <span class=\"FL or_bult\"></span>  <h3 class=\"Ohidden\"><a onClick=\"ga('send', 'event', 'Related News Widget', 'News Consumption', '3972161_Relatednews_1');\" href=\"https://www.moneycontrol.com/news/business/rec-net-down-24-at-rs-1322-crore-in-q2-4607481.html\" title=\"REC net down 24% at Rs 1,322 crore in Q2\">REC net down 24% at Rs 1,322 crore in Q2</a></h3><div class=\"CL\"></div></li><li> <span class=\"FL or_bult\"></span>  <h3 class=\"Ohidden\"><a onClick=\"ga('send', 'event', 'Related News Widget', 'News Consumption', '3972161_Relatednews_2');\" href=\"https://www.moneycontrol.com/news/business/sebi-issues-circular-on-aadhaar-e-kyc-for-investors-4607211.html\" title=\"Sebi issues circular on Aadhaar e-KYC for investors\">Sebi issues circular on Aadhaar e-KYC for investors</a></h3><div class=\"CL\"></div></li><li> <span class=\"FL or_bult\"></span>  <h3 class=\"Ohidden\"><a onClick=\"ga('send', 'event', 'Related News Widget', 'News Consumption', '3972161_Relatednews_3');\" href=\"https://www.moneycontrol.com/news/business/did-not-know-about-loans-to-hdil-says-pmc-bank-director-4607451.html\" title=\"Did not know about loans to HDIL, says PMC Bank director\">Did not know about loans to HDIL, says PMC Bank director</a></h3><div class=\"CL\"></div></li> </ul></div></div><p>Commenting on the company's performance in FY19, Inder Jaisinghani, Chairman and Managing Director, Polycab India, said it has been a year of record performance with all business segments performing well.</p><p>He added that net profit increased 40 percent YoY to Rs 500 crore in FY19. \"Gross debt fell 66 percent to Rs 272.4 crore and capital expenditure was up 55 percent to Rs 279 crore.\"</p><p>On the company's capex plans, Ramakrishnan said Polycab will incur Rs 175 -200 crore annually. \"Of this, 75 percent will be allocated for the wires and cables business and the balance will go towards the fast moving electrical goods space.\"</p><p>On an annual basis, the wires and cables business grew 11 percent YoY to Rs 6,929.5 crore and the FMEG business grew 33 percent to Rs 643.3 crore.</p>Polycab listed on the stock exchanges in April this year at an 18 percent premium over its issue price of Rs 538. It is currently trading in the Rs 625-655 range.</br></br><a href=\"https://www.moneycontrol.com/promos/pro.php\" target=\"_blank\" onclick=\"ga('send', 'event', 'MC Pro', 'ContentEnd-Click', 'http://news.moneycontrol.com/news/business/earnings/polycab-india-q4-net-profit-down-27-3-to-spend-rs-175-200cr-annually-on-capex-3972161.html')\" rel=nofollow><b>Special Thursday Expiry on <strike>10<sup>th</sup></strike> 7<sup>th</sup> Nov</b><br>Early Closure to The Great Diwali Discount. Last Chance to get Moneycontrol PRO for a year @ Rs. 289/- only <br><b>Coupon code: DIWALI</b></a>                <!--ad-spot -->        <!--ad-spot --></div>                        \t\t    <div class=\"arttidate_pub\">First Published on May 15, 2019 02:17 pm</div></article><div class=\"clearfix\">        <h3 class=\"tag_txt\">          <span class=\"tag-title\">tags</span>          \t  \t      <a href=\"https://www.moneycontrol.com/news/tags/business.html\" title=\"Business\">#Business</a>            \t  \t      <a href=\"https://www.moneycontrol.com/news/tags/companies.html\" title=\"Companies\">#Companies</a>            \t  \t      <a href=\"https://www.moneycontrol.com/news/tags/results.html\" title=\"Results\">#Results</a>            \t\r\n",
      "      </h3>  </div><div class=\"clearfix hide-mobile most-popular-1\">  <h3 class=\"related_txt \"> <span class=\"tag-title\">most popular</span> </h3>  <section class=\"block2\"  style=\"padding-bottom:0px;\">    <div class=\"expertitem\">                                            <div class=\"item 0 2 \">                <div class=\"ex-imgblock\">                  <a href=\"https://www.moneycontrol.com/news/business/economy/10-countries-with-the-highest-gold-reserves-find-out-where-india-stands-4449211.html\" title=\"10 countries with the highest gold reserves; find out where India stands\" onclick=\"ga('send', 'event', 'Most Popular Widget', 'News Consumption','4449211_Most_Popular_pos1');\">                  <img  class=\"MC_img\" src=\"http://static.english.pradesh18.com/pix/images/grey_bg.gif\" data-src=\"https://static-news.moneycontrol.com/optimize/zoBFHbzAh2M0v2D9oOaXMsMAILY=/356x200/static-news.moneycontrol.com/static-mcnews/2019/02/Thumbnail_Gold-378x213.jpg\" data-original=\"https://static-news.moneycontrol.com/static-mcnews/2019/02/Thumbnail_Gold-378x213.jpg\" alt=\"10 countries with the highest gold reserves; find out where India stands\" title=\"10 countries with the highest gold reserves; find out where India stands\" onerror=\"this.src='https://static-news.moneycontrol.com/static-mcnews/2017/10/default_news_image_opt6-378x212.jpg';\" ></a>                  <div class=\"story-desc hide-mob\"> </div>                </div>                <div class=\"description\">                  <h3 class=\"related_des\"> <a href=\"https://www.moneycontrol.com/news/business/economy/10-countries-with-the-highest-gold-reserves-find-out-where-india-stands-4449211.html\" title=\"10 countries with the highest gold reserves; find out where India stands\" onclick=\"ga('send', 'event', 'Most Popular Widget', 'News Consumption','4449211_Most_Popular_pos1');\">10 countries with the highest gold reserves; find out where India stands</a></h3>                </div>              </div>                           <div class=\"item 0 2 \">                <div class=\"ex-imgblock\">                  <a href=\"https://www.moneycontrol.com/news/business/auto-stocks-bleed-heres-how-much-investors-have-lost-in-a-year-4455301.html\" title=\"Auto stocks bleed: Here's how much investors have lost in a year\" onclick=\"ga('send', 'event', 'Most Popular Widget', 'News Consumption','4455301_Most_Popular_pos2');\">                  <img  class=\"MC_img\" src=\"http://static.english.pradesh18.com/pix/images/grey_bg.gif\" data-src=\"https://static-news.moneycontrol.com/optimize/3aJT5fyZJkXanfVSeYoYJlrCnHU=/356x200/static-news.moneycontrol.com/static-mcnews/2019/09/RTR3FGXB-378x213.jpg\" data-original=\"https://static-news.moneycontrol.com/static-mcnews/2019/09/RTR3FGXB-378x213.jpg\" alt=\"Auto stocks bleed: Here's how much investors have lost in a year\" title=\"Auto stocks bleed: Here's how much investors have lost in a year\" onerror=\"this.src='https://static-news.moneycontrol.com/static-mcnews/2017/10/default_news_image_opt6-378x212.jpg';\" ></a>                  <div class=\"story-desc hide-mob\"> </div>                </div>                <div class=\"description\">                  <h3 class=\"related_des\"> <a href=\"https://www.moneycontrol.com/news/business/auto-stocks-bleed-heres-how-much-investors-have-lost-in-a-year-4455301.html\" title=\"Auto stocks bleed: Here's how much investors have lost in a year\" onclick=\"ga('send', 'event', 'Most Popular Widget', 'News Consumption','4455301_Most_Popular_pos2');\">Auto stocks bleed: Here's how much investors have lost in a year</a></h3>                </div>              </div>                           <div class=\"item 0 2 \">                <div class=\"ex-imgblock\">                  <a href=\"https://www.moneycontrol.com/news/business/stocks/slideshow-foreign-brokerages-are-betting-on-these-6-stocks-to-return-9-28-4449971.html\" title=\"Foreign brokerages are betting on these 6 stocks to return 9-28%\" onclick=\"ga('send', 'event', 'Most Popular Widget', 'News Consumption','4449971_Most_Popular_pos3');\">                  <img  class=\"MC_img\" src=\"http://static.english.pradesh18.com/pix/images/grey_bg.gif\" data-src=\"https://static-news.moneycontrol.com/optimize/Aa46-MFa_Y4KrILgXnGWiRASJ7A=/356x200/static-news.moneycontrol.com/static-mcnews/2019/02/Sensex_nifty_BSE_NSE_traders_NSE-378x213.jpg\" data-original=\"https://static-news.moneycontrol.com/static-mcnews/2019/02/Sensex_nifty_BSE_NSE_traders_NSE-378x213.jpg\" alt=\"Foreign brokerages are betting on these 6 stocks to return 9-28%\" title=\"Foreign brokerages are betting on these 6 stocks to return 9-28%\" onerror=\"this.src='https://static-news.moneycontrol.com/static-mcnews/2017/10/default_news_image_opt6-378x212.jpg';\" ></a>                  <div class=\"story-desc hide-mob\"> </div>                </div>                <div class=\"description\">                  <h3 class=\"related_des\"> <a href=\"https://www.moneycontrol.com/news/business/stocks/slideshow-foreign-brokerages-are-betting-on-these-6-stocks-to-return-9-28-4449971.html\" title=\"Foreign brokerages are betting on these 6 stocks to return 9-28%\" onclick=\"ga('send', 'event', 'Most Popular Widget', 'News Consumption','4449971_Most_Popular_pos3');\">Foreign brokerages are betting on these 6 stocks to return 9-28%</a></h3>                </div>              </div>           </div>  </section></div><div class=\"ads-320-250 show-moblie mbottom\" id=\"3972161_mobile_bottom300x250-1\"></div></div><!--left --><!--right --><aside id=\"right\" class=\"fright\">  <!--<div class=\"whatsapp-share-desktop hide-moblie\">  <a href=\"https://www.moneycontrol.com/news/widget/whatsapp.html\" target=\"_new\">  \r\n",
      "\t\t     <img src=\"https://img-d04.moneycontrol.co.in/mcnews/images/whatapps-icon.png?v=3\" title=\"Whatsapp\" alt=\"Whatsapp\" >  </a> </div>--> <!-- you may also like --><!-- .you may also like --><!-- video discovery --><!--Live TV Widget--><link type=\"text/css\" rel=\"stylesheet\" href=\"//stat1.moneycontrol.com/mcnews/css/video_discovery_widget.css\" /><div id=\"live_tv_video\">  <div class=\"tv_hed\">    <div class=\"lv_tvspn\"></div>  </div>  <div class=\"vid_listlv clearfix\">            <div class=\"vid_bx\">      \t    <a href=\"https://www.moneycontrol.com/news/eye-on-india/videos/editors-take-implications-of-indias-decision-to-not-join-rcep-4605981.html\" title=\"Implications of India's decision to not join RCEP\">            \t  <img class=\"MC_img\" src=\"http://static.english.pradesh18.com/pix/images/grey_bg.gif\" data-src=\"https://static-news.moneycontrol.com/optimize/Lxy5tq2At8Uscmel5ZAOsQ5cdcE=/356x200/static-news.moneycontrol.com/static-mcnews/2019/11/rcep-editors-take-378x213.jpg\" width=\"148\" height=\"83\" alt=\"Implications of India's decision to not join RCEP\" title= \"okk Implications of India's decision to not join RCEP\" />                  <div class=\"overlay_lvtv\">      \t\r\n",
      "                <div class=\"desc_tv\">                <span class=\"play_ic\"></span> <div class=\"ohf_lv\">Implications of India's decision to not join RCEP</div>                </div>            </div>        </a>    </div>          <div class=\"vid_bx\">      \t    <a href=\"https://www.moneycontrol.com/news/business/economy/reporters-take-india-may-see-10-salary-hike-in-2020-4606341.html\" title=\"India may see 10% salary hike in 2020\">            \t  <img class=\"MC_img\" src=\"http://static.english.pradesh18.com/pix/images/grey_bg.gif\" data-src=\"https://static-news.moneycontrol.com/optimize/QILqENUrF9uqrwB5TP3A4n2cC9Y=/356x200/static-news.moneycontrol.com/static-mcnews/2019/11/salary-hike-reporters-take-378x213.jpg\" width=\"148\" height=\"83\" alt=\"India may see 10% salary hike in 2020\" title= \"okk India may see 10% salary hike in 2020\" />                  <div class=\"overlay_lvtv\">      \t\r\n",
      "                <div class=\"desc_tv\">                <span class=\"play_ic\"></span> <div class=\"ohf_lv\">India may see 10% salary hike in 2020</div>                </div>            </div>        </a>    </div>          <div class=\"vid_bx\">      \t    <a href=\"https://www.moneycontrol.com/news/business/3-point-analysis-shoppers-stop-q2-review-4606251.html\" title=\"3-Point Analysis|Shoppers Stop Q2 Review\">            \t  <img class=\"MC_img\" src=\"http://static.english.pradesh18.com/pix/images/grey_bg.gif\" data-src=\"https://static-news.moneycontrol.com/optimize/ZheLeC8kF94ctFKvCg4rY-E6Oew=/356x200/static-news.moneycontrol.com/static-mcnews/2019/11/3-point-analysis-shoppers-stop-378x213.jpg\" width=\"148\" height=\"83\" alt=\"3-Point Analysis|Shoppers Stop Q2 Review\" title= \"okk 3-Point Analysis|Shoppers Stop Q2 Review\" />                  <div class=\"overlay_lvtv\">      \t\r\n",
      "                <div class=\"desc_tv\">                <span class=\"play_ic\"></span> <div class=\"ohf_lv\">3-Point Analysis|Shoppers Stop Q2 Review</div>                </div>            </div>        </a>    </div>          <div class=\"vid_bx\">      \t    <a href=\"https://www.moneycontrol.com/news/business/trade/special-feature-how-to-check-a-companys-performance-on-the-moneycontrol-app-4596661.html\" title=\"See company performance on Moneycontrol App\">            \t  <img class=\"MC_img\" src=\"http://static.english.pradesh18.com/pix/images/grey_bg.gif\" data-src=\"https://static-news.moneycontrol.com/optimize/rkKSBkb46tCrqm9S9FNtL5IuVN4=/356x200/static-news.moneycontrol.com/static-mcnews/2019/11/MCapp-378x213.jpg\" width=\"148\" height=\"83\" alt=\"See company performance on Moneycontrol App\" title= \"okk See company performance on Moneycontrol App\" />                  <div class=\"overlay_lvtv\">      \t\r\n",
      "                <div class=\"desc_tv\">                <span class=\"play_ic\"></span> <div class=\"ohf_lv\">See company performance on Moneycontrol App</div>                </div>            </div>        </a>    </div>      \r\n",
      "  </div></div><!--Live TV Widget END--><!-- video discovery ends--><!-- must of the day --><div class=\"video-widget clearfix\">  <div class=\"section-title\">    <h3>Must Listen</h3>  </div>  <div class=\"clearfix main-vdo\">  <a class=\"vdo\" href=\"https://www.moneycontrol.com/news/podcast/in-the-news-delhi-police-protest-against-lawyers-indias-rcep-exit-microsoft-japans-4-day-work-week-and-more-4607281.html\" onclick=\"ga('send', 'event', 'Must Watch Video Widget', 'News Consumption','3972161_Must_Watch_Video');\"><img  class=\"MC_img\" src=\"http://static.english.pradesh18.com/pix/images/grey_bg.gif\" data-src=\"https://static-news.moneycontrol.com/optimize/uughB20Xic3G3-E1TGGYuXISbqc=/356x200/static-news.moneycontrol.com/static-mcnews/2019/10/mc-podcast-378x213.jpg\" alt=\"In The News | Delhi police protest against lawyers; India's RCEP exit; Microsoft Japan's 4-day work week, and more\" title=\"In The News | Delhi police protest against lawyers; India's RCEP exit; Microsoft Japan's 4-day work week, and more\"></a>    <p><a href=\"https://www.moneycontrol.com/news/podcast/in-the-news-delhi-police-protest-against-lawyers-indias-rcep-exit-microsoft-japans-4-day-work-week-and-more-4607281.html\" title=\"In The News | Delhi police protest against lawyers; India's RCEP exit; Microsoft Japan's 4-day work week, and more\" onclick=\"ga('send', 'event', 'Must Watch Video Widget', 'News Consumption','3972161_Must_Watch_Video');\">In The News | Delhi police protest against lawyers; India's RCEP exit; Microsoft Japan's 4-day work week, and more</a></p>  </div>  <div class=\"clearfix\"> </div></div><!-- must of the day --><!-- stay updated --><div class=\"contact clearfix\">  <div class=\"section-title\">    <h3 class=\"stay-up\">stay updated</h3>  </div>  <div class=\"clearfix\"> <div class=\"PB10 subscribe\">Subscribe to our Daily Newsletter</div>              <div class=\"form-control\">                <form method=\"post\" name=\"nlfrm\" onsubmit=\"javascript:return sector_newsletter();\">                  <input placeholder=\"Enter Email address\" name=\"email_newsletter\" id=\"email_newsletter\" onfocus=\"if(this.value='Enter email address')this.value='';\" type=\"text\">                  <button value=\"submit\" onclick=\"ga('send', 'event', 'Subscribe to MC Widget', 'News Consumption','3972161_MC_Subscribe');\">submit</button>                </form>              </div>            </div>  <div class=\"clearfix\">    <div class=\"daily-news\"><span>Get Daily News on your Browser</span>      <button class=\"fright\" value=\"submit\" id=\"enable-notification\" onclick=\"ga('send', 'event', 'MC Daily News Browser Widget ', 'News Consumption','3972161_MC_Enable');\">Enable</button>    </div>  </div></div><!-- FB Circulation Ad start --><!-- FB Circulation Ad start --><div style=\"display:none;\" id=\"firstArticle_3972161\"><script type=\"text/javascript\" src=\"https://connect.facebook.net/en_US/fbadnw60-tag.js\" async></script><script type=\"text/javascript\">        var fb_re_Ads = 'firstArticle_3972161';\t\r\n",
      "        window.ADNW = window.ADNW || {};\r\n",
      "        window.ADNW.v60 = window.ADNW.v60 || {};\r\n",
      "        window.ADNW.v60.slots = window.ADNW.v60.slots || [];\r\n",
      "\tvar width = window.innerWidth || document.documentElement.clientWidth;\r\n",
      "\tif (width > 768 ) {\r\n",
      "\r\n",
      "\t  window.ADNW.v60.slots.push({\r\n",
      "          rootElement: document.getElementById(fb_re_Ads),\r\n",
      "          placementid: '606338322858150_1309648245860484',\r\n",
      "\t  format: 'recirculation',\r\n",
      "\t  testmode: false,\r\n",
      "\t  onUnitLoaded: function(rootElement) {\r\n",
      "\t    // called when the unit is loaded\r\n",
      "\t    console.log('Audience Network [606338322858150_1309648245860484] unit loaded');\r\n",
      "\t    rootElement.style.display = 'block';\r\n",
      "\t  },\r\n",
      "\t  onUnitError: function(errorCode, errorMessage) {\r\n",
      "\t    // called when the unit could not be loaded\r\n",
      "\t    console.log('Audience Network [606338322858150_1309648245860484] error (' + errorCode + ') ' + errorMessage);\r\n",
      "\t  },\r\n",
      "\t  recirculation: {\r\n",
      "\t    desktop: {\r\n",
      "\t      ad_load: 'heavy',\r\n",
      "\t      infinite_scroll: 'off',\r\n",
      "\t      layout: 'h_list',\r\n",
      "\t      heading:'on',\r\n",
      "\t      rows:'three',\r\n",
      "\t      columns:'one'\r\n",
      "\t    },\r\n",
      "\t   mobile: {\r\n",
      "\t      ad_load: 'auto',\r\n",
      "\t      infinite_scroll: 'off',\r\n",
      "\t      layout: 'auto',\r\n",
      "\t    },\r\n",
      "\t  }\r\n",
      "\t});\r\n",
      "\t}\r\n",
      "  </script><!-- FB Circulation Ad end --><!-- stay updated --> <!-- trending news --><div class=\"trending-news\">  <div class=\"bx\">    <div class=\"section-title\">      <h3><span class=\"ic_trending\"></span>Trending news </h3>    </div>    <figure class=\"fleft w40 MB5 MR10\">                    <a href=\"https://www.moneycontrol.com/news/technology/from-iphone-11-pro-to-huawei-mate-30-pro-our-picks-from-the-best-of-the-best-4606551.html\" title=\"From iPhone 11 Pro to Huawei Mate 30 Pro: Our picks from the best of the best\" onclick=\"ga('send', 'event', 'Trending News Widget', 'News Consumption','3972161_Trending News_pos1');\">                                        <img  class=\"MC_img\" src=\"http://static.english.pradesh18.com/pix/images/grey_bg.gif\" data-src=\"https://static-news.moneycontrol.com/optimize/wJwGbXxov0NU3d9lrk08eS0rBN4=/356x200/static-news.moneycontrol.com/static-mcnews/2019/11/Pixel-4-378x213.jpg\" alt=\"From iPhone 11 Pro to Huawei Mate 30 Pro: Our picks from the best of the best\" style=\"display: block;\"> </a>    </figure>    <div class=\"nwsfh\">                    <a href=\"https://www.moneycontrol.com/news/technology/from-iphone-11-pro-to-huawei-mate-30-pro-our-picks-from-the-best-of-the-best-4606551.html\" title=\"From iPhone 11 Pro to Huawei Mate 30 Pro: Our picks from the best of the best\" class=\"txt16_blk\" onclick=\"ga('send', 'event', 'Trending News Widget', 'News Consumption','3972161_Trending News_pos1');\"> From iPhone 11 Pro to Huawei Mate 30 Pro: Our picks from the best of the best </a>    </div>    <ul>                        <li> <a href=\"https://www.moneycontrol.com/news/business/companies/microsoft-japan-spikes-productivity-by-40-after-employees-start-working-4-days-a-week-4604031.html\" title=\"Microsoft Japan spikes productivity by 40% after employees shift to 4-day week\"  onclick=\"ga('send', 'event', 'Trending News Widget', 'News Consumption','3972161_Trending News_pos2');\">Microsoft Japan spikes productivity by 40% after employees shift to 4-day week</a> </li>                  <li> <a href=\"https://www.moneycontrol.com/news/technology/xiaomi-launches-mi-cc9-pro-and-mi-tv-5-pro-qled-tv-in-china-everything-you-need-to-know-4605891.html\" title=\"Xiaomi launches Mi CC9 Pro, Mi 5 Pro QLED TV in China: Everything you need to know\"  onclick=\"ga('send', 'event', 'Trending News Widget', 'News Consumption','3972161_Trending News_pos3');\">Xiaomi launches Mi CC9 Pro, Mi 5 Pro QLED TV in China: Everything you need to know</a> </li>                  <li> <a href=\"https://www.moneycontrol.com/news/trends/new-zealand-cafe-apologises-for-calling-toddler-terrifying-on-receipt-4606131.html\" title=\"Café apologises for calling toddler “terrifying” on bill receipt\"  onclick=\"ga('send', 'event', 'Trending News Widget', 'News Consumption','3972161_Trending News_pos4');\">Café apologises for calling toddler “terrifying” on bill receipt</a> </li>                  <li> <a href=\"https://www.moneycontrol.com/news/technology/auto/what-has-tata-changed-in-the-nexon-facelift-4604561.html\" title=\"What has Tata changed in the Nexon Facelift?\"  onclick=\"ga('send', 'event', 'Trending News Widget', 'News Consumption','3972161_Trending News_pos5');\">What has Tata changed in the Nexon Facelift?</a> </li>          </ul>  </div></div><!-- trending news --> </aside><!--right --></div></section><section class=\"add-970-90 hide-mobile\"><div class=\"home-mid-contener clearfix\" id=\"\">                    <div id=Moneycontrol/MC_News/MC_News_Internal_728x90_2><script type=\"text/javascript\" defer=\"defer\">var width = window.innerWidth || document.documentElement.clientWidth;\r\n",
      "\t\tadKey = \"Moneycontrol/MC_News/MC_News_Internal_728x90_2\";\r\n",
      "\t\tif (width >= 768 && adKey.indexOf(\"Moneycontrol\") != -1 && adKey.indexOf(\"Moneycontrol_Mobile_WAP\") < 0) {\r\n",
      "\t\t\tgoogletag.cmd.push(function() { googletag.display(\"Moneycontrol/MC_News/MC_News_Internal_728x90_2\") });\r\n",
      "\t\t}\r\n",
      "\r\n",
      "\t\tif (width <= 768 && adKey.indexOf(\"Moneycontrol_Mobile_WAP\") != -1) {\r\n",
      "\t\t\tgoogletag.cmd.push(function() { googletag.display(\"Moneycontrol/MC_News/MC_News_Internal_728x90_2\") });\r\n",
      "\t\t}</script></div></div></section><div class=\"MB35\"></div></div>                    \n",
      "                                \t                <div class=\"article_page infinite-scroll\" id=\"page2\" data-url=\"https://www.moneycontrol.com/news/business/markets/trade-setup-for-wednesday-top-15-things-to-know-before-the-opening-bell-4-4606271.html\" data-title=\"Trade Setup for Wednesday: Top 15 things to know before the Opening Bell\" data-id=\"4606271\" data-topic=\"\" data-scid=\"\" data-cat=\"Business\" data-autono=\"13148641\" data-description=\"According to the pivot charts, the key support level for the Nifty is placed at 11,859.73, followed by 11,802.27.\"></div>                                \t                <div class=\"article_page infinite-scroll\" id=\"page3\" data-url=\"https://www.moneycontrol.com/news/business/rec-net-down-24-at-rs-1322-crore-in-q2-4607481.html\" data-title=\"REC net down 24% at Rs 1,322 crore in Q2\" data-id=\"4607481\" data-topic=\"246856\" data-scid=\"REC02\" data-cat=\"Business\" data-autono=\"13148681\" data-description=\"The loan book of the company has increased to Rs 3.01 lakh crore as at September 30, 2019, as against Rs 2.57 lakh crore as at September 30, 2018, reflecting a growth of 17 percent.\"></div>                                \t                <div class=\"article_page infinite-scroll\" id=\"page4\" data-url=\"https://www.moneycontrol.com/news/business/sebi-issues-circular-on-aadhaar-e-kyc-for-investors-4607211.html\" data-title=\"Sebi issues circular on Aadhaar e-KYC for investors\" data-id=\"4607211\" data-topic=\"\" data-scid=\"\" data-cat=\"Business\" data-autono=\"13148701\" data-description=\"Under the Prevention of Money Laundering Act (PMLA), entities in the securities market that are notified by the central government can undertake Aadhaar authentication.\"></div>                                \t\t    \n",
      "  \n",
      "\n",
      "    <div class=\"scroll-paginate\" style=\"bottom:-50%;\">      <ul class=\"bxslider\">        \n",
      "        <li>          <div class=\"paginate-section-nav clearfix\" id=\"paginav1\">            <div class=\"page-title PR\">              <div class=\"dis-in-blk w15\"><img class=\"MC_img\" src=\"http://static.english.pradesh18.com/pix/images/grey_bg.gif\" data-src=\"https://static-news.moneycontrol.com/static-mcnews/2019/04/Polycab1-770x433.jpg\" /></div>              <div class=\"dis-in-blk w75 height-cont\"><a href=\"javascript:;\" onClick=\"scrollToPage(1)\"> Polycab India Q4 net profit down 27.3%; to spend Rs 175-200cr annually...</a></div>              <div class=\"scroll_progress\"></div>            </div>          </div>        </li>                \t                             \n",
      "        <li>          <div class=\"paginate-section-nav clearfix\" id=\"paginav2\">            <div class=\"page-title PR\">                <div class=\"dis-in-blk w15\"><img  class=\"MC_img\" src=\"http://static.english.pradesh18.com/pix/images/grey_bg.gif\" data-src=\"https://static-news.moneycontrol.com/static-mcnews/2019/08/Sensex_BSE_NSE_market_Stocks_Stock-market-378x213.jpg\" onerror=\"this.src='https://static-news.moneycontrol.com/static-mcnews/2017/10/default_news_image_opt6-378x212.jpg';\" /></div>              <div class=\"dis-in-blk w75 height-cont\"><a href=\"javascript:;\" onClick=\"scrollToPage(2)\"> Trade Setup for Wednesday: Top 15 things to know before the Opening...</a></div>              <div class=\"scroll_progress\"></div>            </div>           \n",
      "          </div>  \n",
      "        </li>               \t                             \n",
      "        <li>          <div class=\"paginate-section-nav clearfix\" id=\"paginav3\">            <div class=\"page-title PR\">                <div class=\"dis-in-blk w15\"><img  class=\"MC_img\" src=\"http://static.english.pradesh18.com/pix/images/grey_bg.gif\" data-src=\"https://static-news.moneycontrol.com/static-mcnews/2017/07/earnings_-378x213.jpg\" onerror=\"this.src='https://static-news.moneycontrol.com/static-mcnews/2017/10/default_news_image_opt6-378x212.jpg';\" /></div>              <div class=\"dis-in-blk w75 height-cont\"><a href=\"javascript:;\" onClick=\"scrollToPage(3)\">REC net down 24% at Rs 1,322 crore in Q2</a></div>              <div class=\"scroll_progress\"></div>            </div>           \n",
      "          </div>  \n",
      "        </li>               \t                             \n",
      "        <li>          <div class=\"paginate-section-nav clearfix\" id=\"paginav4\">            <div class=\"page-title PR\">                <div class=\"dis-in-blk w15\"><img  class=\"MC_img\" src=\"http://static.english.pradesh18.com/pix/images/grey_bg.gif\" data-src=\"https://static-news.moneycontrol.com/static-mcnews/2018/10/RTX1KFZL-378x213.jpg\" onerror=\"this.src='https://static-news.moneycontrol.com/static-mcnews/2017/10/default_news_image_opt6-378x212.jpg';\" /></div>              <div class=\"dis-in-blk w75 height-cont\"><a href=\"javascript:;\" onClick=\"scrollToPage(4)\">Sebi issues circular on Aadhaar e-KYC for investors</a></div>              <div class=\"scroll_progress\"></div>            </div>           \n",
      "          </div>  \n",
      "        </li>               \t\t      </ul>    \n",
      "    </div>    <div class=\"menuwrap-new\">      \n",
      "            <div class=\"f-menulist-in footer-menu-open\" style=\"display:none\">                <ul>                     <li>                        <a href=\"http://www.moneycontrol.com/\">Home</a>                     </li>                     <li>                        <a href=\"http://www.moneycontrol.com/news/business/\">Business</a>                     </li>                     <li>                        <a href=\"http://www.moneycontrol.com/news/business/markets/\">Markets</a>                     </li>                     <li>                        <a href=\"http://www.moneycontrol.com/news/business/stocks/\">Stocks</a>                     </li>                      <li>                        <a href=\"http://www.moneycontrol.com/news/business/economy/\">Economy</a>                     </li>                    <li>                        <a href=\"http://www.moneycontrol.com/equity-research/\">Research</a>                     </li>                     <li>                        <a href=\"http://www.moneycontrol.com/news/business/mutual-funds/\">Mutual Funds</a>                     </li>                     <li>                        <a href=\"http://www.moneycontrol.com/personal-finance/\">Personal Finance</a>                     </li>                     <li>                        <a href=\"http://www.moneycontrol.com/news/business/ipo/\">IPO</a>                     </li>                      <li>                        <a href=\"http://www.moneycontrol.com/news/politics/\">Politics</a>                     </li>                    <li>                        <a href=\"http://www.moneycontrol.com/news/india/\">India</a>                     </li>                     <li>                        <a href=\"http://www.moneycontrol.com/news/world/\">World</a>                     </li>                     <li>                        <a href=\"http://www.moneycontrol.com/news/technology/\">Technology</a>                     </li>                     <li>                        <a href=\"http://www.moneycontrol.com/news/startups.html\">Startups</a>                     </li>                     <li>                        <a href=\"http://www.moneycontrol.com/news/technology/auto\">Auto</a>                     </li>                        \n",
      "                </ul>            </div>  \n",
      "   \n",
      "        <div class=\"f-menulist footer-menu\" style=\"display:none\">            <span class=\"iconfa-lock menu_arrow\"></span>         <img style=\"cursor: pointer;\" alt=\"arrow\" class=\"MC_img\" src=\"http://static.english.pradesh18.com/pix/images/grey_bg.gif\" data-src=\"data:image/png;base64,iVBORw0KGgoAAAANSUhEUgAAACsAAAA+CAYAAACyRuLoAAAAGXRFWHRTb2Z0d2FyZQBBZG9iZSBJbWFnZVJlYWR5ccllPAAAAyJpVFh0WE1MOmNvbS5hZG9iZS54bXAAAAAAADw/eHBhY2tldCBiZWdpbj0i77u/IiBpZD0iVzVNME1wQ2VoaUh6cmVTek5UY3prYzlkIj8+IDx4OnhtcG1ldGEgeG1sbnM6eD0iYWRvYmU6bnM6bWV0YS8iIHg6eG1wdGs9IkFkb2JlIFhNUCBDb3JlIDUuMy1jMDExIDY2LjE0NTY2MSwgMjAxMi8wMi8wNi0xNDo1NjoyNyAgICAgICAgIj4gPHJkZjpSREYgeG1sbnM6cmRmPSJodHRwOi8vd3d3LnczLm9yZy8xOTk5LzAyLzIyLXJkZi1zeW50YXgtbnMjIj4gPHJkZjpEZXNjcmlwdGlvbiByZGY6YWJvdXQ9IiIgeG1sbnM6eG1wPSJodHRwOi8vbnMuYWRvYmUuY29tL3hhcC8xLjAvIiB4bWxuczp4bXBNTT0iaHR0cDovL25zLmFkb2JlLmNvbS94YXAvMS4wL21tLyIgeG1sbnM6c3RSZWY9Imh0dHA6Ly9ucy5hZG9iZS5jb20veGFwLzEuMC9zVHlwZS9SZXNvdXJjZVJlZiMiIHhtcDpDcmVhdG9yVG9vbD0iQWRvYmUgUGhvdG9zaG9wIENTNiAoV2luZG93cykiIHhtcE1NOkluc3RhbmNlSUQ9InhtcC5paWQ6MzNDMDU1RjNCN0MxMTFFNzgxMzdFMDU2QjlCRTMxQjQiIHhtcE1NOkRvY3VtZW50SUQ9InhtcC5kaWQ6MzNDMDU1RjRCN0MxMTFFNzgxMzdFMDU2QjlCRTMxQjQiPiA8eG1wTU06RGVyaXZlZEZyb20gc3RSZWY6aW5zdGFuY2VJRD0ieG1wLmlpZDozM0MwNTVGMUI3QzExMUU3ODEzN0UwNTZCOUJFMzFCNCIgc3RSZWY6ZG9jdW1lbnRJRD0ieG1wLmRpZDozM0MwNTVGMkI3QzExMUU3ODEzN0UwNTZCOUJFMzFCNCIvPiA8L3JkZjpEZXNjcmlwdGlvbj4gPC9yZGY6UkRGPiA8L3g6eG1wbWV0YT4gPD94cGFja2V0IGVuZD0iciI/PsSy6LwAAACESURBVHja7NfBCYAwDAXQVp3EuRxBp3EEXUsnEerBeysoivJyDTSvJfBpTCmFr1SEhYWFPbB1Py03ndUW+uvVAc2JIeGhyxSrCh8qWFhYWFhYWFjYJ6rJNbexewc1zNYANvdhTF4WFlYoWANYoQALKxSsAaxQgIWFhYWFhYWF/Q12F2AAoEIny+HyDgcAAAAASUVORK5CYII=\">   \n",
      "         </div>         </div>  </div></div><div class=\"footer-menu-autopen\"></div><script type='text/javascript'></script><script type=\"text/javascript\">    \n",
      "var related_Ids = \"4606271,4607481,4607211\";\n",
      "//var related_Ids = \"2391469,2391509,2391439\";\n",
      "\n",
      "related_Ids  = JSON.parse(\"[\" + related_Ids + \"]\");\n",
      "var site_Url = \t'https://www.moneycontrol.com/news/';\n",
      "var IS_EU    =  '1';\n",
      "IS_EU    =  '0';</script><script src=\"//stat1.moneycontrol.com/mcnews/js/mcnews-infinite-scroll.js?v=04112019\" type=\"text/jscript\" rel=\"dns-prefetch\" async></script><script type=\"text/javascript\">playInfiniteScroll = \"true\";</script><link rel=\"stylesheet\" href=\"https://www.moneycontrol.com/news/css/jw_player_news.css\" ><script type=\"text/javascript\">function createCookie(name,value,days) {\n",
      "\tvar expires=\"\";\n",
      "\tif (days) {\n",
      "\t\tvar date = new Date();\n",
      "\t\tdate.setTime(date.getTime()+(days*24*60*60*1000));\n",
      "\t\texpires = \"; expires=\"+date.toGMTString();\n",
      "\t}\n",
      "\telse { expires = \"\"; }\n",
      "\tdocument.cookie = name+\"=\"+value+expires+\"; path=/\";\n",
      "\t}\n",
      "\t\n",
      "\tfunction getCookie(cname){\n",
      "\t\tvar name = cname + \"=\";\n",
      "\t\tvar ca = document.cookie.split(';');\n",
      "\t\tfor(var i=0; i<ca.length; i++) {\n",
      "\t\t\tvar c = ca[i].trim();\n",
      "\t\t\tif (c.indexOf(name) === 0) {return c.substring(name.length,c.length); }\n",
      "\t\t}\n",
      "\t\treturn \"\";\n",
      "\t}\n",
      "var width = window.innerWidth || document.documentElement.clientWidth;\n",
      "if (width > 768 ) {\n",
      "\t\n",
      "        var fp_pop_under = getCookie(\"mc_fp_pop_under_v1\");\n",
      "\tvar n18_pop_under = getCookie(\"mc_n18_pop_under\");\n",
      "\n",
      "\t//if(!fp_pop_under) {\n",
      "\t//\tdocument.write(\"<script language='javascript' type='text/javascript' src='https://stat.moneycontrol.co.in/mcjs/common/firstpost_popunder.js?v=0.3'><\\/sc\" + \"ript>\");\n",
      "\t//} else if(!n18_pop_under) {\n",
      "\t//\tdocument.write(\"<script language='javascript' type='text/javascript' src='https://stat.moneycontrol.co.in/mcjs/common/news18_popunder.js?v=0.1'><\\/sc\" + \"ript>\");\n",
      "\t//}\n",
      "}</script><script>    \n",
      "    $('.paginate-section-nav').click(function(){\n",
      "        setTimeout(function(){\n",
      "            console.log(\"IN VIEW\");\n",
      "            $('.bxslider .active')[0].scrollIntoView();  \n",
      "        }, 3000);    \n",
      "    });\n",
      "    </script><div class=\"ads-320-250 show-moblie mbottom\"><div id=Moneycontrol_Mobile_WAP/MC_WAP_News/MC_WAP_News_Internal_300x250_2><script type=\"text/javascript\" defer=\"defer\">var width = window.innerWidth || document.documentElement.clientWidth;\r\n",
      "\t\tadKey = \"Moneycontrol_Mobile_WAP/MC_WAP_News/MC_WAP_News_Internal_300x250_2\";\r\n",
      "\t\tif (width >= 768 && adKey.indexOf(\"Moneycontrol\") != -1 && adKey.indexOf(\"Moneycontrol_Mobile_WAP\") < 0) {\r\n",
      "\t\t\tgoogletag.cmd.push(function() { googletag.display(\"Moneycontrol_Mobile_WAP/MC_WAP_News/MC_WAP_News_Internal_300x250_2\") });\r\n",
      "\t\t}\r\n",
      "\r\n",
      "\t\tif (width <= 768 && adKey.indexOf(\"Moneycontrol_Mobile_WAP\") != -1) {\r\n",
      "\t\t\tgoogletag.cmd.push(function() { googletag.display(\"Moneycontrol_Mobile_WAP/MC_WAP_News/MC_WAP_News_Internal_300x250_2\") });\r\n",
      "\t\t}</script></div></div><!-- Moneycontrol Footer start here --><script>var google_ad_code = \"MC_180x600_ROS\";</script><footer class =' respons_foot_desk  ftinsde'>  <div class=\"main-wrapper\">    <div class=\"clearfix\">      <div class=\"FL ic_logofooter MT5\"> </div>      <div class=\"FL fsoci\"> \r\n",
      "        <a href=\"http://mmb.moneycontrol.com/\" title=\"Forum\" target=\"_blank\" rel=\"nofollow\" class=\"ic_forum\"></a> \r\n",
      "        <a href=\"http://www.facebook.com/moneycontrolFB\" title=\"Facebook\" target=\"_blank\" rel=\"nofollow\" class=\"ic_fb\"></a> \r\n",
      "        <a href=\"http://twitter.com/moneycontrolcom\" title=\"Twitter\" target=\"_blank\" rel=\"nofollow\" class=\"ic_tweet\"></a> \r\n",
      "        <a href=\"https://www.instagram.com/moneycontrolcom/\" title=\"Instagram\" target=\"_blank\" rel=\"nofollow\" class=\"ic_instagram_mn\"></a>        <a href=\"https://www.linkedin.com/company/moneycontrol\" title=\"Linkedin\" target=\"_blank\" rel=\"nofollow\" class=\"ic_in\"></a>        <a href=\"javascript:;\" title=\"Pint\" target=\"_blank\" rel=\"nofollow\" class=\"ic_pint\"></a> \r\n",
      "        <a href=\"http://www.moneycontrol.com/india/newsarticle/rssfeeds/rssfeeds.php\" title=\"RSS\" target=\"_blank\" class=\"ic_blg\"></a> \r\n",
      "      </div>    </div>    <div class=\"bgwhite clearfix MT15 PR\"> <a href=\"javascript:void(0);\" onclick=\"go_on_top();\" title=\"Go on top\" class=\"FR gotop\"></a>      <div class=\"FL footleft\">        <div class=\"clearfix brd_b PB10\">          <ul class=\"flinkl1 FL \">            <li><a href=\"http://www.moneycontrol.com/india/bestportfoliomanager/investment-tool\" title=\"Portfolio\">Portfolio</a></li>            <li><a href=\"http://www.moneycontrol.com/stocksmarketsindia/\" title=\"Markets\">Markets</a></li>            <li><a href=\"http://www.moneycontrol.com/portfolio_demo/stock_watchlist.php\" title=\"Watchlist\">Watchlist</a></li>            <li><a href=\"http://www.moneycontrol.com/tv/\" title=\"Live TV Show\">Live TV Show</a></li>            <li><a href=\"http://www.moneycontrol.com/mccode/currencies/\" title=\"Currencies\">Currencies</a></li>            <li><a href=\"http://www.moneycontrol.com/commodity/\" title=\"Commodities\">Commodities</a></li>            <li><a href=\"http://www.moneycontrol.com/fixed-income/\" title=\"Fixed Income\">Fixed Income</a></li>            <li><a href=\"http://www.moneycontrol.com/personal-finance/\" title=\"Personal Finance\">Personal Finance</a></li>          </ul>          <ul class=\"flinkl1 FL\">            <li><a href=\"http://www.moneycontrol.com/mutualfundindia/\" title=\"Mutual Fund\">Mutual Fund</a></li>            <li><a href=\"http://www.moneycontrol.com/stocksmarketsindia/\" title=\"Stock Market India\">Stock Market India</a></li>            <li><a href=\"http://www.moneycontrol.com/ipo/\" title=\"IPO\">IPO</a></li>            <li><a href=\"http://www.moneycontrol.com/markets/global-indices/\" title=\"Global Market\">Global Market</a></li><li><a href=\"https://www.moneycontrol.com/stock-screener/\" title=\"Stock Screener\">Stock Screener <sup><img src=\"https://img-d02.moneycontrol.co.in//images/common/header/beta_icon.gif\" alt=\"Stock Screener\" title=\"Stock Screener\" /></sup></a></li><li><a href=\"https://www.moneycontrol.com/budget-2019/\" title=\"Budget 2019\">Budget 2019</a></li>                                    <li><a href=\"http://www.moneycontrol.com/sensex/bse/sensex-live\" title=\"BSE Sensex\">BSE Sensex</a></li>            <li><a href=\"http://mmb.moneycontrol.com/\" title=\"Forum\" target=\"_blank\" rel=\"nofollow\">Forum</a></li>          </ul>          <div class=\"flinkl2 FR\">            <div class=\"flhd1 PL5\">News</div>            <ul class=\"flinkl2\">              <li><a href=\"http://www.moneycontrol.com/news/business\" title=\"Business\">Business</a></li>              <li><a href=\"http://www.moneycontrol.com/news/business/markets\" title=\"Markets\">Markets</a></li>              <li><a href=\"http://www.moneycontrol.com/news/business/stocks\" title=\"Stocks\">Stocks</a></li>              <li><a href=\"http://www.moneycontrol.com/news/business/economy\" title=\"Economy\">Economy</a></li>              <li><a href=\"http://www.moneycontrol.com/news/business/mutual-funds\" title=\"Mutual Funds\">Mutual Funds</a></li>              <li><a href=\"http://www.moneycontrol.com/news/business/personal-finance\" title=\"Personal Finance\">Personal Finance</a></li>              <li><a href=\"http://www.moneycontrol.com/news/business/ipo\" title=\"IPO\">IPO</a></li>              <li><a href=\"http://www.moneycontrol.com/news/business/startups\" title=\"Startups\">Startups</a></li>            </ul>          </div>        </div>        <div class=\"PB10 brd_b MT5\">          <div class=\"flS2\">            <span class=\"tx14_blu\"><a href=\"http://www.moneycontrol.com/india/stockpricequote/\" title=\"Stocks\">Stocks</a>:</span> \r\n",
      "                          <a href=\"http://www.moneycontrol.com/india/stockpricequote/A\" title=\"A\"> A</a> |\r\n",
      "                          <a href=\"http://www.moneycontrol.com/india/stockpricequote/B\" title=\"B\"> B</a> |\r\n",
      "                          <a href=\"http://www.moneycontrol.com/india/stockpricequote/C\" title=\"C\"> C</a> |\r\n",
      "                          <a href=\"http://www.moneycontrol.com/india/stockpricequote/D\" title=\"D\"> D</a> |\r\n",
      "                          <a href=\"http://www.moneycontrol.com/india/stockpricequote/E\" title=\"E\"> E</a> |\r\n",
      "                          <a href=\"http://www.moneycontrol.com/india/stockpricequote/F\" title=\"F\"> F</a> |\r\n",
      "                          <a href=\"http://www.moneycontrol.com/india/stockpricequote/G\" title=\"G\"> G</a> |\r\n",
      "                          <a href=\"http://www.moneycontrol.com/india/stockpricequote/H\" title=\"H\"> H</a> |\r\n",
      "                          <a href=\"http://www.moneycontrol.com/india/stockpricequote/I\" title=\"I\"> I</a> |\r\n",
      "                          <a href=\"http://www.moneycontrol.com/india/stockpricequote/J\" title=\"J\"> J</a> |\r\n",
      "                          <a href=\"http://www.moneycontrol.com/india/stockpricequote/K\" title=\"K\"> K</a> |\r\n",
      "                          <a href=\"http://www.moneycontrol.com/india/stockpricequote/L\" title=\"L\"> L</a> |\r\n",
      "                          <a href=\"http://www.moneycontrol.com/india/stockpricequote/M\" title=\"M\"> M</a> |\r\n",
      "                          <a href=\"http://www.moneycontrol.com/india/stockpricequote/N\" title=\"N\"> N</a> |\r\n",
      "                          <a href=\"http://www.moneycontrol.com/india/stockpricequote/O\" title=\"O\"> O</a> |\r\n",
      "                          <a href=\"http://www.moneycontrol.com/india/stockpricequote/P\" title=\"P\"> P</a> |\r\n",
      "                          <a href=\"http://www.moneycontrol.com/india/stockpricequote/Q\" title=\"Q\"> Q</a> |\r\n",
      "                          <a href=\"http://www.moneycontrol.com/india/stockpricequote/R\" title=\"R\"> R</a> |\r\n",
      "                          <a href=\"http://www.moneycontrol.com/india/stockpricequote/S\" title=\"S\"> S</a> |\r\n",
      "                          <a href=\"http://www.moneycontrol.com/india/stockpricequote/T\" title=\"T\"> T</a> |\r\n",
      "                          <a href=\"http://www.moneycontrol.com/india/stockpricequote/U\" title=\"U\"> U</a> |\r\n",
      "                          <a href=\"http://www.moneycontrol.com/india/stockpricequote/V\" title=\"V\"> V</a> |\r\n",
      "                          <a href=\"http://www.moneycontrol.com/india/stockpricequote/W\" title=\"W\"> W</a> |\r\n",
      "                          <a href=\"http://www.moneycontrol.com/india/stockpricequote/X\" title=\"X\"> X</a> |\r\n",
      "                          <a href=\"http://www.moneycontrol.com/india/stockpricequote/Y\" title=\"Y\"> Y</a> |\r\n",
      "                          <a href=\"http://www.moneycontrol.com/india/stockpricequote/Z\" title=\"Z\"> Z</a> |\r\n",
      "                        <a href=\"http://www.moneycontrol.com/india/stockpricequote/others\" title=\"Others\">Others</a>          </div>          <div class=\"flS2\"> \r\n",
      "            <span class=\"tx14_blu\">Mutual Funds:</span> \r\n",
      "                          <a href=\"http://www.moneycontrol.com/india/mutualfunds/mutualfundsinfo/snapshot/A\" title=\"A\"> A</a> \r\n",
      "             |               <a href=\"http://www.moneycontrol.com/india/mutualfunds/mutualfundsinfo/snapshot/B\" title=\"B\"> B</a> \r\n",
      "             |               <a href=\"http://www.moneycontrol.com/india/mutualfunds/mutualfundsinfo/snapshot/C\" title=\"C\"> C</a> \r\n",
      "             |               <a href=\"http://www.moneycontrol.com/india/mutualfunds/mutualfundsinfo/snapshot/D\" title=\"D\"> D</a> \r\n",
      "             |               <a href=\"http://www.moneycontrol.com/india/mutualfunds/mutualfundsinfo/snapshot/E\" title=\"E\"> E</a> \r\n",
      "             |               <a href=\"http://www.moneycontrol.com/india/mutualfunds/mutualfundsinfo/snapshot/F\" title=\"F\"> F</a> \r\n",
      "             |               <a href=\"http://www.moneycontrol.com/india/mutualfunds/mutualfundsinfo/snapshot/G\" title=\"G\"> G</a> \r\n",
      "             |               <a href=\"http://www.moneycontrol.com/india/mutualfunds/mutualfundsinfo/snapshot/H\" title=\"H\"> H</a> \r\n",
      "             |               <a href=\"http://www.moneycontrol.com/india/mutualfunds/mutualfundsinfo/snapshot/I\" title=\"I\"> I</a> \r\n",
      "             |               <a href=\"http://www.moneycontrol.com/india/mutualfunds/mutualfundsinfo/snapshot/J\" title=\"J\"> J</a> \r\n",
      "             |               <a href=\"http://www.moneycontrol.com/india/mutualfunds/mutualfundsinfo/snapshot/K\" title=\"K\"> K</a> \r\n",
      "             |               <a href=\"http://www.moneycontrol.com/india/mutualfunds/mutualfundsinfo/snapshot/L\" title=\"L\"> L</a> \r\n",
      "             |               <a href=\"http://www.moneycontrol.com/india/mutualfunds/mutualfundsinfo/snapshot/M\" title=\"M\"> M</a> \r\n",
      "             |               <a href=\"http://www.moneycontrol.com/india/mutualfunds/mutualfundsinfo/snapshot/N\" title=\"N\"> N</a> \r\n",
      "             |               <a href=\"http://www.moneycontrol.com/india/mutualfunds/mutualfundsinfo/snapshot/O\" title=\"O\"> O</a> \r\n",
      "             |               <a href=\"http://www.moneycontrol.com/india/mutualfunds/mutualfundsinfo/snapshot/P\" title=\"P\"> P</a> \r\n",
      "             |               <a href=\"http://www.moneycontrol.com/india/mutualfunds/mutualfundsinfo/snapshot/Q\" title=\"Q\"> Q</a> \r\n",
      "             |               <a href=\"http://www.moneycontrol.com/india/mutualfunds/mutualfundsinfo/snapshot/R\" title=\"R\"> R</a> \r\n",
      "             |               <a href=\"http://www.moneycontrol.com/india/mutualfunds/mutualfundsinfo/snapshot/S\" title=\"S\"> S</a> \r\n",
      "             |               <a href=\"http://www.moneycontrol.com/india/mutualfunds/mutualfundsinfo/snapshot/T\" title=\"T\"> T</a> \r\n",
      "             |               <a href=\"http://www.moneycontrol.com/india/mutualfunds/mutualfundsinfo/snapshot/U\" title=\"U\"> U</a> \r\n",
      "             |               <a href=\"http://www.moneycontrol.com/india/mutualfunds/mutualfundsinfo/snapshot/V\" title=\"V\"> V</a> \r\n",
      "             |               <a href=\"http://www.moneycontrol.com/india/mutualfunds/mutualfundsinfo/snapshot/W\" title=\"W\"> W</a> \r\n",
      "             |               <a href=\"http://www.moneycontrol.com/india/mutualfunds/mutualfundsinfo/snapshot/X\" title=\"X\"> X</a> \r\n",
      "             |               <a href=\"http://www.moneycontrol.com/india/mutualfunds/mutualfundsinfo/snapshot/Y\" title=\"Y\"> Y</a> \r\n",
      "             |               <a href=\"http://www.moneycontrol.com/india/mutualfunds/mutualfundsinfo/snapshot/Z\" title=\"Z\"> Z</a> \r\n",
      "                      </div>        </div>        <div class=\"MT10 clearfix brd_b PB10\">          <div class=\"ic_crn FL\"></div>          <div class=\"FL ML15\">            <div class=\"tx14_blu\">Visit the App Store to see all our apps:</div>            <div class=\"clearfix MT5\">              <a class=\"FL ic_apple MR10\" target=\"_blank\" href=\"https://play.google.com/store/apps/details?id=com.divum.MoneyControl&referrer=utm_source%3DWebAppsPage%26utm_medium%3DInstallButton\"></a>              <a class=\"FL ic_apGl MR10\" target=\"_blank\" href=\"https://itunes.apple.com/app/apple-store/id408654600?pt=433541&ct=WebAppsPage_Install&mt=8\"></a>              <a class=\"FL ic_apwin\" target=\"_blank\" href=\"http://apps.microsoft.com/windows/en-in/app/a4555fed-7225-4159-8569-8cfac5e412e0\"></a>            </div>          </div>        </div>              </div>      <div class=\"FR clearfix footright\">        <div class=\"FL w170\">          <div class=\"flinkl2\">            <div class=\"flhd1 PL5\">Tools</div>            <ul>              <li><a href=\"http://www.moneycontrol.com/personal-finance/tools/retirement-planning-calculator.html\" title=\"Retirement Planning\">Retirement Planning</a></li>              <li><a href=\"http://www.moneycontrol.com/personal-finance/tools/emi-calculator.html\" title=\"EMI Calculator\">EMI Calculator</a></li>              <li><a href=\"http://www.moneycontrol.com/mf/sipcalculator.php\" title=\"SIP Calculator\">SIP Calculator</a></li>              <li><a href=\"http://www.moneycontrol.com/mf/sipplanner.php\" title=\"SIP Planner\">SIP Planner</a></li><li><a href=\"https://www.moneycontrol.com/stock-screener/\" title=\"Stock Screener\">Stock Screener <sup><img src=\"https://img-d02.moneycontrol.co.in//images/common/header/beta_icon.gif\" alt=\"Stock Screener\" title=\"Stock Screener\" /></sup></a></li>            </ul>          </div><div class=\"flinkl2 MT20\"><div class=\"flhd1 PL5\"> Useful Links</div><ul><li><a href=\"http://www.moneycontrol.com/sensex/bse/sensex-live\" title=\"Live Sensex\">Live Sensex</a></li><li><a href=\"http://www.moneycontrol.com/stocks/sectors/banks-public-sector.html\" title=\"Public Sector Banks\">Public Sector Banks</a></li><li><a href=\"http://www.moneycontrol.com/india/bestportfoliomanager/investment-tool\" title=\"Best Portfolio Manager\">Best Portfolio Manager</a></li><li><a href=\"http://www.moneycontrol.com/fixed-income/small-savings-schemes/\" title=\"Small Savings Schemes\">Small Savings Schemes</a></li><li><a href=\"http://www.moneycontrol.com/fixed-income/bonds/listed-bonds/\" title=\"Bonds\">Bonds</a></li><li><a href=\"https://www.topperlearning.com/\" title=\"TopperLearning\" target=\"_blank\" rel=\"nofollow\">TopperLearning</a></li><li><a href=\"https://www.caprep18.com/\" title=\"CAprep18\" target=\"_blank\" rel=\"nofollow\">CAprep18</a></li><li><a href=\"https://www.firstpost.com/\" title=\"Firstpost\" target=\"_blank\" rel=\"nofollow\">Firstpost</a></li><li><a href=\"https://www.news18.com/\" title=\"News18\" target=\"_blank\" rel=\"nofollow\">News18</a></li><li><a href=\"https://www.in.com/\" title=\"In.com\" target=\"_blank\" rel=\"nofollow\">In.com</a></li><li><a href=\"https://www.topperlearning.com/doubts-solutions/all-questions/\" title=\"Clear Study Doubts\" target=\"_blank\" rel=\"nofollow\">Clear Study Doubts</a></li><li><a href=\"https://www.topperlearning.com/become-partner\" title=\"Education Franchisee Opportunity\" target=\"_blank\" rel=\"nofollow\" style=\"display: inline-block;padding: 1px 5px;\">Education Franchisee Opportunity</a></li><li><a href=\"https://www.moneycontrol.com/news/tags/pr-post.html\" title=\"PR Post\" target=\"_blank\">PR Post <sup><img src=\"https://img-d02.moneycontrol.co.in//images/common/header/new_icon_animated.gif\" alt=\"PR Post\" title=\"PR Post\" /></sup></a></li></ul></div>        </div>        <div class=\"FR w170\">          <div class=\"flinkl2\">            <div class=\"flhd1 PL5\">Specials</div>            <ul>              <li><a href=\"http://www.moneycontrol.com/master-your-money/?utm_source=specials\" title=\"Master Your Money\" target=\"_blank\">Master Your Money</a></li>              <li><a href=\"http://www.moneycontrol.com/gamechangers/\" title=\"Game Changers\" target=\"_blank\">Game Changers</a></li>              <li><a href=\"http://www.moneycontrol.com/travelcafe/\" title=\"Travelcafe\" target=\"_blank\">Travelcafe</a></li>              <li><a href=\"http://www.moneycontrol.com/sme/sme-special.html\" title=\"SME Special\" target=\"_blank\">SME Special</a></li>              <li><a href=\"http://investmentwatch.moneycontrol.com/\" title=\"Investment Watch\" target=\"_blank\" rel=\"nofollow\">Investment Watch</a></li>              <li><a href=\"http://poweryourtrade.moneycontrol.com/\" title=\"PowerYourTrade\" target=\"_blank\" rel=\"nofollow\">PowerYourTrade</a></li>              <li><a href=\"http://moneybhai.moneycontrol.com/\" title=\"MoneyBhai\" target=\"_blank\" rel=\"nofollow\">MoneyBhai</a></li>            </ul>          </div>          <div class=\"flinkl2 MT15\">            <div class=\"flhd1 PL5\">Focus</div>            <ul>                            <li><a href=\"http://www.moneycontrol.com/gestepahead/\" title=\"GE Step Ahead\" target=\"_blank\">GE Step Ahead</a></li>              <li><a href=\"http://www.moneycontrol.com/sme/\" title=\"SME Step Up\" target=\"_blank\">SME Step Up</a></li>            </ul>          </div><div class=\"flinkl2 MT15\"><div class=\"flhd1 PL5\">Network 18 Sites</div><ul><li><a href=\"https://www.news18.com/\" title=\"News18\" target=\"_blank\">News18</a></li><li><a href=\"https://www.firstpost.com/\" title=\"Firstpost\" target=\"_blank\">Firstpost</a></li><li><a href=\"https://www.cnbctv18.com/\" title=\"CNBC TV18\" target=\"_blank\">CNBC TV18</a></li><li><a href=\"https://www.in.com/\" title=\"In.com\" target=\"_blank\">In.com</a></li><li><a href=\"https://www.news18.com/cricketnext/\" title=\"Cricketnext\" target=\"_blank\">Cricketnext</a></li><li><a href=\"http://overdrive.in/\" title=\"Overdrive\" target=\"_blank\">Overdrive</a></li><li><a href=\"https://www.topperlearning.com/\" title=\"Topper Learning\" target=\"_blank\">Topper Learning</a></li></ul></div>        </div>      </div>    </div>    <div class=\"ftCopy\">      <div class=\"flastLInk MT10\">        <a href=\"http://www.moneycontrol.com/cdata/aboutus.php\" title=\"About us\">About us</a> | \r\n",
      "        <a href=\"http://www.moneycontrol.com/cdata/contact.php\" title=\"Contact Us\">Contact Us</a> | \r\n",
      "        <a href=\"http://www.moneycontrol.com/cdata/feedback.php\" title=\"Support\">Support</a> | \r\n",
      "        <a href=\"http://www.moneycontrol.com/cdata/disclaim.php\" title=\"Disclaimer\">Disclaimer</a> | \r\n",
      "        <a href=\"https://www.moneycontrol.com/cdata/privacypolicy.php\" title=\"Privacy Policy\">Privacy Policy</a> | <a href=\"https://www.moneycontrol.com/cdata/gdpr_cookiepolicy.php\" title=\"Cookie Policy\">Cookie Policy</a> | \r\n",
      "        <a href=\"http://www.moneycontrol.com/cdata/termsofuse.php\" title=\"Terms & Conditions\">Terms & Conditions</a> | \r\n",
      "        <a href=\"http://www.moneycontrol.com/career/\" title=\"Careers\">Careers</a> | \r\n",
      "        <a href=\"http://www.moneycontrol.com/glossary/\" title=\"Financial Terms (Glossary)\">Financial Terms (Glossary)</a> | \r\n",
      "        <a href=\"http://www.moneycontrol.com/faqs/\" title=\"FAQs\"> FAQs</a> | \r\n",
      "        <a href=\"http://www.moneycontrol.com/news/sitemap/sitemap.php\" title=\"Sitemap\"> Sitemap</a> | \r\n",
      "        <a href=\"http://www.moneycontrol.com/india/newsarticle/rssfeeds/rssfeeds.php\" title=\"RSS Feed\">RSS Feed</a>      </div>      <p class=\"copyright MT10\"> Copyright © e-Eighteen.com Ltd. All rights reserved. Reproduction of news articles, photos, videos or any other content in whole or in part in any form \r\n",
      "        or medium without express writtern permission of moneycontrol.com is prohibited.</p>    </div>  </div><script>if($('.adfloat').length) {\r\n",
      "\tvar scradd = $(\".adfloat\").eq(0).offset().top;\r\n",
      "\t$(window).scroll(function(){\r\n",
      "\t\tif ($(window).scrollTop() > scradd){\r\n",
      "\t\t\t$('.adfloat').addClass('posfixadd');\r\n",
      "\t\t} else {\r\n",
      "\t\t\t$('.adfloat').removeClass('posfixadd');   \r\n",
      "\t\t}\r\n",
      "\t});\r\n",
      "}</script></footer><div class=\"footerMobile respons_foot_mob \">    \r\n",
      "    <div class=\"PA10  whbg\">    <div class=\"fresub_title\">Sections</div>        \r\n",
      "        <div class=\"footermobilink clearfix\">        <ul class=\"flinklist clearfix\">        <li><a href=\"http://m.moneycontrol.com/\" title=\"Home\">&raquo; Home</a></li>           <li><a href=\"http://m.moneycontrol.com/mmb/\" title=\"Forum\" target=\"_blank\" rel=\"nofollow\">&raquo; Forum</a></li>            <li><a href=\"http://m.moneycontrol.com/ipo/\" title=\"IPO\">&raquo; IPO</a></li>            <li><a href=\"http://m.moneycontrol.com/stocksmarketsindia/\" title=\"Markets\">&raquo; Markets</a></li>            <li><a href=\"http://m.moneycontrol.com/mutualfundindia/\" title=\"Mutual Funds\">&raquo; Mutual Funds</a></li><li><a href=\"https://www.moneycontrol.com/news/lok-sabha-election-2019/\" title=\"Elections 2019\">&raquo; Elections 2019</a></li><li><a href=\"https://www.moneycontrol.com/budget-2019/\" title=\"Budget 2019\">&raquo; Budget 2019</a></li>                                    <li><a href=\"http://m.moneycontrol.com/commodity/\" title=\"Commodities\">&raquo; Commodities</a></li>            <li><a href=\"http://m.moneycontrol.com/property/real-assets.html\" title=\"Real Asset\">&raquo; Real Asset</a></li>            <li><a href=\"http://www.moneycontrol.com/news/\" title=\"News\">&raquo; News</a></li>            <li><a href=\"http://m.moneycontrol.com/mccode/currencies/\" title=\"Currencies\">&raquo; Currencies</a></li>            <li><a href=\"http://m.moneycontrol.com/sme/sme-special.html\" title=\"SME Special\">&raquo; SME Special</a></li>            <li><a href=\"http://m.moneycontrol.com/india/bestportfoliomanager/investment-tool\" title=\"Portfolio\">&raquo; Portfolio</a></li>            <li><a href=\"http://m.moneycontrol.com/fixed-income/\" title=\"Fixed Income\">&raquo; Fixed Income</a></li>                        <li><a href=\"http://m.moneycontrol.com/portfolio_demo/stock_watchlist.php\" title=\"Watchlist\">&raquo; Watchlist</a></li>            <li><a href=\"https://www.moneycontrol.com/real-estate-property/\" title=\"Property\">&raquo; Property</a></li>            <li><a href=\"http://m.moneycontrol.com/news/business/stocks\" title=\"Stock List\">&raquo; Stock List</a></li>            <li><a href=\"http://m.moneycontrol.com/\" title=\"MF List\">&raquo; MF List</a></li>            <li><a href=\"http://m.moneycontrol.com/glossary/\" title=\"Glossary\">&raquo; Glossary</a></li>            <li><a href=\"http://m.moneycontrol.com/news/sitemap/sitemap.php\" title=\"Sitemap\">&raquo; Sitemap</a></li>            <li><a href=\"http://m.moneycontrol.com/tv/\" title=\"Live TV & Shows\">&raquo; Live TV & Shows</a></li>            <li><a href=\"http://m.moneycontrol.com/personal-finance/\" title=\"Personal Finance\">&raquo; Personal Finance</a></li>            <li><a href=\"http://m.poweryourtrade.com/\" title=\"PowerYourTrade\">&raquo; PowerYourTrade</a></li>        </ul>        \t\r\n",
      "                   \r\n",
      "        </div>    </div>    \r\n",
      "    <div class=\"PA10 whbg MT10\">    <div class=\"clearfix brd_b PB10\"> \r\n",
      "        \t        <a href=\"http://m.moneycontrol.com/gotomcweb.php?url=http%3A%2F%2Fwww.moneycontrol.com%2F%3Fclassic\" title=\"Desktop Version\" class=\"txtlonk_blue FR MT5\">Desktop Version &raquo;</a>        </div>        \r\n",
      "        <div class=\"PA15 brd_b\">        <div class=\"CTR txt14\">Follow us on</div>            <div class=\"CTR MT10\">              <a href=\"http://www.facebook.com/moneycontrolFB\" title=\"Facebook\" target=\"_blank\" rel=\"nofollow\" class=\"ic_fbfter\"></a>              <a href=\"http://twitter.com/moneycontrolcom\" title=\"Twitter\" target=\"_blank\" rel=\"nofollow\" class=\"ic_twtr\"></a>              \t\t\t  <a href=\"https://www.instagram.com/moneycontrolcom/\" title=\"Instagram\" target=\"_blank\" rel=\"nofollow\" class=\"ic_instagram_mn\"></a>            </div>        </div>        \r\n",
      "        <div class=\"PA10 brd_b PB10\">        <div class=\"CTR txt14\">Available On</div>            <div class=\"CTR MT10\">              <a href=\"https://play.google.com/store/apps/details?id=com.divum.MoneyControl&referrer=utm_source%3DWebAppsPage%26utm_medium%3DInstallButton\" title=\"Google Play\" target=\"_blank\" rel=\"nofollow\" class=\"ic_fapgpl\"></a>              <a href=\"https://itunes.apple.com/app/apple-store/id408654600?pt=433541&ct=WebAppsPage_Install&mt=8\" title=\"App Stoer\" target=\"_blank\" rel=\"nofollow\" class=\"ic_fapapstr\"></a>              <a href=\"http://apps.microsoft.com/windows/en-in/app/a4555fed-7225-4159-8569-8cfac5e412e0\" title=\"Windows Phone\" target=\"_blank\" rel=\"nofollow\" class=\"ic_fapwin\"></a>            </div>        </div>            </div><div class=\"ftCopy CTR\"><div class=\"flastLInk MT10 brd_b PB10 \"> <a href=\"http://m.moneycontrol.com/cdata/disclaim.php\" title=\"Disclaimer\">Disclaimer</a> | <a href=\"http://m.moneycontrol.com/cdata/termsofuse.php\" title=\"Terms & Conditions\">Terms & Conditions</a>  | <a href=\"https://www.moneycontrol.com/cdata/privacypolicy.php\" title=\"Privacy Policy\">Privacy Policy</a> | <a href=\"https://www.moneycontrol.com/cdata/gdpr_cookiepolicy.php\" title=\"Cookie Policy\">Cookie Policy</a> | <a href=\"http://www.moneycontrol.com/faqs/\" title=\"FAQs\"> FAQs</a> | <a href=\"http://m.moneycontrol.com/news/sitemap/sitemap.php\" title=\"Sitemap\"> Sitemap</a> | <a href=\"http://m.moneycontrol.com/cdata/feedback.php?flag=ot\" title=\"Feedback\">Feedback</a></div><div class=\"flastLInk MT10 brd_b PB10 \"> <b>Network 18 Sites: </b><a href=\"https://www.news18.com/\" title=\"News18\" target=\"_blank\">News18</a> | <a href=\"https://www.firstpost.com/\" title=\"Firstpost\" target=\"_blank\">Firstpost</a> | <a href=\"https://www.cnbctv18.com/\" title=\"CNBC TV18\" target=\"_blank\">CNBC TV18</a> | <a href=\"https://www.in.com/\" title=\"In.com\" target=\"_blank\">In.com</a> | <a href=\"https://www.news18.com/cricketnext/\" title=\"Cricketnext\" target=\"_blank\">Cricketnext</a> | <a href=\"http://overdrive.in/\" title=\"Overdrive\" target=\"_blank\">Overdrive</a> |<a href=\"https://www.topperlearning.com/\" title=\"Topper Learning\" target=\"_blank\">Topper Learning</a></div><p class=\"copyright MT10\"><span class=\"copymmv\"> Copyright &copy; e-Eighteen.com Ltd</span> All rights resderved. Reproduction of news articles, photos, videos or any other content in whole or in part in any form or medium without express writtern permission of moneycontrol.com is prohibited.</p></div></div><!-- Moneycontrol Footer end here --><!-- Arjun Tracking - Start --><script>var trckusrid = '';\n",
      "\tif( readCookie( 'user_loginid' ) ) {\n",
      "\t\ttrckusrid = \"mc_\" + readCookie( \"user_loginid\" );\n",
      "\t}\n",
      "\t(function() {\n",
      "\t\twindow._w18hn = \"MC\";\n",
      "\n",
      "\t\twindow._w18_config={\"microsite\":\"own\",\"sections\":\"business, companies, earnings, \",\"autono\":\"3972161\",\"data\":{\"autono\":\"3972161\",\"attributes\":[{\"c0\":\"news and media\",\"c1\":\"business\"},{\"c0\":\"news and media\",\"c1\":\"companies\"},{\"c0\":\"news and media\",\"c1\":\"earnings\"}],\"tag\":\"Business, Companies, Results\",\"post_type\":\"news\",\"category\":\"business\",\"object_type\":\"news and media\"},\"tags\":\"Business, Companies, Results\",\"language\":\"english\"};\n",
      "\t\tvar w18 = document.createElement('script'); w18.type = 'text/javascript'; w18.async = true;\n",
      "\t\tw18.src = 'https://s.in.com/common/script_catch.js';\n",
      "\t\tvar s = document.getElementsByTagName('script')[0]; s.parentNode.insertBefore(w18, s);\n",
      "\t})();</script><!-- End - Arjun Tracking --><!-- Moneycontrol Footer's file end here --><!-- Gutter Slot -> Start --><!-- End <- Gutter Slot --><!-- SEO Event Tracking -> Start  --><script type=\"text/javascript\">  $(document).ready(function() {\r\n",
      "    $( \"a\" ).click(function() {\r\n",
      "      var href = $.trim( $(this).attr( 'href' ) );\r\n",
      "\r\n",
      "      /* Module = MoneySavers -> Start */\r\n",
      "      if( href.indexOf( \"moneysavers\" ) >= 0 ) {\r\n",
      "        if( $(this).parent().parent().hasClass( 'headbotmmenus1' ) ) {\r\n",
      "          ga( 'send', 'event', 'MC_WEB', 'Web_Navigation_Link', 'WEB_NAV_RMF_MoneySavers' );\r\n",
      "        } else if( $(this).parent().parent().hasClass( 'splist' ) ) {\r\n",
      "          ga( 'send', 'event', 'MC_WEB', 'Special_Section', 'WEB_Special_MoneySavers' );\r\n",
      "        }\r\n",
      "      }\r\n",
      "      /* End <- Module = MoneySavers */\r\n",
      "\r\n",
      "    });\r\n",
      "  });</script><!-- End <- SEO Event Tracking --><!-- Tradenow popup -> Start --><link rel=\"stylesheet\" href=\"https://stat2.moneycontrol.com/mccss/tradenow/tradenow.css?v=1.9\" type=\"text/css\"><script type=\"text/javascript\" src=\"https://stat2.moneycontrol.com/mcjs/tradenow/tradenow_revamp.js?v=4\"></script><!-- End <- Tradenow popup --><!--login signup popup start--> <!--login signup popup end--><input type=\"hidden\" name=\"ip\" value=\"\" /><script src=\"https://accounts.moneycontrol.com/assets/js/mclogin/popupinclude.js?v=20181024\"></script><div id=\"mcloginpopup\"></div>        <!--login signup popup end--><script src=\"//stat1.moneycontrol.com/mcnews/js/owl.carousel.min.js\" type=\"text/jscript\" rel=\"dns-prefetch\" defer=\"defer\"></script><!--<link href=\"//stat1.moneycontrol.com/mcnews/css/mmb-comment.css\" rel=\"dns-prefetch stylesheet\" type=\"text/css\"/>--><link href=\"//stat1.moneycontrol.com/mcnews/css/owl.carousel.css\" rel=\"dns-prefetch stylesheet\" type=\"text/css\" defer=\"defer\"/><link href=\"//stat1.moneycontrol.com/mcnews/css/owl.theme.css\" rel=\"dns-prefetch stylesheet\" type=\"text/css\" defer=\"defer\"/><script src=\"//stat1.moneycontrol.com/mcnews/js/mcnews-script.js?v=0.5\" type=\"text/jscript\" rel=\"dns-prefetch\" async></script><script type=\"text/javascript\">var width = window.innerWidth || document.documentElement.clientWidth;\r\n",
      "if (width <= 768 ) {\r\n",
      "\t//var teads_script = document.createElement('script');\r\n",
      "\t//teads_script.setAttribute('src','//a.teads.tv/page/32275/tag');\r\n",
      "\t//teads_script.setAttribute('async','true');\r\n",
      "\t//document.body.appendChild(teads_script);\r\n",
      "}</script><script type=\"text/javascript\">function sector_newsletter(){\r\n",
      "\t\tvar email = document.getElementById(\"email_newsletter\").value;\r\n",
      "\t\temailRe = /^\\w+([\\.-]?\\w+)*@\\w+([\\.-]?\\w+)*\\.(\\w{2}|(com|net|org|edu|int|mil|gov|arpa|biz|aero|name|coop|info|pro|museum))$/\r\n",
      "\r\n",
      "\t\tif(email=='' || email=='Enter email address'){\r\n",
      "\t\t\talert(\"Enter Email address.\");\r\n",
      "\t\t\tdocument.getElementById('email_newsletter').focus();\r\n",
      "\t\t\treturn false;\r\n",
      "\t\t}else if(!emailRe.test(email))\r\n",
      "\t\t{\r\n",
      "\t\t\talert(\"Enter Valid Email\");\r\n",
      "\t\t\tdocument.getElementById('email_newsletter').focus();\r\n",
      "\t\t\treturn false;\r\n",
      "\t\t}else{\r\n",
      "\t\t\tvar emailstr = toHex(email);\r\n",
      "\t\t\tvar str = strrev(emailstr);\r\n",
      "\t\t\t\r\n",
      "\t\t\tdocument.nlfrm.action = 'https://www.moneycontrol.com/alerts/prel-alerts.php';\r\n",
      "\t\t\treturn true;\r\n",
      "\t\t}\r\n",
      "\t}\r\n",
      "\t\r\n",
      "\tfunction toHex(str) {\r\n",
      "\t\tvar hex = '';\r\n",
      "\t\tfor(var i=0;i<str.length;i++) {\r\n",
      "\t\t\thex += ''+str.charCodeAt(i).toString(16);\r\n",
      "\t\t}\r\n",
      "\t\treturn hex;\r\n",
      "\t}\r\n",
      "\tfunction strrev(str) {\r\n",
      "\t   if (!str) return '';\r\n",
      "\t   var revstr='';\r\n",
      "\t   for (i = str.length-1; i>=0; i--)\r\n",
      "\t\t   revstr+=str.charAt(i)\r\n",
      "\t   return revstr;\r\n",
      "\t}\r\n",
      "\t\r\n",
      "\t\t\r\n",
      "\t$(document).ready(function()  // common scripts are placed here \r\n",
      "\t{\r\n",
      "\t\tif(is_app == 0){\r\n",
      "\t\t\t//get_header_ad_details();\r\n",
      "\t\t}\r\n",
      "\t\t\r\n",
      "\t\t\r\n",
      "\t\t$('#bigtext').click(function(){\r\n",
      "\t\t\t\r\n",
      "\t\t\tcurSize= parseInt($('#mid').css('font-size')) + 2;\r\n",
      "\t\t\t$('#mid').css('font-size', curSize);\r\n",
      "\t\t\t$('#bigtext').hide();\r\n",
      "\t\t\t$('#smalltext').show();\r\n",
      "\t\t});  \r\n",
      "\t\t$('#smalltext').click(function(){\t   \r\n",
      "\t\t\tcurSize= parseInt($('#mid').css('font-size')) - 2;\r\n",
      "\t\t\t$('#mid').css('font-size', curSize);\r\n",
      "\t\t\t$('#bigtext').show();\r\n",
      "\t\t\t$('#smalltext').hide();\r\n",
      "\t\t}); \r\n",
      "\t\t\r\n",
      "\t\t$('#printpage').click(function() {\r\n",
      "\t\t\twindow.print();\r\n",
      "\t\t});\r\n",
      "\t\t$('#bookmark').click(function() {\r\n",
      "\t\t\tif (window.sidebar && window.sidebar.addPanel) { // Mozilla Firefox Bookmark\r\n",
      "\t\t\t  window.sidebar.addPanel(document.title, window.location.href, '');\r\n",
      "\t\t\t} else if (window.external && ('AddFavorite' in window.external)) { // IE Favorite\r\n",
      "\t\t\t  window.external.AddFavorite(location.href, document.title);\r\n",
      "\t\t\t} else if (window.opera && window.print) { // Opera Hotlist\r\n",
      "\t\t\t  this.title = document.title;\r\n",
      "\t\t\t  return true;\r\n",
      "\t\t\t} else { // webkit - safari/chrome\r\n",
      "\t\t\t  alert('Press ' + (navigator.userAgent.toLowerCase().indexOf('mac') != -1 ? 'Command/Cmd' : 'CTRL') + ' + D to bookmark this page.');\r\n",
      "\t\t\t}\r\n",
      "\t\t});\r\n",
      "\t\r\n",
      "\t\t$(\"#network_all\").addClass(\"active\"); // default active on ALL \r\n",
      "\t\t$('ul.networkTab li').click(function(e) \r\n",
      "\t       {\r\n",
      "\t\t    $('ul.networkTab li a.active').removeClass('active');\r\n",
      "\t\t    $(this).find(\"a\").addClass(\"active\");\r\n",
      "\t\t    var id = $(this).find(\"a\").attr(\"data-title\");\r\n",
      "\t\t    var siteUrl = \"//www.moneycontrol.com/news/\";\r\n",
      "\t\t    var postUrl= siteUrl+\"services/from_our_network.php?classic=true\";\r\n",
      "\t\t    $.post(postUrl,\r\n",
      "\t\t\t{\r\n",
      "\t\t\t    site_name: id,\r\n",
      "\t\t\t},\r\n",
      "\t\t\tfunction(data, status){\r\n",
      "\t\t\t    $(\"#network-carousel\").html(\"\");\r\n",
      "\t\t\t    $(\"#network-carousel\").html(data);\r\n",
      "\t\t\t    $(\"#network-carousel\").data('owlCarousel').reinit();\r\n",
      "\t\t    });\r\n",
      "\t       });\r\n",
      "\t    //Company Section Code\r\n",
      "\t\t\r\n",
      "\t\t$(\"#company_all\").addClass(\"active\"); // default active on ALL \r\n",
      "\t\t$('ul.companyTab li').click(function(e) \r\n",
      "\t       {\r\n",
      "\t\t    \r\n",
      "\t\t    $('ul.companyTab a.active').removeClass('active');\r\n",
      "\t\t    $(this).children(\"a\").addClass(\"active\");\r\n",
      "\t\t    var id = $(this).find(\"a\").attr(\"data-title\");\r\n",
      "\t\t    if(id != \"More\"){\r\n",
      "\t\t\t$('ul#more-links-panel li a').removeClass('target');\r\n",
      "\t\t\t$(\".company\").css(\"display\", \"none\");\r\n",
      "\t\t\t$(\".\"+id).fadeIn();\r\n",
      "\t\t    }\r\n",
      "\t\t    //\r\n",
      "\t       });\r\n",
      "\t\t\r\n",
      "\t\t$('ul#more-links-panel li').click(function(e) \r\n",
      "\t       {\r\n",
      "\t\t    $('ul#more-links-panel li a').removeClass('target');\r\n",
      "\t\t    $(this).find('a:first').addClass('target');\r\n",
      "\t\t    var id = $(this).find(\"a\").attr(\"data-title\");\r\n",
      "\t\t    $(\".company\").css(\"display\", \"none\");\r\n",
      "\t\t    $(\".\"+id).fadeIn();\r\n",
      "\t       });\r\n",
      "\t\t\r\n",
      "\t\t$('#popularLink,#topLink').click(function(e) \r\n",
      "\t       {\r\n",
      "\t\t    $(\".newsTabP\").css(\"display\", \"none\");\r\n",
      "\t\t    $('ul#newsTab a.active').removeClass('active');\r\n",
      "\t\t    $(this).addClass(\"active\");\r\n",
      "\t\t    var id = $(this).attr(\"data-title\");\r\n",
      "\t\t    \r\n",
      "\t\t    $(\"#\"+id).fadeIn();\r\n",
      "\t       });\r\n",
      "\t\t\r\n",
      "\t\t$('.gotop').click(function(){\r\n",
      "\t\t\t$(\"html, body\").animate({ scrollTop: 0 }, 600);\r\n",
      "\t\t\treturn false;\r\n",
      "\t\t});\r\n",
      "\r\n",
      "\t    \r\n",
      "\t});\r\n",
      "\t\r\n",
      "\tfunction ga_track(url,tag){\r\n",
      "\t\tga_url = url+tag;\r\n",
      "\t\tga('send', 'pageview', ga_url);\r\n",
      " \t}\r\n",
      "\t\r\n",
      "\twindow.store = {\r\n",
      "\t\tlocalStoreSupport : function() {\r\n",
      "\t\t    try {\r\n",
      "\t\t\treturn 'localStorage' in window && window['localStorage'] !== null;\r\n",
      "\t\t    } catch (e) {\r\n",
      "\t\t\treturn false;\r\n",
      "\t\t    }\r\n",
      "\t\t},\r\n",
      "\t\tset : function(name,value,days) {\r\n",
      "\t\t    if (days) {\r\n",
      "\t\t\tvar date = new Date();\r\n",
      "\t\t\tdate.setTime(date.getTime()+(days*24*60*60*1000));\r\n",
      "\t\t\tvar expires = \"; expires=\"+date.toGMTString();\r\n",
      "\t\t    }\r\n",
      "\t\t    else {\r\n",
      "\t\t\tvar expires = \"\";\r\n",
      "\t\t    }\r\n",
      "\t\t    if( this.localStoreSupport() ) {\r\n",
      "\t\t\tlocalStorage.setItem(name, value);\r\n",
      "\t\t    }\r\n",
      "\t\t    else {\r\n",
      "\t\t\tdocument.cookie = name+\"=\"+value+expires+\"; path=/\";\r\n",
      "\t\t    }\r\n",
      "\t\t},\r\n",
      "\t\tget : function(name) {\r\n",
      "\t\t    if( this.localStoreSupport() ) {\r\n",
      "\t\t\treturn localStorage.getItem(name);\r\n",
      "\t\t    }\r\n",
      "\t\t    else {\r\n",
      "\t\t\tvar nameEQ = name + \"=\";\r\n",
      "\t\t\tvar ca = document.cookie.split(';');\r\n",
      "\t\t\tfor(var i=0;i < ca.length;i++) {\r\n",
      "\t\t\t    var c = ca[i];\r\n",
      "\t\t\t    while (c.charAt(0)==' ') c = c.substring(1,c.length);\r\n",
      "\t\t\t    if (c.indexOf(nameEQ) == 0) return c.substring(nameEQ.length,c.length);\r\n",
      "\t\t\t}\r\n",
      "\t\t\treturn null;\r\n",
      "\t\t    }\r\n",
      "\t\t},\r\n",
      "\t\tdel : function(name) {\r\n",
      "\t\t    if( this.localStoreSupport() ) {\r\n",
      "\t\t\tlocalStorage.removeItem(name);\r\n",
      "\t\t    }\r\n",
      "\t\t    else {\r\n",
      "\t\t\tthis.set(name,\"\",-1);\r\n",
      "\t\t    }\r\n",
      "\t\t}\r\n",
      "\t    }\r\n",
      "\r\n",
      "\tfunction get_header_ad_details(){\r\n",
      "\r\n",
      "\t\tvar userAgent=navigator.userAgent.toLowerCase();\r\n",
      "\t\tvar deviceName=\"\";\r\n",
      "\t\tvar img_mcad=\"\";\r\n",
      "\t\tvar downloadLink=\"\";\r\n",
      "\t\tvar adstring=\"\";\r\n",
      "\t\tvar header_ad_flag=readCookie(\"header_ad\");\r\n",
      "\t\tif ((userAgent.search(\"iphone\") > -1) || (userAgent.search(\"ipod\") > -1)){\r\n",
      "\t\t\t    deviceName=\"iPhone\";\r\n",
      "\t\t\t    img_mcad = \"http://xmlns.cricketnext.com/mc-wap/images/ads/mc_iphone_app_download.png\";\r\n",
      "\t\t\t    downloadLink = 'https://itunes.apple.com/app/apple-store/id408654600?pt=433541&ct=WapPushDown&mt=8';\r\n",
      "\t\t}\r\n",
      "\t\tif ((userAgent.search(\"ipad\") > -1)){\r\n",
      "\t\t\t    deviceName='iPad';\r\n",
      "\t\t\t    img_mcad = \"http://xmlns.cricketnext.com/mc-wap/images/mc_on_ipad.jpg\";\r\n",
      "\t\t\t    downloadLink = 'https://itunes.apple.com/app/apple-store/id474708356?pt=433541&ct=WapPushDown&mt=8';\r\n",
      "\t\t}\r\n",
      "\t\tif ((userAgent.search(\"nokia\") > -1)){\r\n",
      "\t\t\t    deviceName='Nokia';  \r\n",
      "\t\t\t    img_mcad = \"http://xmlns.cricketnext.com/mc-wap/images/ads/mc_nokia_app_download.png\";\r\n",
      "\t\t\t    downloadLink = 'http://store.ovi.mobi/content/79473';\r\n",
      "\t\t}\r\n",
      "\t\tif ((userAgent.search(\"blackberry\") > -1)){\r\n",
      "\t\t\t    deviceName='Blackberry';  \r\n",
      "\t\t\t    img_mcad = \"http://xmlns.cricketnext.com/mc-wap/images/ads/mc_bb_app_download.png\";\r\n",
      "\t\t\t    downloadLink = 'http://appworld.blackberry.com/webstore/content/25706';\r\n",
      "\t\t}\r\n",
      "\t\tif ((userAgent.search(\"android\") > -1) && (userAgent.search(\"mobile\") > -1)){\r\n",
      "\t\t\t    deviceName='Android';\r\n",
      "\t\t\t    img_mcad = \"https://img.moneycontrol.co.in/images/promo/new_mc_android_devices2_24july.jpg\";\r\n",
      "\t\t\t    downloadLink = 'https://play.google.com/store/apps/details?id=com.divum.MoneyControl&referrer=utm_source%3DAndroidMobile%26utm_medium%3DWapPushDown%26utm_campaign%3DAppDownload';\r\n",
      "\t\t}\r\n",
      "\t\tif ((userAgent.search(\"android\") > -1) && !(userAgent.search(\"mobile\") > -1)){\r\n",
      "\t\t\t    deviceName='Android';\r\n",
      "\t\t\t    img_mcad = \"https://img.moneycontrol.co.in/images/promo/new_mc_android_devices2_24july.jpg\";\r\n",
      "\t\t\t    downloadLink = 'https://play.google.com/store/apps/details?id=com.moneycontrol&referrer=utm_source%3DAndroidTablet%26utm_medium%3DWapPushDown%26utm_campaign%3DAppDownload';\r\n",
      "\t\t}\r\n",
      "\t\t\r\n",
      "\t\tif ((userAgent.search(\"windows\") > -1) && (userAgent.search(\"phone\") > -1)){\r\n",
      "\t\t\t    deviceName='Windows';\r\n",
      "\t\t\t    img_mcad = \"http://xmlns.cricketnext.com/mc-wap/images/ads/mc_windows_app_download1.png\";\r\n",
      "\t\t\t    downloadLink = 'http://www.windowsphone.com/en-IN/apps/aadeacdd-9c18-41d8-aee8-e5f3b8f76f5d';\r\n",
      "\t\t}\r\n",
      "\t\tif ((userAgent.search(\"windows\") > -1) ){\r\n",
      "\t\t\t    deviceName='Windows';\r\n",
      "\t\t\t    img_mcad = \"http://xmlns.cricketnext.com/mc-wap/images/ads/mc_windows_app_download1.png\";\r\n",
      "\t\t\t    downloadLink = 'http://www.windowsphone.com/en-IN/apps/aadeacdd-9c18-41d8-aee8-e5f3b8f76f5d';\r\n",
      "\t\t}\r\n",
      "\t\t\r\n",
      "\t\tif(deviceName && !header_ad_flag){\r\n",
      "\t\t\r\n",
      "\t\tvar adstring='';\r\n",
      "\t\t\tadstring+='<style>';\r\n",
      "\t\t\tadstring+='*{margin:0; padding:0;}';\r\n",
      "\t\t\tadstring+='.clearfix:after {content: \".\";display: block;height: 0;clear: both;visibility: hidden}';\r\n",
      "\t\t\tadstring+='.clearfix{display: inline-block}';\r\n",
      "\t\t\tadstring+='* html .clearfix{height: 1%}';\r\n",
      "\t\t\tadstring+='.clearfix{display: block}';\r\n",
      "\t\t\tadstring+='.wap_banner_moneycontrol{ height:50px; box-sizing:border-box; background:#0097db; font:600 13px Arial, Helvetica, sans-serif; color:#fff;}';\r\n",
      "\t\t\tadstring+='.wap_banner_moneycontrol .PR{position:relative;}';\r\n",
      "\t\t\tadstring+='.wap_banner_moneycontrol .mc_logo{float:left; width:74px;}';\r\n",
      "\t\t\tadstring+='.wap_banner_moneycontrol .btn_close{display:inline-block; width:15px; height:15px; background:url(https://img-d01.moneycontrol.co.in/images/wap/close_wp.gif) 5px 0 no-repeat; position:absolute; right:3px; top:0;}';\r\n",
      "\t\t\tadstring+='.wap_banner_moneycontrol .cnt_left{position:absolute; display:inline-block; color:#fff !important; text-decoration:none; height:50px; box-sizing:border-box; padding-left:10px; padding-top:8px; left: 75px; text-align: left; top: 3px;}';\r\n",
      "\t\t\tadstring+='.wap_banner_moneycontrol .get_appbx{float:right; position:relative; z-index:999; padding-right:15px; padding-top:4px;}';\r\n",
      "\t\t\tadstring+='.wap_banner_moneycontrol .get_appbtn{ display:inline-block; background:#fff; font:600 10px Arial, Helvetica, sans-serif; color:#000; padding:3px 5px; box-shadow:2px 2px 2px #0083be; text-decoration:none; color: #2D5791;font-size: 100%;}';\r\n",
      "\t\t\tadstring+='.wap_banner_moneycontrol .MT8{margin-top:8px;}';\r\n",
      "\t\t\tadstring+='.wap_banner_moneycontrol .TAR{text-align:right;}';\r\n",
      "\t\t\tadstring+='</style>';\r\n",
      "\t\t\tadstring+='<div class=\"wap_banner_moneycontrol\">';\r\n",
      "\t\t\tadstring+=' <div class=\"clearfix PR\"> ';\r\n",
      "\t\t\tadstring+='   <div class=\"mc_logo\"><a href=\"'+downloadLink+'\"><img src=\"https://img-d01.moneycontrol.co.in/images/wap/mc_logo1.gif\" width=\"74\" height=\"50\" alt=\"\" /></a></div>';\r\n",
      "\t\t\tadstring+='    <a class=\"cnt_left\" href=\"'+downloadLink+'\">';\r\n",
      "\t\t\tadstring+='      <span>Use moneycontrol</span><br>';\r\n",
      "\t\t\tadstring+='      <span>on the move. </span>';\r\n",
      "\t\t\tadstring+='    </a>';\r\n",
      "\t\t\tadstring+='    <div class=\"get_appbx\">';\r\n",
      "\t\t\tadstring+='<a href=\"javascript:;\" class=\"btn_close\" onclick=\"javascript:document.getElementById(\\'header_ad\\').style.display = \\'none\\';createCookie(\\'header_ad\\',\\'1\\',\\'1\\')\"></a>';\r\n",
      "\t\t\tadstring+='      <p class=\"TAR\"><img src=\"https://img-d01.moneycontrol.co.in/images/wap/46.png\" width=\"13\" height=\"12\" alt=\"\" /></p>';\r\n",
      "\t\t\tadstring+='      <p class=\"MT8\"><a href=\"'+downloadLink+'\" target=\"_blank\" class=\"get_appbtn\" >Get the App</a></p>';\r\n",
      "\t\t\tadstring+='    </div>';\r\n",
      "\t\t\tadstring+='  </div>';\r\n",
      "\t\t\tadstring+='</div>';\r\n",
      "\t\t\t\t\t\t\t\t\t\r\n",
      "\t\t\tif(document.getElementById('header_ad')){\r\n",
      "\t\t\tdocument.getElementById('header_ad').innerHTML=adstring;\r\n",
      "\t\t\tdocument.getElementById('header_ad').style.display='block';\r\n",
      "\t\t\t}\r\n",
      "\t\t\t\r\n",
      "\t\t\t}\r\n",
      "\t\t\t\t    \r\n",
      "\t}\r\n",
      "\tfunction ValidateEmail(email) {\r\n",
      "\t\tif (/^\\w+([\\.-]?\\w+)*@\\w+([\\.-]?\\w+)*(\\.\\w{2,3})+$/.test(email))  \r\n",
      "\t\t{  \r\n",
      "\t\t  return true;  \r\n",
      "\t\t}\r\n",
      "\t\talert(\"You have entered an invalid email address!\");  \r\n",
      "\t\treturn false;\r\n",
      "\t}\r\n",
      "\r\n",
      "\tfunction validatePhone(phone) {\r\n",
      "\t\tvar error = \"\";\r\n",
      "\t\tvar stripped = phone.replace(/[\\(\\)\\.\\-\\ ]/g, '');\r\n",
      "\t\r\n",
      "\t\tif (stripped == \"\") {\r\n",
      "\t\t     alert(\"You didn't enter a phone number.\");\r\n",
      "\t\t     return false;\r\n",
      "\t\t} else if (isNaN(parseInt(stripped))) {\r\n",
      "\t\t     phone = \"\";\r\n",
      "\t\t     alert(\"The phone number contains illegal characters.\");\r\n",
      "\t\t     return false;\r\n",
      "\t     \r\n",
      "\t\t} else if (!(stripped.length == 10)) {\r\n",
      "\t\t     phone = \"\";\r\n",
      "\t\t     alert(\"Incorrect mobile number\");\r\n",
      "\t\t     return false;\r\n",
      "\t\t}\r\n",
      "\t\treturn true;\r\n",
      "\t}</script><script type=\"text/javascript\" src=\"https://stat1.moneycontrol.com/mcjs/common/jquery.mCustomScrollbar.concat.min.js\" rel=\"dns-prefetch\" async defer=\"defer\"></script><script src=\"https://stat1.moneycontrol.com/mcjs/common/m3_common_elem_js_v2.js?ver=21.5\" type=\"text/javascript\" rel=\"dns-prefetch\" defer=\"defer\"></script><div class=\"io-hidden-author\" style=\"display: none;\">M Saraswathy</div><!-- Affinity M-Canvas Site Code Ends Here --><!-- IO SCRIPT --><style type=\"text/css\">@media screen and (max-width: 767px){\r\n",
      ".app_btn_container {display: block; position: fixed; bottom: 54px; width: 100%; background: -moz-linear-gradient(top, rgba(255,137,137,0) 0%, rgba(255,255,255,1) 35%);\r\n",
      "background: -webkit-linear-gradient(top, rgba(255,137,137,0) 0%,rgba(255,255,255,1) 35%);\r\n",
      "background: linear-gradient(to bottom, rgba(255,137,137,0) 0%,rgba(255,255,255,1) 35%);\r\n",
      "filter: progid:DXImageTransform.Microsoft.gradient( startColorstr='#00ff8989', endColorstr='#ffffff',GradientType=0 );}\r\n",
      ".app_btn_block {width: 175px; margin: 50px auto 30px; position: relative;}\r\n",
      ".open_in_app_btn {background-color: #2966a3; border-radius: 20px; width: 150px; height: 38px; display: block; font: 15px/38px 'Fira Sans', sans-serif; color: #ffffff; margin: 0 auto; text-align: left; position: relative; padding-left: 25px;}\r\n",
      ".open_in_app_btn:hover, .open_in_app_btn:focus {color: #fff; text-decoration: none;}\r\n",
      ".open_in_app_btn:after {color: #6a94bf; content: \"|\"; margin-left: 15px;}\r\n",
      ".close_app {position: absolute; right: 0; top: 0; width: 48px; height: 38px; cursor: pointer;}\r\n",
      ".close_app:hover {opacity: 1;}\r\n",
      ".close_app:before, .close_app:after {position: absolute; left: 19px; content: ' '; height: 10px;  width: 1px; background-color: #fff; top: 14px; margin-top: 0;}\r\n",
      ".close_app:before {transform: rotate(45deg);}\r\n",
      ".close_app:after {transform: rotate(-45deg);}\r\n",
      "}</style><div class=\"app_btn_container show-mobile\" style=\"display: none;\"><div class=\"app_btn_block\"><a id=\"opneinapp\" onclick=\"ga('send', 'event', 'Open-in-App', 'MC News Home', 'News Home')\" href=\"https://wz7ux.app.goo.gl/?link=https://www.moneycontrol.com/news/?utm_source=MC_OpeninApp&utm_medium=MC_WAP&utm_campaign=OpeninApp_Button&apn=com.divum.MoneyControl&ibi=com.moneycontrol.mc&isi=408654600\" target=\"_blank\" title=\"\" class=\"open_in_app_btn\"><span>Open in App</span></a><span class=\"close_app\"></span></div></div><script type=\"text/javascript\">$('.close_app').click(function(){\r\n",
      "   $(this).parent().hide();\r\n",
      "   sessionStorage.setItem('close_app','true');\r\n",
      "});\r\n",
      "$(window).scroll(function() {\r\n",
      "  if ($(this).scrollTop() > 0) {\r\n",
      "    $('.app_btn_container').fadeOut();\r\n",
      "  } \r\n",
      "});\r\n",
      "$(document).ready(function(){ \r\n",
      "if (sessionStorage.getItem('close_app') !== 'true') {\r\n",
      "if (width <= 768 ) {\r\n",
      "\t$('.app_btn_container').show();\r\n",
      "}\r\n",
      "}\r\n",
      "    if (navigator.appVersion.indexOf(\"Mac\")!=-1) {\r\n",
      "       $(\"#opneinapp\").attr(\"href\",\"https://n7tuy.app.goo.gl/?link=https://www.moneycontrol.com/news/business/earnings/polycab-india-q4-net-profit-down-27-3-to-spend-rs-175-200cr-annually-on-capex-3972161.html?utm_source=MC_OpeninApp&utm_medium=MC_WAP&utm_campaign=OpeninApp_Button&apn=com.divum.MoneyControl&ibi=com.moneycontrol.mc&isi=408654600\");\r\n",
      "    }\r\n",
      "    else {\r\n",
      "       $(\"#opneinapp\").attr(\"href\",\"https://wz7ux.app.goo.gl/?link=https://www.moneycontrol.com/news/business/earnings/polycab-india-q4-net-profit-down-27-3-to-spend-rs-175-200cr-annually-on-capex-3972161.html?utm_source=MC_OpeninApp&utm_medium=MC_WAP&utm_campaign=OpeninApp_Button&apn=com.divum.MoneyControl&ibi=com.moneycontrol.mc&isi=408654600\");\r\n",
      "    } \r\n",
      "});</script><!-- IO SCRIPT ENDS--><!-- <script src=\"https://stat1.moneycontrol.com/mcjs/markets/jquery.lazyload.js\" type=\"text/javascript\"></script> --><script type=\"text/javascript\">if( document.readyState !== 'loading' ) {\r\n",
      "    _lazyimage();\r\n",
      "} else {\r\n",
      "    document.addEventListener('DOMContentLoaded', function () {\r\n",
      "        _lazyimage();\r\n",
      "    });\r\n",
      "    document.addEventListener('scroll', function () {\r\n",
      "        _lazyimage();\r\n",
      "    });\r\n",
      "}\r\n",
      "\r\n",
      "function _lazyimage() {\r\n",
      "    var lazyimages = [].slice.call(document.querySelectorAll(\"img.MC_img\"));\r\n",
      "\tif (\"IntersectionObserver\" in window) {\r\n",
      "\t\tconst imageObserver = new IntersectionObserver((entries, imgObserver) => {\r\n",
      "\t\t\tentries.forEach((entry) => {\r\n",
      "\t\t\t\tif (entry.isIntersecting) {\r\n",
      "\t\t\t\t\tconst lazyImage = entry.target\r\n",
      "\t\t\t\t\tlazyImage.src = lazyImage.dataset.src;\r\n",
      "\t\t\t\t\tlazyImage.classList.remove(\"MC_img\");\r\n",
      "\r\n",
      "\t\t\t\t}\r\n",
      "\t\t\t})\r\n",
      "\t\t});\r\n",
      "\t\t// const arr = document.querySelectorAll(\"img.MC_img\")\r\n",
      "\t\tlazyimages.forEach((v) => {\r\n",
      "\t\t\timageObserver.observe(v);\r\n",
      "\t\t})\r\n",
      "    } else {\r\n",
      "        window.addEventListener('scroll', function () {\r\n",
      "            lazyimages.forEach(function (lazyimage) {\r\n",
      "                if (elementInViewport(lazyimage)) {\r\n",
      "                    lazyimage.src = lazyimage.dataset.src;\r\n",
      "                    lazyimage.classList.remove(\"MC_img\");\r\n",
      "                }\r\n",
      "            })\r\n",
      "        })\r\n",
      "    }\r\n",
      "}\r\n",
      "function elementInViewport(el) {\r\n",
      "    var top = el.offsetTop;\r\n",
      "    var left = el.offsetLeft;\r\n",
      "    var width = el.offsetWidth;\r\n",
      "    var height = el.offsetHeight;\r\n",
      "    while (el.offsetParent) {\r\n",
      "        el = el.offsetParent;\r\n",
      "        top += el.offsetTop;\r\n",
      "        left += el.offsetLeft;\r\n",
      "    }\r\n",
      "    return (\r\n",
      "        top >= window.pageYOffset &&\r\n",
      "        left >= window.pageXOffset &&\r\n",
      "        (top + height) <= (window.pageYOffset + window.innerHeight) &&\r\n",
      "        (left + width) <= (window.pageXOffset + window.innerWidth)\r\n",
      "    );\r\n",
      "}\r\n",
      "\r\n",
      "\r\n",
      "//  $(document).ready(function() {\r\n",
      "\r\n",
      "    // $(\"img\").lazyload({\r\n",
      "    //   failure_limit : 100,\r\n",
      "    //   effect : \"fadeIn\",\r\n",
      "    //   effectTime: 1000,\r\n",
      "    //   threshold: 0\r\n",
      "    // });\r\n",
      "  //});</script></body></html>\n"
     ]
    }
   ],
   "source": [
    "import requests\n",
    "\n",
    "### Lets get a document from moneycontrol\n",
    "#Get each article from site\n",
    "url = 'https://www.moneycontrol.com/news/business/earnings/polycab-india-q4-net-profit-down-27-3-to-spend-rs-175-200cr-annually-on-capex-3972161.html'\n",
    "results = requests.get(url)\n",
    "print(results.text)"
   ]
  },
  {
   "cell_type": "raw",
   "metadata": {
    "slideshow": {
     "slide_type": "-"
    }
   },
   "source": [
    "After cheking this website we have seen that the new is located within the  \n",
    "<div class=\"arti-flow\" id=\"article-main\"> </code></text>-->\n",
    "\n",
    "So let's get this text using the **BeautifulSoup**"
   ]
  },
  {
   "cell_type": "code",
   "execution_count": 41,
   "metadata": {
    "scrolled": false
   },
   "outputs": [
    {
     "name": "stdout",
     "output_type": "stream",
     "text": [
      "\n",
      "------------- raw doc -------------\n",
      " Wires, cables and electrical goods maker Polycab India posted a 27.3 percent year-on-year (YoY) drop in its March quarter (Q4) consolidated net profit at Rs 137.2 crore on account of a drop in EBITDA margin. Commodity prices and rupee movement versus the dollar also impacted profitabilityR Ramakrishnan, CEO, Polycab, said higher-than-normal EBITDA in some of the past quarters is not sustainable, adding: \"Going forward, EBITDA margin will be maintained between 11 percent and 13 percent.\"Revenue increased by 16 percent YoY in Q4 to Rs 2,444.8 crore. Among segments, wires and cables grew 13 percent at Rs 2,121.6 crore and EPC 141 percent at Rs 218.3 crore.Close The board has recommended a final dividend of Rs 3 per equity share.   related news   REC net down 24% at Rs 1,322 crore in Q2  Sebi issues circular on Aadhaar e-KYC for investors  Did not know about loans to HDIL, says PMC Bank director Commenting on the company's performance in FY19, Inder Jaisinghani, Chairman and Managing Director, Polycab India, said it has been a year of record performance with all business segments performing well.He added that net profit increased 40 percent YoY to Rs 500 crore in FY19. \"Gross debt fell 66 percent to Rs 272.4 crore and capital expenditure was up 55 percent to Rs 279 crore.\"On the company's capex plans, Ramakrishnan said Polycab will incur Rs 175 -200 crore annually. \"Of this, 75 percent will be allocated for the wires and cables business and the balance will go towards the fast moving electrical goods space.\"On an annual basis, the wires and cables business grew 11 percent YoY to Rs 6,929.5 crore and the FMEG business grew 33 percent to Rs 643.3 crore.Polycab listed on the stock exchanges in April this year at an 18 percent premium over its issue price of Rs 538. It is currently trading in the Rs 625-655 range.Special Thursday Expiry on 10th 7th NovEarly Closure to The Great Diwali Discount. Last Chance to get Moneycontrol PRO for a year @ Rs. 289/- only Coupon code: DIWALI  \n",
      "\n",
      "------------- tokenized_doc -------------\n",
      "['Wires', 'cables', 'and', 'electrical', 'goods', 'maker', 'Polycab', 'India', 'posted', 'a', '273', 'percent', 'yearonyear', 'YoY', 'drop', 'in', 'its', 'March', 'quarter', 'Q4', 'consolidated', 'net', 'profit', 'at', 'Rs', '1372', 'crore', 'on', 'account', 'of', 'a', 'drop', 'in', 'EBITDA', 'margin', 'Commodity', 'prices', 'and', 'rupee', 'movement', 'versus', 'the', 'dollar', 'also', 'impacted', 'profitabilityR', 'Ramakrishnan', 'CEO', 'Polycab', 'said', 'higherthannormal', 'EBITDA', 'in', 'some', 'of', 'the', 'past', 'quarters', 'is', 'not', 'sustainable', 'adding', 'Going', 'forward', 'EBITDA', 'margin', 'will', 'be', 'maintained', 'between', '11', 'percent', 'and', '13', 'percent', 'Revenue', 'increased', 'by', '16', 'percent', 'YoY', 'in', 'Q4', 'to', 'Rs', '24448', 'crore', 'Among', 'segments', 'wires', 'and', 'cables', 'grew', '13', 'percent', 'at', 'Rs', '21216', 'crore', 'and', 'EPC', '141', 'percent', 'at', 'Rs', '2183', 'croreClose', 'The', 'board', 'has', 'recommended', 'a', 'final', 'dividend', 'of', 'Rs', '3', 'per', 'equity', 'share', 'related', 'news', 'REC', 'net', 'down', '24', 'at', 'Rs', '1322', 'crore', 'in', 'Q2', 'Sebi', 'issues', 'circular', 'on', 'Aadhaar', 'eKYC', 'for', 'investors', 'Did', 'not', 'know', 'about', 'loans', 'to', 'HDIL', 'says', 'PMC', 'Bank', 'director', 'Commenting', 'on', 'the', 'company', 's', 'performance', 'in', 'FY19', 'Inder', 'Jaisinghani', 'Chairman', 'and', 'Managing', 'Director', 'Polycab', 'India', 'said', 'it', 'has', 'been', 'a', 'year', 'of', 'record', 'performance', 'with', 'all', 'business', 'segments', 'performing', 'wellHe', 'added', 'that', 'net', 'profit', 'increased', '40', 'percent', 'YoY', 'to', 'Rs', '500', 'crore', 'in', 'FY19', 'Gross', 'debt', 'fell', '66', 'percent', 'to', 'Rs', '2724', 'crore', 'and', 'capital', 'expenditure', 'was', 'up', '55', 'percent', 'to', 'Rs', '279', 'crore', 'On', 'the', 'company', 's', 'capex', 'plans', 'Ramakrishnan', 'said', 'Polycab', 'will', 'incur', 'Rs', '175', '200', 'crore', 'annually', 'Of', 'this', '75', 'percent', 'will', 'be', 'allocated', 'for', 'the', 'wires', 'and', 'cables', 'business', 'and', 'the', 'balance', 'will', 'go', 'towards', 'the', 'fast', 'moving', 'electrical', 'goods', 'space', 'On', 'an', 'annual', 'basis', 'the', 'wires', 'and', 'cables', 'business', 'grew', '11', 'percent', 'YoY', 'to', 'Rs', '69295', 'crore', 'and', 'the', 'FMEG', 'business', 'grew', '33', 'percent', 'to', 'Rs', '6433', 'crorePolycab', 'listed', 'on', 'the', 'stock', 'exchanges', 'in', 'April', 'this', 'year', 'at', 'an', '18', 'percent', 'premium', 'over', 'its', 'issue', 'price', 'of', 'Rs', '538', 'It', 'is', 'currently', 'trading', 'in', 'the', 'Rs', '625655', 'rangeSpecial', 'Thursday', 'Expiry', 'on', '10th', '7th', 'NovEarly', 'Closure', 'to', 'The', 'Great', 'Diwali', 'Discount', 'Last', 'Chance', 'to', 'get', 'Moneycontrol', 'PRO', 'for', 'a', 'year', 'Rs', '289', 'only', 'Coupon', 'code', 'DIWALI']\n",
      "\n",
      "------------- final_doc_stem -------------\n",
      "['wire', 'cabl', 'and', 'electr', 'good', 'maker', 'polycab', 'india', 'post', 'a', '273', 'percent', 'yearonyear', 'yoy', 'drop', 'in', 'it', 'march', 'quarter', 'q4', 'consolid', 'net', 'profit', 'at', 'rs', '1372', 'crore', 'on', 'account', 'of', 'a', 'drop', 'in', 'ebitda', 'margin', 'commod', 'price', 'and', 'rupe', 'movement', 'versus', 'the', 'dollar', 'also', 'impact', 'profitabilityr', 'ramakrishnan', 'ceo', 'polycab', 'said', 'higherthannorm', 'ebitda', 'in', 'some', 'of', 'the', 'past', 'quarter', 'is', 'not', 'sustain', 'ad', 'go', 'forward', 'ebitda', 'margin', 'will', 'be', 'maintain', 'between', '11', 'percent', 'and', '13', 'percent', 'revenu', 'increas', 'by', '16', 'percent', 'yoy', 'in', 'q4', 'to', 'rs', '24448', 'crore', 'among', 'segment', 'wire', 'and', 'cabl', 'grew', '13', 'percent', 'at', 'rs', '21216', 'crore', 'and', 'epc', '141', 'percent', 'at', 'rs', '2183', 'croreclos', 'the', 'board', 'has', 'recommend', 'a', 'final', 'dividend', 'of', 'rs', '3', 'per', 'equiti', 'share', 'relat', 'news', 'rec', 'net', 'down', '24', 'at', 'rs', '1322', 'crore', 'in', 'q2', 'sebi', 'issu', 'circular', 'on', 'aadhaar', 'ekyc', 'for', 'investor', 'did', 'not', 'know', 'about', 'loan', 'to', 'hdil', 'say', 'pmc', 'bank', 'director', 'comment', 'on', 'the', 'compani', 's', 'perform', 'in', 'fy19', 'inder', 'jaisinghani', 'chairman', 'and', 'manag', 'director', 'polycab', 'india', 'said', 'it', 'has', 'been', 'a', 'year', 'of', 'record', 'perform', 'with', 'all', 'busi', 'segment', 'perform', 'wellh', 'ad', 'that', 'net', 'profit', 'increas', '40', 'percent', 'yoy', 'to', 'rs', '500', 'crore', 'in', 'fy19', 'gross', 'debt', 'fell', '66', 'percent', 'to', 'rs', '2724', 'crore', 'and', 'capit', 'expenditur', 'was', 'up', '55', 'percent', 'to', 'rs', '279', 'crore', 'on', 'the', 'compani', 's', 'capex', 'plan', 'ramakrishnan', 'said', 'polycab', 'will', 'incur', 'rs', '175', '200', 'crore', 'annual', 'of', 'this', '75', 'percent', 'will', 'be', 'alloc', 'for', 'the', 'wire', 'and', 'cabl', 'busi', 'and', 'the', 'balanc', 'will', 'go', 'toward', 'the', 'fast', 'move', 'electr', 'good', 'space', 'on', 'an', 'annual', 'basi', 'the', 'wire', 'and', 'cabl', 'busi', 'grew', '11', 'percent', 'yoy', 'to', 'rs', '69295', 'crore', 'and', 'the', 'fmeg', 'busi', 'grew', '33', 'percent', 'to', 'rs', '6433', 'crorepolycab', 'list', 'on', 'the', 'stock', 'exchang', 'in', 'april', 'this', 'year', 'at', 'an', '18', 'percent', 'premium', 'over', 'it', 'issu', 'price', 'of', 'rs', '538', 'it', 'is', 'current', 'trade', 'in', 'the', 'rs', '625655', 'rangespeci', 'thursday', 'expiri', 'on', '10th', '7th', 'novear', 'closur', 'to', 'the', 'great', 'diwali', 'discount', 'last', 'chanc', 'to', 'get', 'moneycontrol', 'pro', 'for', 'a', 'year', 'rs', '289', 'onli', 'coupon', 'code', 'diwali']\n",
      "\n",
      "------------- bag_of_words -------------\n",
      "dict_keys(['wire', 'cabl', 'and', 'electr', 'good', 'maker', 'polycab', 'india', 'post', 'a', '273', 'percent', 'yearonyear', 'yoy', 'drop', 'in', 'it', 'march', 'quarter', 'q4', 'consolid', 'net', 'profit', 'at', 'rs', '1372', 'crore', 'on', 'account', 'of', 'ebitda', 'margin', 'commod', 'price', 'rupe', 'movement', 'versus', 'the', 'dollar', 'also', 'impact', 'profitabilityr', 'ramakrishnan', 'ceo', 'said', 'higherthannorm', 'some', 'past', 'is', 'not', 'sustain', 'ad', 'go', 'forward', 'will', 'be', 'maintain', 'between', '11', '13', 'revenu', 'increas', 'by', '16', 'to', '24448', 'among', 'segment', 'grew', '21216', 'epc', '141', '2183', 'croreclos', 'board', 'has', 'recommend', 'final', 'dividend', '3', 'per', 'equiti', 'share', 'relat', 'news', 'rec', 'down', '24', '1322', 'q2', 'sebi', 'issu', 'circular', 'aadhaar', 'ekyc', 'for', 'investor', 'did', 'know', 'about', 'loan', 'hdil', 'say', 'pmc', 'bank', 'director', 'comment', 'compani', 's', 'perform', 'fy19', 'inder', 'jaisinghani', 'chairman', 'manag', 'been', 'year', 'record', 'with', 'all', 'busi', 'wellh', 'that', '40', '500', 'gross', 'debt', 'fell', '66', '2724', 'capit', 'expenditur', 'was', 'up', '55', '279', 'capex', 'plan', 'incur', '175', '200', 'annual', 'this', '75', 'alloc', 'balanc', 'toward', 'fast', 'move', 'space', 'an', 'basi', '69295', 'fmeg', '33', '6433', 'crorepolycab', 'list', 'stock', 'exchang', 'april', '18', 'premium', 'over', '538', 'current', 'trade', '625655', 'rangespeci', 'thursday', 'expiri', '10th', '7th', 'novear', 'closur', 'great', 'diwali', 'discount', 'last', 'chanc', 'get', 'moneycontrol', 'pro', '289', 'onli', 'coupon', 'code'])\n"
     ]
    }
   ],
   "source": [
    "from bs4 import BeautifulSoup\n",
    "def clean_html_text(text):\n",
    "    #Extract text\n",
    "    results_text = BeautifulSoup(text)\n",
    "    for s in results_text(['script', 'style']):\n",
    "            s.decompose()\n",
    "    # look for the area where the new is located\n",
    "    extract_text = results_text.find(class_='arti-flow')\n",
    "    # clean the text\n",
    "    clean_text = re.sub(r'<[^>]*?>', '', extract_text.text)\n",
    "    # tags since comments can contain '>' characters.\n",
    "    clean_text = re.sub(r\"(?s)<!--(.*?)-->[\\n]?\", \"\", clean_text)\n",
    "    clean_text = re.sub(r\"\\n\", \"\", clean_text)\n",
    "    return clean_text\n",
    "\n",
    "raw_doc = clean_html_text(results.text)\n",
    "print(\"\\n------------- raw doc -------------\")\n",
    "print(raw_doc)\n",
    "\n",
    "tokenized_doc = word_tokenize(raw_doc) \n",
    "tokenized_doc = [regex.sub(u'', token)  for token in tokenized_doc if not regex.sub(u'', token) == u'']\n",
    "\n",
    "print(\"\\n------------- tokenized_doc -------------\")\n",
    "print (tokenized_doc)\n",
    "\n",
    "final_doc = []\n",
    "final_doc_stem = []\n",
    "for word in tokenized_doc:\n",
    "    final_doc.append(word)\n",
    "    final_doc_stem.append(snowball.stem(word))\n",
    "print(\"\\n------------- final_doc_stem -------------\")\n",
    "\n",
    "print(final_doc_stem)\n",
    "print(\"\\n------------- bag_of_words -------------\")\n",
    "\n",
    "print(bag_of_words(final_doc_stem).keys())"
   ]
  },
  {
   "cell_type": "code",
   "execution_count": 42,
   "metadata": {
    "slideshow": {
     "slide_type": "slide"
    }
   },
   "outputs": [
    {
     "data": {
      "text/plain": [
       "['kesoram industri ltd may report a net profit of rs crore for the quarter end march on the back of improv revenu from it cement busi after post loss for quartersth compani report a net loss of rs crore in the correspond quarter of fyth compani got current tax credit of rs crore dure the quarterclos revenu from oper dure the quarter under review rose to rs crore against rs crore regist in the q of fy relat news rec net down at rs crore in q sebi issu circular on aadhaar ekyc for investor did not know about loan to hdil say pmc bank director the cement segment saw revenu grow to rs crore dure qfi from rs crore in the same period of the previous fiscalhowev the tyre busi continu to slumber with revenu declin to rs crore dure the quarter from rs crore in the correspond quarter of fyplan are afoot to demerg the tyre busi as a part of the restructur exercis target at reduc the debt level which stand at about rs crore as on march the demerg is current pend regulatori approvalsspeci thursday expiri on th th novear closur to the great diwali discount last chanc to get moneycontrol pro for a year rs onli coupon code diwali',\n",
       " 'technolog firm kpit has post a consolid net profit of rs crore and revenu from oper of rs crore for the quarter end march for the correspond quarter of it net profit was rs crore while revenu from oper was at rs crore accord to a regulatori filinglast year ck birla groupown birlasoft and kpit technolog had announc that they will merg and then split into two publiclytrad compani to creat two specialis it playersclos after the demerg the engin busi was incorpor on januari and list on the bse and the nse as kpit technolog in april relat news rec net down at rs crore in q sebi issu circular on aadhaar ekyc for investor did not know about loan to hdil say pmc bank director henc the compani was not mandatorili requir to prepar and publish quarter and annual financi result dure the year end march and up to the quarter end decemb the compani said in a regulatori file on wednesdaythi is the first quarter after the demerg and the compani look forward to the excit journey of focus and valu creation for all kpit stakehold kpit cofound chairman and group ceo s b ravi pandit said in a statementh ad that with focus on automot engin and mobil solut kpit aspir to becom an over usd million revenu compani with improv profit in the next yearsw continu to grow faster than the industri dure fy regist a constant revenu growth of per cent over the last year kpit cofound ceo and md kishor patil saidh ad that the compani is fair confid of continu to grow faster than the industri in the come year with better profitabilitydur the quarter we continu to divest our hardwar base busi in line with our strategi to focus exclus on softwar intens busi we are focus on margin improv and our aspir is to achiev oper margin of per cent in the next three year he addedth board has recommend a final dividend at rs per equiti share for subject to declar of the same by member at the annual general meet in august special thursday expiri on th th novear closur to the great diwali discount last chanc to get moneycontrol pro for a year rs onli coupon code diwali',\n",
       " 'report consolid quarter number for minda industri arenet sale at rs crore in march up from rs crore in march quarter net profit at rs crore in march down from rs crore in march close ebitda stand at rs crore in march up from rs crore in march minda ind ep has decreas to rs in march from rs in march minda ind share close at on may nse and has given return over the last month and over the last monthsminda industriesconsolid quarter resultsin rs crmardecmarnet salesincom from operationsoth oper incometot incom from operationsexpenditureconsumpt of raw materialspurchas of trade goodsincreasedecreas in stockspow fuelemploye costdepreciationexcis dutyadmin and sell expensesr d expensesprovis and contingenciesexp capitalisedoth expensespl befor other inc int excpt item taxoth incomepl befor int excpt item taxinterestpl befor except item taxexcept itemspl befor taxtaxpl after tax from ordinari activitiesprior year adjustmentsextra ordinari itemsnet profitloss for the periodminor interestshar of pl of associatesnet pl after mi associatesequ share capitalreserv exclud revalu reservesequ dividend rate ep befor extra ordinarybas epsdilut epsep after extra ordinarybas epsdilut epspubl share holdingno of share croresshar hold promot and promot group shareholdinga pledgedencumb number of share crore per of share as a of the total sh of prom and promot group per of share as a of the total share cap of the companyb nonencumb number of share crore per of share as a of the total sh of prom and promot group per of share as a of the total share cap of the companysourc dion global solut limitedspeci thursday expiri on th th novear closur to the great diwali discount last chanc to get moneycontrol pro for a year rs onli coupon code diwali',\n",
       " 'bajaj finserv may post a per cent rise in consolid net profit at rs crore for the march quarter of financi year the compani had report a consolid net profit of rs crore in januarymarch quarter of the previous fiscaltot revenu grew by per cent to rs crore in the fourth quarter of last fiscal as compar with rs crore in the yearago period bajaj finserv said in a statementw saw growth in all the paramet dure the quarter bajaj financ report a per cent growth in net profit chief financi offic s sreenivasan saidclos for the entir the compani net profit increas per cent to rs crore from rs crore in relat news rec net down at rs crore in q sebi issu circular on aadhaar ekyc for investor did not know about loan to hdil say pmc bank director incom rose to rs crore from rs crore in the compani subsidiari bajaj financ report profit after tax of rs crore in the fourth quarter as against rs crore in the correspond quarter of last yearit asset under manag increas per cent to rs lakh crore as of march as against rs crore as of march bajaj financ gross nonperform asset npas stood at per cent as against per cent while net npas stood at per cent as against per centbajaj finserv general insur arm bajaj allianz general insur net profit declin to rs crore in the march quarter from rs crore in the same period last yearth declin in pat was on account of higher underwrit loss and provis of rs crore against expect loss from impair of invest sreenivasan saidgross written premium for januarymarch quarter of increas by per cent to rs crore from rs crore in the same quarter a year agoth claim ratio stood at per cent dure the quartera on march solvenc ratio was per cent which is well abov the minimum regulatori requir of per cent it saidfor fiscal bajaj allianz general insur net profit declin per cent to rs croreth privat general insur had earn a net profit at rs crore in anoth subsidiari bajaj allianz life insur profit after tax pat dure the fourth quarter declin to rs crore as against rs crore in the correspond quarter of previous fiscal on account of provis of rs crore against expect loss from impair of investmentsth total provis as of march stood at rs crore the compani saidnew busi premium grew per cent to rs crore as against rs crorebajaj finserv board has propos a dividend of rs per share or per cent of face valu of rs each for the financi year end march special thursday expiri on th th novear closur to the great diwali discount last chanc to get moneycontrol pro for a year rs onli coupon code diwali',\n",
       " 'privat general insur bajaj allianz general insur post a percent yearonyear yoy dip in it march quarter q at rs crore on account of an underwrit losscompar to an underwrit profit of rs crore in qfi the nonlif insur post an underwrit loss of rs crore in qfi the combin ratio for the quarter stood at percent compar to percent in the same quarter previous fiscaltapan singhel md ceo bajaj allianz general insur said “ in a year which saw the industri growth drop from percent to about percent bajaj allianz general insur wit a growth of percent in gross written premium which is over the marketclos the compani saw a percent yoy rise in gross written premium to rs crore in fy the combin ratio stood at percent in fy from percent in fy relat news rec net down at rs crore in q sebi issu circular on aadhaar ekyc for investor did not know about loan to hdil say pmc bank director at the end of fy the asset under manag stood at rs crore up percent yoyspeci thursday expiri on th th novear closur to the great diwali discount last chanc to get moneycontrol pro for a year rs onli coupon code diwali',\n",
       " 'report standalon quarter number for gabriel india arenet sale at rs crore in march up from rs crore in march quarter net profit at rs crore in march down from rs crore in march close ebitda stand at rs crore in march down from rs crore in march gabriel india ep has decreas to rs in march from rs in march gabriel india share close at on novemb nse and has given return over the last month and over the last monthsgabriel indiastandalon quarter resultsin rs crmardecmarnet salesincom from operationsoth oper incometot incom from operationsexpenditureconsumpt of raw materialspurchas of trade goodsincreasedecreas in stockspow fuelemploye costdepreciationexcis dutyadmin and sell expensesr d expensesprovis and contingenciesexp capitalisedoth expensespl befor other inc int excpt item taxoth incomepl befor int excpt item taxinterestpl befor except item taxexcept itemspl befor taxtaxpl after tax from ordinari activitiesprior year adjustmentsextra ordinari itemsnet profitloss for the periodequ share capitalreserv exclud revalu reservesequ dividend rate ep befor extra ordinarybas epsdilut epsep after extra ordinarybas epsdilut epspubl share holdingno of share croresshar hold promot and promot group shareholdinga pledgedencumb number of share crore per of share as a of the total sh of prom and promot group per of share as a of the total share cap of the companyb nonencumb number of share crore per of share as a of the total sh of prom and promot group per of share as a of the total share cap of the companysourc dion global solut limitedspeci thursday expiri on th th novear closur to the great diwali discount last chanc to get moneycontrol pro for a year rs onli coupon code diwali',\n",
       " 'report standalon quarter number for savani financi arenet sale at rs crore in march down from rs crore in march quarter net profit at rs crore in march down from rs crore in march close ebitda stand at rs crore in march down from rs crore in march savani financia ep has decreas to rs in march from rs in march savani financia share close at on may bsesavani financialstandalon quarter resultsin rs crmardecmarnet salesincom from operationsoth oper incometot incom from operationsexpenditureconsumpt of raw materialspurchas of trade goodsincreasedecreas in stockspow fuelemploye costdepreciationexcis dutyadmin and sell expensesr d expensesprovis and contingenciesexp capitalisedoth expensespl befor other inc int excpt item taxoth incomepl befor int excpt item taxinterestpl befor except item taxexcept itemspl befor taxtaxpl after tax from ordinari activitiesprior year adjustmentsextra ordinari itemsnet profitloss for the periodequ share capitalreserv exclud revalu reservesequ dividend rate ep befor extra ordinarybas epsdilut epsep after extra ordinarybas epsdilut epspubl share holdingno of share croresshar hold promot and promot group shareholdinga pledgedencumb number of share crore per of share as a of the total sh of prom and promot group per of share as a of the total share cap of the companyb nonencumb number of share crore per of share as a of the total sh of prom and promot group per of share as a of the total share cap of the companysourc dion global solut limitedspeci thursday expiri on th th novear closur to the great diwali discount last chanc to get moneycontrol pro for a year rs onli coupon code diwali']"
      ]
     },
     "execution_count": 42,
     "metadata": {},
     "output_type": "execute_result"
    }
   ],
   "source": [
    "### Lets get a document from moneycontrol\n",
    "#Get each article from site\n",
    "urls = []\n",
    "urls.append('https://www.moneycontrol.com/news/business/kesoram-back-in-black-with-net-profit-of-rs-20-7-cr-in-q4fy19-3978841.html')\n",
    "urls.append('https://www.moneycontrol.com/news/business/kpit-net-profit-at-rs-30-9-cr-in-march-quarter-3983141.html')\n",
    "urls.append('https://www.moneycontrol.com/news/business/earnings/minda-ind-consolidated-march-2019-net-sales-at-rs-1486-46-crore-up-8-43-y-o-y-3982921.html')\n",
    "urls.append('https://www.moneycontrol.com/news/business/bajaj-finserv-q4-net-profit-up-32-at-rs-839-cr-3984091.html')\n",
    "urls.append('https://www.moneycontrol.com/news/business/earnings/bajaj-allianz-general-insurance-q4-net-profit-down-55-6-yoy-at-rs-83-crore-3983751.html')\n",
    "urls.append('https://www.moneycontrol.com/news/business/earnings/gabriel-india-standalone-march-2019-net-sales-at-rs-510-31-crore-up-2-73-y-o-y-3982861.html')\n",
    "urls.append('https://www.moneycontrol.com/news/business/earnings/savani-financia-standalone-march-2019-net-sales-at-rs-0-03-crore-down-4-99-y-o-y-3982761.html')\n",
    "\n",
    "mydoclist = []\n",
    "for url in urls:\n",
    "    results = requests.get(url)\n",
    "    raw_doc = clean_html_text(results.text)\n",
    "    raw_doc = regex.sub(u'', raw_doc) \n",
    "    raw_doc = re.sub(r\"\\d\", \"\", raw_doc)\n",
    "\n",
    "    tokenized_doc = word_tokenize(raw_doc) \n",
    "    #tokenized_doc = [regex.sub(u'', token)  for token in tokenized_doc if not regex.sub(u'', token) == u'']\n",
    "    \n",
    "    final_doc = []\n",
    "    final_doc_stem = []\n",
    "    for word in tokenized_doc:\n",
    "        final_doc.append(word)\n",
    "        final_doc_stem.append(snowball.stem(word))\n",
    "    \n",
    "    mydoclist.append(' '.join(final_doc_stem))\n",
    "    #print(\"Stemmming  data:\\n\", final_doc_stem)\n",
    "mydoclist"
   ]
  },
  {
   "cell_type": "code",
   "execution_count": 43,
   "metadata": {},
   "outputs": [
    {
     "name": "stdout",
     "output_type": "stream",
     "text": [
      "['aadhaar', 'about', 'account', 'activitiesprior', 'adjustmentsextra', 'against', 'all', 'allianz', 'an', 'are', 'arenet', 'asset', 'bajaj', 'bank', 'befor', 'board', 'busi', 'by', 'cap', 'capitalisedoth', 'capitalreserv', 'cent', 'ceo', 'circular', 'close', 'compani', 'companyb', 'companysourc', 'compar', 'consolid', 'contingenciesexp', 'continu', 'correspond', 'costdepreciationexcis', 'crmardecmarnet', 'croresshar', 'declin', 'decreas', 'demerg', 'did', 'dion', 'director', 'dure', 'dutyadmin', 'ebitda', 'ekyc', 'end', 'ep', 'epsdilut', 'epsep', 'epspubl', 'except', 'exclud', 'excpt', 'expensespl', 'expensesprovis', 'expensesr', 'extra', 'financi', 'fuelemploye', 'fy', 'general', 'given', 'global', 'goodsincreasedecreas', 'gross', 'group', 'grow', 'growth', 'had', 'hdil', 'hold', 'holdingno', 'improv', 'inc', 'incom', 'incomepl', 'incometot', 'industri', 'insur', 'int', 'investor', 'is', 'issu', 'it', 'item', 'itemsnet', 'itemspl', 'know', 'limitedspeci', 'loan', 'loss', 'manag', 'materialspurchas', 'may', 'md', 'month', 'news', 'nonencumb', 'not', 'nse', 'number', 'operationsexpenditureconsumpt', 'operationsoth', 'ordinari', 'ordinarybas', 'other', 'over', 'period', 'periodequ', 'pledgedencumb', 'pmc', 'post', 'premium', 'previous', 'privat', 'profitloss', 'prom', 'promot', 'qfi', 'rate', 'ratio', 'raw', 'rec', 'regist', 'regulatori', 'relat', 'requir', 'reservesequ', 'resultsin', 'return', 'revalu', 'revenu', 'rise', 'rose', 'said', 'sale', 'salesincom', 'same', 'saw', 'say', 'sebi', 'sell', 'sh', 'shareholdinga', 'solut', 'special', 'stand', 'standalon', 'stockspow', 'stood', 'taxexcept', 'taxinterestpl', 'taxoth', 'taxtaxpl', 'total', 'trade', 'under', 'underwrit', 'up', 'valu', 'was', 'which', 'while', 'with', 'written']\n"
     ]
    }
   ],
   "source": [
    "from sklearn.feature_extraction.text import TfidfVectorizer\n",
    "\n",
    "tfidf_vectorizer = TfidfVectorizer(min_df = 2,max_df =4)\n",
    "tfidf_matrix = tfidf_vectorizer.fit_transform(mydoclist)\n",
    "\n",
    "print(tfidf_vectorizer.get_feature_names())"
   ]
  },
  {
   "cell_type": "code",
   "execution_count": 44,
   "metadata": {
    "scrolled": false,
    "slideshow": {
     "slide_type": "slide"
    }
   },
   "outputs": [
    {
     "name": "stdout",
     "output_type": "stream",
     "text": [
      "['aadhaar', 'aadhaar ekyc', 'aadhaar ekyc for', 'about', 'about loan', 'about loan to', 'account', 'account of', 'activitiesprior', 'activitiesprior year', 'activitiesprior year adjustmentsextra', 'adjustmentsextra', 'adjustmentsextra ordinari', 'adjustmentsextra ordinari itemsnet', 'after extra', 'after extra ordinarybas', 'after tax', 'after tax from', 'against', 'against rs', 'against rs crore', 'all', 'allianz', 'allianz general', 'allianz general insur', 'an', 'and contingenciesexp', 'and contingenciesexp capitalisedoth', 'and has', 'and has given', 'and over', 'and over the', 'and promot', 'and promot group', 'and sell', 'and sell expensesr', 'are', 'arenet', 'arenet sale', 'arenet sale at', 'as of', 'as of the', 'asset', 'asset under', 'asset under manag', 'at on', 'at on may', 'at the', 'bajaj', 'bajaj allianz', 'bajaj allianz general', 'bank', 'bank director', 'befor', 'befor except', 'befor except item', 'befor extra', 'befor extra ordinarybas', 'befor int', 'befor int excpt', 'befor other', 'befor other inc', 'befor taxtaxpl', 'befor taxtaxpl after', 'board', 'board has', 'busi', 'by', 'cap', 'cap of', 'cap of the', 'capitalisedoth', 'capitalisedoth expensespl', 'capitalisedoth expensespl befor', 'capitalreserv', 'capitalreserv exclud', 'capitalreserv exclud revalu', 'cent', 'ceo', 'circular', 'circular on', 'circular on aadhaar', 'close', 'close at', 'close at on', 'close ebitda', 'close ebitda stand', 'compani', 'companyb', 'companyb nonencumb', 'companyb nonencumb number', 'companysourc', 'companysourc dion', 'companysourc dion global', 'compar', 'consolid', 'consolid net', 'consolid net profit', 'contingenciesexp', 'contingenciesexp capitalisedoth', 'contingenciesexp capitalisedoth expensespl', 'continu', 'continu to', 'correspond', 'correspond quarter', 'correspond quarter of', 'costdepreciationexcis', 'costdepreciationexcis dutyadmin', 'costdepreciationexcis dutyadmin and', 'crmardecmarnet', 'crmardecmarnet salesincom', 'crmardecmarnet salesincom from', 'crore against', 'crore as', 'crore for', 'crore for the', 'crore in march', 'crore in sebi', 'crore in the', 'crore per', 'crore per of', 'croresshar', 'croresshar hold', 'croresshar hold promot', 'declin', 'declin to', 'declin to rs', 'decreas', 'decreas to', 'decreas to rs', 'demerg', 'demerg the', 'did', 'did not', 'did not know', 'dion', 'dion global', 'dion global solut', 'director', 'dividend rate', 'dividend rate ep', 'down at', 'down at rs', 'down from', 'down from rs', 'dure', 'dure the', 'dure the quarter', 'dutyadmin', 'dutyadmin and', 'dutyadmin and sell', 'ebitda', 'ebitda stand', 'ebitda stand at', 'ekyc', 'ekyc for', 'ekyc for investor', 'end', 'end march', 'ep', 'ep befor', 'ep befor extra', 'ep has', 'ep has decreas', 'epsdilut', 'epsdilut epsep', 'epsdilut epsep after', 'epsdilut epspubl', 'epsdilut epspubl share', 'epsep', 'epsep after', 'epsep after extra', 'epspubl', 'epspubl share', 'epspubl share holdingno', 'except', 'except item', 'except item taxexcept', 'exclud', 'exclud revalu', 'exclud revalu reservesequ', 'excpt', 'excpt item', 'excpt item taxinterestpl', 'excpt item taxoth', 'expensespl', 'expensespl befor', 'expensespl befor other', 'expensesprovis', 'expensesprovis and', 'expensesprovis and contingenciesexp', 'expensesr', 'expensesr expensesprovis', 'expensesr expensesprovis and', 'extra', 'extra ordinarybas', 'extra ordinarybas epsdilut', 'financi', 'for investor', 'for investor did', 'for the periodequ', 'for the quarter', 'from oper', 'from operationsexpenditureconsumpt', 'from operationsexpenditureconsumpt of', 'from operationsoth', 'from operationsoth oper', 'from ordinari', 'from ordinari activitiesprior', 'from rs in', 'fuelemploye', 'fuelemploye costdepreciationexcis', 'fuelemploye costdepreciationexcis dutyadmin', 'fy', 'fy relat', 'fy relat news', 'general', 'general insur', 'given', 'given return', 'given return over', 'global', 'global solut', 'global solut limitedspeci', 'goodsincreasedecreas', 'goodsincreasedecreas in', 'goodsincreasedecreas in stockspow', 'gross', 'group', 'group per', 'group per of', 'group shareholdinga', 'group shareholdinga pledgedencumb', 'grow', 'growth', 'growth of', 'had', 'has decreas', 'has decreas to', 'has given', 'has given return', 'hdil', 'hdil say', 'hdil say pmc', 'hold', 'hold promot', 'hold promot and', 'holdingno', 'holdingno of', 'holdingno of share', 'improv', 'in march', 'in march close', 'in march down', 'in march from', 'in march quarter', 'in march up', 'in sebi', 'in sebi issu', 'in stockspow', 'in stockspow fuelemploye', 'in the', 'in the correspond', 'in the same', 'inc', 'inc int', 'inc int excpt', 'incom', 'incom from', 'incom from operationsexpenditureconsumpt', 'incomepl', 'incomepl befor', 'incomepl befor int', 'incometot', 'incometot incom', 'incometot incom from', 'industri', 'insur', 'int', 'int excpt', 'int excpt item', 'investor', 'investor did', 'investor did not', 'is', 'issu', 'issu circular', 'issu circular on', 'it', 'item', 'item taxexcept', 'item taxexcept itemspl', 'item taxinterestpl', 'item taxinterestpl befor', 'item taxoth', 'item taxoth incomepl', 'itemsnet', 'itemsnet profitloss', 'itemsnet profitloss for', 'itemspl', 'itemspl befor', 'itemspl befor taxtaxpl', 'know', 'know about', 'know about loan', 'last month', 'last month and', 'limitedspeci', 'limitedspeci thursday', 'limitedspeci thursday expiri', 'loan', 'loan to', 'loan to hdil', 'loss', 'loss of', 'loss of rs', 'manag', 'march close', 'march close ebitda', 'march down', 'march down from', 'march from', 'march from rs', 'march quarter net', 'march up', 'march up from', 'materialspurchas', 'materialspurchas of', 'materialspurchas of trade', 'may', 'md', 'month', 'month and', 'month and over', 'net down', 'net down at', 'net profit at', 'net profit of', 'news', 'news rec', 'news rec net', 'nonencumb', 'nonencumb number', 'nonencumb number of', 'not', 'not know', 'not know about', 'nse', 'nse and', 'nse and has', 'number', 'number for', 'number of', 'number of share', 'of fy', 'of per', 'of per cent', 'of prom', 'of prom and', 'of raw', 'of raw materialspurchas', 'of rs', 'of rs crore', 'of share', 'of share as', 'of share crore', 'of share croresshar', 'of the companyb', 'of the companysourc', 'of the previous', 'of the total', 'of trade', 'of trade goodsincreasedecreas', 'on aadhaar', 'on aadhaar ekyc', 'on account', 'on account of', 'on march', 'on may', 'on the', 'oper incometot', 'oper incometot incom', 'operationsexpenditureconsumpt', 'operationsexpenditureconsumpt of', 'operationsexpenditureconsumpt of raw', 'operationsoth', 'operationsoth oper', 'operationsoth oper incometot', 'ordinari', 'ordinari activitiesprior', 'ordinari activitiesprior year', 'ordinari itemsnet', 'ordinari itemsnet profitloss', 'ordinarybas', 'ordinarybas epsdilut', 'ordinarybas epsdilut epsep', 'ordinarybas epsdilut epspubl', 'other', 'other inc', 'other inc int', 'over', 'over the', 'over the last', 'per cent', 'per of', 'per of share', 'period', 'periodequ', 'periodequ share', 'periodequ share capitalreserv', 'pledgedencumb', 'pledgedencumb number', 'pledgedencumb number of', 'pmc', 'pmc bank', 'pmc bank director', 'post', 'premium', 'previous', 'privat', 'privat general', 'privat general insur', 'profit at', 'profit at rs', 'profit of', 'profit of rs', 'profitloss', 'profitloss for', 'profitloss for the', 'prom', 'prom and', 'prom and promot', 'promot', 'promot and', 'promot and promot', 'promot group', 'promot group per', 'promot group shareholdinga', 'qfi', 'quarter end', 'quarter end march', 'quarter from', 'quarter from rs', 'quarter net', 'quarter net profit', 'quarter number', 'quarter number for', 'quarter of', 'quarter resultsin', 'quarter resultsin rs', 'rate', 'rate ep', 'rate ep befor', 'ratio', 'ratio stood', 'ratio stood at', 'raw', 'raw materialspurchas', 'raw materialspurchas of', 'rec', 'rec net', 'rec net down', 'regist', 'regulatori', 'relat', 'relat news', 'relat news rec', 'report consolid', 'report standalon', 'report standalon quarter', 'requir', 'reservesequ', 'reservesequ dividend', 'reservesequ dividend rate', 'resultsin', 'resultsin rs', 'resultsin rs crmardecmarnet', 'return', 'return over', 'return over the', 'revalu', 'revalu reservesequ', 'revalu reservesequ dividend', 'revenu', 'revenu from', 'revenu from oper', 'rise', 'rise in', 'rose', 'rose to', 'rose to rs', 'rs crmardecmarnet', 'rs crmardecmarnet salesincom', 'rs crore against', 'rs crore as', 'rs crore for', 'rs in', 'rs in march', 'rs per', 'said', 'said in', 'sale', 'sale at', 'sale at rs', 'salesincom', 'salesincom from', 'salesincom from operationsoth', 'same', 'same period', 'same quarter', 'saw', 'say', 'say pmc', 'say pmc bank', 'sebi', 'sebi issu', 'sebi issu circular', 'sell', 'sell expensesr', 'sell expensesr expensesprovis', 'sh', 'sh of', 'sh of prom', 'share as', 'share as of', 'share cap', 'share cap of', 'share capitalreserv', 'share capitalreserv exclud', 'share close', 'share close at', 'share crore', 'share crore per', 'share croresshar', 'share croresshar hold', 'share holdingno', 'share holdingno of', 'shareholdinga', 'shareholdinga pledgedencumb', 'shareholdinga pledgedencumb number', 'solut', 'solut limitedspeci', 'solut limitedspeci thursday', 'special', 'special thursday', 'special thursday expiri', 'stand', 'stand at', 'stand at rs', 'standalon', 'standalon quarter', 'standalon quarter number', 'stockspow', 'stockspow fuelemploye', 'stockspow fuelemploye costdepreciationexcis', 'stood', 'stood at', 'stood at rs', 'tax from', 'tax from ordinari', 'taxexcept', 'taxexcept itemspl', 'taxexcept itemspl befor', 'taxinterestpl', 'taxinterestpl befor', 'taxinterestpl befor except', 'taxoth', 'taxoth incomepl', 'taxoth incomepl befor', 'taxtaxpl', 'taxtaxpl after', 'taxtaxpl after tax', 'the compani', 'the companyb', 'the companyb nonencumb', 'the companysourc', 'the companysourc dion', 'the correspond', 'the correspond quarter', 'the demerg', 'the industri', 'the last', 'the last month', 'the periodequ', 'the periodequ share', 'the previous', 'the quarter', 'the quarter end', 'the same', 'the same period', 'the same quarter', 'the total', 'the total sh', 'the total share', 'to hdil', 'to hdil say', 'to rs crore', 'to rs in', 'total', 'total sh', 'total sh of', 'total share', 'total share cap', 'trade', 'trade goodsincreasedecreas', 'trade goodsincreasedecreas in', 'under', 'under manag', 'underwrit', 'underwrit loss', 'up', 'up from', 'up from rs', 'valu', 'was', 'which', 'which is', 'while', 'with', 'written', 'written premium', 'year adjustmentsextra', 'year adjustmentsextra ordinari', 'year end', 'year end march']\n",
      "[[0.05110894 0.05110894 0.05110894 ... 0.         0.         0.        ]\n",
      " [0.04403284 0.04403284 0.04403284 ... 0.         0.05933423 0.05933423]\n",
      " [0.         0.         0.         ... 0.03262782 0.         0.        ]\n",
      " ...\n",
      " [0.04446166 0.04446166 0.04446166 ... 0.         0.         0.        ]\n",
      " [0.         0.         0.         ... 0.03261654 0.         0.        ]\n",
      " [0.         0.         0.         ... 0.03297831 0.         0.        ]]\n"
     ]
    }
   ],
   "source": [
    "tfidf_vectorizer = TfidfVectorizer(min_df = 2,max_df = 4,ngram_range=(1,3))\n",
    "tfidf_matrix = tfidf_vectorizer.fit_transform(mydoclist)\n",
    "\n",
    "print(tfidf_vectorizer.get_feature_names())\n",
    "print (tfidf_matrix.todense())"
   ]
  },
  {
   "cell_type": "markdown",
   "metadata": {
    "slideshow": {
     "slide_type": "slide"
    }
   },
   "source": [
    "### Or we can get existing datasets with positive/negative sentiment\n"
   ]
  },
  {
   "cell_type": "code",
   "execution_count": 45,
   "metadata": {},
   "outputs": [
    {
     "name": "stdout",
     "output_type": "stream",
     "text": [
      "Our vocabulary vector is:\n",
      " [fda approval, usfda approval, weaker rupee, positive step, resolution, successful, stellar, better, much better, better margins, favourable, approval, tough, reported lower than expected sales, lower than expected sales, affecting sales growth, difficult one, pricing pressure, sales declined, dull, significant violations, warning letter, issued warning letter, adulterate, potentially contaminate, contaminate, fail, warn, violation, legal action, drag, sales decline, margins decline, weak, offset price erosion, price erosion, slowdown, sanction, concern, drag on sale, drop, challenge, toll, uncertain, recall, health , stability, mixed set, shares declined, major breakthrough, good quarter, appreciating rupee, depreciating rupee, heightened competition , incorrect instructions, shares decline, zero observations, strong US pipeline, upgrade, downgrade, mixed bag, disappointing year, domestic challenges, benefit, percent growth, flat revenue, flat, beat, achieve, steady margins, rise, expand, ramp up, launch, not issued , clear, address, observation, procedural, eir, monetise, outperform, enhance, Form 483, clarify, facility, starts, stable, initiative, sold rights, terminate, strengthen, SAHPRA approval, nod, acquire, raise target, scaling up, raise, subject to clearance]\n",
      "['scaling up', 'beat', 'mixed set', 'mixed bag', 'lower than expected sal', 'sold right', 'toll', 'violat', 'price eros', 'rise', 'rais', 'disappointing year', 'recal', 'weaker rupe', 'stabil', 'upgrad', 'challeng', 'expand', 'sales declin', 'success', 'strengthen', 'sahpra approv', 'fail', 'domestic challeng', 'much bett', 'resolut', 'address', 'appreciating rupe', 'legal act', 'subject to clear', 'not issued ', 'achiev', 'flat', 'warning lett', 'usfda approv', 'raise target', 'weak', 'form 483', 'approv', 'significant viol', 'health ', 'observ', 'fda approv', 'affecting sales growth', 'positive step', 'good quart', 'clarifi', 'concern', 'termin', 'facil', 'sanction', 'uncertain', 'start', 'benefit', 'dull', 'acquir', 'drag on sal', 'shares declin', 'potentially contamin', 'launch', 'enhanc', 'procedur', 'issued warning lett', 'adulter', 'reported lower than expected sal', 'better', 'difficult on', 'drag', 'outperform', 'major breakthrough', 'stellar', 'heightened competition ', 'stabl', 'favour', 'slowdown', 'monetis', 'offset price eros', 'incorrect instruct', 'contamin', 'tough', 'zero observ', 'initi', 'ramp up', 'downgrad', 'better margin', 'clear', 'eir', 'depreciating rupe', 'steady margin', 'drop', 'warn', 'percent growth', 'nod', 'pricing pressur', 'margins declin', 'strong us pipelin', 'flat revenu']\n"
     ]
    }
   ],
   "source": [
    "import pandas as pd \n",
    "df_dict = pd.read_csv('dict.csv')\n",
    "vocabulary = df_dict['okay from USFDA'].values\n",
    "print ('Our vocabulary vector is:\\n [' + ', '.join(list(vocabulary)) + ']')\n",
    "\n",
    "vocabulary_stem = list(set([ snowball.stem(word) for word in vocabulary]))\n",
    "print(vocabulary_stem)"
   ]
  },
  {
   "cell_type": "code",
   "execution_count": 46,
   "metadata": {
    "scrolled": false,
    "slideshow": {
     "slide_type": "slide"
    }
   },
   "outputs": [
    {
     "name": "stdout",
     "output_type": "stream",
     "text": [
      "['scaling up', 'beat', 'mixed set', 'mixed bag', 'lower than expected sal', 'sold right', 'toll', 'violat', 'price eros', 'rise', 'rais', 'disappointing year', 'recal', 'weaker rupe', 'stabil', 'upgrad', 'challeng', 'expand', 'sales declin', 'success', 'strengthen', 'sahpra approv', 'fail', 'domestic challeng', 'much bett', 'resolut', 'address', 'appreciating rupe', 'legal act', 'subject to clear', 'not issued ', 'achiev', 'flat', 'warning lett', 'usfda approv', 'raise target', 'weak', 'form 483', 'approv', 'significant viol', 'health ', 'observ', 'fda approv', 'affecting sales growth', 'positive step', 'good quart', 'clarifi', 'concern', 'termin', 'facil', 'sanction', 'uncertain', 'start', 'benefit', 'dull', 'acquir', 'drag on sal', 'shares declin', 'potentially contamin', 'launch', 'enhanc', 'procedur', 'issued warning lett', 'adulter', 'reported lower than expected sal', 'better', 'difficult on', 'drag', 'outperform', 'major breakthrough', 'stellar', 'heightened competition ', 'stabl', 'favour', 'slowdown', 'monetis', 'offset price eros', 'incorrect instruct', 'contamin', 'tough', 'zero observ', 'initi', 'ramp up', 'downgrad', 'better margin', 'clear', 'eir', 'depreciating rupe', 'steady margin', 'drop', 'warn', 'percent growth', 'nod', 'pricing pressur', 'margins declin', 'strong us pipelin', 'flat revenu']\n",
      "[[0.         0.         0.         0.         0.         0.\n",
      "  0.         0.         0.         0.         0.         0.\n",
      "  0.         0.         0.         0.         0.         0.\n",
      "  0.         0.         0.         0.         0.         0.\n",
      "  0.         0.         0.         0.         0.         0.\n",
      "  0.         0.         0.         0.         0.         0.\n",
      "  0.         0.         0.         0.         0.         0.\n",
      "  0.         0.         0.         0.         0.         0.\n",
      "  0.         0.         0.         0.         0.         0.\n",
      "  0.         0.         0.         0.         0.         0.\n",
      "  0.         0.         0.         0.         0.         0.\n",
      "  0.         0.         0.         0.         0.         0.\n",
      "  0.         0.         0.         0.         0.         0.\n",
      "  0.         0.         0.         0.         0.         0.\n",
      "  0.         0.         0.         0.         0.         0.\n",
      "  0.         0.         0.         0.         0.         0.\n",
      "  0.        ]\n",
      " [0.         0.         0.         0.         0.         0.\n",
      "  0.         0.         0.         0.         0.         0.\n",
      "  0.         0.         0.         0.         0.         0.\n",
      "  0.         0.         0.         0.         0.         0.\n",
      "  0.         0.         0.         0.         0.         0.\n",
      "  0.         0.70710678 0.         0.         0.         0.\n",
      "  0.         0.         0.         0.         0.         0.\n",
      "  0.         0.         0.         0.         0.         0.\n",
      "  0.         0.         0.         0.         0.         0.\n",
      "  0.         0.         0.         0.         0.         0.\n",
      "  0.         0.         0.         0.         0.         0.70710678\n",
      "  0.         0.         0.         0.         0.         0.\n",
      "  0.         0.         0.         0.         0.         0.\n",
      "  0.         0.         0.         0.         0.         0.\n",
      "  0.         0.         0.         0.         0.         0.\n",
      "  0.         0.         0.         0.         0.         0.\n",
      "  0.        ]\n",
      " [0.         0.         0.         0.         0.         0.\n",
      "  0.         0.         0.         0.         0.         0.\n",
      "  0.         0.         0.         0.         0.         0.\n",
      "  0.         0.         0.         0.         0.         0.\n",
      "  0.         0.         0.         0.         0.         0.\n",
      "  0.         0.         0.         0.         0.         0.\n",
      "  0.         0.         0.         0.         0.         0.\n",
      "  0.         0.         0.         0.         0.         0.\n",
      "  0.         0.         0.         0.         0.         0.\n",
      "  0.         0.         0.         0.         0.         0.\n",
      "  0.         0.         0.         0.         0.         0.\n",
      "  0.         0.         0.         0.         0.         0.\n",
      "  0.         0.         0.         0.         0.         0.\n",
      "  0.         0.         0.         0.         0.         0.\n",
      "  0.         0.         0.         0.         0.         0.\n",
      "  0.         0.         0.         0.         0.         0.\n",
      "  0.        ]\n",
      " [0.         0.         0.         0.         0.         0.\n",
      "  0.         0.         0.         1.         0.         0.\n",
      "  0.         0.         0.         0.         0.         0.\n",
      "  0.         0.         0.         0.         0.         0.\n",
      "  0.         0.         0.         0.         0.         0.\n",
      "  0.         0.         0.         0.         0.         0.\n",
      "  0.         0.         0.         0.         0.         0.\n",
      "  0.         0.         0.         0.         0.         0.\n",
      "  0.         0.         0.         0.         0.         0.\n",
      "  0.         0.         0.         0.         0.         0.\n",
      "  0.         0.         0.         0.         0.         0.\n",
      "  0.         0.         0.         0.         0.         0.\n",
      "  0.         0.         0.         0.         0.         0.\n",
      "  0.         0.         0.         0.         0.         0.\n",
      "  0.         0.         0.         0.         0.         0.\n",
      "  0.         0.         0.         0.         0.         0.\n",
      "  0.        ]\n",
      " [0.         0.         0.         0.         0.         0.\n",
      "  0.         0.         0.         0.63870855 0.         0.\n",
      "  0.         0.         0.         0.         0.         0.\n",
      "  0.         0.         0.         0.         0.         0.\n",
      "  0.         0.         0.         0.         0.         0.\n",
      "  0.         0.         0.         0.         0.         0.\n",
      "  0.         0.         0.         0.         0.         0.\n",
      "  0.         0.         0.         0.         0.         0.\n",
      "  0.         0.         0.         0.         0.         0.\n",
      "  0.         0.         0.         0.         0.         0.\n",
      "  0.         0.         0.         0.         0.         0.\n",
      "  0.         0.         0.         0.         0.         0.\n",
      "  0.         0.         0.         0.         0.         0.\n",
      "  0.         0.         0.         0.         0.         0.\n",
      "  0.         0.         0.         0.         0.         0.76944876\n",
      "  0.         0.         0.         0.         0.         0.\n",
      "  0.        ]\n",
      " [0.         0.         0.         0.         0.         0.\n",
      "  0.         0.         0.         0.         0.         0.\n",
      "  0.         0.         0.         0.         0.         0.\n",
      "  0.         0.         0.         0.         0.         0.\n",
      "  0.         0.         0.         0.         0.         0.\n",
      "  0.         0.         0.         0.         0.         0.\n",
      "  0.         0.         0.         0.         0.         0.\n",
      "  0.         0.         0.         0.         0.         0.\n",
      "  0.         0.         0.         0.         0.         0.\n",
      "  0.         0.         0.         0.         0.         0.\n",
      "  0.         0.         0.         0.         0.         0.\n",
      "  0.         0.         0.         0.         0.         0.\n",
      "  0.         0.         0.         0.         0.         0.\n",
      "  0.         0.         0.         0.         0.         0.\n",
      "  0.         0.         0.         0.         0.         0.\n",
      "  0.         0.         0.         0.         0.         0.\n",
      "  0.        ]\n",
      " [0.         0.         0.         0.         0.         0.\n",
      "  0.         0.         0.         0.         0.         0.\n",
      "  0.         0.         0.         0.         0.         0.\n",
      "  0.         0.         0.         0.         0.         0.\n",
      "  0.         0.         0.         0.         0.         0.\n",
      "  0.         0.         0.         0.         0.         0.\n",
      "  0.         0.         0.         0.         0.         0.\n",
      "  0.         0.         0.         0.         0.         0.\n",
      "  0.         0.         0.         0.         0.         0.\n",
      "  0.         0.         0.         0.         0.         0.\n",
      "  0.         0.         0.         0.         0.         0.\n",
      "  0.         0.         0.         0.         0.         0.\n",
      "  0.         0.         0.         0.         0.         0.\n",
      "  0.         0.         0.         0.         0.         0.\n",
      "  0.         0.         0.         0.         0.         0.\n",
      "  0.         0.         0.         0.         0.         0.\n",
      "  0.        ]]\n"
     ]
    }
   ],
   "source": [
    "\n",
    "from sklearn.feature_extraction.text import TfidfVectorizer\n",
    "\n",
    "tfidf_vectorizer = TfidfVectorizer(vocabulary=vocabulary_stem)\n",
    "tfidf_matrix = tfidf_vectorizer.fit_transform(mydoclist)\n",
    "\n",
    "print(tfidf_vectorizer.get_feature_names())\n",
    "print (tfidf_matrix.todense())"
   ]
  },
  {
   "cell_type": "markdown",
   "metadata": {
    "slideshow": {
     "slide_type": "slide"
    }
   },
   "source": [
    "## Spell and Grammar Correction ??\n",
    "\n",
    "\n",
    "https://towardsdatascience.com/effectively-pre-processing-the-text-data-part-1-text-cleaning-9ecae119cb3e\n",
    "\n",
    "\n",
    "Depending on the problem, it might be interesting to perform spelling and grammar correction before analysing the content.\n",
    "\n",
    "Data cleansing is all about getting rid of the “noise” in the data. But is your decision, and always depend on the applications, to decide what content within the data is noise, and what is not noise."
   ]
  },
  {
   "cell_type": "markdown",
   "metadata": {
    "slideshow": {
     "slide_type": "slide"
    }
   },
   "source": [
    "#### Summary of some useful functions\n",
    "\n",
    "<img src=\"summary.png\">"
   ]
  }
 ],
 "metadata": {
  "celltoolbar": "Slideshow",
  "kernelspec": {
   "display_name": "Python 3",
   "language": "python",
   "name": "python3"
  },
  "language_info": {
   "codemirror_mode": {
    "name": "ipython",
    "version": 3
   },
   "file_extension": ".py",
   "mimetype": "text/x-python",
   "name": "python",
   "nbconvert_exporter": "python",
   "pygments_lexer": "ipython3",
   "version": "3.6.8"
  }
 },
 "nbformat": 4,
 "nbformat_minor": 2
}
