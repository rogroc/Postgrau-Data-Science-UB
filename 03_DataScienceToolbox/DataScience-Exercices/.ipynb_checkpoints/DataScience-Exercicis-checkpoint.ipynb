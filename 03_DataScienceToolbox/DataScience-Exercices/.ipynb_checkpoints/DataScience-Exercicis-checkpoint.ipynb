{
 "cells": [
  {
   "cell_type": "markdown",
   "metadata": {},
   "source": [
    "# Exercises\n"
   ]
  },
  {
   "cell_type": "markdown",
   "metadata": {},
   "source": [
    "## 1. Software Carpentry"
   ]
  },
  {
   "cell_type": "markdown",
   "metadata": {},
   "source": [
    "1) Write a command-line program that does addition or subtraction or multiply. By default it sums up the two values. Check  `ArgumentParser.add_mutually_exclusive_group()` functionality.\n",
    "\n",
    "    `python arith.py -a 1 2 / python arith.py --add 1 2`\n",
    "\n",
    "    `> 3`\n",
    "\n",
    "    `python arith.py -s 3 4 / python arith.py --subtraction 3 4`\n",
    "\n",
    "    `> -1`\n",
    "\n",
    "    `python arith.py -m 2 4 /  python arith.py --multiply 2 4`\n",
    "\n",
    "    `> 8`"
   ]
  },
  {
   "cell_type": "markdown",
   "metadata": {},
   "source": [
    "2) Write a function called `average` that calculates the average of the numbers in a list. What pre-conditions and post-conditions would you write for it?"
   ]
  },
  {
   "cell_type": "code",
   "execution_count": null,
   "metadata": {},
   "outputs": [],
   "source": []
  },
  {
   "cell_type": "markdown",
   "metadata": {},
   "source": [
    "## 2. Numpy"
   ]
  },
  {
   "cell_type": "markdown",
   "metadata": {},
   "source": [
    "1) In the following table we have expression values for 5 genes at 4 time points. "
   ]
  },
  {
   "cell_type": "code",
   "execution_count": 1,
   "metadata": {},
   "outputs": [
    {
     "name": "stdout",
     "output_type": "stream",
     "text": [
      "Gene name,4h,12h,24h,48h\r\n",
      "A2M,0.12,0.08,0.06,0.02\r\n",
      "FOS,0.01,0.07,0.11,0.09\r\n",
      "BRCA2,0.03,0.04,0.04,0.02\r\n",
      "CPOX,0.05,0.09,0.11,0.14"
     ]
    },
    {
     "data": {
      "text/html": [
       "<a href='genes.csv' target='_blank'>genes.csv</a><br>"
      ],
      "text/plain": [
       "/Users/eloi/Dropbox/PostGrauDataScience/Postgrau/04_DataScienceToolbox/DataScience-Exercices/genes.csv"
      ]
     },
     "execution_count": 1,
     "metadata": {},
     "output_type": "execute_result"
    }
   ],
   "source": [
    "from IPython.lib import display as dp\n",
    "%cat 'genes.csv' \n",
    "dp.FileLink('genes.csv')"
   ]
  },
  {
   "cell_type": "markdown",
   "metadata": {},
   "source": [
    "   - Create a single array for the data (4x4)\n",
    "   - Find the mean value per gene\n",
    "   - Find the mean value per time point\n",
    "   - Which gene has the maximum mean expression value? (return the whole gene row)"
   ]
  },
  {
   "cell_type": "code",
   "execution_count": null,
   "metadata": {
    "collapsed": true
   },
   "outputs": [],
   "source": [
    "#Your Code here"
   ]
  },
  {
   "cell_type": "markdown",
   "metadata": {},
   "source": [
    "## 3. Pandas\n",
    "\n",
    "**MovieLens database**"
   ]
  },
  {
   "cell_type": "code",
   "execution_count": 5,
   "metadata": {
    "scrolled": true
   },
   "outputs": [
    {
     "name": "stdout",
     "output_type": "stream",
     "text": [
      "    user_id  movie_id  rating   timestamp gender  age  occupation    zip  \\\n",
      "0         1      1193       5   978300760      F    1          10  48067   \n",
      "1         2      1193       5   978298413      M   56          16  70072   \n",
      "2        12      1193       4   978220179      M   25          12  32793   \n",
      "3        15      1193       4   978199279      M   25           7  22903   \n",
      "4        17      1193       5   978158471      M   50           1  95350   \n",
      "5        18      1193       4   978156168      F   18           3  95825   \n",
      "6        19      1193       5   982730936      M    1          10  48073   \n",
      "7        24      1193       5   978136709      F   25           7  10023   \n",
      "8        28      1193       3   978125194      F   25           1  14607   \n",
      "9        33      1193       5   978557765      M   45           3  55421   \n",
      "10       39      1193       5   978043535      M   18           4  61820   \n",
      "11       42      1193       3   978038981      M   25           8  24502   \n",
      "12       44      1193       4   978018995      M   45          17  98052   \n",
      "13       47      1193       4   977978345      M   18           4  94305   \n",
      "14       48      1193       4   977975061      M   25           4  92107   \n",
      "15       49      1193       4   978813972      M   18          12  77084   \n",
      "16       53      1193       5   977946400      M   25           0  96931   \n",
      "17       54      1193       5   977944039      M   50           1  56723   \n",
      "18       58      1193       5   977933866      M   25           2  30303   \n",
      "19       59      1193       4   977934292      F   50           1  55413   \n",
      "20       62      1193       4   977968584      F   35           3  98105   \n",
      "21       80      1193       4   977786172      M   56           1  49327   \n",
      "22       81      1193       5   977785864      F   25           0  60640   \n",
      "23       88      1193       5   977694161      F   45           1  02476   \n",
      "24       89      1193       5   977683596      F   56           9  85749   \n",
      "25       95      1193       5   977626632      M   45           0  98201   \n",
      "26       96      1193       3   977621789      F   25          16  78028   \n",
      "27       99      1193       2   982791053      F    1          10  19390   \n",
      "28      102      1193       5  1040737607      M   35          19  20871   \n",
      "29      104      1193       2   977546620      M   25          12  00926   \n",
      "\n",
      "                                     title genres  \n",
      "0   One Flew Over the Cuckoo's Nest (1975)  Drama  \n",
      "1   One Flew Over the Cuckoo's Nest (1975)  Drama  \n",
      "2   One Flew Over the Cuckoo's Nest (1975)  Drama  \n",
      "3   One Flew Over the Cuckoo's Nest (1975)  Drama  \n",
      "4   One Flew Over the Cuckoo's Nest (1975)  Drama  \n",
      "5   One Flew Over the Cuckoo's Nest (1975)  Drama  \n",
      "6   One Flew Over the Cuckoo's Nest (1975)  Drama  \n",
      "7   One Flew Over the Cuckoo's Nest (1975)  Drama  \n",
      "8   One Flew Over the Cuckoo's Nest (1975)  Drama  \n",
      "9   One Flew Over the Cuckoo's Nest (1975)  Drama  \n",
      "10  One Flew Over the Cuckoo's Nest (1975)  Drama  \n",
      "11  One Flew Over the Cuckoo's Nest (1975)  Drama  \n",
      "12  One Flew Over the Cuckoo's Nest (1975)  Drama  \n",
      "13  One Flew Over the Cuckoo's Nest (1975)  Drama  \n",
      "14  One Flew Over the Cuckoo's Nest (1975)  Drama  \n",
      "15  One Flew Over the Cuckoo's Nest (1975)  Drama  \n",
      "16  One Flew Over the Cuckoo's Nest (1975)  Drama  \n",
      "17  One Flew Over the Cuckoo's Nest (1975)  Drama  \n",
      "18  One Flew Over the Cuckoo's Nest (1975)  Drama  \n",
      "19  One Flew Over the Cuckoo's Nest (1975)  Drama  \n",
      "20  One Flew Over the Cuckoo's Nest (1975)  Drama  \n",
      "21  One Flew Over the Cuckoo's Nest (1975)  Drama  \n",
      "22  One Flew Over the Cuckoo's Nest (1975)  Drama  \n",
      "23  One Flew Over the Cuckoo's Nest (1975)  Drama  \n",
      "24  One Flew Over the Cuckoo's Nest (1975)  Drama  \n",
      "25  One Flew Over the Cuckoo's Nest (1975)  Drama  \n",
      "26  One Flew Over the Cuckoo's Nest (1975)  Drama  \n",
      "27  One Flew Over the Cuckoo's Nest (1975)  Drama  \n",
      "28  One Flew Over the Cuckoo's Nest (1975)  Drama  \n",
      "29  One Flew Over the Cuckoo's Nest (1975)  Drama  \n"
     ]
    }
   ],
   "source": [
    "import pandas as pd\n",
    "\n",
    "users_data =  '../ml-1m/users.dat'\n",
    "ratings_data = '../ml-1m/ratings.dat'\n",
    "movies_data =  '../ml-1m/movies.dat'\n",
    "\n",
    "\n",
    "unames = ['user_id', 'gender', 'age', 'occupation', 'zip']\n",
    "users = pd.read_csv(users_data, sep='::', header=None, names=unames, engine='python')\n",
    "rnames = ['user_id', 'movie_id', 'rating', 'timestamp']\n",
    "ratings = pd.read_csv(ratings_data, sep='::', header=None, names=rnames,  engine='python')\n",
    "mnames = ['movie_id', 'title', 'genres']\n",
    "movies = pd.read_csv(movies_data, sep='::', header=None, names=mnames,  engine='python')\n",
    "\n",
    "data = pd.merge(pd.merge(ratings, users), movies)\n",
    "print (data[:30])\n"
   ]
  },
  {
   "cell_type": "markdown",
   "metadata": {},
   "source": [
    "1- Filter films that have received at least 250 ratings:"
   ]
  },
  {
   "cell_type": "code",
   "execution_count": 6,
   "metadata": {},
   "outputs": [],
   "source": [
    "### Your Code HERE"
   ]
  },
  {
   "cell_type": "markdown",
   "metadata": {},
   "source": [
    "**Using the previous filtered films**:\n",
    "\n",
    "2- Obtain the mean ratings for each movie grouped by gender"
   ]
  },
  {
   "cell_type": "code",
   "execution_count": null,
   "metadata": {},
   "outputs": [],
   "source": [
    "### Your Code HERE"
   ]
  },
  {
   "cell_type": "markdown",
   "metadata": {},
   "source": [
    "**Using the previous filtered films:**\n",
    "\n",
    "3- Show the films most valued by women."
   ]
  },
  {
   "cell_type": "code",
   "execution_count": null,
   "metadata": {},
   "outputs": [],
   "source": [
    "### Your Code HERE"
   ]
  },
  {
   "cell_type": "markdown",
   "metadata": {},
   "source": [
    "**Using the previous filtered films:**\n",
    "\n",
    "4- Now we wonder which movies are rated more differently between men and women. \n",
    "    * Which films have more different rating and are more highly valued by women? \n",
    "    * And the films preferred by men which doesn't liked women? \n",
    "    * What are the films that have generated the most discordant ratings, regardless of gender?"
   ]
  },
  {
   "cell_type": "code",
   "execution_count": null,
   "metadata": {},
   "outputs": [],
   "source": [
    "### Your Code HERE"
   ]
  },
  {
   "cell_type": "markdown",
   "metadata": {},
   "source": [
    "5- Calculate the average rating of each user. "
   ]
  },
  {
   "cell_type": "code",
   "execution_count": null,
   "metadata": {},
   "outputs": [],
   "source": [
    "### Your Code HERE"
   ]
  },
  {
   "cell_type": "markdown",
   "metadata": {},
   "source": [
    "6- What is the highest rated movie in average that have received at least 250 ratings?"
   ]
  },
  {
   "cell_type": "code",
   "execution_count": null,
   "metadata": {},
   "outputs": [],
   "source": [
    "### Your Code HERE"
   ]
  },
  {
   "cell_type": "markdown",
   "metadata": {},
   "source": [
    "7- Define a function called  <b>top_movies</b> that given an user and a number n, it returns the top n movies for this user.\n",
    "\n"
   ]
  },
  {
   "cell_type": "code",
   "execution_count": 4,
   "metadata": {},
   "outputs": [],
   "source": [
    "def top_movies(user):\n",
    "### Your Code HERE\n",
    "    return\n"
   ]
  },
  {
   "cell_type": "markdown",
   "metadata": {},
   "source": [
    "**Data from CSV**\n",
    "\n",
    "8- Read data from csv file: `ma-ba.csv`. Count the number of times `Barça` wins `Madrid` and compute the stadistics of % win, % lose and % draw."
   ]
  },
  {
   "cell_type": "code",
   "execution_count": null,
   "metadata": {},
   "outputs": [],
   "source": [
    "### Your Code HERE"
   ]
  },
  {
   "cell_type": "markdown",
   "metadata": {},
   "source": [
    "#### !!! Compare your results with the csv files located in results.zip !!!"
   ]
  }
 ],
 "metadata": {
  "kernelspec": {
   "display_name": "Python 3",
   "language": "python",
   "name": "python3"
  },
  "language_info": {
   "codemirror_mode": {
    "name": "ipython",
    "version": 3
   },
   "file_extension": ".py",
   "mimetype": "text/x-python",
   "name": "python",
   "nbconvert_exporter": "python",
   "pygments_lexer": "ipython3",
   "version": "3.7.3"
  }
 },
 "nbformat": 4,
 "nbformat_minor": 1
}
